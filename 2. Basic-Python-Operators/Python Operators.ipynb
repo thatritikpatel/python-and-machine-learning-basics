{
 "cells": [
  {
   "cell_type": "code",
   "execution_count": 4,
   "id": "0c8d9760-cb57-4c9b-8734-5cd9cfbe956b",
   "metadata": {},
   "outputs": [],
   "source": [
    "a,b = 2,10"
   ]
  },
  {
   "cell_type": "code",
   "execution_count": 5,
   "id": "735ffa2e-faef-4c99-979d-c4af47250b92",
   "metadata": {},
   "outputs": [
    {
     "data": {
      "text/plain": [
       "(2, 10)"
      ]
     },
     "execution_count": 5,
     "metadata": {},
     "output_type": "execute_result"
    }
   ],
   "source": [
    "a,b"
   ]
  },
  {
   "cell_type": "code",
   "execution_count": 6,
   "id": "eed1113c-8259-4881-8f04-64c2afa09268",
   "metadata": {},
   "outputs": [
    {
     "data": {
      "text/plain": [
       "12"
      ]
     },
     "execution_count": 6,
     "metadata": {},
     "output_type": "execute_result"
    }
   ],
   "source": [
    "a + b"
   ]
  },
  {
   "cell_type": "code",
   "execution_count": 8,
   "id": "1f51aac1-f2ab-456d-88cf-2bbe299577f5",
   "metadata": {},
   "outputs": [
    {
     "data": {
      "text/plain": [
       "-8"
      ]
     },
     "execution_count": 8,
     "metadata": {},
     "output_type": "execute_result"
    }
   ],
   "source": [
    "a - b"
   ]
  },
  {
   "cell_type": "code",
   "execution_count": 9,
   "id": "acf4cb26-71ab-4e70-8110-b94b90677ca7",
   "metadata": {},
   "outputs": [
    {
     "data": {
      "text/plain": [
       "20"
      ]
     },
     "execution_count": 9,
     "metadata": {},
     "output_type": "execute_result"
    }
   ],
   "source": [
    "a * b"
   ]
  },
  {
   "cell_type": "code",
   "execution_count": 10,
   "id": "7ffcc244-d3c6-4dff-9c24-66efd13cff57",
   "metadata": {},
   "outputs": [
    {
     "data": {
      "text/plain": [
       "0.2"
      ]
     },
     "execution_count": 10,
     "metadata": {},
     "output_type": "execute_result"
    }
   ],
   "source": [
    "a /b"
   ]
  },
  {
   "cell_type": "code",
   "execution_count": 14,
   "id": "25a19246-762d-4ef8-ab20-41add7d4a65f",
   "metadata": {},
   "outputs": [],
   "source": [
    "a = 10"
   ]
  },
  {
   "cell_type": "code",
   "execution_count": 15,
   "id": "f03d51b7-b556-4f1b-9d64-45a81151df73",
   "metadata": {},
   "outputs": [],
   "source": [
    "a += 5"
   ]
  },
  {
   "cell_type": "code",
   "execution_count": 16,
   "id": "62c8c79d-e355-4cdd-aad3-63f66f6ce806",
   "metadata": {},
   "outputs": [
    {
     "data": {
      "text/plain": [
       "15"
      ]
     },
     "execution_count": 16,
     "metadata": {},
     "output_type": "execute_result"
    }
   ],
   "source": [
    "a"
   ]
  },
  {
   "cell_type": "code",
   "execution_count": 17,
   "id": "f191152c-aea4-44b8-bdf1-a567d8cc2e61",
   "metadata": {},
   "outputs": [],
   "source": [
    "a -= 3"
   ]
  },
  {
   "cell_type": "code",
   "execution_count": 18,
   "id": "9457f1e3-7718-4945-b9b4-263c5a95ef9f",
   "metadata": {},
   "outputs": [
    {
     "data": {
      "text/plain": [
       "12"
      ]
     },
     "execution_count": 18,
     "metadata": {},
     "output_type": "execute_result"
    }
   ],
   "source": [
    "a"
   ]
  },
  {
   "cell_type": "code",
   "execution_count": 19,
   "id": "0ec04f7d-20a6-4f41-b164-bc091fb9b023",
   "metadata": {},
   "outputs": [],
   "source": [
    "a *= 2"
   ]
  },
  {
   "cell_type": "code",
   "execution_count": 20,
   "id": "045187f6-f079-433c-a44f-d21bc23a8a9f",
   "metadata": {},
   "outputs": [
    {
     "data": {
      "text/plain": [
       "24"
      ]
     },
     "execution_count": 20,
     "metadata": {},
     "output_type": "execute_result"
    }
   ],
   "source": [
    "a"
   ]
  },
  {
   "cell_type": "code",
   "execution_count": 21,
   "id": "cdc3f8d1-f9ff-4eda-a78e-235065e5c5e3",
   "metadata": {},
   "outputs": [],
   "source": [
    "a /= 4"
   ]
  },
  {
   "cell_type": "code",
   "execution_count": 22,
   "id": "579c6b66-3cea-4f84-9acb-f1f4c209a1cb",
   "metadata": {},
   "outputs": [
    {
     "data": {
      "text/plain": [
       "6.0"
      ]
     },
     "execution_count": 22,
     "metadata": {},
     "output_type": "execute_result"
    }
   ],
   "source": [
    "a"
   ]
  },
  {
   "cell_type": "code",
   "execution_count": 26,
   "id": "53091f1d-3726-4515-88f0-fb2cca542e05",
   "metadata": {},
   "outputs": [
    {
     "name": "stdout",
     "output_type": "stream",
     "text": [
      "10 > 2\n"
     ]
    }
   ],
   "source": [
    "if(10 < 2):\n",
    "    print(\"10 < 2\")\n",
    "else :\n",
    "    print(\"10 > 2\")"
   ]
  },
  {
   "cell_type": "code",
   "execution_count": 1,
   "id": "c7527224-be6c-4bf2-8c9a-a845ece5aa82",
   "metadata": {},
   "outputs": [
    {
     "name": "stdout",
     "output_type": "stream",
     "text": [
      "Hello\n"
     ]
    }
   ],
   "source": [
    "if(0 == False and 0 != \"0\"):\n",
    "    print(\"Hello\")"
   ]
  },
  {
   "cell_type": "code",
   "execution_count": 2,
   "id": "93c1daeb-6a31-4bd0-b97c-51e720e3fd70",
   "metadata": {},
   "outputs": [],
   "source": [
    "a = 10"
   ]
  },
  {
   "cell_type": "code",
   "execution_count": 3,
   "id": "ff988d7c-8c28-4e2f-85bc-4e3b1c122bf6",
   "metadata": {},
   "outputs": [],
   "source": [
    "b = \"b\""
   ]
  },
  {
   "cell_type": "code",
   "execution_count": 4,
   "id": "5ed94c2b-d036-427d-a7e9-1dd3d2976b26",
   "metadata": {},
   "outputs": [
    {
     "data": {
      "text/plain": [
       "(int, str)"
      ]
     },
     "execution_count": 4,
     "metadata": {},
     "output_type": "execute_result"
    }
   ],
   "source": [
    "type(a), type(b)"
   ]
  },
  {
   "cell_type": "code",
   "execution_count": 5,
   "id": "3929b54b-3d8e-48c8-ae51-5954b7958dcc",
   "metadata": {},
   "outputs": [],
   "source": [
    "a,b = 10,20"
   ]
  },
  {
   "cell_type": "code",
   "execution_count": 6,
   "id": "b688cd8e-bef7-4af0-a752-fcff31937473",
   "metadata": {},
   "outputs": [
    {
     "data": {
      "text/plain": [
       "0"
      ]
     },
     "execution_count": 6,
     "metadata": {},
     "output_type": "execute_result"
    }
   ],
   "source": [
    "a&b"
   ]
  },
  {
   "cell_type": "code",
   "execution_count": 7,
   "id": "545616d5-7316-401a-be33-d356aa6e2c32",
   "metadata": {},
   "outputs": [
    {
     "data": {
      "text/plain": [
       "30"
      ]
     },
     "execution_count": 7,
     "metadata": {},
     "output_type": "execute_result"
    }
   ],
   "source": [
    "a|b"
   ]
  },
  {
   "cell_type": "code",
   "execution_count": 8,
   "id": "56f54cc8-5764-43bf-9849-fd6a1ad80ae2",
   "metadata": {},
   "outputs": [
    {
     "data": {
      "text/plain": [
       "30"
      ]
     },
     "execution_count": 8,
     "metadata": {},
     "output_type": "execute_result"
    }
   ],
   "source": [
    "a ^ b"
   ]
  },
  {
   "cell_type": "code",
   "execution_count": 12,
   "id": "e5de8dd7-8ebd-4d0b-a065-35c23bc85837",
   "metadata": {},
   "outputs": [
    {
     "data": {
      "text/plain": [
       "0"
      ]
     },
     "execution_count": 12,
     "metadata": {},
     "output_type": "execute_result"
    }
   ],
   "source": [
    "a >> b"
   ]
  },
  {
   "cell_type": "code",
   "execution_count": 13,
   "id": "be516da0-eba7-4ebe-9510-a9c03aa9a8b5",
   "metadata": {},
   "outputs": [
    {
     "data": {
      "text/plain": [
       "10485760"
      ]
     },
     "execution_count": 13,
     "metadata": {},
     "output_type": "execute_result"
    }
   ],
   "source": [
    "a << b"
   ]
  },
  {
   "cell_type": "code",
   "execution_count": 14,
   "id": "7d291a54-a876-41e5-b2dd-dcf30d962c60",
   "metadata": {},
   "outputs": [
    {
     "data": {
      "text/plain": [
       "0"
      ]
     },
     "execution_count": 14,
     "metadata": {},
     "output_type": "execute_result"
    }
   ],
   "source": [
    "b >> a"
   ]
  },
  {
   "cell_type": "code",
   "execution_count": 21,
   "id": "4a4b3cf5-565e-46ca-b314-ff5f9d1d69a1",
   "metadata": {},
   "outputs": [
    {
     "data": {
      "text/plain": [
       "-10240"
      ]
     },
     "execution_count": 21,
     "metadata": {},
     "output_type": "execute_result"
    }
   ],
   "source": [
    "b << a"
   ]
  },
  {
   "cell_type": "code",
   "execution_count": 19,
   "id": "91d52db6-ca4a-4d80-a1b7-102b110faa1d",
   "metadata": {},
   "outputs": [],
   "source": [
    "a,b = 10,0"
   ]
  },
  {
   "cell_type": "code",
   "execution_count": 22,
   "id": "3a9b6e6e-75fc-4a21-98f3-f0cf05f97245",
   "metadata": {},
   "outputs": [],
   "source": [
    "b = -a"
   ]
  },
  {
   "cell_type": "code",
   "execution_count": 23,
   "id": "94cc0d40-984b-4cf1-99fd-6aa1fda76e46",
   "metadata": {},
   "outputs": [
    {
     "data": {
      "text/plain": [
       "(10, -10)"
      ]
     },
     "execution_count": 23,
     "metadata": {},
     "output_type": "execute_result"
    }
   ],
   "source": [
    "a,b"
   ]
  },
  {
   "cell_type": "code",
   "execution_count": 26,
   "id": "f9461302-659c-42d6-962a-bd096805362b",
   "metadata": {},
   "outputs": [
    {
     "data": {
      "text/plain": [
       "(10, -10)"
      ]
     },
     "execution_count": 26,
     "metadata": {},
     "output_type": "execute_result"
    }
   ],
   "source": [
    "a,b"
   ]
  },
  {
   "cell_type": "code",
   "execution_count": 24,
   "id": "0b29921d-52e6-449d-b83d-134095c0201c",
   "metadata": {},
   "outputs": [],
   "source": [
    "c = a if a > b else b"
   ]
  },
  {
   "cell_type": "code",
   "execution_count": 27,
   "id": "a1b58809-4858-4139-bfe6-a7b1176f8d9b",
   "metadata": {},
   "outputs": [
    {
     "data": {
      "text/plain": [
       "10"
      ]
     },
     "execution_count": 27,
     "metadata": {},
     "output_type": "execute_result"
    }
   ],
   "source": [
    "c"
   ]
  },
  {
   "cell_type": "code",
   "execution_count": 28,
   "id": "2fafff21-b122-48c4-a994-4b7ba67a28a3",
   "metadata": {},
   "outputs": [],
   "source": [
    "c = a if a < b else b"
   ]
  },
  {
   "cell_type": "code",
   "execution_count": 29,
   "id": "7378e795-328a-49a3-b8c1-3c8bc61fb176",
   "metadata": {},
   "outputs": [
    {
     "data": {
      "text/plain": [
       "-10"
      ]
     },
     "execution_count": 29,
     "metadata": {},
     "output_type": "execute_result"
    }
   ],
   "source": [
    "c"
   ]
  },
  {
   "cell_type": "code",
   "execution_count": null,
   "id": "b1668e99-ed65-481a-a71f-bbac63ded63f",
   "metadata": {},
   "outputs": [],
   "source": []
  }
 ],
 "metadata": {
  "kernelspec": {
   "display_name": "Python 3 (ipykernel)",
   "language": "python",
   "name": "python3"
  },
  "language_info": {
   "codemirror_mode": {
    "name": "ipython",
    "version": 3
   },
   "file_extension": ".py",
   "mimetype": "text/x-python",
   "name": "python",
   "nbconvert_exporter": "python",
   "pygments_lexer": "ipython3",
   "version": "3.10.8"
  }
 },
 "nbformat": 4,
 "nbformat_minor": 5
}
