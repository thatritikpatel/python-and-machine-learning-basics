{
 "cells": [
  {
   "cell_type": "raw",
   "id": "17f6f5dd-fd5c-4161-a58f-da3e9635ea60",
   "metadata": {},
   "source": [
    "Print numbers from 1 to 10, stopping if the number is 5:\n"
   ]
  },
  {
   "cell_type": "code",
   "execution_count": 4,
   "id": "5cc6f677-f110-47e0-8e6a-91693ca36eb4",
   "metadata": {},
   "outputs": [
    {
     "name": "stdout",
     "output_type": "stream",
     "text": [
      "1\n",
      "2\n",
      "3\n",
      "4\n"
     ]
    }
   ],
   "source": [
    "for i in range(1,11):\n",
    "    if i == 5:\n",
    "        break\n",
    "    print(i)\n"
   ]
  },
  {
   "cell_type": "raw",
   "id": "f1bc13fe-8bd1-4d51-95c5-e9d0b14cf028",
   "metadata": {},
   "source": [
    "Iterate through a list and stop when encountering a specific element:\n"
   ]
  },
  {
   "cell_type": "code",
   "execution_count": 5,
   "id": "58faac78-0adc-4dc1-8a15-77d996127eff",
   "metadata": {},
   "outputs": [
    {
     "name": "stdout",
     "output_type": "stream",
     "text": [
      "1\n",
      "2\n",
      "3\n",
      "4\n"
     ]
    }
   ],
   "source": [
    "my_list = [1, 2, 3, 4, 5, 6, 7, 8, 9]\n",
    "stop_element = 5\n",
    "\n",
    "for element in my_list:\n",
    "    if element == stop_element:\n",
    "        break\n",
    "    print(element)\n"
   ]
  },
  {
   "cell_type": "raw",
   "id": "a1e389df-848d-491c-a7f3-fe48a194330f",
   "metadata": {},
   "source": [
    "Skip printing even numbers from 1 to 10:"
   ]
  },
  {
   "cell_type": "code",
   "execution_count": 7,
   "id": "f0985bf9-3598-4722-ab50-f122837d773c",
   "metadata": {},
   "outputs": [
    {
     "name": "stdout",
     "output_type": "stream",
     "text": [
      "1\n",
      "3\n",
      "5\n",
      "7\n",
      "9\n"
     ]
    }
   ],
   "source": [
    "for i in range(10):\n",
    "    if i % 2 == 0:\n",
    "        continue\n",
    "    print(i)\n"
   ]
  },
  {
   "cell_type": "raw",
   "id": "4e1031f1-c576-438a-9770-0e99faeb2e15",
   "metadata": {},
   "source": [
    "Print numbers from 0 to 9 using range():\n"
   ]
  },
  {
   "cell_type": "code",
   "execution_count": 8,
   "id": "78cd007f-a1bb-42ab-86c0-da6790b53c49",
   "metadata": {},
   "outputs": [
    {
     "name": "stdout",
     "output_type": "stream",
     "text": [
      "0\n",
      "1\n",
      "2\n",
      "3\n",
      "4\n",
      "5\n",
      "6\n",
      "7\n",
      "8\n",
      "9\n"
     ]
    }
   ],
   "source": [
    "for i in range(10):\n",
    "    print(i)\n"
   ]
  },
  {
   "cell_type": "raw",
   "id": "e2b35a8b-45b2-47fc-987f-37dcc04677a0",
   "metadata": {},
   "source": [
    "Print multiplication tables from 1 to 5, stopping after the first table for each number:\n"
   ]
  },
  {
   "cell_type": "code",
   "execution_count": 14,
   "id": "f3c7a922-49b8-4799-bce8-2e818a248b4e",
   "metadata": {},
   "outputs": [
    {
     "name": "stdout",
     "output_type": "stream",
     "text": [
      "Multiplication table for 1:\n",
      "1 x 1 = 1\n",
      "\n",
      "Multiplication table for 2:\n",
      "2 x 1 = 2\n",
      "\n",
      "Multiplication table for 3:\n",
      "3 x 1 = 3\n",
      "\n",
      "Multiplication table for 4:\n",
      "4 x 1 = 4\n",
      "\n",
      "Multiplication table for 5:\n",
      "5 x 1 = 5\n",
      "\n"
     ]
    }
   ],
   "source": [
    "for i in range(1, 6):\n",
    "    print(f\"Multiplication table for {i}:\")\n",
    "    for j in range(1, 11):\n",
    "        print(f\"{i} x {j} = {i * j}\")\n",
    "        break\n",
    "    print()  # Empty line between tables\n"
   ]
  },
  {
   "cell_type": "raw",
   "id": "93acd703-4c5c-44e2-aab0-db7d1920e7b5",
   "metadata": {},
   "source": [
    "Skip printing even numbers using a while loop:\n"
   ]
  },
  {
   "cell_type": "code",
   "execution_count": 16,
   "id": "f4a248cf-48c3-48c1-9bb7-897da6dd0cf9",
   "metadata": {},
   "outputs": [
    {
     "name": "stdout",
     "output_type": "stream",
     "text": [
      "1\n",
      "3\n",
      "5\n",
      "7\n",
      "9\n"
     ]
    }
   ],
   "source": [
    "i = 0\n",
    "while i <= 9:\n",
    "    if i % 2 == 0:\n",
    "        i += 1\n",
    "        continue\n",
    "    print(i)\n",
    "    i += 1\n"
   ]
  },
  {
   "cell_type": "code",
   "execution_count": null,
   "id": "f1dd46a5-4365-43a6-a4f2-caa9d3b30dca",
   "metadata": {},
   "outputs": [],
   "source": []
  }
 ],
 "metadata": {
  "kernelspec": {
   "display_name": "Python 3 (ipykernel)",
   "language": "python",
   "name": "python3"
  },
  "language_info": {
   "codemirror_mode": {
    "name": "ipython",
    "version": 3
   },
   "file_extension": ".py",
   "mimetype": "text/x-python",
   "name": "python",
   "nbconvert_exporter": "python",
   "pygments_lexer": "ipython3",
   "version": "3.10.8"
  }
 },
 "nbformat": 4,
 "nbformat_minor": 5
}
