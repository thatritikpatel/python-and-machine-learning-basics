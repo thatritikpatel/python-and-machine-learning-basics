{
 "cells": [
  {
   "cell_type": "raw",
   "id": "c3f7bcee-6d4c-4ecc-8daa-03c65913dfa3",
   "metadata": {},
   "source": [
    "1. Using a deque from the collections module for implementing a queue is preferable over a regular Python list because deque offers:\n",
    "\n",
    "Efficient insertions and deletions with O(1) complexity.\n",
    "Memory efficiency due to its doubly-linked list implementation.\n",
    "Thread safety for concurrent access.\n",
    "Additional operations like rotate().\n",
    "Better performance for large or frequently accessed queues."
   ]
  },
  {
   "cell_type": "raw",
   "id": "9188db8e-c936-4e64-a692-81f95d81a585",
   "metadata": {},
   "source": [
    "2. In a text editor's undo functionality:\n",
    "\n",
    "Stack is preferred over a list.\n",
    "Text editing actions follow a sequential pattern.\n",
    "Undoing actions aligns with Last-In-First-Out (LIFO) behavior.\n",
    "Stack offers efficient undo operations with constant-time retrieval.\n",
    "Memory usage is optimized as the stack grows and shrinks dynamically.\n",
    "Implementation is straightforward, with each action pushed onto the stack."
   ]
  },
  {
   "cell_type": "raw",
   "id": "47d16c5a-538c-47a3-89aa-c008a8681213",
   "metadata": {},
   "source": [
    "3. The primary advantage of using sets in Python is their ability to efficiently store and manipulate unique elements. They are most useful in scenarios involving removing duplicates, membership testing, set operations, finding unique elements, counting unique elements, and eliminating redundancy in data. Sets offer fast lookup times and support various operations, making them versatile data structures for problem-solving.\n"
   ]
  },
  {
   "cell_type": "raw",
   "id": "1a77b738-0658-463f-9f34-8f81d8d74782",
   "metadata": {},
   "source": [
    "4. Arrays are preferred over lists for storing numerical data in Python due to their memory efficiency, performance benefits, homogeneous data type constraint, interoperability with numeric libraries, and access to predefined numerical operations. They offer reduced memory overhead, faster element access, and better integration with numerical computing workflows."
   ]
  },
  {
   "cell_type": "raw",
   "id": "9a610573-0d26-4629-8f88-efc56d5979df",
   "metadata": {},
   "source": [
    "5. "
   ]
  }
 ],
 "metadata": {
  "kernelspec": {
   "display_name": "Python 3 (ipykernel)",
   "language": "python",
   "name": "python3"
  },
  "language_info": {
   "codemirror_mode": {
    "name": "ipython",
    "version": 3
   },
   "file_extension": ".py",
   "mimetype": "text/x-python",
   "name": "python",
   "nbconvert_exporter": "python",
   "pygments_lexer": "ipython3",
   "version": "3.10.8"
  }
 },
 "nbformat": 4,
 "nbformat_minor": 5
}
