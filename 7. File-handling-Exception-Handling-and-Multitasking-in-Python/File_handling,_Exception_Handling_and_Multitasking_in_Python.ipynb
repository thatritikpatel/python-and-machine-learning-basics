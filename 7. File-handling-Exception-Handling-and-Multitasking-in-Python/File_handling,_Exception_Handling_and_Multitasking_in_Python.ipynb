{
  "nbformat": 4,
  "nbformat_minor": 0,
  "metadata": {
    "colab": {
      "provenance": []
    },
    "kernelspec": {
      "name": "python3",
      "display_name": "Python 3"
    },
    "language_info": {
      "name": "python"
    }
  },
  "cells": [
    {
      "cell_type": "markdown",
      "source": [
        "1. Write a code to read the contents of a file in Python."
      ],
      "metadata": {
        "id": "nsdpUPIAoXdO"
      }
    },
    {
      "cell_type": "code",
      "source": [
        "file_path = \"piano.txt\"\n",
        "try:\n",
        "    with open(file_path, \"r\") as file:\n",
        "        file_content = file.read()\n",
        "        print(\"Contents of the file:\")\n",
        "        print(file_content)\n",
        "except FileNotFoundError as e:\n",
        "    print(f\"Error: File '{file_path}' not found.\",e)\n"
      ],
      "metadata": {
        "id": "RzV-Mr3AoZT6"
      },
      "execution_count": null,
      "outputs": []
    },
    {
      "cell_type": "markdown",
      "source": [
        "2. Write a code to write to a file in Python.\n"
      ],
      "metadata": {
        "id": "aJMKYYNmo4jV"
      }
    },
    {
      "cell_type": "code",
      "source": [
        "content_to_write = \"This is some content that will be written to the file.\"\n",
        "\n",
        "file_path = \"output.txt\"\n",
        "try:\n",
        "    with open(file_path, \"w\") as file:\n",
        "        file.write(content_to_write)\n",
        "\n",
        "    print(f\"Content has been written to '{file_path}' successfully.\")\n",
        "except Exception as e:\n",
        "    print(f\"An error occurred: {e}\")\n"
      ],
      "metadata": {
        "colab": {
          "base_uri": "https://localhost:8080/"
        },
        "id": "-Dxkli58pAR2",
        "outputId": "ad2b62dc-0aa3-42cf-e05a-35b08d57dd85"
      },
      "execution_count": null,
      "outputs": [
        {
          "output_type": "stream",
          "name": "stdout",
          "text": [
            "Content has been written to 'output.txt' successfully.\n"
          ]
        }
      ]
    },
    {
      "cell_type": "markdown",
      "source": [
        "3. Write a code to append to a file in Python.\n"
      ],
      "metadata": {
        "id": "mKOYZGxQpLqG"
      }
    },
    {
      "cell_type": "code",
      "source": [
        "content_to_append = \"This content will be appended to the file.\"\n",
        "\n",
        "file_path = \"output.txt\"\n",
        "try:\n",
        "    with open(file_path, \"a\") as file:\n",
        "        file.write(\"\\n\" + content_to_append)\n",
        "    print(f\"Content has been appended to '{file_path}' successfully.\")\n",
        "except Exception as e:\n",
        "    print(f\"An error occurred: {e}\")\n"
      ],
      "metadata": {
        "colab": {
          "base_uri": "https://localhost:8080/"
        },
        "id": "ApS5sTo1pHrR",
        "outputId": "010c73ad-e578-482a-b321-c29fad4e9d6a"
      },
      "execution_count": null,
      "outputs": [
        {
          "output_type": "stream",
          "name": "stdout",
          "text": [
            "Content has been appended to 'output.txt' successfully.\n"
          ]
        }
      ]
    },
    {
      "cell_type": "markdown",
      "source": [
        "4. Write a code to read a binary file in Python.\n"
      ],
      "metadata": {
        "id": "kqZIRcccpxmA"
      }
    },
    {
      "cell_type": "code",
      "source": [
        "file_path = \"binary_file.bin\"\n",
        "try:\n",
        "    with open(file_path, \"rb\") as file:\n",
        "        file_content = file.read()\n",
        "        print(\"Contents of the binary file:\")\n",
        "        print(file_content)\n",
        "except FileNotFoundError:\n",
        "    print(f\"Error: File '{file_path}' not found.\")\n",
        "except Exception as e:\n",
        "    print(f\"An error occurred: {e}\")\n"
      ],
      "metadata": {
        "colab": {
          "base_uri": "https://localhost:8080/"
        },
        "id": "JFYE5Leoprjw",
        "outputId": "4953ee6c-8fef-4baf-db90-7c18aaa2d2bd"
      },
      "execution_count": null,
      "outputs": [
        {
          "output_type": "stream",
          "name": "stdout",
          "text": [
            "Error: File 'binary_file.bin' not found.\n"
          ]
        }
      ]
    },
    {
      "cell_type": "markdown",
      "source": [
        "5. What happens if we don't use `with` keyword with `open` in python?"
      ],
      "metadata": {
        "id": "By1k8Z4aqXuo"
      }
    },
    {
      "cell_type": "markdown",
      "source": [
        "If you don't use the with statement and simply call open() to open a file, you're responsible for manually closing the file using the close() method when you're done with it."
      ],
      "metadata": {
        "id": "asUMTTtIq2Fj"
      }
    },
    {
      "cell_type": "markdown",
      "source": [
        "6. Explain the concept of buffering in file handling and how it helps in improving read and write operations.\n"
      ],
      "metadata": {
        "id": "Xk3AtJ6DrNkL"
      }
    },
    {
      "cell_type": "markdown",
      "source": [
        "Buffering in file handling temporarily stores data in memory before reading from or writing to a file, reducing the number of interactions with the file system. This improves performance by minimizing I/O operations, optimizing disk access, and allowing for more efficient read and write operations, especially with large files or many small operations.\n",
        "data is read from the file into memory in chunks of some bytes"
      ],
      "metadata": {
        "id": "cVRGM33frTqT"
      }
    },
    {
      "cell_type": "markdown",
      "source": [
        "7. Describe the steps involved in implementing buffered file handling in a programming language of your choice.\n"
      ],
      "metadata": {
        "id": "pck1ZvxYsv4A"
      }
    },
    {
      "cell_type": "markdown",
      "source": [
        "\n",
        "\n",
        "1.Open the File: Use the open() function to open the file in the desired mode (read, write, or append). Specify the buffering mode by setting the buffering parameter to the desired buffer size or mode.\n",
        "\n",
        "2.Perform File Operations: Perform read, write, or append operations on the file as needed. Data is read from or written to the file in buffered mode according to the specified buffering mode.\n",
        "\n",
        "3.Close the File: After completing the file operations, close the file using the close() method or by using a with statement. This ensures that any remaining buffered data is flushed to the file and that system resources are properly released.\n",
        "\n"
      ],
      "metadata": {
        "id": "szqfMXlcu0is"
      }
    },
    {
      "cell_type": "code",
      "source": [
        "import io\n",
        "with open(\"example.txt\", \"wb\") as file:\n",
        "    buffered_writer = io.BufferedWriter(file, buffer_size=1024)\n",
        "    while True:\n",
        "        data = str(input(\"Enter data to write (empty to stop): \"))  # Example: User input\n",
        "        if not data:\n",
        "            break\n",
        "        buffered_writer.write(data.encode('utf-8'))\n",
        "\n",
        "    buffered_writer.flush()\n"
      ],
      "metadata": {
        "colab": {
          "base_uri": "https://localhost:8080/"
        },
        "id": "41_45jgHp9Et",
        "outputId": "71f46687-0f30-489d-f50b-73d5b504d569"
      },
      "execution_count": null,
      "outputs": [
        {
          "name": "stdout",
          "output_type": "stream",
          "text": [
            "Enter data to write (empty to stop): this is the first line\n",
            "Enter data to write (empty to stop): this is sconde\n",
            "Enter data to write (empty to stop): thisrd\n",
            "Enter data to write (empty to stop): fouthdfdfoj\n",
            "Enter data to write (empty to stop): \n"
          ]
        }
      ]
    },
    {
      "cell_type": "markdown",
      "source": [
        "8. Write a Python function to read a text file using buffered reading and return its contents."
      ],
      "metadata": {
        "id": "odH80etf3OLy"
      }
    },
    {
      "cell_type": "code",
      "source": [
        "import io\n",
        "def readfile(filepath):\n",
        "    data = \"\"\n",
        "    with open(filepath,\"rb\") as file:\n",
        "      bufferedReader = io.BufferedReader(file,buffer_size=1024)\n",
        "      while True:\n",
        "        tempData =bufferedReader.read()\n",
        "        if len(tempData) == 0:\n",
        "          break\n",
        "        # tempData = tempData.decode(\"utf-8\")\n",
        "        print(tempData)\n",
        "        data+=str(tempData)\n",
        "\n",
        "    return data\n",
        "print(readfile(\"example.txt\"))"
      ],
      "metadata": {
        "colab": {
          "base_uri": "https://localhost:8080/"
        },
        "id": "CyhM4MRr2Neg",
        "outputId": "9bc7bae8-af7a-492e-de8c-a46a3ab7468f"
      },
      "execution_count": null,
      "outputs": [
        {
          "output_type": "stream",
          "name": "stdout",
          "text": [
            "b'this is the first linethis is scondethisrdfouthdfdfoj'\n",
            "b'this is the first linethis is scondethisrdfouthdfdfoj'\n"
          ]
        }
      ]
    },
    {
      "cell_type": "markdown",
      "source": [
        "9. What are the advantages of using buffered reading over direct file reading in Python?\n"
      ],
      "metadata": {
        "id": "MLMaU1W14ttu"
      }
    },
    {
      "cell_type": "markdown",
      "source": [
        "Buffered reading in Python offers advantages such as improved performance by reducing I/O operations, optimized memory usage, efficient disk access, and customizable buffer size, making it ideal for handling large files and enhancing overall performance compared to direct file reading."
      ],
      "metadata": {
        "id": "uzuCxRuv4zFj"
      }
    },
    {
      "cell_type": "markdown",
      "source": [
        "10. Write a Python code snippet to append content to a file using buffered writing.\n"
      ],
      "metadata": {
        "id": "iEekZiBe5iR9"
      }
    },
    {
      "cell_type": "code",
      "source": [
        "import io\n",
        "\n",
        "with open(\"example.txt\", \"ab\") as file:\n",
        "    buffered_writer = io.BufferedWriter(file, buffer_size=8192)\n",
        "\n",
        "    data_to_append = b\"this is the new line\"\n",
        "    buffered_writer.write(data_to_append)\n",
        "\n",
        "    buffered_writer.flush()\n"
      ],
      "metadata": {
        "id": "cleBp6qH7ASL"
      },
      "execution_count": null,
      "outputs": []
    },
    {
      "cell_type": "markdown",
      "source": [
        "11. Write a Python function that demonstrates the use of close() method on a file.\n"
      ],
      "metadata": {
        "id": "9SE1Y9kh52fb"
      }
    },
    {
      "cell_type": "code",
      "source": [
        "file = open(\"example.txt\", \"w\")\n",
        "file.write(\"Hello, world!\")\n",
        "file.close()"
      ],
      "metadata": {
        "id": "z7aH4l8S51dF"
      },
      "execution_count": null,
      "outputs": []
    },
    {
      "cell_type": "markdown",
      "source": [
        "12. Create a Python function to showcase the detach() method on a file object.\n"
      ],
      "metadata": {
        "id": "1uYCnSo-6UP4"
      }
    },
    {
      "cell_type": "code",
      "source": [
        "def detach_example(filename):\n",
        "    try:\n",
        "        file = open(filename, \"w\")\n",
        "        file.write(\"Hello, world!\")\n",
        "        raw_stream = file.detach()\n",
        "        print(\"File object detached successfully.\")\n",
        "        raw_stream.close()\n",
        "        print(\"Raw stream closed.\")\n",
        "    except Exception as e:\n",
        "        print(\"Error:\", e)\n",
        "\n",
        "# Example usage\n",
        "detach_example(\"example.txt\")\n"
      ],
      "metadata": {
        "colab": {
          "base_uri": "https://localhost:8080/"
        },
        "id": "UJOl3Tyk6TYq",
        "outputId": "1ae599d2-32a4-4059-824c-6de7590efdb9"
      },
      "execution_count": null,
      "outputs": [
        {
          "output_type": "stream",
          "name": "stdout",
          "text": [
            "File object detached successfully.\n",
            "Raw stream closed.\n"
          ]
        }
      ]
    },
    {
      "cell_type": "markdown",
      "source": [
        "13. Write a Python function to demonstrate the use of the seek() method to change the file position.\n"
      ],
      "metadata": {
        "id": "q3RftfB-7oMY"
      }
    },
    {
      "cell_type": "code",
      "source": [
        "def seek_example(filename, position):\n",
        "    try:\n",
        "        with open(filename, \"r\") as file:\n",
        "            print(\"Contents of the file before seeking:\")\n",
        "            print(file.read())\n",
        "            file.seek(position)\n",
        "            print(\"\\nContents of the file after seeking:\")\n",
        "            print(file.read())\n",
        "    except Exception as e:\n",
        "        print(\"Error:\", e)\n",
        "\n",
        "# Example usage\n",
        "seek_example(\"example.txt\", 5)\n"
      ],
      "metadata": {
        "colab": {
          "base_uri": "https://localhost:8080/"
        },
        "id": "s7c7zeG77nB8",
        "outputId": "e70a4e5c-c9d8-4cac-d98a-d48c9cbf0dcc"
      },
      "execution_count": null,
      "outputs": [
        {
          "output_type": "stream",
          "name": "stdout",
          "text": [
            "Contents of the file before seeking:\n",
            "Hello, world!\n",
            "\n",
            "Contents of the file after seeking:\n",
            ", world!\n"
          ]
        }
      ]
    },
    {
      "cell_type": "markdown",
      "source": [
        "14. Create a Python function to return the file descriptor (integer number) of a file using the fileno() method."
      ],
      "metadata": {
        "id": "BtORm5EU8l_d"
      }
    },
    {
      "cell_type": "code",
      "source": [
        "def get_file_descriptor(filename):\n",
        "    try:\n",
        "        with open(filename, \"r\") as file:\n",
        "            file_descriptor = file.fileno()\n",
        "            return file_descriptor\n",
        "    except Exception as e:\n",
        "        print(\"Error:\", e)\n",
        "        return None\n",
        "\n",
        "file_descriptor = get_file_descriptor(\"example.txt\")\n",
        "if file_descriptor is not None:\n",
        "    print(\"File Descriptor:\", file_descriptor)\n"
      ],
      "metadata": {
        "colab": {
          "base_uri": "https://localhost:8080/"
        },
        "id": "O73NSzwp8hwS",
        "outputId": "c80b8dad-64d7-4ec1-ca6e-3103d3bb1b8f"
      },
      "execution_count": null,
      "outputs": [
        {
          "output_type": "stream",
          "name": "stdout",
          "text": [
            "File Descriptor: 42\n"
          ]
        }
      ]
    },
    {
      "cell_type": "markdown",
      "source": [
        "15. Write a Python function to return the current position of the file's object using the tell() method.\n"
      ],
      "metadata": {
        "id": "7eGHxfCm-Jxp"
      }
    },
    {
      "cell_type": "code",
      "source": [
        "def get_file_position(filename):\n",
        "    try:\n",
        "        with open(filename, \"r\") as file:\n",
        "            position = file.tell()\n",
        "            return position\n",
        "    except Exception as e:\n",
        "        print(\"Error:\", e)\n",
        "        return None\n",
        "\n",
        "file_position = get_file_position(\"example.txt\")\n",
        "if file_position is not None:\n",
        "    print(\"Current File Position:\", file_position)\n"
      ],
      "metadata": {
        "colab": {
          "base_uri": "https://localhost:8080/"
        },
        "id": "NtSwO25h833y",
        "outputId": "99b96adf-5fd2-4af7-97cd-c2c7e10d42f9"
      },
      "execution_count": null,
      "outputs": [
        {
          "output_type": "stream",
          "name": "stdout",
          "text": [
            "Current File Position: 0\n"
          ]
        }
      ]
    },
    {
      "cell_type": "markdown",
      "source": [
        "16. Create a Python program that logs a message to a file using the logging module.\n"
      ],
      "metadata": {
        "id": "i1RL6shb-jw2"
      }
    },
    {
      "cell_type": "code",
      "source": [
        "import logging\n",
        "\n",
        "logging.basicConfig(filename=\"errors_logs.log\", level=logging.INFO, format='%(asctime)s - %(levelname)s - %(message)s')\n",
        "logging.info(\"This is a log message.\")\n"
      ],
      "metadata": {
        "id": "6DJ17SKQ-g1W"
      },
      "execution_count": null,
      "outputs": []
    },
    {
      "cell_type": "markdown",
      "source": [
        "17. Explain the importance of logging levels in Python's logging module.\n"
      ],
      "metadata": {
        "id": "g7pyaw0V-_D9"
      }
    },
    {
      "cell_type": "markdown",
      "source": [
        "Logging levels in Python's logging module provide a means to classify log messages by their severity. They offer fine-tuned control over which messages are logged, aiding in debugging, troubleshooting, and monitoring. By setting suitable levels, developers can prioritize critical errors, exclude less relevant messages, and ensure compliance with security and auditing standards."
      ],
      "metadata": {
        "id": "nnLDcYyJ_5mc"
      }
    },
    {
      "cell_type": "markdown",
      "source": [
        "18. Create a Python program that uses the debugger to find the value of a variable inside a loop.\n"
      ],
      "metadata": {
        "id": "tOgeSRQg_7Qk"
      }
    },
    {
      "cell_type": "code",
      "source": [
        "import logging\n",
        "\n",
        "logging.basicConfig(filename=\"errors_logs.log\", level=logging.DEBUG)\n",
        "\n",
        "def calculate_sum(n):\n",
        "    total = 0\n",
        "    for i in range(1, n + 1):\n",
        "        total += i\n",
        "        logging.debug(\"Value of 'total' at iteration %d: %d\", i, total)\n",
        "    return total\n",
        "\n",
        "result = calculate_sum(5)\n",
        "print(\"Sum:\", result)\n"
      ],
      "metadata": {
        "colab": {
          "base_uri": "https://localhost:8080/"
        },
        "id": "8NnJ_-F1_-7O",
        "outputId": "f52ed057-bdbc-4c86-c35b-ba39cb326978"
      },
      "execution_count": null,
      "outputs": [
        {
          "output_type": "stream",
          "name": "stdout",
          "text": [
            "Sum: 15\n"
          ]
        }
      ]
    },
    {
      "cell_type": "markdown",
      "source": [
        "19. Create a Python program that demonstrates setting breakpoints and inspecting variables using the debugger\n"
      ],
      "metadata": {
        "id": "fFnJe-tTAvCm"
      }
    },
    {
      "cell_type": "code",
      "source": [
        "import pdb\n",
        "\n",
        "def calculate_sum(n):\n",
        "    total = 0\n",
        "    for i in range(1, n + 1):\n",
        "        # breakpoint\n",
        "        pdb.set_trace()\n",
        "        total += i\n",
        "    return total\n",
        "\n",
        "result = calculate_sum(5)\n",
        "print(\"Sum:\", result)\n"
      ],
      "metadata": {
        "id": "xb2OjRDAAS_p",
        "colab": {
          "base_uri": "https://localhost:8080/"
        },
        "outputId": "c6d5f64e-ac7b-49f4-ba6f-f7da48767df5"
      },
      "execution_count": null,
      "outputs": [
        {
          "output_type": "stream",
          "name": "stderr",
          "text": [
            "\n",
            "PYDEV DEBUGGER WARNING:\n",
            "sys.settrace() should not be used when the debugger is being used.\n",
            "This may cause the debugger to stop working correctly.\n",
            "If this is needed, please check: \n",
            "http://pydev.blogspot.com/2007/06/why-cant-pydev-debugger-work-with.html\n",
            "to see how to restore the debug tracing back correctly.\n",
            "Call Location:\n",
            "  File \"/usr/lib/python3.10/bdb.py\", line 336, in set_trace\n",
            "    sys.settrace(self.trace_dispatch)\n",
            "\n"
          ]
        },
        {
          "name": "stdout",
          "output_type": "stream",
          "text": [
            "> \u001b[0;32m<ipython-input-1-d6c79f490f9d>\u001b[0m(8)\u001b[0;36mcalculate_sum\u001b[0;34m()\u001b[0m\n",
            "\u001b[0;32m      6 \u001b[0;31m        \u001b[0;31m# breakpoint\u001b[0m\u001b[0;34m\u001b[0m\u001b[0;34m\u001b[0m\u001b[0m\n",
            "\u001b[0m\u001b[0;32m      7 \u001b[0;31m        \u001b[0mpdb\u001b[0m\u001b[0;34m.\u001b[0m\u001b[0mset_trace\u001b[0m\u001b[0;34m(\u001b[0m\u001b[0;34m)\u001b[0m\u001b[0;34m\u001b[0m\u001b[0;34m\u001b[0m\u001b[0m\n",
            "\u001b[0m\u001b[0;32m----> 8 \u001b[0;31m        \u001b[0mtotal\u001b[0m \u001b[0;34m+=\u001b[0m \u001b[0mi\u001b[0m\u001b[0;34m\u001b[0m\u001b[0;34m\u001b[0m\u001b[0m\n",
            "\u001b[0m\u001b[0;32m      9 \u001b[0;31m    \u001b[0;32mreturn\u001b[0m \u001b[0mtotal\u001b[0m\u001b[0;34m\u001b[0m\u001b[0;34m\u001b[0m\u001b[0m\n",
            "\u001b[0m\u001b[0;32m     10 \u001b[0;31m\u001b[0;34m\u001b[0m\u001b[0m\n",
            "\u001b[0m\n",
            "ipdb> continue\n"
          ]
        },
        {
          "output_type": "stream",
          "name": "stderr",
          "text": [
            "\n",
            "PYDEV DEBUGGER WARNING:\n",
            "sys.settrace() should not be used when the debugger is being used.\n",
            "This may cause the debugger to stop working correctly.\n",
            "If this is needed, please check: \n",
            "http://pydev.blogspot.com/2007/06/why-cant-pydev-debugger-work-with.html\n",
            "to see how to restore the debug tracing back correctly.\n",
            "Call Location:\n",
            "  File \"/usr/lib/python3.10/bdb.py\", line 347, in set_continue\n",
            "    sys.settrace(None)\n",
            "\n"
          ]
        },
        {
          "output_type": "stream",
          "name": "stdout",
          "text": [
            "> \u001b[0;32m<ipython-input-1-d6c79f490f9d>\u001b[0m(8)\u001b[0;36mcalculate_sum\u001b[0;34m()\u001b[0m\n",
            "\u001b[0;32m      6 \u001b[0;31m        \u001b[0;31m# breakpoint\u001b[0m\u001b[0;34m\u001b[0m\u001b[0;34m\u001b[0m\u001b[0m\n",
            "\u001b[0m\u001b[0;32m      7 \u001b[0;31m        \u001b[0mpdb\u001b[0m\u001b[0;34m.\u001b[0m\u001b[0mset_trace\u001b[0m\u001b[0;34m(\u001b[0m\u001b[0;34m)\u001b[0m\u001b[0;34m\u001b[0m\u001b[0;34m\u001b[0m\u001b[0m\n",
            "\u001b[0m\u001b[0;32m----> 8 \u001b[0;31m        \u001b[0mtotal\u001b[0m \u001b[0;34m+=\u001b[0m \u001b[0mi\u001b[0m\u001b[0;34m\u001b[0m\u001b[0;34m\u001b[0m\u001b[0m\n",
            "\u001b[0m\u001b[0;32m      9 \u001b[0;31m    \u001b[0;32mreturn\u001b[0m \u001b[0mtotal\u001b[0m\u001b[0;34m\u001b[0m\u001b[0;34m\u001b[0m\u001b[0m\n",
            "\u001b[0m\u001b[0;32m     10 \u001b[0;31m\u001b[0;34m\u001b[0m\u001b[0m\n",
            "\u001b[0m\n",
            "ipdb> continue\n",
            "> \u001b[0;32m<ipython-input-1-d6c79f490f9d>\u001b[0m(8)\u001b[0;36mcalculate_sum\u001b[0;34m()\u001b[0m\n",
            "\u001b[0;32m      6 \u001b[0;31m        \u001b[0;31m# breakpoint\u001b[0m\u001b[0;34m\u001b[0m\u001b[0;34m\u001b[0m\u001b[0m\n",
            "\u001b[0m\u001b[0;32m      7 \u001b[0;31m        \u001b[0mpdb\u001b[0m\u001b[0;34m.\u001b[0m\u001b[0mset_trace\u001b[0m\u001b[0;34m(\u001b[0m\u001b[0;34m)\u001b[0m\u001b[0;34m\u001b[0m\u001b[0;34m\u001b[0m\u001b[0m\n",
            "\u001b[0m\u001b[0;32m----> 8 \u001b[0;31m        \u001b[0mtotal\u001b[0m \u001b[0;34m+=\u001b[0m \u001b[0mi\u001b[0m\u001b[0;34m\u001b[0m\u001b[0;34m\u001b[0m\u001b[0m\n",
            "\u001b[0m\u001b[0;32m      9 \u001b[0;31m    \u001b[0;32mreturn\u001b[0m \u001b[0mtotal\u001b[0m\u001b[0;34m\u001b[0m\u001b[0;34m\u001b[0m\u001b[0m\n",
            "\u001b[0m\u001b[0;32m     10 \u001b[0;31m\u001b[0;34m\u001b[0m\u001b[0m\n",
            "\u001b[0m\n",
            "ipdb> continue\n",
            "> \u001b[0;32m<ipython-input-1-d6c79f490f9d>\u001b[0m(8)\u001b[0;36mcalculate_sum\u001b[0;34m()\u001b[0m\n",
            "\u001b[0;32m      6 \u001b[0;31m        \u001b[0;31m# breakpoint\u001b[0m\u001b[0;34m\u001b[0m\u001b[0;34m\u001b[0m\u001b[0m\n",
            "\u001b[0m\u001b[0;32m      7 \u001b[0;31m        \u001b[0mpdb\u001b[0m\u001b[0;34m.\u001b[0m\u001b[0mset_trace\u001b[0m\u001b[0;34m(\u001b[0m\u001b[0;34m)\u001b[0m\u001b[0;34m\u001b[0m\u001b[0;34m\u001b[0m\u001b[0m\n",
            "\u001b[0m\u001b[0;32m----> 8 \u001b[0;31m        \u001b[0mtotal\u001b[0m \u001b[0;34m+=\u001b[0m \u001b[0mi\u001b[0m\u001b[0;34m\u001b[0m\u001b[0;34m\u001b[0m\u001b[0m\n",
            "\u001b[0m\u001b[0;32m      9 \u001b[0;31m    \u001b[0;32mreturn\u001b[0m \u001b[0mtotal\u001b[0m\u001b[0;34m\u001b[0m\u001b[0;34m\u001b[0m\u001b[0m\n",
            "\u001b[0m\u001b[0;32m     10 \u001b[0;31m\u001b[0;34m\u001b[0m\u001b[0m\n",
            "\u001b[0m\n",
            "ipdb> continue\n",
            "> \u001b[0;32m<ipython-input-1-d6c79f490f9d>\u001b[0m(8)\u001b[0;36mcalculate_sum\u001b[0;34m()\u001b[0m\n",
            "\u001b[0;32m      6 \u001b[0;31m        \u001b[0;31m# breakpoint\u001b[0m\u001b[0;34m\u001b[0m\u001b[0;34m\u001b[0m\u001b[0m\n",
            "\u001b[0m\u001b[0;32m      7 \u001b[0;31m        \u001b[0mpdb\u001b[0m\u001b[0;34m.\u001b[0m\u001b[0mset_trace\u001b[0m\u001b[0;34m(\u001b[0m\u001b[0;34m)\u001b[0m\u001b[0;34m\u001b[0m\u001b[0;34m\u001b[0m\u001b[0m\n",
            "\u001b[0m\u001b[0;32m----> 8 \u001b[0;31m        \u001b[0mtotal\u001b[0m \u001b[0;34m+=\u001b[0m \u001b[0mi\u001b[0m\u001b[0;34m\u001b[0m\u001b[0;34m\u001b[0m\u001b[0m\n",
            "\u001b[0m\u001b[0;32m      9 \u001b[0;31m    \u001b[0;32mreturn\u001b[0m \u001b[0mtotal\u001b[0m\u001b[0;34m\u001b[0m\u001b[0;34m\u001b[0m\u001b[0m\n",
            "\u001b[0m\u001b[0;32m     10 \u001b[0;31m\u001b[0;34m\u001b[0m\u001b[0m\n",
            "\u001b[0m\n",
            "ipdb> return\n",
            "--Return--\n",
            "15\n",
            "> \u001b[0;32m<ipython-input-1-d6c79f490f9d>\u001b[0m(9)\u001b[0;36mcalculate_sum\u001b[0;34m()\u001b[0m\n",
            "\u001b[0;32m      7 \u001b[0;31m        \u001b[0mpdb\u001b[0m\u001b[0;34m.\u001b[0m\u001b[0mset_trace\u001b[0m\u001b[0;34m(\u001b[0m\u001b[0;34m)\u001b[0m\u001b[0;34m\u001b[0m\u001b[0;34m\u001b[0m\u001b[0m\n",
            "\u001b[0m\u001b[0;32m      8 \u001b[0;31m        \u001b[0mtotal\u001b[0m \u001b[0;34m+=\u001b[0m \u001b[0mi\u001b[0m\u001b[0;34m\u001b[0m\u001b[0;34m\u001b[0m\u001b[0m\n",
            "\u001b[0m\u001b[0;32m----> 9 \u001b[0;31m    \u001b[0;32mreturn\u001b[0m \u001b[0mtotal\u001b[0m\u001b[0;34m\u001b[0m\u001b[0;34m\u001b[0m\u001b[0m\n",
            "\u001b[0m\u001b[0;32m     10 \u001b[0;31m\u001b[0;34m\u001b[0m\u001b[0m\n",
            "\u001b[0m\u001b[0;32m     11 \u001b[0;31m\u001b[0mresult\u001b[0m \u001b[0;34m=\u001b[0m \u001b[0mcalculate_sum\u001b[0m\u001b[0;34m(\u001b[0m\u001b[0;36m5\u001b[0m\u001b[0;34m)\u001b[0m\u001b[0;34m\u001b[0m\u001b[0;34m\u001b[0m\u001b[0m\n",
            "\u001b[0m\n",
            "ipdb> return 1\n",
            "--Return--\n",
            "None\n",
            "> \u001b[0;32m<ipython-input-1-d6c79f490f9d>\u001b[0m(11)\u001b[0;36m<cell line: 11>\u001b[0;34m()\u001b[0m\n",
            "\u001b[0;32m      8 \u001b[0;31m        \u001b[0mtotal\u001b[0m \u001b[0;34m+=\u001b[0m \u001b[0mi\u001b[0m\u001b[0;34m\u001b[0m\u001b[0;34m\u001b[0m\u001b[0m\n",
            "\u001b[0m\u001b[0;32m      9 \u001b[0;31m    \u001b[0;32mreturn\u001b[0m \u001b[0mtotal\u001b[0m\u001b[0;34m\u001b[0m\u001b[0;34m\u001b[0m\u001b[0m\n",
            "\u001b[0m\u001b[0;32m     10 \u001b[0;31m\u001b[0;34m\u001b[0m\u001b[0m\n",
            "\u001b[0m\u001b[0;32m---> 11 \u001b[0;31m\u001b[0mresult\u001b[0m \u001b[0;34m=\u001b[0m \u001b[0mcalculate_sum\u001b[0m\u001b[0;34m(\u001b[0m\u001b[0;36m5\u001b[0m\u001b[0;34m)\u001b[0m\u001b[0;34m\u001b[0m\u001b[0;34m\u001b[0m\u001b[0m\n",
            "\u001b[0m\u001b[0;32m     12 \u001b[0;31m\u001b[0mprint\u001b[0m\u001b[0;34m(\u001b[0m\u001b[0;34m\"Sum:\"\u001b[0m\u001b[0;34m,\u001b[0m \u001b[0mresult\u001b[0m\u001b[0;34m)\u001b[0m\u001b[0;34m\u001b[0m\u001b[0;34m\u001b[0m\u001b[0m\n",
            "\u001b[0m\n",
            "ipdb> continue\n",
            "Sum: 15\n"
          ]
        }
      ]
    },
    {
      "cell_type": "markdown",
      "source": [
        "20. Create a Python program that uses the debugger to trace a recursive function.\n"
      ],
      "metadata": {
        "id": "8fozFXaVuPqM"
      }
    },
    {
      "cell_type": "code",
      "source": [
        "import pdb\n",
        "\n",
        "def factorial(n):\n",
        "    pdb.set_trace()\n",
        "\n",
        "    if n == 0 or n == 1:\n",
        "        return 1\n",
        "    else:\n",
        "        return n * factorial(n - 1)\n",
        "\n",
        "result = factorial(5)\n",
        "print(\"Factorial:\", result)\n"
      ],
      "metadata": {
        "colab": {
          "base_uri": "https://localhost:8080/"
        },
        "id": "H99nFX4RuY-N",
        "outputId": "90e44e9c-c85c-432b-8d03-9fa849c6ced0"
      },
      "execution_count": null,
      "outputs": [
        {
          "output_type": "stream",
          "name": "stdout",
          "text": [
            "> \u001b[0;32m<ipython-input-2-8df4368589b2>\u001b[0m(6)\u001b[0;36mfactorial\u001b[0;34m()\u001b[0m\n",
            "\u001b[0;32m      4 \u001b[0;31m    \u001b[0mpdb\u001b[0m\u001b[0;34m.\u001b[0m\u001b[0mset_trace\u001b[0m\u001b[0;34m(\u001b[0m\u001b[0;34m)\u001b[0m\u001b[0;34m\u001b[0m\u001b[0;34m\u001b[0m\u001b[0m\n",
            "\u001b[0m\u001b[0;32m      5 \u001b[0;31m\u001b[0;34m\u001b[0m\u001b[0m\n",
            "\u001b[0m\u001b[0;32m----> 6 \u001b[0;31m    \u001b[0;32mif\u001b[0m \u001b[0mn\u001b[0m \u001b[0;34m==\u001b[0m \u001b[0;36m0\u001b[0m \u001b[0;32mor\u001b[0m \u001b[0mn\u001b[0m \u001b[0;34m==\u001b[0m \u001b[0;36m1\u001b[0m\u001b[0;34m:\u001b[0m\u001b[0;34m\u001b[0m\u001b[0;34m\u001b[0m\u001b[0m\n",
            "\u001b[0m\u001b[0;32m      7 \u001b[0;31m        \u001b[0;32mreturn\u001b[0m \u001b[0;36m1\u001b[0m\u001b[0;34m\u001b[0m\u001b[0;34m\u001b[0m\u001b[0m\n",
            "\u001b[0m\u001b[0;32m      8 \u001b[0;31m    \u001b[0;32melse\u001b[0m\u001b[0;34m:\u001b[0m\u001b[0;34m\u001b[0m\u001b[0;34m\u001b[0m\u001b[0m\n",
            "\u001b[0m\n",
            "ipdb> continue\n",
            "> \u001b[0;32m<ipython-input-2-8df4368589b2>\u001b[0m(6)\u001b[0;36mfactorial\u001b[0;34m()\u001b[0m\n",
            "\u001b[0;32m      4 \u001b[0;31m    \u001b[0mpdb\u001b[0m\u001b[0;34m.\u001b[0m\u001b[0mset_trace\u001b[0m\u001b[0;34m(\u001b[0m\u001b[0;34m)\u001b[0m\u001b[0;34m\u001b[0m\u001b[0;34m\u001b[0m\u001b[0m\n",
            "\u001b[0m\u001b[0;32m      5 \u001b[0;31m\u001b[0;34m\u001b[0m\u001b[0m\n",
            "\u001b[0m\u001b[0;32m----> 6 \u001b[0;31m    \u001b[0;32mif\u001b[0m \u001b[0mn\u001b[0m \u001b[0;34m==\u001b[0m \u001b[0;36m0\u001b[0m \u001b[0;32mor\u001b[0m \u001b[0mn\u001b[0m \u001b[0;34m==\u001b[0m \u001b[0;36m1\u001b[0m\u001b[0;34m:\u001b[0m\u001b[0;34m\u001b[0m\u001b[0;34m\u001b[0m\u001b[0m\n",
            "\u001b[0m\u001b[0;32m      7 \u001b[0;31m        \u001b[0;32mreturn\u001b[0m \u001b[0;36m1\u001b[0m\u001b[0;34m\u001b[0m\u001b[0;34m\u001b[0m\u001b[0m\n",
            "\u001b[0m\u001b[0;32m      8 \u001b[0;31m    \u001b[0;32melse\u001b[0m\u001b[0;34m:\u001b[0m\u001b[0;34m\u001b[0m\u001b[0;34m\u001b[0m\u001b[0m\n",
            "\u001b[0m\n",
            "ipdb> continue\n",
            "> \u001b[0;32m<ipython-input-2-8df4368589b2>\u001b[0m(6)\u001b[0;36mfactorial\u001b[0;34m()\u001b[0m\n",
            "\u001b[0;32m      4 \u001b[0;31m    \u001b[0mpdb\u001b[0m\u001b[0;34m.\u001b[0m\u001b[0mset_trace\u001b[0m\u001b[0;34m(\u001b[0m\u001b[0;34m)\u001b[0m\u001b[0;34m\u001b[0m\u001b[0;34m\u001b[0m\u001b[0m\n",
            "\u001b[0m\u001b[0;32m      5 \u001b[0;31m\u001b[0;34m\u001b[0m\u001b[0m\n",
            "\u001b[0m\u001b[0;32m----> 6 \u001b[0;31m    \u001b[0;32mif\u001b[0m \u001b[0mn\u001b[0m \u001b[0;34m==\u001b[0m \u001b[0;36m0\u001b[0m \u001b[0;32mor\u001b[0m \u001b[0mn\u001b[0m \u001b[0;34m==\u001b[0m \u001b[0;36m1\u001b[0m\u001b[0;34m:\u001b[0m\u001b[0;34m\u001b[0m\u001b[0;34m\u001b[0m\u001b[0m\n",
            "\u001b[0m\u001b[0;32m      7 \u001b[0;31m        \u001b[0;32mreturn\u001b[0m \u001b[0;36m1\u001b[0m\u001b[0;34m\u001b[0m\u001b[0;34m\u001b[0m\u001b[0m\n",
            "\u001b[0m\u001b[0;32m      8 \u001b[0;31m    \u001b[0;32melse\u001b[0m\u001b[0;34m:\u001b[0m\u001b[0;34m\u001b[0m\u001b[0;34m\u001b[0m\u001b[0m\n",
            "\u001b[0m\n",
            "ipdb> continue\n",
            "> \u001b[0;32m<ipython-input-2-8df4368589b2>\u001b[0m(6)\u001b[0;36mfactorial\u001b[0;34m()\u001b[0m\n",
            "\u001b[0;32m      4 \u001b[0;31m    \u001b[0mpdb\u001b[0m\u001b[0;34m.\u001b[0m\u001b[0mset_trace\u001b[0m\u001b[0;34m(\u001b[0m\u001b[0;34m)\u001b[0m\u001b[0;34m\u001b[0m\u001b[0;34m\u001b[0m\u001b[0m\n",
            "\u001b[0m\u001b[0;32m      5 \u001b[0;31m\u001b[0;34m\u001b[0m\u001b[0m\n",
            "\u001b[0m\u001b[0;32m----> 6 \u001b[0;31m    \u001b[0;32mif\u001b[0m \u001b[0mn\u001b[0m \u001b[0;34m==\u001b[0m \u001b[0;36m0\u001b[0m \u001b[0;32mor\u001b[0m \u001b[0mn\u001b[0m \u001b[0;34m==\u001b[0m \u001b[0;36m1\u001b[0m\u001b[0;34m:\u001b[0m\u001b[0;34m\u001b[0m\u001b[0;34m\u001b[0m\u001b[0m\n",
            "\u001b[0m\u001b[0;32m      7 \u001b[0;31m        \u001b[0;32mreturn\u001b[0m \u001b[0;36m1\u001b[0m\u001b[0;34m\u001b[0m\u001b[0;34m\u001b[0m\u001b[0m\n",
            "\u001b[0m\u001b[0;32m      8 \u001b[0;31m    \u001b[0;32melse\u001b[0m\u001b[0;34m:\u001b[0m\u001b[0;34m\u001b[0m\u001b[0;34m\u001b[0m\u001b[0m\n",
            "\u001b[0m\n",
            "ipdb>  n=0\n",
            "> \u001b[0;32m<ipython-input-2-8df4368589b2>\u001b[0m(9)\u001b[0;36mfactorial\u001b[0;34m()\u001b[0m\n",
            "\u001b[0;32m      7 \u001b[0;31m        \u001b[0;32mreturn\u001b[0m \u001b[0;36m1\u001b[0m\u001b[0;34m\u001b[0m\u001b[0;34m\u001b[0m\u001b[0m\n",
            "\u001b[0m\u001b[0;32m      8 \u001b[0;31m    \u001b[0;32melse\u001b[0m\u001b[0;34m:\u001b[0m\u001b[0;34m\u001b[0m\u001b[0;34m\u001b[0m\u001b[0m\n",
            "\u001b[0m\u001b[0;32m----> 9 \u001b[0;31m        \u001b[0;32mreturn\u001b[0m \u001b[0mn\u001b[0m \u001b[0;34m*\u001b[0m \u001b[0mfactorial\u001b[0m\u001b[0;34m(\u001b[0m\u001b[0mn\u001b[0m \u001b[0;34m-\u001b[0m \u001b[0;36m1\u001b[0m\u001b[0;34m)\u001b[0m\u001b[0;34m\u001b[0m\u001b[0;34m\u001b[0m\u001b[0m\n",
            "\u001b[0m\u001b[0;32m     10 \u001b[0;31m\u001b[0;34m\u001b[0m\u001b[0m\n",
            "\u001b[0m\u001b[0;32m     11 \u001b[0;31m\u001b[0mresult\u001b[0m \u001b[0;34m=\u001b[0m \u001b[0mfactorial\u001b[0m\u001b[0;34m(\u001b[0m\u001b[0;36m5\u001b[0m\u001b[0;34m)\u001b[0m\u001b[0;34m\u001b[0m\u001b[0;34m\u001b[0m\u001b[0m\n",
            "\u001b[0m\n",
            "ipdb> continue\n",
            "> \u001b[0;32m<ipython-input-2-8df4368589b2>\u001b[0m(6)\u001b[0;36mfactorial\u001b[0;34m()\u001b[0m\n",
            "\u001b[0;32m      4 \u001b[0;31m    \u001b[0mpdb\u001b[0m\u001b[0;34m.\u001b[0m\u001b[0mset_trace\u001b[0m\u001b[0;34m(\u001b[0m\u001b[0;34m)\u001b[0m\u001b[0;34m\u001b[0m\u001b[0;34m\u001b[0m\u001b[0m\n",
            "\u001b[0m\u001b[0;32m      5 \u001b[0;31m\u001b[0;34m\u001b[0m\u001b[0m\n",
            "\u001b[0m\u001b[0;32m----> 6 \u001b[0;31m    \u001b[0;32mif\u001b[0m \u001b[0mn\u001b[0m \u001b[0;34m==\u001b[0m \u001b[0;36m0\u001b[0m \u001b[0;32mor\u001b[0m \u001b[0mn\u001b[0m \u001b[0;34m==\u001b[0m \u001b[0;36m1\u001b[0m\u001b[0;34m:\u001b[0m\u001b[0;34m\u001b[0m\u001b[0;34m\u001b[0m\u001b[0m\n",
            "\u001b[0m\u001b[0;32m      7 \u001b[0;31m        \u001b[0;32mreturn\u001b[0m \u001b[0;36m1\u001b[0m\u001b[0;34m\u001b[0m\u001b[0;34m\u001b[0m\u001b[0m\n",
            "\u001b[0m\u001b[0;32m      8 \u001b[0;31m    \u001b[0;32melse\u001b[0m\u001b[0;34m:\u001b[0m\u001b[0;34m\u001b[0m\u001b[0;34m\u001b[0m\u001b[0m\n",
            "\u001b[0m\n",
            "ipdb> continue\n",
            "Factorial: 120\n"
          ]
        }
      ]
    },
    {
      "cell_type": "markdown",
      "source": [
        "21. Write a try-except block to handle a ZeroDivisionError."
      ],
      "metadata": {
        "id": "81ZBR8NWunPH"
      }
    },
    {
      "cell_type": "code",
      "source": [
        "try:\n",
        "    result = 10 / 0\n",
        "except ZeroDivisionError:\n",
        "    print(\"Error: Division by zero!\")\n"
      ],
      "metadata": {
        "colab": {
          "base_uri": "https://localhost:8080/"
        },
        "id": "hbGc-bgDup5q",
        "outputId": "7d46d133-6756-427b-8cb3-41dde2bd1041"
      },
      "execution_count": null,
      "outputs": [
        {
          "output_type": "stream",
          "name": "stdout",
          "text": [
            "Error: Division by zero!\n"
          ]
        }
      ]
    },
    {
      "cell_type": "markdown",
      "source": [
        "22. How does the else block work with try-except?"
      ],
      "metadata": {
        "id": "GXUoFpBbuv0u"
      }
    },
    {
      "cell_type": "markdown",
      "source": [
        "In a try-except block, the `else` block runs if no exceptions occur in the `try` block. It allows you to specify code that should execute only if the try block completes successfully, without raising any exceptions."
      ],
      "metadata": {
        "id": "gPD2R5asu8uq"
      }
    },
    {
      "cell_type": "markdown",
      "source": [
        "23. Implement a try-except-else block to open and read a file.\n"
      ],
      "metadata": {
        "id": "GL-01tWvvBGp"
      }
    },
    {
      "cell_type": "code",
      "source": [
        "try:\n",
        "    with open(\"example.txt\", \"r\") as file:\n",
        "        content = file.read()\n",
        "except FileNotFoundError:\n",
        "    print(\"Error: File not found!\")\n",
        "except IOError:\n",
        "    print(\"Error: Unable to read the file!\")\n",
        "else:\n",
        "    print(\"File content:\")\n",
        "    print(content)\n"
      ],
      "metadata": {
        "colab": {
          "base_uri": "https://localhost:8080/"
        },
        "id": "bp4zXlvjvIzg",
        "outputId": "952946bb-4cb3-489e-d36a-45c3d57b36bc"
      },
      "execution_count": null,
      "outputs": [
        {
          "output_type": "stream",
          "name": "stdout",
          "text": [
            "Error: File not found!\n"
          ]
        }
      ]
    },
    {
      "cell_type": "markdown",
      "source": [
        "24. What is the purpose of the finally block in exception handling.\n"
      ],
      "metadata": {
        "id": "gkoWnS8CvOiB"
      }
    },
    {
      "cell_type": "markdown",
      "source": [
        "the finally block ensures that certain code is executed regardless of whether an exception occurs in the try block, making it useful for cleanup, finalization, and resource management in exception handling."
      ],
      "metadata": {
        "id": "_2Wjv4zIvQ58"
      }
    },
    {
      "cell_type": "markdown",
      "source": [
        "25. Write a try-except-finally block to handle a ValueError."
      ],
      "metadata": {
        "id": "KTiIQjLvvlU-"
      }
    },
    {
      "cell_type": "code",
      "source": [
        "try:\n",
        "    number = int(\"abc\")\n",
        "except ValueError:\n",
        "    print(\"Error: Unable to convert the string to an integer!\")\n",
        "finally:\n",
        "    print(\"This block always executes, regardless of exceptions.\")\n"
      ],
      "metadata": {
        "colab": {
          "base_uri": "https://localhost:8080/"
        },
        "id": "RL6b049zvr07",
        "outputId": "3d348c8b-c75c-46b0-d04a-ed1742967dd9"
      },
      "execution_count": null,
      "outputs": [
        {
          "output_type": "stream",
          "name": "stdout",
          "text": [
            "Error: Unable to convert the string to an integer!\n",
            "This block always executes, regardless of exceptions.\n"
          ]
        }
      ]
    },
    {
      "cell_type": "markdown",
      "source": [
        "26. How multiple except blocks work in Python?\n"
      ],
      "metadata": {
        "id": "nEC7u177wJuR"
      }
    },
    {
      "cell_type": "markdown",
      "source": [
        "Multiple except blocks allow for handling different types of exceptions separately. Python checks each except block sequentially, executing the first one that matches the raised exception type. This approach enables customized error handling for specific exception types, improving code robustness."
      ],
      "metadata": {
        "id": "6k5lzhc4wKv2"
      }
    },
    {
      "cell_type": "code",
      "source": [
        "try:\n",
        "    # number = int(\"abc\")\n",
        "    result = 10 / 0\n",
        "except ValueError:\n",
        "    print(\"ValueError: Unable to convert the string to an integer!\")\n",
        "except ZeroDivisionError:\n",
        "    print(\"ZeroDivisionError: Cannot divide by zero!\")\n"
      ],
      "metadata": {
        "colab": {
          "base_uri": "https://localhost:8080/"
        },
        "id": "DlUEwWOgwtwz",
        "outputId": "49d63012-cbf3-4f66-cc83-b4a27624f7a6"
      },
      "execution_count": null,
      "outputs": [
        {
          "output_type": "stream",
          "name": "stdout",
          "text": [
            "ZeroDivisionError: Cannot divide by zero!\n"
          ]
        }
      ]
    },
    {
      "cell_type": "markdown",
      "source": [
        "27. What is a custom exception in Python?\n"
      ],
      "metadata": {
        "id": "Bf3YqS1ww110"
      }
    },
    {
      "cell_type": "markdown",
      "source": [
        "\n",
        "A custom exception in Python is an exception that you define yourself by creating a new class that inherits from the built-in Exception class or one of its subclasses. Custom exceptions allow you to define and raise application-specific errors that can be caught and handled in your code."
      ],
      "metadata": {
        "id": "nfAiZ8r6w4M8"
      }
    },
    {
      "cell_type": "markdown",
      "source": [
        "28. Create a custom exception class with a message.\n"
      ],
      "metadata": {
        "id": "_JDBZ0nCxso9"
      }
    },
    {
      "cell_type": "code",
      "source": [
        "class CustomError(Exception):\n",
        "    def __init__(self, message):\n",
        "        self.message = message\n",
        "\n",
        "def example_function(value):\n",
        "    if value < 0:\n",
        "        raise CustomError(\"Value must be non-negative.\")\n",
        "\n",
        "try:\n",
        "    example_function(-1)\n",
        "except CustomError as e:\n",
        "    print(\"Custom error:\", e.message)\n"
      ],
      "metadata": {
        "colab": {
          "base_uri": "https://localhost:8080/"
        },
        "id": "-Ku1u3mexB8A",
        "outputId": "58d0a142-503b-4cb5-96a7-c7912c4cbb51"
      },
      "execution_count": null,
      "outputs": [
        {
          "output_type": "stream",
          "name": "stdout",
          "text": [
            "Custom error: Value must be non-negative.\n"
          ]
        }
      ]
    },
    {
      "cell_type": "markdown",
      "source": [
        "29. Write a code to raise a custom exception in Python.\n"
      ],
      "metadata": {
        "id": "mFAzV61axEmQ"
      }
    },
    {
      "cell_type": "code",
      "source": [
        "class CustomError(Exception):\n",
        "    def __init__(self, message):\n",
        "        self.message = message\n",
        "\n",
        "def example_function(value):\n",
        "    if value < 0:\n",
        "        raise CustomError(\"Value must be non-negative.\")\n",
        "\n",
        "try:\n",
        "    example_function(-1)\n",
        "except CustomError as e:\n",
        "    print(\"Custom error:\", e.message)\n"
      ],
      "metadata": {
        "id": "cQuIijh3xDsR"
      },
      "execution_count": null,
      "outputs": []
    },
    {
      "cell_type": "markdown",
      "source": [
        "30. Write a function that raises a custom exception when a value is negative.\n"
      ],
      "metadata": {
        "id": "lu7cX9lyx49t"
      }
    },
    {
      "cell_type": "code",
      "source": [
        "class CustomError(Exception):\n",
        "    def __init__(self, message):\n",
        "        self.message = message\n",
        "\n",
        "def example_function(value):\n",
        "    if value < 0:\n",
        "        raise CustomError(\"Value must be non-negative.\")\n",
        "\n",
        "try:\n",
        "    example_function(-1)\n",
        "except CustomError as e:\n",
        "    print(\"Custom error:\", e.message)\n"
      ],
      "metadata": {
        "id": "5uQGmxLVyCY_"
      },
      "execution_count": null,
      "outputs": []
    },
    {
      "cell_type": "markdown",
      "source": [
        "31. What is the role of try, except, else, and finally in handling exceptions.\n"
      ],
      "metadata": {
        "id": "hvCmXn0_yFSa"
      }
    },
    {
      "cell_type": "markdown",
      "source": [
        "1. try: The try block is used to enclose the code that may potentially raise an exception. It allows you to specify the block of code where you anticipate exceptions to occur.\n",
        "\n",
        "2. except: The except block is used to handle specific exceptions that may occur within the try block. You can have multiple except blocks to handle different types of exceptions separately. If an exception occurs in the try block, Python checks the except blocks sequentially and executes the first one that matches the raised exception type.\n",
        "\n",
        "3. else: The else block is optional and follows the try and except blocks. It is executed if no exceptions occur in the try block. The else block allows you to specify code that should run only if the try block completes successfully, without raising any exceptions.\n",
        "\n",
        "4. finally: The finally block is optional and follows the try and except blocks (if present). It is executed regardless of whether an exception occurs in the try block or not. The finally block is typically used to specify cleanup or finalization code that should be executed regardless of exceptions. It ensures that certain operations, such as releasing resources or closing files, are performed before exiting the try block."
      ],
      "metadata": {
        "id": "ijTFFgjayHw-"
      }
    },
    {
      "cell_type": "markdown",
      "source": [
        "32. How can custom exceptions improve code readability and maintainability?\n"
      ],
      "metadata": {
        "id": "ir_gl0c6yzu-"
      }
    },
    {
      "cell_type": "markdown",
      "source": [
        "Custom exceptions improve code readability and maintainability by providing descriptive names for specific error conditions, communicating intent clearly, enabling centralized and granular error handling, promoting modularity and reusability, and facilitating documentation. They make code more understandable, predictable, and maintainable by encapsulating error-handling logic in well-defined exception classes."
      ],
      "metadata": {
        "id": "mRJtfxbTy2Su"
      }
    },
    {
      "cell_type": "markdown",
      "source": [
        "33. What is multithreading?\n"
      ],
      "metadata": {
        "id": "YCbWhYCwzA8D"
      }
    },
    {
      "cell_type": "markdown",
      "source": [
        "Multithreading is a programming technique where multiple threads of execution run concurrently within a single process, enabling tasks to be performed simultaneously. It enhances efficiency and responsiveness in applications by leveraging available CPU cores. However, it introduces challenges such as synchronization and coordination between threads."
      ],
      "metadata": {
        "id": "BkhK2gNTzWpt"
      }
    },
    {
      "cell_type": "markdown",
      "source": [
        "34. Create a thread in Python.\n"
      ],
      "metadata": {
        "id": "_ynh_MFPNFl9"
      }
    },
    {
      "cell_type": "code",
      "source": [
        "import threading\n",
        "import time\n",
        "\n",
        "def greet():\n",
        "  print(\"hello\")\n",
        "  time.sleep(2)\n",
        "  print(\"bye\")\n",
        "\n",
        "thread1 = threading.Thread(target = greet)\n",
        "thread2 = threading.Thread(target = greet)\n",
        "thread1.start()\n",
        "thread2.start()\n",
        "thread1.join()\n",
        "thread2.join()"
      ],
      "metadata": {
        "colab": {
          "base_uri": "https://localhost:8080/"
        },
        "id": "CeyuL4MLNLaA",
        "outputId": "90933793-7eaa-45db-f4d6-82b8f68743f5"
      },
      "execution_count": 5,
      "outputs": [
        {
          "output_type": "stream",
          "name": "stdout",
          "text": [
            "hello\n",
            "hello\n",
            "bye\n",
            "bye\n"
          ]
        }
      ]
    },
    {
      "cell_type": "markdown",
      "source": [
        "35. What is the Global Interpreter Lock (GIL) in Python?\n"
      ],
      "metadata": {
        "id": "83ypBqh9N9_s"
      }
    },
    {
      "cell_type": "markdown",
      "source": [
        "The Global Interpreter Lock (GIL) in Python is a mutex (or a lock) that allows only one thread to hold control of the Python interpreter at any point in time. In other words, only one thread can be in a state of execution within the interpreter."
      ],
      "metadata": {
        "id": "FUA79TJ2OAWb"
      }
    },
    {
      "cell_type": "markdown",
      "source": [
        "36. Implement a simple multithreading example in Python.\n"
      ],
      "metadata": {
        "id": "tAKLlpo6PlWB"
      }
    },
    {
      "cell_type": "code",
      "source": [
        "import threading\n",
        "import time\n",
        "\n",
        "def print_numbers():\n",
        "    for i in range(5):\n",
        "        print(\"Thread 1:\", i)\n",
        "        time.sleep(1)\n",
        "\n",
        "def print_letters():\n",
        "    for letter in ['a', 'b', 'c', 'd', 'e']:\n",
        "        print(\"Thread 2:\", letter)\n",
        "        time.sleep(1)\n",
        "\n",
        "thread1 = threading.Thread(target=print_numbers)\n",
        "thread2 = threading.Thread(target=print_letters)\n",
        "\n",
        "thread1.start()\n",
        "thread2.start()\n",
        "\n",
        "thread1.join()\n",
        "thread2.join()"
      ],
      "metadata": {
        "colab": {
          "base_uri": "https://localhost:8080/"
        },
        "id": "Dywfi_xVPoB4",
        "outputId": "dde5f273-7d24-49d3-8a0d-225781017189"
      },
      "execution_count": 7,
      "outputs": [
        {
          "output_type": "stream",
          "name": "stdout",
          "text": [
            "Thread 1: 0\n",
            "Thread 2: a\n",
            "Thread 1: 1\n",
            "Thread 2: b\n",
            "Thread 1: 2\n",
            "Thread 2: c\n",
            "Thread 1: 3\n",
            "Thread 2: d\n",
            "Thread 1: 4\n",
            "Thread 2: e\n"
          ]
        }
      ]
    },
    {
      "cell_type": "markdown",
      "source": [
        "37. What is the purpose of the \"join()` method in threading?\n"
      ],
      "metadata": {
        "id": "8LXm7gM8P4n-"
      }
    },
    {
      "cell_type": "markdown",
      "source": [
        "In short, the `join()` method in threading is used to wait for a thread to finish its execution before proceeding with the execution of the calling thread. It blocks the calling thread until the specified thread has completed its task."
      ],
      "metadata": {
        "id": "sHsC0m_4QM3b"
      }
    },
    {
      "cell_type": "markdown",
      "source": [
        "38. Describe a scenario where multithreading would be beneficial in Python.\n"
      ],
      "metadata": {
        "id": "LnhrKG8QQOGu"
      }
    },
    {
      "cell_type": "markdown",
      "source": [
        "Multithreading can be beneficial in a real-time monitoring application, where multiple threads are used to collect data from different sources, process incoming data streams, and generate alerts or reports concurrently. This approach enables the application to efficiently handle high volumes of data, maintain responsiveness, and provide real-time insights to users."
      ],
      "metadata": {
        "id": "S7V4jtufQP1w"
      }
    },
    {
      "cell_type": "markdown",
      "source": [
        "39. What is multiprocessing in Python?\n"
      ],
      "metadata": {
        "id": "BqXT2-46Q16A"
      }
    },
    {
      "cell_type": "markdown",
      "source": [
        "\n",
        "Multiprocessing in Python refers to a programming technique that allows multiple processes to run concurrently and independently of each other within a Python program. Unlike multithreading, where multiple threads share the same memory space within a single process, multiprocessing involves the creation of separate processes, each with its own memory space."
      ],
      "metadata": {
        "id": "S9_SJke4Q4CF"
      }
    },
    {
      "cell_type": "markdown",
      "source": [
        "40. How is multiprocessing different from multithreading in Python?\n"
      ],
      "metadata": {
        "id": "Fr169NuKXJKC"
      }
    },
    {
      "cell_type": "markdown",
      "source": [
        "Multiprocessing involves running multiple processes concurrently, with each process having its own memory space, enabling true parallelism and strong isolation between processes. On the other hand, multithreading involves running multiple threads within a single process, sharing the same memory space, and typically used for I/O-bound tasks or asynchronous programming. Multiprocessing is suitable for CPU-bound tasks and takes advantage of multi-core systems, while multithreading may be limited by the Global Interpreter Lock (GIL) in Python."
      ],
      "metadata": {
        "id": "oXA5n6QEXMEC"
      }
    },
    {
      "cell_type": "markdown",
      "source": [
        "41. Create a process using the multiprocessing module in Python.\n"
      ],
      "metadata": {
        "id": "aL4B7n8xadG5"
      }
    },
    {
      "cell_type": "code",
      "source": [
        "import multiprocessing\n",
        "import os\n",
        "\n",
        "def worker():\n",
        "    \"\"\"Function to be executed by the process.\"\"\"\n",
        "    print(f\"Worker process ID: {os.getpid()}\")\n",
        "\n",
        "process = multiprocessing.Process(target=worker)\n",
        "\n",
        "process.start()\n",
        "\n",
        "process.join()\n",
        "print(f\"Main process ID: {os.getpid()}\")\n",
        "print(\"Main process exiting\")\n"
      ],
      "metadata": {
        "colab": {
          "base_uri": "https://localhost:8080/"
        },
        "id": "46Xm0tFAavg3",
        "outputId": "8ba50131-de1c-4594-806e-99329e1fd917"
      },
      "execution_count": 21,
      "outputs": [
        {
          "output_type": "stream",
          "name": "stdout",
          "text": [
            "Worker process ID: 14540\n",
            "Main process ID: 188\n",
            "Main process exiting\n"
          ]
        }
      ]
    },
    {
      "cell_type": "markdown",
      "source": [
        "42. Explain the concept of Pool in the multiprocessing module.\n"
      ],
      "metadata": {
        "id": "YGv4xRR8bO2s"
      }
    },
    {
      "cell_type": "markdown",
      "source": [
        "the Pool in the multiprocessing module manages a group of worker processes that execute tasks concurrently. It provides a convenient interface for distributing tasks, managing their execution across multiple CPU cores, and collecting results asynchronously. The Pool abstracts the complexity of multiprocessing, making it easier to parallelize tasks and utilize system resources efficiently."
      ],
      "metadata": {
        "id": "9wqkuHdYbSKl"
      }
    },
    {
      "cell_type": "markdown",
      "source": [
        "43. Explain inter-process communication in multiprocessing.\n"
      ],
      "metadata": {
        "id": "aWD8iUpEbtZH"
      }
    },
    {
      "cell_type": "markdown",
      "source": [
        "Inter-process communication (IPC) in multiprocessing involves mechanisms for processes to share data, coordinate activities, and synchronize their execution. This includes techniques such as shared memory, pipes, queues, and synchronization primitives like semaphores, locks, events, and conditions. These mechanisms enable processes to communicate efficiently and collaborate in multiprocessing applications."
      ],
      "metadata": {
        "id": "YOqFOKirbti8"
      }
    }
  ]
}