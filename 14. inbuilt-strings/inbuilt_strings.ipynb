{
  "nbformat": 4,
  "nbformat_minor": 0,
  "metadata": {
    "colab": {
      "provenance": []
    },
    "kernelspec": {
      "name": "python3",
      "display_name": "Python 3"
    },
    "language_info": {
      "name": "python"
    }
  },
  "cells": [
    {
      "cell_type": "markdown",
      "source": [
        "1. What is the purpose of the len() function in Python, and how can it be used with strings?"
      ],
      "metadata": {
        "id": "EDV_JTjPtwv5"
      }
    },
    {
      "cell_type": "markdown",
      "source": [
        "\n",
        "The len() function in Python is used to determine the length of a sequence or collection, such as strings, lists, tuples, or dictionaries. It returns the number of elements or characters present in the specified sequence.\n",
        "\n"
      ],
      "metadata": {
        "id": "zrvdt_iutqOe"
      }
    },
    {
      "cell_type": "code",
      "source": [
        "my_string = \"Hello world!\"\n",
        "length = len(my_string)\n",
        "print(length)\n"
      ],
      "metadata": {
        "colab": {
          "base_uri": "https://localhost:8080/"
        },
        "id": "eZMPESDbtrg5",
        "outputId": "334e9968-a14a-4cc6-aa5a-ee2282cabadd"
      },
      "execution_count": 1,
      "outputs": [
        {
          "output_type": "stream",
          "name": "stdout",
          "text": [
            "13\n"
          ]
        }
      ]
    },
    {
      "cell_type": "markdown",
      "source": [
        "\n",
        "2. How can you concatenate two or more strings in Python, and can you provide an example of string concatenation?"
      ],
      "metadata": {
        "id": "5cN4HefmuE5c"
      }
    },
    {
      "cell_type": "markdown",
      "source": [
        " you can concatenate two or more strings using the + operator or by using the str.join() method.\n",
        "\n"
      ],
      "metadata": {
        "id": "Nm3rN3Kiudfk"
      }
    },
    {
      "cell_type": "code",
      "source": [
        "strings = [\"Hello\", \"world!\"]\n",
        "concatenated_string = \" \".join(strings)\n",
        "print(concatenated_string)\n"
      ],
      "metadata": {
        "colab": {
          "base_uri": "https://localhost:8080/"
        },
        "id": "T8vNZtTougK5",
        "outputId": "0621f7b7-58de-456a-ebe0-b1f0954a879f"
      },
      "execution_count": 3,
      "outputs": [
        {
          "output_type": "stream",
          "name": "stdout",
          "text": [
            "Hello world!\n"
          ]
        }
      ]
    },
    {
      "cell_type": "code",
      "source": [
        "string1 = \"Hello\"\n",
        "string2 = \" world!\"\n",
        "concatenated_string = string1 + string2\n",
        "print(concatenated_string)\n"
      ],
      "metadata": {
        "colab": {
          "base_uri": "https://localhost:8080/"
        },
        "id": "ADNOdQYdummJ",
        "outputId": "0fb8e1b1-6ff8-4495-da4d-d94507fd0ff4"
      },
      "execution_count": 6,
      "outputs": [
        {
          "output_type": "stream",
          "name": "stdout",
          "text": [
            "Hello world!\n"
          ]
        }
      ]
    },
    {
      "cell_type": "markdown",
      "source": [
        "3. What is string slicing in Python, and how can you extract a portion of a string using this method?"
      ],
      "metadata": {
        "id": "vGCskpOpvHtY"
      }
    },
    {
      "cell_type": "markdown",
      "source": [
        "String slicing in Python refers to the technique of extracting a portion (substring) of a string by specifying a range of indices. It allows you to create a new string that contains a subset of characters from the original string.\n",
        "\n"
      ],
      "metadata": {
        "id": "d03R4TXHvKBP"
      }
    },
    {
      "cell_type": "code",
      "source": [
        "my_string = \"Hello, world!\"\n",
        "\n",
        "substring = my_string[0:5]\n",
        "print(substring)\n",
        "\n",
        "substring = my_string[7:12]\n",
        "print(substring)\n",
        "\n",
        "substring = my_string[::2]\n",
        "print(substring)\n"
      ],
      "metadata": {
        "colab": {
          "base_uri": "https://localhost:8080/"
        },
        "id": "HhEOtWPeu5jh",
        "outputId": "b42f0230-44ba-4ce6-841d-c547d2f700d8"
      },
      "execution_count": 7,
      "outputs": [
        {
          "output_type": "stream",
          "name": "stdout",
          "text": [
            "Hello\n",
            "world\n",
            "Hlo ol!\n"
          ]
        }
      ]
    },
    {
      "cell_type": "markdown",
      "source": [
        "4. How can you change the case of a string in Python, and can you provide examples of both making a string all uppercase and all lowercase?"
      ],
      "metadata": {
        "id": "RXgWsCZcyPCz"
      }
    },
    {
      "cell_type": "markdown",
      "source": [
        "you can change the case of a string using the upper() method to convert the string to uppercase and the lower() method to convert the string to lowercase."
      ],
      "metadata": {
        "id": "RNbe9pJGydC4"
      }
    },
    {
      "cell_type": "code",
      "source": [
        "print(\"helllo\".upper())\n",
        "print(\"HELLLO\".lower())"
      ],
      "metadata": {
        "colab": {
          "base_uri": "https://localhost:8080/"
        },
        "id": "QRDthQy3vlCj",
        "outputId": "dbc21ae0-c28b-4b25-a313-6a0eac3a059b"
      },
      "execution_count": 11,
      "outputs": [
        {
          "output_type": "stream",
          "name": "stdout",
          "text": [
            "HELLLO\n",
            "helllo\n"
          ]
        }
      ]
    },
    {
      "cell_type": "markdown",
      "source": [
        "5. What does the split() method do in Python, and how can you split a string using a specific delimiter?"
      ],
      "metadata": {
        "id": "lTE8hU1wy_2Y"
      }
    },
    {
      "cell_type": "markdown",
      "source": [
        "The split() method in Python splits a string into a list of substrings based on a specified delimiter. By default, the delimiter is whitespace, but you can specify a custom delimiter. For example, my_string.split(\",\") splits the string at each comma and returns a list of substrings."
      ],
      "metadata": {
        "id": "XH-XOfRgzBJ3"
      }
    },
    {
      "cell_type": "code",
      "source": [
        "my_string = \"apple,banana,orange,grape\"\n",
        "fruits_list = my_string.split(\",\")\n",
        "print(fruits_list)\n"
      ],
      "metadata": {
        "colab": {
          "base_uri": "https://localhost:8080/"
        },
        "id": "Ovs_E1yuymwx",
        "outputId": "7ae111e6-f4de-4d6f-814f-1a71fa5fbbd5"
      },
      "execution_count": 17,
      "outputs": [
        {
          "output_type": "stream",
          "name": "stdout",
          "text": [
            "['apple', 'banana', 'orange', 'grape']\n"
          ]
        }
      ]
    },
    {
      "cell_type": "code",
      "source": [],
      "metadata": {
        "id": "D0KrJ6mmzMp6"
      },
      "execution_count": null,
      "outputs": []
    }
  ]
}