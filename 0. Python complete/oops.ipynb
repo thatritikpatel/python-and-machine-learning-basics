{
 "cells": [
  {
   "cell_type": "code",
   "execution_count": null,
   "metadata": {},
   "outputs": [],
   "source": []
  },
  {
   "cell_type": "markdown",
   "metadata": {},
   "source": [
    "# class and object"
   ]
  },
  {
   "cell_type": "code",
   "execution_count": 13,
   "metadata": {},
   "outputs": [],
   "source": [
    "class person:\n",
    "\n",
    "    def __init__(self,name , age) :\n",
    "        self.name = name\n",
    "        self.age =age \n",
    "        print(f\"to chekc values are initilised or not {self.name} and {self.age}\")\n",
    "        \n",
    "\n",
    "\n",
    "    def get_name(self):\n",
    "        return self.name \n",
    "    \n",
    "    def get_age(self):\n",
    "        return self.age\n"
   ]
  },
  {
   "cell_type": "markdown",
   "metadata": {},
   "source": []
  },
  {
   "cell_type": "code",
   "execution_count": 14,
   "metadata": {},
   "outputs": [
    {
     "name": "stdout",
     "output_type": "stream",
     "text": [
      "to chekc values are initilised or not atul and 23\n"
     ]
    }
   ],
   "source": [
    "obj1= person(\"atul\",23)\n"
   ]
  },
  {
   "cell_type": "code",
   "execution_count": 15,
   "metadata": {},
   "outputs": [],
   "source": [
    "class netflix:\n",
    "\n",
    "    def __init__(self,mail, password):\n",
    "        self.mail = mail\n",
    "        self.password = password\n",
    "        self.service = \"freee\"\n",
    "        self.amount = 0 \n",
    "\n",
    "        \n",
    "\n",
    "\n",
    "    def get_password(self):\n",
    "        return self.password\n",
    "    \n"
   ]
  },
  {
   "cell_type": "code",
   "execution_count": 16,
   "metadata": {},
   "outputs": [
    {
     "data": {
      "text/plain": [
       "1123"
      ]
     },
     "execution_count": 16,
     "metadata": {},
     "output_type": "execute_result"
    }
   ],
   "source": [
    "myacccout =netflix(\"prince@gmail.com\", 1123 )\n",
    "\n",
    "myacccout.get_password()"
   ]
  },
  {
   "cell_type": "code",
   "execution_count": 17,
   "metadata": {},
   "outputs": [
    {
     "ename": "NameError",
     "evalue": "name 'get_password' is not defined",
     "output_type": "error",
     "traceback": [
      "\u001b[0;31m---------------------------------------------------------------------------\u001b[0m",
      "\u001b[0;31mNameError\u001b[0m                                 Traceback (most recent call last)",
      "Cell \u001b[0;32mIn[17], line 1\u001b[0m\n\u001b[0;32m----> 1\u001b[0m \u001b[43mget_password\u001b[49m()\n",
      "\u001b[0;31mNameError\u001b[0m: name 'get_password' is not defined"
     ]
    }
   ],
   "source": [
    "get_password()"
   ]
  },
  {
   "cell_type": "code",
   "execution_count": null,
   "metadata": {},
   "outputs": [],
   "source": []
  },
  {
   "cell_type": "code",
   "execution_count": 14,
   "metadata": {},
   "outputs": [],
   "source": [
    "class netflix:\n",
    "\n",
    "    new_show = \"part4\"\n",
    "\n",
    "    def __init__(self,mail, password):\n",
    "        self.mail = mail\n",
    "        self.password = password\n",
    "        self.service = \"freee\"\n",
    "        self.amount = 0 \n",
    "\n",
    "        \n",
    "\n",
    "\n",
    "    def get_password(self):\n",
    "        return self.password\n",
    "    \n",
    "    "
   ]
  },
  {
   "cell_type": "code",
   "execution_count": 17,
   "metadata": {},
   "outputs": [
    {
     "data": {
      "text/plain": [
       "'part4'"
      ]
     },
     "execution_count": 17,
     "metadata": {},
     "output_type": "execute_result"
    }
   ],
   "source": [
    "myacccout =netflix(\"prince@gmail.com\", 1123 )\n",
    "\n",
    "myacccout.new_show\n",
    "\n"
   ]
  },
  {
   "cell_type": "code",
   "execution_count": 19,
   "metadata": {},
   "outputs": [
    {
     "data": {
      "text/plain": [
       "'part4'"
      ]
     },
     "execution_count": 19,
     "metadata": {},
     "output_type": "execute_result"
    }
   ],
   "source": [
    "netflix.new_show"
   ]
  },
  {
   "cell_type": "code",
   "execution_count": 20,
   "metadata": {},
   "outputs": [],
   "source": [
    "myacccout.password = 1111"
   ]
  },
  {
   "cell_type": "code",
   "execution_count": 21,
   "metadata": {},
   "outputs": [
    {
     "data": {
      "text/plain": [
       "1111"
      ]
     },
     "execution_count": 21,
     "metadata": {},
     "output_type": "execute_result"
    }
   ],
   "source": [
    "myacccout.password"
   ]
  },
  {
   "cell_type": "code",
   "execution_count": 22,
   "metadata": {},
   "outputs": [],
   "source": [
    "myacccout.new_show = \"part5\""
   ]
  },
  {
   "cell_type": "code",
   "execution_count": 23,
   "metadata": {},
   "outputs": [
    {
     "data": {
      "text/plain": [
       "'part5'"
      ]
     },
     "execution_count": 23,
     "metadata": {},
     "output_type": "execute_result"
    }
   ],
   "source": [
    "myacccout.new_show"
   ]
  },
  {
   "cell_type": "code",
   "execution_count": 26,
   "metadata": {},
   "outputs": [
    {
     "data": {
      "text/plain": [
       "'part6'"
      ]
     },
     "execution_count": 26,
     "metadata": {},
     "output_type": "execute_result"
    }
   ],
   "source": [
    "netflix.new_show = \"part6\"\n",
    "netflix.new_show"
   ]
  },
  {
   "cell_type": "code",
   "execution_count": 95,
   "metadata": {},
   "outputs": [],
   "source": [
    "class netflix:\n",
    "\n",
    "    new_show = 22\n",
    "\n",
    "    def __init__(self,mail, password,amount ):\n",
    "        self.mail = mail\n",
    "        self.password = password\n",
    "        self.service = \"freee\"\n",
    "        self.amount =  amount \n",
    "\n",
    "        \n",
    "\n",
    "\n",
    "    def get_password(self):\n",
    "        return self.password\n",
    "    \n",
    "\n",
    "    def get_mail(self):\n",
    "        self.new_show+=1 \n",
    "        return self.new_show\n",
    "    \n",
    "    def get_amount(self):\n",
    "        self.amount += 1\n",
    "        return self.amount"
   ]
  },
  {
   "cell_type": "code",
   "execution_count": 96,
   "metadata": {},
   "outputs": [
    {
     "data": {
      "text/plain": [
       "23"
      ]
     },
     "execution_count": 96,
     "metadata": {},
     "output_type": "execute_result"
    }
   ],
   "source": [
    "myacccout =netflix(\"prince@gmail.com\", 1123 ,100 )\n",
    "\n",
    "myacccout.get_mail()"
   ]
  },
  {
   "cell_type": "code",
   "execution_count": 97,
   "metadata": {},
   "outputs": [
    {
     "data": {
      "text/plain": [
       "101"
      ]
     },
     "execution_count": 97,
     "metadata": {},
     "output_type": "execute_result"
    }
   ],
   "source": [
    "myacccout.get_amount()"
   ]
  },
  {
   "cell_type": "code",
   "execution_count": 2,
   "metadata": {},
   "outputs": [],
   "source": [
    "class netflix:\n",
    "\n",
    "    new_show = \"part4\"\n",
    "\n",
    "    def __init__(self,mail, password):\n",
    "        self.mail = mail\n",
    "        self.password = password\n",
    "        self.service = \"freee\"\n",
    "        self.amount = 0 \n",
    "\n",
    "        \n",
    "\n",
    "\n",
    "    def get_password(self):\n",
    "        return self.password\n",
    "    \n",
    "\n",
    "    @classmethod\n",
    "    def get_new_show(cls):\n",
    "        return cls.new_show\n",
    "    \n",
    "    @classmethod\n",
    "    def set_new_show (cls,show_name):\n",
    "        cls.new_show = show_name\n",
    "    \n"
   ]
  },
  {
   "cell_type": "code",
   "execution_count": 107,
   "metadata": {},
   "outputs": [
    {
     "data": {
      "text/plain": [
       "'part4'"
      ]
     },
     "execution_count": 107,
     "metadata": {},
     "output_type": "execute_result"
    }
   ],
   "source": [
    "netflix.get_new_show()"
   ]
  },
  {
   "cell_type": "code",
   "execution_count": 6,
   "metadata": {},
   "outputs": [
    {
     "data": {
      "text/plain": [
       "'part6'"
      ]
     },
     "execution_count": 6,
     "metadata": {},
     "output_type": "execute_result"
    }
   ],
   "source": [
    "myuser=netflix(\"pirn\",23)\n",
    "myuser.get_new_show()"
   ]
  },
  {
   "cell_type": "markdown",
   "metadata": {},
   "source": []
  },
  {
   "cell_type": "code",
   "execution_count": 11,
   "metadata": {},
   "outputs": [
    {
     "name": "stdout",
     "output_type": "stream",
     "text": [
      "part6\n"
     ]
    }
   ],
   "source": [
    "netflix.set_new_show(\"part6\")\n",
    "print(netflix.get_new_show())"
   ]
  },
  {
   "cell_type": "code",
   "execution_count": 13,
   "metadata": {},
   "outputs": [
    {
     "data": {
      "text/plain": [
       "45"
      ]
     },
     "execution_count": 13,
     "metadata": {},
     "output_type": "execute_result"
    }
   ],
   "source": [
    "myuser=netflix(\"pirn\",23)\n",
    "myuser.set_new_show(45)\n",
    "myuser.get_new_show()"
   ]
  },
  {
   "cell_type": "code",
   "execution_count": null,
   "metadata": {},
   "outputs": [],
   "source": []
  },
  {
   "cell_type": "code",
   "execution_count": 2,
   "metadata": {},
   "outputs": [
    {
     "data": {
      "text/plain": [
       "7"
      ]
     },
     "execution_count": 2,
     "metadata": {},
     "output_type": "execute_result"
    }
   ],
   "source": [
    "class mymath:\n",
    "\n",
    "    @staticmethod\n",
    "    def add(x,y):\n",
    "        return x+y \n",
    "    \n",
    "mymath.add(3,4)\n",
    "    \n"
   ]
  },
  {
   "cell_type": "code",
   "execution_count": 3,
   "metadata": {},
   "outputs": [],
   "source": [
    "class netflix:\n",
    "\n",
    "    new_show = \"part4\"\n",
    "\n",
    "    def __init__(self,mail, password):\n",
    "        self.mail = mail\n",
    "        self.password = password\n",
    "        self.service = \"freee\"\n",
    "        self.amount = 0 \n",
    "\n",
    "        \n",
    "\n",
    "\n",
    "    def get_password(self):\n",
    "        return self.password\n",
    "    \n",
    "\n",
    "    @staticmethod\n",
    "    def get_new_show():\n",
    "        return netflix.new_show\n",
    "    \n",
    "\n",
    "    \n",
    "    "
   ]
  },
  {
   "cell_type": "code",
   "execution_count": 4,
   "metadata": {},
   "outputs": [
    {
     "data": {
      "text/plain": [
       "'part4'"
      ]
     },
     "execution_count": 4,
     "metadata": {},
     "output_type": "execute_result"
    }
   ],
   "source": [
    "netflix.get_new_show()"
   ]
  },
  {
   "cell_type": "code",
   "execution_count": 23,
   "metadata": {},
   "outputs": [],
   "source": [
    "class car :\n",
    "\n",
    "    def __init__(self,make ,model):\n",
    "        self.__make = make \n",
    "        self.__model = model\n",
    "\n",
    "    \n",
    "    def __display_info(self): \n",
    "        return \"this is my car details\"\n",
    "\n",
    "\n",
    "c = car(2020 , \"model2\")\n",
    "        "
   ]
  },
  {
   "cell_type": "code",
   "execution_count": 16,
   "metadata": {},
   "outputs": [
    {
     "data": {
      "text/plain": [
       "'this is my car details'"
      ]
     },
     "execution_count": 16,
     "metadata": {},
     "output_type": "execute_result"
    }
   ],
   "source": [
    "c.make\n",
    "c.display_info()\n"
   ]
  },
  {
   "cell_type": "code",
   "execution_count": 26,
   "metadata": {},
   "outputs": [
    {
     "data": {
      "text/plain": [
       "2020"
      ]
     },
     "execution_count": 26,
     "metadata": {},
     "output_type": "execute_result"
    }
   ],
   "source": [
    "c._car__make\n"
   ]
  },
  {
   "cell_type": "code",
   "execution_count": 27,
   "metadata": {},
   "outputs": [
    {
     "data": {
      "text/plain": [
       "'this is my car details'"
      ]
     },
     "execution_count": 27,
     "metadata": {},
     "output_type": "execute_result"
    }
   ],
   "source": [
    "c._car__display_info()"
   ]
  },
  {
   "cell_type": "code",
   "execution_count": null,
   "metadata": {},
   "outputs": [],
   "source": [
    "obj._classname__variabel/method"
   ]
  },
  {
   "cell_type": "code",
   "execution_count": 42,
   "metadata": {},
   "outputs": [],
   "source": [
    "class car :\n",
    "\n",
    "    def __init__(self,make ,model):\n",
    "        self.__make = make \n",
    "        self.__model = model\n",
    "\n",
    "\n",
    "    def get_make(self):  # getter method for make varabiel \n",
    "        return self.__make\n",
    "\n",
    "\n",
    "    def get_model(self):   # getter method for model \n",
    "        return self.__model\n",
    "\n",
    "\n",
    "    def set_make(self,make):\n",
    "        self.__make= make \n",
    "\n",
    "\n",
    "    def set_model(self,model):\n",
    "        self.__model = model\n",
    "\n",
    "    \n",
    "    def __display_info(self): \n",
    "        return \"this is my car details\"\n",
    "\n",
    "\n",
    "c = car(2020 , \"model2\")\n",
    "        "
   ]
  },
  {
   "cell_type": "code",
   "execution_count": 44,
   "metadata": {},
   "outputs": [
    {
     "data": {
      "text/plain": [
       "'model 3'"
      ]
     },
     "execution_count": 44,
     "metadata": {},
     "output_type": "execute_result"
    }
   ],
   "source": [
    "c.set_model(\"model 3\")\n",
    "c.get_model()"
   ]
  },
  {
   "cell_type": "code",
   "execution_count": null,
   "metadata": {},
   "outputs": [],
   "source": []
  },
  {
   "cell_type": "code",
   "execution_count": null,
   "metadata": {},
   "outputs": [],
   "source": []
  },
  {
   "cell_type": "code",
   "execution_count": 40,
   "metadata": {},
   "outputs": [],
   "source": [
    "c.set_make(\"2021\")"
   ]
  },
  {
   "cell_type": "code",
   "execution_count": 41,
   "metadata": {},
   "outputs": [
    {
     "data": {
      "text/plain": [
       "'2021'"
      ]
     },
     "execution_count": 41,
     "metadata": {},
     "output_type": "execute_result"
    }
   ],
   "source": [
    "c.get_make()"
   ]
  },
  {
   "cell_type": "code",
   "execution_count": 34,
   "metadata": {},
   "outputs": [
    {
     "data": {
      "text/plain": [
       "2020"
      ]
     },
     "execution_count": 34,
     "metadata": {},
     "output_type": "execute_result"
    }
   ],
   "source": [
    "c.get_make()"
   ]
  },
  {
   "cell_type": "code",
   "execution_count": 36,
   "metadata": {},
   "outputs": [
    {
     "data": {
      "text/plain": [
       "'model2'"
      ]
     },
     "execution_count": 36,
     "metadata": {},
     "output_type": "execute_result"
    }
   ],
   "source": [
    "c.get_model()"
   ]
  },
  {
   "cell_type": "code",
   "execution_count": null,
   "metadata": {},
   "outputs": [],
   "source": []
  },
  {
   "cell_type": "code",
   "execution_count": null,
   "metadata": {},
   "outputs": [],
   "source": []
  },
  {
   "cell_type": "markdown",
   "metadata": {},
   "source": [
    "# property deco"
   ]
  },
  {
   "cell_type": "code",
   "execution_count": 56,
   "metadata": {},
   "outputs": [],
   "source": [
    "class car :\n",
    "\n",
    "    def __init__(self,make ,model):\n",
    "        self.__make = make \n",
    "        self.__model = model\n",
    "\n",
    "\n",
    "    @property\n",
    "    def make(self):\n",
    "        return self.__make \n",
    "    \n",
    "    @property\n",
    "    def model(self):\n",
    "        return self.__model\n",
    "    \n",
    "    @make.setter\n",
    "    def make(self,make):\n",
    "        self.__make = make \n",
    "\n",
    "    @model.setter\n",
    "    def model(self,model):\n",
    "        self.__model = model \n",
    "\n",
    "\n",
    "c = car(2020 , \"model2\")"
   ]
  },
  {
   "cell_type": "markdown",
   "metadata": {},
   "source": []
  },
  {
   "cell_type": "code",
   "execution_count": 48,
   "metadata": {},
   "outputs": [
    {
     "data": {
      "text/plain": [
       "2020"
      ]
     },
     "execution_count": 48,
     "metadata": {},
     "output_type": "execute_result"
    }
   ],
   "source": [
    "c.make"
   ]
  },
  {
   "cell_type": "code",
   "execution_count": 50,
   "metadata": {},
   "outputs": [
    {
     "data": {
      "text/plain": [
       "'model2'"
      ]
     },
     "execution_count": 50,
     "metadata": {},
     "output_type": "execute_result"
    }
   ],
   "source": [
    "c.model"
   ]
  },
  {
   "cell_type": "code",
   "execution_count": 59,
   "metadata": {},
   "outputs": [
    {
     "data": {
      "text/plain": [
       "'model11'"
      ]
     },
     "execution_count": 59,
     "metadata": {},
     "output_type": "execute_result"
    }
   ],
   "source": [
    "c.model = \"model11\"\n",
    "c.model"
   ]
  },
  {
   "cell_type": "code",
   "execution_count": null,
   "metadata": {},
   "outputs": [],
   "source": []
  },
  {
   "cell_type": "code",
   "execution_count": 53,
   "metadata": {},
   "outputs": [],
   "source": [
    "c.make = 2026"
   ]
  },
  {
   "cell_type": "code",
   "execution_count": 55,
   "metadata": {},
   "outputs": [
    {
     "data": {
      "text/plain": [
       "2026"
      ]
     },
     "execution_count": 55,
     "metadata": {},
     "output_type": "execute_result"
    }
   ],
   "source": [
    "c.make"
   ]
  },
  {
   "cell_type": "code",
   "execution_count": null,
   "metadata": {},
   "outputs": [],
   "source": []
  },
  {
   "cell_type": "markdown",
   "metadata": {},
   "source": [
    "# inheritance "
   ]
  },
  {
   "cell_type": "markdown",
   "metadata": {},
   "source": []
  },
  {
   "cell_type": "code",
   "execution_count": 64,
   "metadata": {},
   "outputs": [],
   "source": [
    "class Animal:\n",
    "    def __init__(self,name):\n",
    "        self.name = name\n",
    "\n",
    "    def speak(self):\n",
    "        return f\"{self.name} makes a sound\"\n",
    "\n",
    "\n",
    "\n",
    "\n",
    "class Dog(Animal):\n",
    "\n",
    "    def speak(self):\n",
    "        return f\"{self.name} barks\"\n"
   ]
  },
  {
   "cell_type": "code",
   "execution_count": 67,
   "metadata": {},
   "outputs": [
    {
     "data": {
      "text/plain": [
       "'buddy barks'"
      ]
     },
     "execution_count": 67,
     "metadata": {},
     "output_type": "execute_result"
    }
   ],
   "source": [
    "dog = Dog(\"buddy\")\n",
    "dog.speak()"
   ]
  },
  {
   "cell_type": "code",
   "execution_count": null,
   "metadata": {},
   "outputs": [],
   "source": []
  },
  {
   "cell_type": "markdown",
   "metadata": {},
   "source": [
    "# multiple inheritance "
   ]
  },
  {
   "cell_type": "code",
   "execution_count": 71,
   "metadata": {},
   "outputs": [],
   "source": [
    "class Animal:\n",
    "    def __init__(self,name):\n",
    "        self.name = name\n",
    "\n",
    "class dog:\n",
    "    def bark(self):\n",
    "        return f\"{self.name} barks\"\n",
    "class cat:\n",
    "    def __init__(self,color):\n",
    "        self.color = color \n",
    "\n",
    "    def meow(self):\n",
    "        return f\"{self.name} meows\"\n",
    "\n",
    "class catdog(Animal,dog,cat):\n",
    "    def  __init__(self, name, color):\n",
    "        Animal.__init__(self,name)\n",
    "        cat.__init__(self,color)\n",
    "\n",
    "\n",
    "    def speak(self):\n",
    "        return f\"{self.name} can both bark and meow\"\n",
    "\n",
    "cd = catdog(\"buddy\",\"black\")\n"
   ]
  },
  {
   "cell_type": "code",
   "execution_count": 72,
   "metadata": {},
   "outputs": [
    {
     "data": {
      "text/plain": [
       "'black'"
      ]
     },
     "execution_count": 72,
     "metadata": {},
     "output_type": "execute_result"
    }
   ],
   "source": [
    "cd.color"
   ]
  },
  {
   "cell_type": "code",
   "execution_count": 73,
   "metadata": {},
   "outputs": [
    {
     "data": {
      "text/plain": [
       "'buddy meows'"
      ]
     },
     "execution_count": 73,
     "metadata": {},
     "output_type": "execute_result"
    }
   ],
   "source": [
    "cd.meow()"
   ]
  },
  {
   "cell_type": "code",
   "execution_count": 74,
   "metadata": {},
   "outputs": [
    {
     "data": {
      "text/plain": [
       "'buddy barks'"
      ]
     },
     "execution_count": 74,
     "metadata": {},
     "output_type": "execute_result"
    }
   ],
   "source": [
    "cd.bark()"
   ]
  },
  {
   "cell_type": "code",
   "execution_count": 75,
   "metadata": {},
   "outputs": [
    {
     "data": {
      "text/plain": [
       "'buddy can both bark and meow'"
      ]
     },
     "execution_count": 75,
     "metadata": {},
     "output_type": "execute_result"
    }
   ],
   "source": [
    "cd.speak()"
   ]
  },
  {
   "cell_type": "code",
   "execution_count": null,
   "metadata": {},
   "outputs": [],
   "source": [
    "#"
   ]
  },
  {
   "cell_type": "markdown",
   "metadata": {},
   "source": [
    "# multilevel"
   ]
  },
  {
   "cell_type": "markdown",
   "metadata": {},
   "source": []
  },
  {
   "cell_type": "code",
   "execution_count": 79,
   "metadata": {},
   "outputs": [],
   "source": [
    "class Animal:\n",
    "    def __init__(self,name):\n",
    "        self.name = name\n",
    "\n",
    "    def speak(self):\n",
    "        return f\"{self.name} makes a sound\"\n",
    "\n",
    "class dog (Animal):\n",
    "    def speak(self):\n",
    "        return f\"{self.name} barks\"\n",
    "class cat(dog):\n",
    "    def speak(self):\n",
    "        return f\"{self.name} meow \"\n",
    "    \n",
    "class puppy(cat):\n",
    "    def speak(self):\n",
    "        return f\"{self.name} is bark softly\"\n",
    "    \n",
    "pu = puppy(\"buddy\")"
   ]
  },
  {
   "cell_type": "code",
   "execution_count": 80,
   "metadata": {},
   "outputs": [
    {
     "data": {
      "text/plain": [
       "'buddy is bark softly'"
      ]
     },
     "execution_count": 80,
     "metadata": {},
     "output_type": "execute_result"
    }
   ],
   "source": [
    "pu.speak()"
   ]
  },
  {
   "cell_type": "code",
   "execution_count": 82,
   "metadata": {},
   "outputs": [
    {
     "data": {
      "text/plain": [
       "'muddy meow '"
      ]
     },
     "execution_count": 82,
     "metadata": {},
     "output_type": "execute_result"
    }
   ],
   "source": [
    "c = cat(\"muddy\")\n",
    "c.speak()"
   ]
  },
  {
   "cell_type": "code",
   "execution_count": 84,
   "metadata": {},
   "outputs": [
    {
     "data": {
      "text/plain": [
       "'chuudy barks'"
      ]
     },
     "execution_count": 84,
     "metadata": {},
     "output_type": "execute_result"
    }
   ],
   "source": [
    "d = dog(\"chuudy\")\n",
    "d.speak()"
   ]
  },
  {
   "cell_type": "code",
   "execution_count": null,
   "metadata": {},
   "outputs": [],
   "source": []
  },
  {
   "cell_type": "markdown",
   "metadata": {},
   "source": [
    "# heirarchical inheritance"
   ]
  },
  {
   "cell_type": "markdown",
   "metadata": {},
   "source": []
  },
  {
   "cell_type": "code",
   "execution_count": 87,
   "metadata": {},
   "outputs": [],
   "source": [
    "class Animal:\n",
    "\n",
    "    def __init__(self,name):\n",
    "        self.name = name \n",
    "\n",
    "\n",
    "        def speak(self):\n",
    "            return f\"{self.name} makes a sound\"\n",
    "        \n",
    "\n",
    "class dog(Animal):\n",
    "    def speak(self):\n",
    "        return f\"{self.name} barks\"\n",
    "\n",
    "class cat(Animal):\n",
    "    def speak (self):\n",
    "        return f\"{self.name} mmeows \""
   ]
  },
  {
   "cell_type": "code",
   "execution_count": 91,
   "metadata": {},
   "outputs": [
    {
     "data": {
      "text/plain": [
       "'buddy barks'"
      ]
     },
     "execution_count": 91,
     "metadata": {},
     "output_type": "execute_result"
    }
   ],
   "source": [
    "d=dog(\"buddy\")\n",
    "d.speak()"
   ]
  },
  {
   "cell_type": "code",
   "execution_count": 93,
   "metadata": {},
   "outputs": [
    {
     "data": {
      "text/plain": [
       "'saddyy mmeows '"
      ]
     },
     "execution_count": 93,
     "metadata": {},
     "output_type": "execute_result"
    }
   ],
   "source": [
    "c = cat(\"saddyy\")\n",
    "c.speak()"
   ]
  },
  {
   "cell_type": "code",
   "execution_count": null,
   "metadata": {},
   "outputs": [],
   "source": []
  },
  {
   "cell_type": "markdown",
   "metadata": {},
   "source": [
    "# method overriding"
   ]
  },
  {
   "cell_type": "code",
   "execution_count": 97,
   "metadata": {},
   "outputs": [
    {
     "data": {
      "text/plain": [
       "'buddy barks'"
      ]
     },
     "execution_count": 97,
     "metadata": {},
     "output_type": "execute_result"
    }
   ],
   "source": [
    "class Animal:\n",
    "    def __init__(self,name):\n",
    "        self.name = name\n",
    "\n",
    "    def speak(self):\n",
    "        return f\"{self.name} make a sound\"\n",
    "    \n",
    "class dog(Animal):\n",
    "    def speak(self):\n",
    "        return f\"{self.name} barks\"\n",
    "    \n",
    "\n",
    "d = dog(\"buddy\")\n",
    "d.speak()"
   ]
  },
  {
   "cell_type": "code",
   "execution_count": 98,
   "metadata": {},
   "outputs": [],
   "source": [
    "class Animal:\n",
    "    def __init__(self,name):\n",
    "        self.name = name\n",
    "\n",
    "    def speak(self):\n",
    "        return f\"{self.name} make a sound\"\n",
    "    \n",
    "class dog(Animal):\n",
    "    def speak(self):\n",
    "        parent_super=super().speak()\n",
    "        return f\"{parent_super} and {self.name} barks\"\n",
    "    "
   ]
  },
  {
   "cell_type": "code",
   "execution_count": 99,
   "metadata": {},
   "outputs": [
    {
     "data": {
      "text/plain": [
       "'buddy make a sound and buddy barks'"
      ]
     },
     "execution_count": 99,
     "metadata": {},
     "output_type": "execute_result"
    }
   ],
   "source": [
    "d = dog(\"buddy\")\n",
    "d.speak()"
   ]
  },
  {
   "cell_type": "code",
   "execution_count": null,
   "metadata": {},
   "outputs": [],
   "source": [
    "# initilisation "
   ]
  },
  {
   "cell_type": "code",
   "execution_count": 101,
   "metadata": {},
   "outputs": [],
   "source": [
    "class Animal:\n",
    "    def __init__(self,name):\n",
    "        self.name = name\n",
    "\n",
    "\n",
    "    \n",
    "class dog(Animal):\n",
    "    def __init__(self,name,breed):\n",
    "        super().__init__(name)\n",
    "        self.breed= breed\n",
    "\n",
    "    "
   ]
  },
  {
   "cell_type": "code",
   "execution_count": 103,
   "metadata": {},
   "outputs": [],
   "source": [
    "d =dog (\"buddy\",\"GR\") "
   ]
  },
  {
   "cell_type": "code",
   "execution_count": 104,
   "metadata": {},
   "outputs": [
    {
     "data": {
      "text/plain": [
       "'GR'"
      ]
     },
     "execution_count": 104,
     "metadata": {},
     "output_type": "execute_result"
    }
   ],
   "source": [
    "d.breed"
   ]
  },
  {
   "cell_type": "code",
   "execution_count": 105,
   "metadata": {},
   "outputs": [
    {
     "data": {
      "text/plain": [
       "'buddy'"
      ]
     },
     "execution_count": 105,
     "metadata": {},
     "output_type": "execute_result"
    }
   ],
   "source": [
    "d.name"
   ]
  },
  {
   "cell_type": "code",
   "execution_count": 112,
   "metadata": {},
   "outputs": [],
   "source": [
    "class parent1:\n",
    "    def method(self):\n",
    "        print(\"method 1\")\n",
    "\n",
    "\n",
    "class parent2:\n",
    "    def method(self):\n",
    "        print(\"method 2\")\n",
    "\n",
    "class child(parent1,parent2):\n",
    "    def method(self):\n",
    "        super().method()\n",
    "        super(parent1,self).method()\n",
    "    "
   ]
  },
  {
   "cell_type": "code",
   "execution_count": 113,
   "metadata": {},
   "outputs": [
    {
     "name": "stdout",
     "output_type": "stream",
     "text": [
      "method 1\n",
      "method 2\n"
     ]
    }
   ],
   "source": [
    "c=child()\n",
    "c.method()"
   ]
  },
  {
   "cell_type": "code",
   "execution_count": null,
   "metadata": {},
   "outputs": [],
   "source": []
  },
  {
   "cell_type": "code",
   "execution_count": null,
   "metadata": {},
   "outputs": [],
   "source": []
  },
  {
   "cell_type": "markdown",
   "metadata": {},
   "source": [
    "# polymorphism"
   ]
  },
  {
   "cell_type": "markdown",
   "metadata": {},
   "source": []
  },
  {
   "cell_type": "code",
   "execution_count": 1,
   "metadata": {},
   "outputs": [],
   "source": [
    "# operator "
   ]
  },
  {
   "cell_type": "code",
   "execution_count": 3,
   "metadata": {},
   "outputs": [
    {
     "data": {
      "text/plain": [
       "33"
      ]
     },
     "execution_count": 3,
     "metadata": {},
     "output_type": "execute_result"
    }
   ],
   "source": [
    "a = 10 \n",
    "b = 23\n",
    "\n",
    "a+b "
   ]
  },
  {
   "cell_type": "code",
   "execution_count": 4,
   "metadata": {},
   "outputs": [
    {
     "data": {
      "text/plain": [
       "'princekatiyar'"
      ]
     },
     "execution_count": 4,
     "metadata": {},
     "output_type": "execute_result"
    }
   ],
   "source": [
    "a =\"prince\"\n",
    "b =\"katiyar\"\n",
    "a+b "
   ]
  },
  {
   "cell_type": "code",
   "execution_count": 6,
   "metadata": {},
   "outputs": [
    {
     "data": {
      "text/plain": [
       "[1, 2, 3, 4, 2, 3, 4, 5]"
      ]
     },
     "execution_count": 6,
     "metadata": {},
     "output_type": "execute_result"
    }
   ],
   "source": [
    "l=[1,2,3,4]\n",
    "l1 =[2,3,4,5]\n",
    "l +l1"
   ]
  },
  {
   "cell_type": "code",
   "execution_count": 9,
   "metadata": {},
   "outputs": [
    {
     "data": {
      "text/plain": [
       "9"
      ]
     },
     "execution_count": 9,
     "metadata": {},
     "output_type": "execute_result"
    }
   ],
   "source": [
    "# len () \n",
    "\n",
    "len(\"hello    \")"
   ]
  },
  {
   "cell_type": "code",
   "execution_count": 8,
   "metadata": {},
   "outputs": [
    {
     "data": {
      "text/plain": [
       "2"
      ]
     },
     "execution_count": 8,
     "metadata": {},
     "output_type": "execute_result"
    }
   ],
   "source": [
    "len({\"a\":1   \"b\":2})"
   ]
  },
  {
   "cell_type": "code",
   "execution_count": null,
   "metadata": {},
   "outputs": [],
   "source": [
    "# class "
   ]
  },
  {
   "cell_type": "code",
   "execution_count": 13,
   "metadata": {},
   "outputs": [],
   "source": [
    "class Tiger():\n",
    "\n",
    "    def nature(self):\n",
    "        print(\"it is dangerous \")\n",
    "\n",
    "\n",
    "    def color(self):\n",
    "        print(\"orange and black strip \")\n",
    "\n",
    "class Elephant():\n",
    "\n",
    "    def nature(self):\n",
    "        print(\"it is calm and harmless\")\n",
    "\n",
    "    def color(self):\n",
    "        print(\"grayihs black\")"
   ]
  },
  {
   "cell_type": "code",
   "execution_count": 14,
   "metadata": {},
   "outputs": [],
   "source": [
    "t=Tiger()\n",
    "e = Elephant()"
   ]
  },
  {
   "cell_type": "code",
   "execution_count": 16,
   "metadata": {},
   "outputs": [
    {
     "name": "stdout",
     "output_type": "stream",
     "text": [
      "orange and black strip \n",
      "grayihs black\n"
     ]
    }
   ],
   "source": [
    "t.color()\n",
    "e.color()"
   ]
  },
  {
   "cell_type": "code",
   "execution_count": 17,
   "metadata": {},
   "outputs": [],
   "source": [
    "class f1:\n",
    "    def run(self):\n",
    "        print('win')\n",
    "\n",
    "class f2(f1):\n",
    "    def run(self):\n",
    "        print(\"it is my second class after f1\")\n",
    "\n",
    "class f3(f1):\n",
    "    def run(self):\n",
    "        print(\"this is my 3 class after f2 \")"
   ]
  },
  {
   "cell_type": "code",
   "execution_count": 18,
   "metadata": {},
   "outputs": [],
   "source": [
    "my1=f1()\n",
    "my2=f2()\n",
    "my3=f3()  "
   ]
  },
  {
   "cell_type": "code",
   "execution_count": 19,
   "metadata": {},
   "outputs": [
    {
     "name": "stdout",
     "output_type": "stream",
     "text": [
      "win\n"
     ]
    }
   ],
   "source": [
    "my1.run()"
   ]
  },
  {
   "cell_type": "code",
   "execution_count": 20,
   "metadata": {},
   "outputs": [
    {
     "name": "stdout",
     "output_type": "stream",
     "text": [
      "it is my second class after f1\n"
     ]
    }
   ],
   "source": [
    "my2.run()"
   ]
  },
  {
   "cell_type": "code",
   "execution_count": 21,
   "metadata": {},
   "outputs": [
    {
     "name": "stdout",
     "output_type": "stream",
     "text": [
      "this is my 3 class after f2 \n"
     ]
    }
   ],
   "source": [
    "my3.run()\n"
   ]
  },
  {
   "cell_type": "code",
   "execution_count": null,
   "metadata": {},
   "outputs": [],
   "source": []
  },
  {
   "cell_type": "markdown",
   "metadata": {},
   "source": [
    "# abstract method and abstract class"
   ]
  },
  {
   "cell_type": "markdown",
   "metadata": {},
   "source": []
  },
  {
   "cell_type": "code",
   "execution_count": 23,
   "metadata": {},
   "outputs": [],
   "source": [
    "from abc import ABC, abstractmethod\n",
    "\n",
    "class shape(ABC):\n",
    "    def __init__(self,name): \n",
    "        self.name = name\n",
    "\n",
    "    @abstractmethod\n",
    "    def area(self):\n",
    "        pass \n",
    "\n",
    "    def describe(self):\n",
    "        return f\"this is my describe of {self.name}\"\n",
    "    \n"
   ]
  },
  {
   "cell_type": "code",
   "execution_count": 29,
   "metadata": {},
   "outputs": [
    {
     "data": {
      "text/plain": [
       "'this is my describe of RRectangle'"
      ]
     },
     "execution_count": 29,
     "metadata": {},
     "output_type": "execute_result"
    }
   ],
   "source": [
    "# concrete class\n",
    "\n",
    "class Rectangle(shape):\n",
    "    def __init__(self, width , height):\n",
    "        super().__init__(\"RRectangle\")\n",
    "        self.width = width \n",
    "        self.height  = height\n",
    "\n",
    "\n",
    "    def area(self):\n",
    "        return self.width * self.height\n",
    "    \n",
    "       \n",
    "rec = Rectangle(3,4)\n",
    "rec.area()\n",
    "rec.describe()\n"
   ]
  },
  {
   "cell_type": "code",
   "execution_count": 35,
   "metadata": {},
   "outputs": [
    {
     "data": {
      "text/plain": [
       "'this is my describe of circle'"
      ]
     },
     "execution_count": 35,
     "metadata": {},
     "output_type": "execute_result"
    }
   ],
   "source": [
    "class circle(shape):\n",
    "    def __init__(self,radius):\n",
    "        super().__init__(\"circle\")\n",
    "        self.radius = radius\n",
    "\n",
    "\n",
    "    def area(self):\n",
    "        return 3.14 * (self.radius**2)\n",
    "    \n",
    "\n",
    "c = circle(7)\n",
    "c.area()\n",
    "c.describe()"
   ]
  },
  {
   "cell_type": "code",
   "execution_count": null,
   "metadata": {},
   "outputs": [],
   "source": []
  },
  {
   "cell_type": "markdown",
   "metadata": {},
   "source": [
    "# magic methods"
   ]
  },
  {
   "cell_type": "markdown",
   "metadata": {},
   "source": [
    "## __init__"
   ]
  },
  {
   "cell_type": "code",
   "execution_count": 41,
   "metadata": {},
   "outputs": [
    {
     "name": "stdout",
     "output_type": "stream",
     "text": [
      "25 and prince\n"
     ]
    },
    {
     "data": {
      "text/plain": [
       "25"
      ]
     },
     "execution_count": 41,
     "metadata": {},
     "output_type": "execute_result"
    }
   ],
   "source": [
    "class person:\n",
    "    def __init__(self,name, age):\n",
    "        self.name = name \n",
    "        self.age = age \n",
    "        print(f\"{self.age} and {self.name}\")\n",
    "\n",
    "p =person(\"prince\",25)\n",
    "p.name\n",
    "\n",
    "p.age"
   ]
  },
  {
   "cell_type": "markdown",
   "metadata": {},
   "source": [
    "## str"
   ]
  },
  {
   "cell_type": "code",
   "execution_count": null,
   "metadata": {},
   "outputs": [],
   "source": []
  },
  {
   "cell_type": "code",
   "execution_count": null,
   "metadata": {},
   "outputs": [],
   "source": [
    "class person:\n",
    "    def __init__(self,name, age):\n",
    "        self.name = name \n",
    "        self.age = age "
   ]
  },
  {
   "cell_type": "code",
   "execution_count": 55,
   "metadata": {},
   "outputs": [
    {
     "data": {
      "text/plain": [
       "<__main__.person at 0x104ebe650>"
      ]
     },
     "execution_count": 55,
     "metadata": {},
     "output_type": "execute_result"
    }
   ],
   "source": [
    "class person:\n",
    "    def __init__(self,name, age):\n",
    "        self.name = name \n",
    "        self.age = age \n",
    "      \n",
    "    def __str__(self):\n",
    "        return f\"{self.name} and {self.age}\"\n",
    "\n",
    "p =person(\"prince\",25)\n",
    "p"
   ]
  },
  {
   "cell_type": "code",
   "execution_count": 56,
   "metadata": {},
   "outputs": [
    {
     "name": "stdout",
     "output_type": "stream",
     "text": [
      "prince and 25\n"
     ]
    }
   ],
   "source": [
    "print(p)"
   ]
  },
  {
   "cell_type": "code",
   "execution_count": null,
   "metadata": {},
   "outputs": [],
   "source": []
  },
  {
   "cell_type": "markdown",
   "metadata": {},
   "source": [
    "# repr "
   ]
  },
  {
   "cell_type": "code",
   "execution_count": 63,
   "metadata": {},
   "outputs": [
    {
     "name": "stdout",
     "output_type": "stream",
     "text": [
      "Car(make='toyota', model='2023', year=2023)\n"
     ]
    }
   ],
   "source": [
    "class car :\n",
    "    def __init__(self,make,model , year):\n",
    "        self.make = make \n",
    "        self.model = model \n",
    "        self.year = year\n",
    "\n",
    "    def __repr__(self):\n",
    "        return f\"Car(make='{self.make}', model='{self.model}', year={self.year})\"\n",
    "\n",
    "\n",
    "\n",
    "c = car(\"toyota\",2023 , 2023 )\n",
    "print(repr(c ))"
   ]
  },
  {
   "cell_type": "code",
   "execution_count": null,
   "metadata": {},
   "outputs": [],
   "source": []
  },
  {
   "cell_type": "markdown",
   "metadata": {},
   "source": [
    "# __call__ "
   ]
  },
  {
   "cell_type": "code",
   "execution_count": 64,
   "metadata": {},
   "outputs": [],
   "source": [
    "l= [1,23,2]"
   ]
  },
  {
   "cell_type": "code",
   "execution_count": 73,
   "metadata": {},
   "outputs": [
    {
     "data": {
      "text/plain": [
       "15"
      ]
     },
     "execution_count": 73,
     "metadata": {},
     "output_type": "execute_result"
    }
   ],
   "source": [
    "from typing import Any\n",
    "\n",
    "\n",
    "class adder:\n",
    "    def __init__(self, initial_value):\n",
    "        self.initial_value = initial_value\n",
    "\n",
    "\n",
    "    def __call__(self,value):\n",
    "        return self.initial_value + value\n",
    "    \n",
    "\n",
    "a = adder(5 )\n",
    "a(10)\n"
   ]
  },
  {
   "cell_type": "code",
   "execution_count": null,
   "metadata": {},
   "outputs": [],
   "source": []
  },
  {
   "cell_type": "markdown",
   "metadata": {},
   "source": [
    "# len "
   ]
  },
  {
   "cell_type": "markdown",
   "metadata": {},
   "source": []
  },
  {
   "cell_type": "code",
   "execution_count": 83,
   "metadata": {},
   "outputs": [
    {
     "name": "stdout",
     "output_type": "stream",
     "text": [
      "8\n"
     ]
    }
   ],
   "source": [
    "class mylist:\n",
    "    def __init__(self,*args):\n",
    "        self.item = list(args)\n",
    "\n",
    "\n",
    "    def __len__(self):\n",
    "        return len(self.item)\n",
    "\n",
    "l=mylist(1,23,4,2,5,5,3,3)\n",
    "print(len(l))"
   ]
  },
  {
   "cell_type": "code",
   "execution_count": null,
   "metadata": {},
   "outputs": [],
   "source": []
  },
  {
   "cell_type": "markdown",
   "metadata": {},
   "source": [
    "# iter and next "
   ]
  },
  {
   "cell_type": "code",
   "execution_count": 84,
   "metadata": {},
   "outputs": [
    {
     "name": "stdout",
     "output_type": "stream",
     "text": [
      "0\n",
      "1\n",
      "2\n",
      "3\n",
      "4\n"
     ]
    }
   ],
   "source": [
    "for i in range(5):\n",
    "    print(i)"
   ]
  },
  {
   "cell_type": "code",
   "execution_count": 89,
   "metadata": {},
   "outputs": [
    {
     "name": "stdout",
     "output_type": "stream",
     "text": [
      "4\n",
      "3\n",
      "2\n",
      "1\n"
     ]
    }
   ],
   "source": [
    "class countdown:\n",
    "    def __init__(self ,start) :\n",
    "        self.start = start\n",
    "\n",
    "\n",
    "    def __iter__(self):\n",
    "        self.current = self.start\n",
    "        return self\n",
    "    \n",
    "    def __next__(self):\n",
    "        if self.current <=1:\n",
    "            raise StopIteration\n",
    "        self.current -=1 \n",
    "        return self.current\n",
    "\n",
    "c =countdown(5)\n",
    "for i in c:\n",
    "    print(i)"
   ]
  },
  {
   "cell_type": "code",
   "execution_count": 90,
   "metadata": {},
   "outputs": [
    {
     "data": {
      "text/plain": [
       "3"
      ]
     },
     "execution_count": 90,
     "metadata": {},
     "output_type": "execute_result"
    }
   ],
   "source": [
    "1+2 "
   ]
  },
  {
   "cell_type": "code",
   "execution_count": 91,
   "metadata": {},
   "outputs": [
    {
     "data": {
      "text/plain": [
       "'12'"
      ]
     },
     "execution_count": 91,
     "metadata": {},
     "output_type": "execute_result"
    }
   ],
   "source": [
    "'1' + '2'"
   ]
  },
  {
   "cell_type": "code",
   "execution_count": 92,
   "metadata": {},
   "outputs": [
    {
     "data": {
      "text/plain": [
       "[1, 2]"
      ]
     },
     "execution_count": 92,
     "metadata": {},
     "output_type": "execute_result"
    }
   ],
   "source": [
    "[1] + [2]"
   ]
  },
  {
   "cell_type": "code",
   "execution_count": 96,
   "metadata": {},
   "outputs": [],
   "source": [
    "class test :\n",
    "     \n",
    "    def __init__(self,a):\n",
    "        self.a = a\n",
    "\n",
    "    \n",
    "    def __add__(self, other):\n",
    "        return self.a + other.a\n",
    "    \n",
    "t1 = test(1)\n",
    "        "
   ]
  },
  {
   "cell_type": "code",
   "execution_count": 97,
   "metadata": {},
   "outputs": [],
   "source": [
    "t2 = test(3)"
   ]
  },
  {
   "cell_type": "code",
   "execution_count": 98,
   "metadata": {},
   "outputs": [
    {
     "data": {
      "text/plain": [
       "4"
      ]
     },
     "execution_count": 98,
     "metadata": {},
     "output_type": "execute_result"
    }
   ],
   "source": [
    "t1 + t2"
   ]
  },
  {
   "cell_type": "code",
   "execution_count": 99,
   "metadata": {},
   "outputs": [],
   "source": [
    "class test :\n",
    "     \n",
    "    def __init__(self,a,b):\n",
    "        self.a = a\n",
    "        self.b = b \n",
    "    \n",
    "    def __add__(self, other):\n",
    "        return test(self.a+other.a ,self.b +other.b)\n",
    "    \n",
    "\n",
    "    def __str__(self):\n",
    "        return f\"{self.a},{self.b}\"\n",
    "    \n",
    "t1 = test(1,4)\n",
    "t2 =test(3,5)"
   ]
  },
  {
   "cell_type": "code",
   "execution_count": 101,
   "metadata": {},
   "outputs": [
    {
     "name": "stdout",
     "output_type": "stream",
     "text": [
      "4,9\n"
     ]
    }
   ],
   "source": [
    "t3 = t1+ t2\n",
    "print(t3)"
   ]
  },
  {
   "cell_type": "code",
   "execution_count": 8,
   "metadata": {},
   "outputs": [
    {
     "data": {
      "text/plain": [
       "7"
      ]
     },
     "execution_count": 8,
     "metadata": {},
     "output_type": "execute_result"
    }
   ],
   "source": [
    "class test:\n",
    "    def add(self, a, b):\n",
    "        self.a = a\n",
    "        self.b = b\n",
    "        return self.a +self.b \n",
    "    \n",
    "\n",
    "    def add(self,a,b,c):\n",
    "        self.a = a\n",
    "        self.b = b\n",
    "        self.c = c \n",
    "        return self.a +self.b +self.c \n",
    "\n",
    "\n",
    "t=test( )\n",
    "t.add(1,2,4)"
   ]
  },
  {
   "cell_type": "code",
   "execution_count": 11,
   "metadata": {},
   "outputs": [
    {
     "data": {
      "text/plain": [
       "8"
      ]
     },
     "execution_count": 11,
     "metadata": {},
     "output_type": "execute_result"
    }
   ],
   "source": [
    "class test:\n",
    "\n",
    "\n",
    "    def add(self,a,b,c=0):\n",
    "        self.a = a\n",
    "        self.b = b\n",
    "        self.c = c \n",
    "        return self.a +self.b +self.c \n",
    "\n",
    "\n",
    "t=test( )\n",
    "t.add(1,2,5)"
   ]
  },
  {
   "cell_type": "code",
   "execution_count": 24,
   "metadata": {},
   "outputs": [
    {
     "data": {
      "text/plain": [
       "25"
      ]
     },
     "execution_count": 24,
     "metadata": {},
     "output_type": "execute_result"
    }
   ],
   "source": [
    "class maths:\n",
    "    def multi(self,a,b=1,c=1):\n",
    "        return a*b*c\n",
    "    \n",
    "m = maths()\n",
    "m.multi(5,5)"
   ]
  },
  {
   "cell_type": "code",
   "execution_count": null,
   "metadata": {},
   "outputs": [],
   "source": []
  }
 ],
 "metadata": {
  "kernelspec": {
   "display_name": "myen",
   "language": "python",
   "name": "python3"
  },
  "language_info": {
   "codemirror_mode": {
    "name": "ipython",
    "version": 3
   },
   "file_extension": ".py",
   "mimetype": "text/x-python",
   "name": "python",
   "nbconvert_exporter": "python",
   "pygments_lexer": "ipython3",
   "version": "3.11.9"
  }
 },
 "nbformat": 4,
 "nbformat_minor": 2
}
