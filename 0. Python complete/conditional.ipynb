{
 "cells": [
  {
   "cell_type": "code",
   "execution_count": 8,
   "metadata": {},
   "outputs": [
    {
     "name": "stdout",
     "output_type": "stream",
     "text": [
      "conditon is not true\n"
     ]
    }
   ],
   "source": [
    "a = 4 \n",
    "if a>5 :\n",
    "    print(\"a is greater than 5\")\n",
    "else:    \n",
    "    print(\"conditon is not true\")"
   ]
  },
  {
   "cell_type": "code",
   "execution_count": 12,
   "metadata": {},
   "outputs": [
    {
     "name": "stdout",
     "output_type": "stream",
     "text": [
      "conditon is not true\n"
     ]
    }
   ],
   "source": [
    "a = 1\n",
    "if a>5 :  # 1 \n",
    "    print(\"a is greater than 5\")\n",
    "elif a==4:   # 2 \n",
    "    print(\"a is equal to 4\")\n",
    "elif a==3:      # 3 \n",
    "    print(\"a is equal to 3\")\n",
    "elif a==2:  # 4 \n",
    "    print(\"a is equal to 2\")\n",
    "else:   # no conditoin  \n",
    "    print(\"conditon is not true\")"
   ]
  },
  {
   "cell_type": "code",
   "execution_count": 16,
   "metadata": {},
   "outputs": [
    {
     "name": "stdout",
     "output_type": "stream",
     "text": [
      "apple is not in the list\n"
     ]
    }
   ],
   "source": [
    "fruits = [\"apple\", \"banana\", \"cherry\"]\n",
    "if \"apple1\" in fruits:\n",
    "    print(\"Apple is in the list\")\n",
    "\n",
    "else:\n",
    "    print(\"apple is not in the list\")\n"
   ]
  },
  {
   "cell_type": "code",
   "execution_count": 21,
   "metadata": {},
   "outputs": [
    {
     "name": "stdout",
     "output_type": "stream",
     "text": [
      "a is greater than 5\n",
      "a is equal to 3\n",
      "conditon is not true\n"
     ]
    }
   ],
   "source": [
    "a = 3\n",
    "if a>1 :  # 1 \n",
    "    print(\"a is greater than 5\")\n",
    "    if a==4:   # 2\n",
    "        print(\"a is equal to 4\")\n",
    "    elif a==3:      # 3\n",
    "        print(\"a is equal to 3\")\n",
    "        if  a==2:  # 4\n",
    "            print(\"a is equal to 2\")\n",
    "        else:   # no conditoin\n",
    "            print(\"conditon is not true\")\n",
    "\n",
    "    else:\n",
    "        print(\"a is not equal to 4\")\n",
    "else:\n",
    "    print(\"conditon is not true\")"
   ]
  },
  {
   "cell_type": "code",
   "execution_count": 27,
   "metadata": {},
   "outputs": [
    {
     "name": "stdout",
     "output_type": "stream",
     "text": [
      "x is not greater than 5 and y is not less than 10\n"
     ]
    }
   ],
   "source": [
    "x= 10 \n",
    "y=5 \n",
    "if x>15 and y<10:\n",
    "    print(\"x is greater than 5 and y is less than 10\")\n",
    "elif x>15 or y<1:\n",
    "    print(\"x thissi for elif is greater than 5 or y is less than 10\")\n",
    "else:\n",
    "    print(\"x is not greater than 5 and y is not less than 10\")"
   ]
  },
  {
   "cell_type": "code",
   "execution_count": 28,
   "metadata": {},
   "outputs": [
    {
     "name": "stdout",
     "output_type": "stream",
     "text": [
      "x is greater than 5\n"
     ]
    }
   ],
   "source": [
    "x = 10\n",
    "message = \"x is greater than 5\" if x > 5 else \"x is 5 or less\"\n",
    "print(message)\n"
   ]
  },
  {
   "cell_type": "code",
   "execution_count": 34,
   "metadata": {},
   "outputs": [
    {
     "name": "stdout",
     "output_type": "stream",
     "text": [
      "a is less than 0\n"
     ]
    }
   ],
   "source": [
    "def add(x):\n",
    "    if x  >5:\n",
    "        print(\"a is greater than 0\")\n",
    "    else:\n",
    "        print(\"a is less than 0\")\n",
    "\n",
    "add(3)"
   ]
  },
  {
   "cell_type": "code",
   "execution_count": 37,
   "metadata": {},
   "outputs": [],
   "source": [
    "x = 29\n",
    "if x > 5 :\n",
    "    pass\n",
    "else:\n",
    "    print(\"x is less than 5\")"
   ]
  },
  {
   "cell_type": "code",
   "execution_count": 39,
   "metadata": {},
   "outputs": [],
   "source": [
    "x = 5\n",
    "assert x==5 , \"X is not 5\""
   ]
  },
  {
   "cell_type": "code",
   "execution_count": null,
   "metadata": {},
   "outputs": [],
   "source": []
  },
  {
   "cell_type": "markdown",
   "metadata": {},
   "source": [
    "# practice questions "
   ]
  },
  {
   "cell_type": "code",
   "execution_count": null,
   "metadata": {},
   "outputs": [],
   "source": []
  },
  {
   "cell_type": "code",
   "execution_count": 58,
   "metadata": {},
   "outputs": [
    {
     "name": "stdout",
     "output_type": "stream",
     "text": [
      "0 is falsy\n",
      "[] is falsy\n",
      "{} is falsy\n",
      " is falsy\n",
      "None is falsy\n",
      "False is falsy\n",
      "0 is truthy\n",
      "[0] is truthy\n",
      "1 is truthy\n"
     ]
    }
   ],
   "source": [
    "values = [0, [], {}, \"\", None, False, \"0\", [0], 1]\n",
    "for val in values:\n",
    "    if val:\n",
    "        print(f\"{val} is truthy\")\n",
    "    else:\n",
    "        print(f\"{val} is falsy\")"
   ]
  },
  {
   "cell_type": "code",
   "execution_count": 60,
   "metadata": {},
   "outputs": [
    {
     "name": "stdout",
     "output_type": "stream",
     "text": [
      "10\n"
     ]
    }
   ],
   "source": [
    "x = 16\n",
    "y = 10\n",
    "z = 15\n",
    "result = x if x < y else y if y < z else z\n",
    "print(result)"
   ]
  },
  {
   "cell_type": "code",
   "execution_count": null,
   "metadata": {},
   "outputs": [],
   "source": []
  },
  {
   "cell_type": "code",
   "execution_count": 47,
   "metadata": {},
   "outputs": [],
   "source": [
    "if x < y:\n",
    "    result = x\n",
    "else:\n",
    "    if y < z:\n",
    "        result = y\n",
    "    else:\n",
    "        result = z"
   ]
  },
  {
   "cell_type": "code",
   "execution_count": 62,
   "metadata": {},
   "outputs": [
    {
     "name": "stdout",
     "output_type": "stream",
     "text": [
      "Positive\n",
      "Positive\n"
     ]
    }
   ],
   "source": [
    "# Version 1\n",
    "if x < 0:\n",
    "    print(\"Negative\")\n",
    "elif x == 0:\n",
    "    print(\"Zero\")\n",
    "else:\n",
    "    print(\"Positive\")\n",
    "\n",
    "\n",
    "\n",
    "# Version 2\n",
    "if x < 0:\n",
    "    print(\"Negative\")\n",
    "if x == 0:\n",
    "    print(\"Zero\")\n",
    "if x > 0:\n",
    "    print(\"Positive\")"
   ]
  },
  {
   "cell_type": "code",
   "execution_count": 61,
   "metadata": {},
   "outputs": [
    {
     "name": "stdout",
     "output_type": "stream",
     "text": [
      "Positive\n"
     ]
    }
   ],
   "source": [
    "if x < 0:\n",
    "    print(\"Negative\")\n",
    "elif x == 0:\n",
    "    print(\"Zero\")\n",
    "else:\n",
    "    print(\"Positive\")"
   ]
  },
  {
   "cell_type": "code",
   "execution_count": 67,
   "metadata": {},
   "outputs": [
    {
     "name": "stdout",
     "output_type": "stream",
     "text": [
      "All positive\n"
     ]
    }
   ],
   "source": [
    "z = y=7\n",
    "x=1\n",
    "\n",
    "\n",
    "if x > 0:\n",
    "    if y > 0:\n",
    "        if z > 0:\n",
    "            print(\"All positive\")\n",
    "        else:\n",
    "            print(\"z is not positive\")\n",
    "    else:\n",
    "        print(\"y is not positive\")\n",
    "else:\n",
    "    print(\"x is not positive\")"
   ]
  },
  {
   "cell_type": "code",
   "execution_count": 68,
   "metadata": {},
   "outputs": [
    {
     "name": "stdout",
     "output_type": "stream",
     "text": [
      "C\n"
     ]
    }
   ],
   "source": [
    "result = \"A\" if x > 10 else \"B\" if x > 5 else \"C\" if x > 0 else \"D\"\n",
    "print(result)"
   ]
  },
  {
   "cell_type": "code",
   "execution_count": null,
   "metadata": {},
   "outputs": [],
   "source": [
    "if x > 10:\n",
    "    result = \"A\"\n",
    "elif x > 5:\n",
    "    result = \"B\"\n",
    "elif x > 0:\n",
    "    result = \"C\"\n",
    "else:\n",
    "    result = \"D\""
   ]
  },
  {
   "cell_type": "code",
   "execution_count": 57,
   "metadata": {},
   "outputs": [
    {
     "name": "stdout",
     "output_type": "stream",
     "text": [
      "Case 1:\n",
      "One\n",
      "Less than five\n",
      "\n",
      "Case 2:\n",
      "Two\n",
      "Less than five\n",
      "Even\n",
      "\n",
      "Case 3:\n",
      "Three\n",
      "Less than five\n",
      "\n",
      "Case 4:\n",
      "Other\n",
      "Less than five\n",
      "Even\n",
      "\n",
      "Case 5:\n",
      "Other\n",
      "Five or more\n",
      "Even\n"
     ]
    }
   ],
   "source": [
    "def tricky_conditions(x):\n",
    "    if x == 1:\n",
    "        print(\"One\")\n",
    "    elif x == 2:\n",
    "        print(\"Two\")\n",
    "    elif x == 3:\n",
    "        print(\"Three\")\n",
    "    else:\n",
    "        print(\"Other\")\n",
    "    if x < 5:\n",
    "        print(\"Less than five\")\n",
    "    else:\n",
    "        print(\"Five or more\")\n",
    "    if x % 2 == 0:\n",
    "        print(\"Even\")\n",
    "\n",
    "# Test cases\n",
    "print(\"Case 1:\")\n",
    "tricky_conditions(1)\n",
    "\n",
    "print(\"\\nCase 2:\")\n",
    "tricky_conditions(2)\n",
    "\n",
    "print(\"\\nCase 3:\")\n",
    "tricky_conditions(3)\n",
    "\n",
    "print(\"\\nCase 4:\")\n",
    "tricky_conditions(4)\n",
    "\n",
    "print(\"\\nCase 5:\")\n",
    "tricky_conditions(6)\n",
    "\n",
    "# Questions:\n",
    "# 1. What will be the output for each test case?\n",
    "# 2. Why does the function sometimes print two lines, and other times three lines?\n",
    "# 3. What's the difference between using 'elif' and a new 'if' statement?\n",
    "# 4. How would the behavior change if all 'elif' were changed to 'if'?\n",
    "# 5. What happens when x is 6, and why?"
   ]
  },
  {
   "cell_type": "code",
   "execution_count": null,
   "metadata": {},
   "outputs": [],
   "source": []
  },
  {
   "cell_type": "code",
   "execution_count": 41,
   "metadata": {},
   "outputs": [
    {
     "name": "stdout",
     "output_type": "stream",
     "text": [
      "A\n",
      "B\n",
      "F\n",
      "Invalid score. Please enter a number between 0 and 100.\n"
     ]
    }
   ],
   "source": [
    "def calculate_grade(score):\n",
    "    if score < 0 or score > 100:\n",
    "        return \"Invalid score. Please enter a number between 0 and 100.\"\n",
    "    elif score >= 90:\n",
    "        return \"A\"\n",
    "    elif score >= 80:\n",
    "        return \"B\"\n",
    "    elif score >= 70:\n",
    "        return \"C\"\n",
    "    elif score >= 60:\n",
    "        return \"D\"\n",
    "    else:\n",
    "        return \"F\"\n",
    "\n",
    "# Test the function\n",
    "print(calculate_grade(95))  # A\n",
    "print(calculate_grade(82))  # B\n",
    "print(calculate_grade(45))  # F\n",
    "print(calculate_grade(110)) #"
   ]
  },
  {
   "cell_type": "code",
   "execution_count": 40,
   "metadata": {},
   "outputs": [
    {
     "name": "stdout",
     "output_type": "stream",
     "text": [
      "It's a hot day. Remember to drink plenty of water!\n",
      "It's mild but raining. An umbrella might be handy.\n",
      "It's a cold day. Bundle up!\n"
     ]
    }
   ],
   "source": [
    "# Example 1: Weather Advice System\n",
    "def get_weather_advice(temperature, is_raining):\n",
    "    if temperature > 30:\n",
    "        if is_raining:\n",
    "            return \"It's hot and raining. Don't forget an umbrella and stay hydrated!\"\n",
    "        else:\n",
    "            return \"It's a hot day. Remember to drink plenty of water!\"\n",
    "    elif 20 <= temperature <= 30:\n",
    "        if is_raining:\n",
    "            return \"It's mild but raining. An umbrella might be handy.\"\n",
    "        else:\n",
    "            return \"It's a pleasant day. Enjoy the weather!\"\n",
    "    else:\n",
    "        if is_raining:\n",
    "            return \"It's cold and raining. Take a warm jacket and an umbrella!\"\n",
    "        else:\n",
    "            return \"It's a cold day. Bundle up!\"\n",
    "\n",
    "# Test the function\n",
    "print(get_weather_advice(35, False))  # Hot day\n",
    "print(get_weather_advice(25, True))   # Mild and raining\n",
    "print(get_weather_advice(10, False))  # Cold day"
   ]
  },
  {
   "cell_type": "code",
   "execution_count": null,
   "metadata": {},
   "outputs": [],
   "source": [
    "def atm_transaction(balance, action, amount=0):\n",
    "    if action == \"check_balance\":\n",
    "        return f\"Your balance is ${balance}\"\n",
    "    elif action == \"deposit\":\n",
    "        if amount <= 0:\n",
    "            return \"Invalid deposit amount. Please enter a positive number.\"\n",
    "        else:\n",
    "            new_balance = balance + amount\n",
    "            return f\"Deposit successful. Your new balance is ${new_balance}\"\n",
    "    elif action == \"withdraw\":\n",
    "        if amount <= 0:\n",
    "            return \"Invalid withdrawal amount. Please enter a positive number.\"\n",
    "        elif amount > balance:\n",
    "            return \"Insufficient funds. Cannot complete withdrawal.\"\n",
    "        else:\n",
    "            new_balance = balance - amount\n",
    "            return f\"Withdrawal successful. Your new balance is ${new_balance}\"\n",
    "    else:\n",
    "        return \"Invalid action. Please choose 'check_balance', 'deposit', or 'withdraw'.\"\n",
    "\n",
    "# Test the function\n",
    "initial_balance = 1000\n",
    "print(atm_transaction(initial_balance, \"check_balance\"))\n",
    "print(atm_transaction(initial_balance, \"deposit\", 500))\n",
    "print(atm_transaction(initial_balance, \"withdraw\", 200))\n",
    "print(atm_transaction(initial_balance, \"withdraw\", 1500))  # Insufficient funds\n",
    "print(atm_transaction(initial_balance, \"transfer\", 100))   "
   ]
  },
  {
   "cell_type": "code",
   "execution_count": null,
   "metadata": {},
   "outputs": [],
   "source": []
  },
  {
   "cell_type": "code",
   "execution_count": null,
   "metadata": {},
   "outputs": [],
   "source": []
  },
  {
   "cell_type": "code",
   "execution_count": null,
   "metadata": {},
   "outputs": [],
   "source": []
  },
  {
   "cell_type": "code",
   "execution_count": null,
   "metadata": {},
   "outputs": [],
   "source": []
  }
 ],
 "metadata": {
  "kernelspec": {
   "display_name": "base",
   "language": "python",
   "name": "python3"
  },
  "language_info": {
   "codemirror_mode": {
    "name": "ipython",
    "version": 3
   },
   "file_extension": ".py",
   "mimetype": "text/x-python",
   "name": "python",
   "nbconvert_exporter": "python",
   "pygments_lexer": "ipython3",
   "version": "3.11.6"
  }
 },
 "nbformat": 4,
 "nbformat_minor": 2
}
