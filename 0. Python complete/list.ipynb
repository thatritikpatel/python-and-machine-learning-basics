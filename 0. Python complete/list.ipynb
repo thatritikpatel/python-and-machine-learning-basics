{
 "cells": [
  {
   "cell_type": "code",
   "execution_count": 13,
   "metadata": {},
   "outputs": [],
   "source": [
    "a = [1,23,3]"
   ]
  },
  {
   "cell_type": "code",
   "execution_count": 14,
   "metadata": {},
   "outputs": [
    {
     "data": {
      "text/plain": [
       "list"
      ]
     },
     "execution_count": 14,
     "metadata": {},
     "output_type": "execute_result"
    }
   ],
   "source": [
    "type(a)"
   ]
  },
  {
   "cell_type": "code",
   "execution_count": 15,
   "metadata": {},
   "outputs": [],
   "source": [
    "b= list()"
   ]
  },
  {
   "cell_type": "code",
   "execution_count": 16,
   "metadata": {},
   "outputs": [
    {
     "data": {
      "text/plain": [
       "list"
      ]
     },
     "execution_count": 16,
     "metadata": {},
     "output_type": "execute_result"
    }
   ],
   "source": [
    "type(b)"
   ]
  },
  {
   "cell_type": "code",
   "execution_count": 17,
   "metadata": {},
   "outputs": [],
   "source": [
    "c =list((1,23,3))  # type conversion list()"
   ]
  },
  {
   "cell_type": "code",
   "execution_count": 18,
   "metadata": {},
   "outputs": [
    {
     "data": {
      "text/plain": [
       "list"
      ]
     },
     "execution_count": 18,
     "metadata": {},
     "output_type": "execute_result"
    }
   ],
   "source": [
    "type(c)"
   ]
  },
  {
   "cell_type": "code",
   "execution_count": 20,
   "metadata": {},
   "outputs": [],
   "source": [
    "a= [1,23,3,4,5,6,7,8,9,10]  # homogenous list \n",
    "\n",
    "b =[1, \"2\", (1,2,3),4+4j ,True]  # heterogenous list "
   ]
  },
  {
   "cell_type": "code",
   "execution_count": 21,
   "metadata": {},
   "outputs": [
    {
     "data": {
      "text/plain": [
       "list"
      ]
     },
     "execution_count": 21,
     "metadata": {},
     "output_type": "execute_result"
    }
   ],
   "source": [
    "type(b)"
   ]
  },
  {
   "cell_type": "code",
   "execution_count": 22,
   "metadata": {},
   "outputs": [],
   "source": [
    "b =[1, \"2\", (1,2,3),4+4j ,True , [1,2,3,34,5]]   # nested list "
   ]
  },
  {
   "cell_type": "code",
   "execution_count": 23,
   "metadata": {},
   "outputs": [
    {
     "data": {
      "text/plain": [
       "list"
      ]
     },
     "execution_count": 23,
     "metadata": {},
     "output_type": "execute_result"
    }
   ],
   "source": [
    "type(b)"
   ]
  },
  {
   "cell_type": "code",
   "execution_count": 26,
   "metadata": {},
   "outputs": [
    {
     "data": {
      "text/plain": [
       "[1, '2', (1, 2, 3)]"
      ]
     },
     "execution_count": 26,
     "metadata": {},
     "output_type": "execute_result"
    }
   ],
   "source": [
    "b[5]  # indexing \n",
    "\n",
    "b[0:3]"
   ]
  },
  {
   "cell_type": "code",
   "execution_count": 30,
   "metadata": {},
   "outputs": [
    {
     "data": {
      "text/plain": [
       "[True, (1, 2, 3), 1]"
      ]
     },
     "execution_count": 30,
     "metadata": {},
     "output_type": "execute_result"
    }
   ],
   "source": [
    "b [4::-2]   #  slicing "
   ]
  },
  {
   "cell_type": "code",
   "execution_count": 35,
   "metadata": {},
   "outputs": [
    {
     "data": {
      "text/plain": [
       "[(4+4j), True, [1, 2, 3, 34, 5]]"
      ]
     },
     "execution_count": 35,
     "metadata": {},
     "output_type": "execute_result"
    }
   ],
   "source": [
    "b[3::1]"
   ]
  },
  {
   "cell_type": "code",
   "execution_count": null,
   "metadata": {},
   "outputs": [],
   "source": [
    "b =[1, \"2\", (1,2,3),4+4j ,True , [1,2,3,[34,3,2,4,4],5]] "
   ]
  },
  {
   "cell_type": "code",
   "execution_count": 47,
   "metadata": {},
   "outputs": [
    {
     "data": {
      "text/plain": [
       "[1, 2, 3, 34, 5]"
      ]
     },
     "execution_count": 47,
     "metadata": {},
     "output_type": "execute_result"
    }
   ],
   "source": [
    "b[5]"
   ]
  },
  {
   "cell_type": "code",
   "execution_count": 1,
   "metadata": {},
   "outputs": [],
   "source": [
    "l= [1,2,3,4,5,[6,3,4,5]]"
   ]
  },
  {
   "cell_type": "code",
   "execution_count": 5,
   "metadata": {},
   "outputs": [
    {
     "data": {
      "text/plain": [
       "[4]"
      ]
     },
     "execution_count": 5,
     "metadata": {},
     "output_type": "execute_result"
    }
   ],
   "source": [
    "l[3:5:2]"
   ]
  },
  {
   "cell_type": "code",
   "execution_count": null,
   "metadata": {},
   "outputs": [],
   "source": []
  },
  {
   "cell_type": "markdown",
   "metadata": {},
   "source": [
    "# List moddifications"
   ]
  },
  {
   "cell_type": "code",
   "execution_count": 6,
   "metadata": {},
   "outputs": [],
   "source": [
    "l= [1,2,3,4,5,[6,3,4,5]]"
   ]
  },
  {
   "cell_type": "code",
   "execution_count": 10,
   "metadata": {},
   "outputs": [
    {
     "data": {
      "text/plain": [
       "[1, 2, 3, 4, 5, [6, 3, 4, 5], 'prince', 'prince', 'prince', 'prince']"
      ]
     },
     "execution_count": 10,
     "metadata": {},
     "output_type": "execute_result"
    }
   ],
   "source": [
    "# append : it add element in last , one element only \n",
    "l.append(\"prince\")\n",
    "l\n"
   ]
  },
  {
   "cell_type": "code",
   "execution_count": 14,
   "metadata": {},
   "outputs": [],
   "source": [
    "l.append(\"learners\")"
   ]
  },
  {
   "cell_type": "code",
   "execution_count": 15,
   "metadata": {},
   "outputs": [
    {
     "data": {
      "text/plain": [
       "[1,\n",
       " 2,\n",
       " 3,\n",
       " 4,\n",
       " 5,\n",
       " [6, 3, 4, 5],\n",
       " 'prince',\n",
       " 'prince',\n",
       " 'prince',\n",
       " 'prince',\n",
       " 'learners']"
      ]
     },
     "execution_count": 15,
     "metadata": {},
     "output_type": "execute_result"
    }
   ],
   "source": [
    "l"
   ]
  },
  {
   "cell_type": "code",
   "execution_count": 17,
   "metadata": {},
   "outputs": [],
   "source": [
    "# extend : add more value or element at last \n",
    "l.extend([4,5])   # you hav eot pass the multiple value in list only "
   ]
  },
  {
   "cell_type": "code",
   "execution_count": 18,
   "metadata": {},
   "outputs": [
    {
     "data": {
      "text/plain": [
       "[1,\n",
       " 2,\n",
       " 3,\n",
       " 4,\n",
       " 5,\n",
       " [6, 3, 4, 5],\n",
       " 'prince',\n",
       " 'prince',\n",
       " 'prince',\n",
       " 'prince',\n",
       " 'learners',\n",
       " 4,\n",
       " 5]"
      ]
     },
     "execution_count": 18,
     "metadata": {},
     "output_type": "execute_result"
    }
   ],
   "source": [
    "l"
   ]
  },
  {
   "cell_type": "code",
   "execution_count": 21,
   "metadata": {},
   "outputs": [],
   "source": [
    "# insert : add a element at any specific position \n",
    "\n",
    "l.insert(6,\"prince katiayr\")"
   ]
  },
  {
   "cell_type": "code",
   "execution_count": 22,
   "metadata": {},
   "outputs": [
    {
     "data": {
      "text/plain": [
       "[1,\n",
       " 2,\n",
       " 3,\n",
       " 4,\n",
       " 5,\n",
       " [6, 3, 4, 5],\n",
       " 'prince katiayr',\n",
       " 10,\n",
       " 'prince',\n",
       " 'prince',\n",
       " 'prince',\n",
       " 'prince',\n",
       " 'learners',\n",
       " 4,\n",
       " 5]"
      ]
     },
     "execution_count": 22,
     "metadata": {},
     "output_type": "execute_result"
    }
   ],
   "source": [
    "l"
   ]
  },
  {
   "cell_type": "code",
   "execution_count": null,
   "metadata": {},
   "outputs": [],
   "source": []
  },
  {
   "cell_type": "markdown",
   "metadata": {},
   "source": [
    "# to remove values"
   ]
  },
  {
   "cell_type": "markdown",
   "metadata": {},
   "source": []
  },
  {
   "cell_type": "code",
   "execution_count": 23,
   "metadata": {},
   "outputs": [
    {
     "data": {
      "text/plain": [
       "[1,\n",
       " 2,\n",
       " 3,\n",
       " 4,\n",
       " 5,\n",
       " [6, 3, 4, 5],\n",
       " 'prince katiayr',\n",
       " 10,\n",
       " 'prince',\n",
       " 'prince',\n",
       " 'prince',\n",
       " 'prince',\n",
       " 'learners',\n",
       " 4,\n",
       " 5]"
      ]
     },
     "execution_count": 23,
     "metadata": {},
     "output_type": "execute_result"
    }
   ],
   "source": [
    "l"
   ]
  },
  {
   "cell_type": "code",
   "execution_count": 24,
   "metadata": {},
   "outputs": [],
   "source": [
    "l.remove(10)"
   ]
  },
  {
   "cell_type": "code",
   "execution_count": 25,
   "metadata": {},
   "outputs": [
    {
     "data": {
      "text/plain": [
       "[1,\n",
       " 2,\n",
       " 3,\n",
       " 4,\n",
       " 5,\n",
       " [6, 3, 4, 5],\n",
       " 'prince katiayr',\n",
       " 'prince',\n",
       " 'prince',\n",
       " 'prince',\n",
       " 'prince',\n",
       " 'learners',\n",
       " 4,\n",
       " 5]"
      ]
     },
     "execution_count": 25,
     "metadata": {},
     "output_type": "execute_result"
    }
   ],
   "source": [
    "l"
   ]
  },
  {
   "cell_type": "code",
   "execution_count": 28,
   "metadata": {},
   "outputs": [
    {
     "data": {
      "text/plain": [
       "[1,\n",
       " 5,\n",
       " [6, 3, 4, 5],\n",
       " 'prince katiayr',\n",
       " 'prince',\n",
       " 'prince',\n",
       " 'prince',\n",
       " 'prince',\n",
       " 'learners',\n",
       " 4,\n",
       " 5]"
      ]
     },
     "execution_count": 28,
     "metadata": {},
     "output_type": "execute_result"
    }
   ],
   "source": [
    "l.pop(1)\n",
    "l"
   ]
  },
  {
   "cell_type": "code",
   "execution_count": 29,
   "metadata": {},
   "outputs": [
    {
     "data": {
      "text/plain": [
       "5"
      ]
     },
     "execution_count": 29,
     "metadata": {},
     "output_type": "execute_result"
    }
   ],
   "source": [
    "l.pop()"
   ]
  },
  {
   "cell_type": "code",
   "execution_count": 30,
   "metadata": {},
   "outputs": [
    {
     "data": {
      "text/plain": [
       "[1,\n",
       " 5,\n",
       " [6, 3, 4, 5],\n",
       " 'prince katiayr',\n",
       " 'prince',\n",
       " 'prince',\n",
       " 'prince',\n",
       " 'prince',\n",
       " 'learners',\n",
       " 4]"
      ]
     },
     "execution_count": 30,
     "metadata": {},
     "output_type": "execute_result"
    }
   ],
   "source": [
    "l"
   ]
  },
  {
   "cell_type": "code",
   "execution_count": 31,
   "metadata": {},
   "outputs": [],
   "source": [
    "l1 = list()"
   ]
  },
  {
   "cell_type": "code",
   "execution_count": 33,
   "metadata": {},
   "outputs": [],
   "source": [
    "l.clear()"
   ]
  },
  {
   "cell_type": "code",
   "execution_count": 34,
   "metadata": {},
   "outputs": [
    {
     "data": {
      "text/plain": [
       "[]"
      ]
     },
     "execution_count": 34,
     "metadata": {},
     "output_type": "execute_result"
    }
   ],
   "source": [
    "l"
   ]
  },
  {
   "cell_type": "code",
   "execution_count": 35,
   "metadata": {},
   "outputs": [],
   "source": [
    "l.append(5)"
   ]
  },
  {
   "cell_type": "code",
   "execution_count": 36,
   "metadata": {},
   "outputs": [
    {
     "data": {
      "text/plain": [
       "[5]"
      ]
     },
     "execution_count": 36,
     "metadata": {},
     "output_type": "execute_result"
    }
   ],
   "source": [
    "l"
   ]
  },
  {
   "cell_type": "code",
   "execution_count": 37,
   "metadata": {},
   "outputs": [],
   "source": [
    "del l "
   ]
  },
  {
   "cell_type": "code",
   "execution_count": 38,
   "metadata": {},
   "outputs": [
    {
     "ename": "NameError",
     "evalue": "name 'l' is not defined",
     "output_type": "error",
     "traceback": [
      "\u001b[0;31m---------------------------------------------------------------------------\u001b[0m",
      "\u001b[0;31mNameError\u001b[0m                                 Traceback (most recent call last)",
      "Cell \u001b[0;32mIn[38], line 1\u001b[0m\n\u001b[0;32m----> 1\u001b[0m l\u001b[38;5;241m.\u001b[39mappend()\n",
      "\u001b[0;31mNameError\u001b[0m: name 'l' is not defined"
     ]
    }
   ],
   "source": [
    "l.append()"
   ]
  },
  {
   "cell_type": "code",
   "execution_count": null,
   "metadata": {},
   "outputs": [],
   "source": []
  },
  {
   "cell_type": "code",
   "execution_count": null,
   "metadata": {},
   "outputs": [],
   "source": [
    "#\\"
   ]
  },
  {
   "cell_type": "markdown",
   "metadata": {},
   "source": [
    "# shallow and deep copy()"
   ]
  },
  {
   "cell_type": "code",
   "execution_count": null,
   "metadata": {},
   "outputs": [],
   "source": [
    "# shallow copy ; Creates a new list object with the same elements, but does not create copies of nested objects."
   ]
  },
  {
   "cell_type": "code",
   "execution_count": 55,
   "metadata": {},
   "outputs": [],
   "source": [
    "import copy\n",
    "lst = [1,[2,34],5]\n",
    "shallow =lst.copy()\n",
    "shallow[1][1]=99"
   ]
  },
  {
   "cell_type": "code",
   "execution_count": 56,
   "metadata": {},
   "outputs": [
    {
     "data": {
      "text/plain": [
       "[1, [2, 99], 5]"
      ]
     },
     "execution_count": 56,
     "metadata": {},
     "output_type": "execute_result"
    }
   ],
   "source": [
    "lst"
   ]
  },
  {
   "cell_type": "code",
   "execution_count": 57,
   "metadata": {},
   "outputs": [
    {
     "data": {
      "text/plain": [
       "[1, [2, 99], 5]"
      ]
     },
     "execution_count": 57,
     "metadata": {},
     "output_type": "execute_result"
    }
   ],
   "source": [
    "shallow"
   ]
  },
  {
   "cell_type": "code",
   "execution_count": 60,
   "metadata": {},
   "outputs": [],
   "source": [
    "l = [1,2,[4,5,6],7]\n",
    "import copy\n",
    "s=l.copy()"
   ]
  },
  {
   "cell_type": "code",
   "execution_count": 61,
   "metadata": {},
   "outputs": [
    {
     "data": {
      "text/plain": [
       "[1, 2, [4, 5, 6], 7]"
      ]
     },
     "execution_count": 61,
     "metadata": {},
     "output_type": "execute_result"
    }
   ],
   "source": [
    "l"
   ]
  },
  {
   "cell_type": "code",
   "execution_count": 63,
   "metadata": {},
   "outputs": [],
   "source": [
    "s[2][2]=99"
   ]
  },
  {
   "cell_type": "code",
   "execution_count": 64,
   "metadata": {},
   "outputs": [
    {
     "data": {
      "text/plain": [
       "[1, 2, [4, 5, 99], 7]"
      ]
     },
     "execution_count": 64,
     "metadata": {},
     "output_type": "execute_result"
    }
   ],
   "source": [
    "l"
   ]
  },
  {
   "cell_type": "code",
   "execution_count": 65,
   "metadata": {},
   "outputs": [],
   "source": [
    "l = [1,2,[4,5,6],7]"
   ]
  },
  {
   "cell_type": "code",
   "execution_count": 66,
   "metadata": {},
   "outputs": [],
   "source": [
    "deep_copy=copy.deepcopy(l)"
   ]
  },
  {
   "cell_type": "code",
   "execution_count": 67,
   "metadata": {},
   "outputs": [
    {
     "data": {
      "text/plain": [
       "[1, 2, [4, 5, 6], 7]"
      ]
     },
     "execution_count": 67,
     "metadata": {},
     "output_type": "execute_result"
    }
   ],
   "source": [
    "l"
   ]
  },
  {
   "cell_type": "code",
   "execution_count": 70,
   "metadata": {},
   "outputs": [],
   "source": [
    "deep_copy[2][2]=100\n",
    "\n"
   ]
  },
  {
   "cell_type": "code",
   "execution_count": 71,
   "metadata": {},
   "outputs": [
    {
     "data": {
      "text/plain": [
       "[1, 2, [4, 5, 6], 7]"
      ]
     },
     "execution_count": 71,
     "metadata": {},
     "output_type": "execute_result"
    }
   ],
   "source": [
    "l"
   ]
  },
  {
   "cell_type": "code",
   "execution_count": 72,
   "metadata": {},
   "outputs": [
    {
     "data": {
      "text/plain": [
       "[1, 2, [4, 5, 100], 7]"
      ]
     },
     "execution_count": 72,
     "metadata": {},
     "output_type": "execute_result"
    }
   ],
   "source": [
    "deep_copy"
   ]
  },
  {
   "cell_type": "code",
   "execution_count": null,
   "metadata": {},
   "outputs": [],
   "source": []
  },
  {
   "cell_type": "markdown",
   "metadata": {},
   "source": [
    "# list comprehension"
   ]
  },
  {
   "cell_type": "code",
   "execution_count": 76,
   "metadata": {},
   "outputs": [],
   "source": [
    "s = []\n",
    "for i in range(11):\n",
    "    s.append(i**2)"
   ]
  },
  {
   "cell_type": "code",
   "execution_count": 77,
   "metadata": {},
   "outputs": [
    {
     "data": {
      "text/plain": [
       "[0, 1, 4, 9, 16, 25, 36, 49, 64, 81, 100]"
      ]
     },
     "execution_count": 77,
     "metadata": {},
     "output_type": "execute_result"
    }
   ],
   "source": [
    "s"
   ]
  },
  {
   "cell_type": "code",
   "execution_count": 78,
   "metadata": {},
   "outputs": [],
   "source": [
    "s= [i**2 for i in range(10)]"
   ]
  },
  {
   "cell_type": "code",
   "execution_count": 79,
   "metadata": {},
   "outputs": [
    {
     "data": {
      "text/plain": [
       "[0, 1, 4, 9, 16, 25, 36, 49, 64, 81]"
      ]
     },
     "execution_count": 79,
     "metadata": {},
     "output_type": "execute_result"
    }
   ],
   "source": [
    "s"
   ]
  },
  {
   "cell_type": "code",
   "execution_count": 80,
   "metadata": {},
   "outputs": [],
   "source": [
    "s=[i**2 for  i in range(10) if i %2 ==0]"
   ]
  },
  {
   "cell_type": "code",
   "execution_count": 81,
   "metadata": {},
   "outputs": [
    {
     "data": {
      "text/plain": [
       "[0, 4, 16, 36, 64]"
      ]
     },
     "execution_count": 81,
     "metadata": {},
     "output_type": "execute_result"
    }
   ],
   "source": [
    "s"
   ]
  },
  {
   "cell_type": "code",
   "execution_count": 82,
   "metadata": {},
   "outputs": [],
   "source": [
    "s=[i**2 for  i in range(10) if i %2 !=0]"
   ]
  },
  {
   "cell_type": "code",
   "execution_count": 83,
   "metadata": {},
   "outputs": [
    {
     "data": {
      "text/plain": [
       "[1, 9, 25, 49, 81]"
      ]
     },
     "execution_count": 83,
     "metadata": {},
     "output_type": "execute_result"
    }
   ],
   "source": [
    "s"
   ]
  },
  {
   "cell_type": "code",
   "execution_count": null,
   "metadata": {},
   "outputs": [],
   "source": []
  },
  {
   "cell_type": "markdown",
   "metadata": {},
   "source": [
    "# sorted and sort "
   ]
  },
  {
   "cell_type": "code",
   "execution_count": 96,
   "metadata": {},
   "outputs": [],
   "source": [
    "l = [13,2,31,4,4,5]\n",
    "l1=l.sort(reverse=True)"
   ]
  },
  {
   "cell_type": "code",
   "execution_count": 97,
   "metadata": {},
   "outputs": [
    {
     "data": {
      "text/plain": [
       "[31, 13, 5, 4, 4, 2]"
      ]
     },
     "execution_count": 97,
     "metadata": {},
     "output_type": "execute_result"
    }
   ],
   "source": [
    "l"
   ]
  },
  {
   "cell_type": "code",
   "execution_count": 91,
   "metadata": {},
   "outputs": [],
   "source": [
    "l1"
   ]
  },
  {
   "cell_type": "code",
   "execution_count": null,
   "metadata": {},
   "outputs": [],
   "source": [
    "sorted()"
   ]
  },
  {
   "cell_type": "code",
   "execution_count": 98,
   "metadata": {},
   "outputs": [],
   "source": [
    "lt =[1,2,3,3,532,232,2,43,43,53,54,53,434,3,7]"
   ]
  },
  {
   "cell_type": "code",
   "execution_count": 102,
   "metadata": {},
   "outputs": [],
   "source": [
    "sort_lt=sorted(lt, reverse=True)"
   ]
  },
  {
   "cell_type": "code",
   "execution_count": 103,
   "metadata": {},
   "outputs": [
    {
     "data": {
      "text/plain": [
       "[532, 434, 232, 54, 53, 53, 43, 43, 7, 3, 3, 3, 2, 2, 1]"
      ]
     },
     "execution_count": 103,
     "metadata": {},
     "output_type": "execute_result"
    }
   ],
   "source": [
    "sort_lt"
   ]
  },
  {
   "cell_type": "code",
   "execution_count": 104,
   "metadata": {},
   "outputs": [
    {
     "data": {
      "text/plain": [
       "[1, 2, 3, 3, 532, 232, 2, 43, 43, 53, 54, 53, 434, 3, 7]"
      ]
     },
     "execution_count": 104,
     "metadata": {},
     "output_type": "execute_result"
    }
   ],
   "source": [
    "lt"
   ]
  },
  {
   "cell_type": "code",
   "execution_count": null,
   "metadata": {},
   "outputs": [],
   "source": []
  },
  {
   "cell_type": "markdown",
   "metadata": {},
   "source": [
    "# operators/"
   ]
  },
  {
   "cell_type": "code",
   "execution_count": 105,
   "metadata": {},
   "outputs": [],
   "source": [
    "l1 =[1,2,34,]\n",
    "l2 =[1,56,7]"
   ]
  },
  {
   "cell_type": "code",
   "execution_count": 106,
   "metadata": {},
   "outputs": [
    {
     "ename": "TypeError",
     "evalue": "unsupported operand type(s) for -: 'list' and 'list'",
     "output_type": "error",
     "traceback": [
      "\u001b[0;31m---------------------------------------------------------------------------\u001b[0m",
      "\u001b[0;31mTypeError\u001b[0m                                 Traceback (most recent call last)",
      "Cell \u001b[0;32mIn[106], line 1\u001b[0m\n\u001b[0;32m----> 1\u001b[0m l1\u001b[38;5;241m-\u001b[39ml2\n",
      "\u001b[0;31mTypeError\u001b[0m: unsupported operand type(s) for -: 'list' and 'list'"
     ]
    }
   ],
   "source": [
    "l1-l2"
   ]
  },
  {
   "cell_type": "code",
   "execution_count": 107,
   "metadata": {},
   "outputs": [
    {
     "data": {
      "text/plain": [
       "[1, 2, 34, 1, 56, 7]"
      ]
     },
     "execution_count": 107,
     "metadata": {},
     "output_type": "execute_result"
    }
   ],
   "source": [
    "l1+l2  # concatenation opearion "
   ]
  },
  {
   "cell_type": "code",
   "execution_count": 108,
   "metadata": {},
   "outputs": [
    {
     "data": {
      "text/plain": [
       "[1, 56, 7, 1, 2, 34]"
      ]
     },
     "execution_count": 108,
     "metadata": {},
     "output_type": "execute_result"
    }
   ],
   "source": [
    "l2+l1"
   ]
  },
  {
   "cell_type": "code",
   "execution_count": 110,
   "metadata": {},
   "outputs": [
    {
     "ename": "TypeError",
     "evalue": "can't multiply sequence by non-int of type 'list'",
     "output_type": "error",
     "traceback": [
      "\u001b[0;31m---------------------------------------------------------------------------\u001b[0m",
      "\u001b[0;31mTypeError\u001b[0m                                 Traceback (most recent call last)",
      "Cell \u001b[0;32mIn[110], line 1\u001b[0m\n\u001b[0;32m----> 1\u001b[0m l1\u001b[38;5;241m*\u001b[39ml2\n",
      "\u001b[0;31mTypeError\u001b[0m: can't multiply sequence by non-int of type 'list'"
     ]
    }
   ],
   "source": [
    "l1*l2"
   ]
  },
  {
   "cell_type": "code",
   "execution_count": 111,
   "metadata": {},
   "outputs": [
    {
     "ename": "TypeError",
     "evalue": "unsupported operand type(s) for /: 'list' and 'list'",
     "output_type": "error",
     "traceback": [
      "\u001b[0;31m---------------------------------------------------------------------------\u001b[0m",
      "\u001b[0;31mTypeError\u001b[0m                                 Traceback (most recent call last)",
      "Cell \u001b[0;32mIn[111], line 1\u001b[0m\n\u001b[0;32m----> 1\u001b[0m l1\u001b[38;5;241m/\u001b[39ml2\n",
      "\u001b[0;31mTypeError\u001b[0m: unsupported operand type(s) for /: 'list' and 'list'"
     ]
    }
   ],
   "source": [
    "l1/l2"
   ]
  },
  {
   "cell_type": "code",
   "execution_count": 112,
   "metadata": {},
   "outputs": [
    {
     "data": {
      "text/plain": [
       "[1, 2, 34]"
      ]
     },
     "execution_count": 112,
     "metadata": {},
     "output_type": "execute_result"
    }
   ],
   "source": [
    "# repetition operation \n",
    "\n",
    "a =3\n",
    "l1"
   ]
  },
  {
   "cell_type": "code",
   "execution_count": 113,
   "metadata": {},
   "outputs": [
    {
     "data": {
      "text/plain": [
       "[1, 2, 34, 1, 2, 34, 1, 2, 34]"
      ]
     },
     "execution_count": 113,
     "metadata": {},
     "output_type": "execute_result"
    }
   ],
   "source": [
    "l1*a"
   ]
  },
  {
   "cell_type": "code",
   "execution_count": 114,
   "metadata": {},
   "outputs": [
    {
     "data": {
      "text/plain": [
       "[1, 2, 34]"
      ]
     },
     "execution_count": 114,
     "metadata": {},
     "output_type": "execute_result"
    }
   ],
   "source": [
    "l1 "
   ]
  },
  {
   "cell_type": "code",
   "execution_count": 119,
   "metadata": {},
   "outputs": [
    {
     "name": "stdout",
     "output_type": "stream",
     "text": [
      "yes\n"
     ]
    }
   ],
   "source": [
    "if 35 not in l1:\n",
    "    print(\"yes\"\n",
    "          )\n",
    "else:\n",
    "    print(\"no\")"
   ]
  },
  {
   "cell_type": "code",
   "execution_count": 121,
   "metadata": {},
   "outputs": [
    {
     "name": "stdout",
     "output_type": "stream",
     "text": [
      "1\n",
      "2\n",
      "34\n"
     ]
    }
   ],
   "source": [
    "# looping \n",
    "\n",
    "l1\n",
    "for i in l1:   \n",
    "    print(i)"
   ]
  },
  {
   "cell_type": "code",
   "execution_count": 122,
   "metadata": {},
   "outputs": [
    {
     "name": "stdout",
     "output_type": "stream",
     "text": [
      "1\n",
      "2\n",
      "34\n"
     ]
    }
   ],
   "source": [
    "i =0\n",
    "while i <len(l1):\n",
    "    print(l1[i])\n",
    "    i = i+1"
   ]
  },
  {
   "cell_type": "code",
   "execution_count": null,
   "metadata": {},
   "outputs": [],
   "source": []
  },
  {
   "cell_type": "markdown",
   "metadata": {},
   "source": [
    "# functions \n"
   ]
  },
  {
   "cell_type": "code",
   "execution_count": 123,
   "metadata": {},
   "outputs": [
    {
     "data": {
      "text/plain": [
       "[1, 2, 34]"
      ]
     },
     "execution_count": 123,
     "metadata": {},
     "output_type": "execute_result"
    }
   ],
   "source": [
    "l1 "
   ]
  },
  {
   "cell_type": "code",
   "execution_count": 124,
   "metadata": {},
   "outputs": [
    {
     "data": {
      "text/plain": [
       "3"
      ]
     },
     "execution_count": 124,
     "metadata": {},
     "output_type": "execute_result"
    }
   ],
   "source": [
    "len(l1)"
   ]
  },
  {
   "cell_type": "code",
   "execution_count": 126,
   "metadata": {},
   "outputs": [
    {
     "data": {
      "text/plain": [
       "34"
      ]
     },
     "execution_count": 126,
     "metadata": {},
     "output_type": "execute_result"
    }
   ],
   "source": [
    "max(l1)"
   ]
  },
  {
   "cell_type": "code",
   "execution_count": 127,
   "metadata": {},
   "outputs": [
    {
     "data": {
      "text/plain": [
       "1"
      ]
     },
     "execution_count": 127,
     "metadata": {},
     "output_type": "execute_result"
    }
   ],
   "source": [
    "min(l1)"
   ]
  },
  {
   "cell_type": "code",
   "execution_count": 128,
   "metadata": {},
   "outputs": [
    {
     "data": {
      "text/plain": [
       "37"
      ]
     },
     "execution_count": 128,
     "metadata": {},
     "output_type": "execute_result"
    }
   ],
   "source": [
    "sum(l1)"
   ]
  },
  {
   "cell_type": "code",
   "execution_count": 133,
   "metadata": {},
   "outputs": [
    {
     "data": {
      "text/plain": [
       "[3, 5, 2, 6, 7, 8, 64]"
      ]
     },
     "execution_count": 133,
     "metadata": {},
     "output_type": "execute_result"
    }
   ],
   "source": [
    "l3 = [3,5,2,6,7,8,64]\n",
    "sortl=sorted(l3)\n",
    "l3"
   ]
  },
  {
   "cell_type": "code",
   "execution_count": 134,
   "metadata": {},
   "outputs": [
    {
     "data": {
      "text/plain": [
       "[2, 3, 5, 6, 7, 8, 64]"
      ]
     },
     "execution_count": 134,
     "metadata": {},
     "output_type": "execute_result"
    }
   ],
   "source": [
    "sortl"
   ]
  },
  {
   "cell_type": "code",
   "execution_count": 4,
   "metadata": {},
   "outputs": [
    {
     "name": "stdout",
     "output_type": "stream",
     "text": [
      "[3, 2, 1]\n"
     ]
    }
   ],
   "source": [
    "l3 =[1,2,3]\n",
    "rv=list(reversed(l3))\n",
    "print(rv)"
   ]
  },
  {
   "cell_type": "code",
   "execution_count": null,
   "metadata": {},
   "outputs": [],
   "source": []
  },
  {
   "cell_type": "code",
   "execution_count": null,
   "metadata": {},
   "outputs": [],
   "source": []
  },
  {
   "cell_type": "markdown",
   "metadata": {},
   "source": [
    "# zip and enumerate"
   ]
  },
  {
   "cell_type": "code",
   "execution_count": 66,
   "metadata": {},
   "outputs": [],
   "source": [
    "l1 =[1,2,3]\n",
    "l2=[4,5,6]"
   ]
  },
  {
   "cell_type": "code",
   "execution_count": 72,
   "metadata": {},
   "outputs": [
    {
     "name": "stdout",
     "output_type": "stream",
     "text": [
      "{1: 4, 2: 5, 3: 6}\n"
     ]
    }
   ],
   "source": [
    "a =zip(l1,l2)\n",
    "print(dict(a))"
   ]
  },
  {
   "cell_type": "code",
   "execution_count": 73,
   "metadata": {},
   "outputs": [],
   "source": [
    "l1 =(1,2,3)\n",
    "l2=(4,5,6)\n"
   ]
  },
  {
   "cell_type": "code",
   "execution_count": 75,
   "metadata": {},
   "outputs": [
    {
     "name": "stdout",
     "output_type": "stream",
     "text": [
      "{1: 4, 2: 5, 3: 6}\n"
     ]
    }
   ],
   "source": [
    "a = zip(l1,l2)\n",
    "print(dict(a))"
   ]
  },
  {
   "cell_type": "code",
   "execution_count": 77,
   "metadata": {},
   "outputs": [
    {
     "name": "stdout",
     "output_type": "stream",
     "text": [
      "{'1': 'a', '2': 'b', '3': 'c'}\n"
     ]
    }
   ],
   "source": [
    "s1 = \"123\"\n",
    "s2 =\"abc\"\n",
    "\n",
    "b=zip(s1,s2)\n",
    "print(dict(b))"
   ]
  },
  {
   "cell_type": "code",
   "execution_count": 80,
   "metadata": {},
   "outputs": [
    {
     "name": "stdout",
     "output_type": "stream",
     "text": [
      "{1: 5, 2: 6, 3: 7, 4: 8}\n"
     ]
    }
   ],
   "source": [
    "r1=range(1,5)\n",
    "r2 =range(5,10)\n",
    "\n",
    "b=zip(r1,r2)\n",
    "print(dict(b))"
   ]
  },
  {
   "cell_type": "code",
   "execution_count": 81,
   "metadata": {},
   "outputs": [],
   "source": [
    "names = [\"prince\",\"rajat\",\"pawan\"]\n",
    "ages = [25, 30]\n",
    "cities =  [\"india\",\"srilanka\",'bhutan']"
   ]
  },
  {
   "cell_type": "code",
   "execution_count": 82,
   "metadata": {},
   "outputs": [
    {
     "name": "stdout",
     "output_type": "stream",
     "text": [
      "{'prince': 25, 'rajat': 30}\n"
     ]
    }
   ],
   "source": [
    "Z =zip(names,ages)\n",
    "\n",
    "print(dict(Z))"
   ]
  },
  {
   "cell_type": "code",
   "execution_count": 84,
   "metadata": {},
   "outputs": [
    {
     "name": "stdout",
     "output_type": "stream",
     "text": [
      "[('prince', 25, 'india'), ('rajat', 30, 'srilanka')]\n"
     ]
    }
   ],
   "source": [
    "names = [\"prince\",\"rajat\",\"pawan\"]\n",
    "ages = [25, 30]\n",
    "cities =  [\"india\",\"srilanka\",'bhutan']\n",
    "\n",
    "z1 =zip(names,ages,cities)\n",
    "print(list(z1))"
   ]
  },
  {
   "cell_type": "code",
   "execution_count": null,
   "metadata": {},
   "outputs": [],
   "source": []
  },
  {
   "cell_type": "code",
   "execution_count": null,
   "metadata": {},
   "outputs": [],
   "source": []
  },
  {
   "cell_type": "markdown",
   "metadata": {},
   "source": [
    "# enumerate fucntion "
   ]
  },
  {
   "cell_type": "code",
   "execution_count": 89,
   "metadata": {},
   "outputs": [
    {
     "name": "stdout",
     "output_type": "stream",
     "text": [
      "0 prince\n",
      "1 rajat\n",
      "2 pawan\n"
     ]
    }
   ],
   "source": [
    "names = (\"prince\",\"rajat\",\"pawan\")\n",
    "for index,ele in enumerate(names):\n",
    "    print(index,ele)"
   ]
  },
  {
   "cell_type": "code",
   "execution_count": 90,
   "metadata": {},
   "outputs": [
    {
     "name": "stdout",
     "output_type": "stream",
     "text": [
      "1 prince\n",
      "2 rajat\n",
      "3 pawan\n"
     ]
    }
   ],
   "source": [
    "names = (\"prince\",\"rajat\",\"pawan\")\n",
    "for index,ele in enumerate(names,start=1):\n",
    "    print(index,ele)"
   ]
  },
  {
   "cell_type": "code",
   "execution_count": null,
   "metadata": {},
   "outputs": [],
   "source": []
  },
  {
   "cell_type": "code",
   "execution_count": 93,
   "metadata": {},
   "outputs": [
    {
     "name": "stdout",
     "output_type": "stream",
     "text": [
      "0 a 1\n",
      "1 b 2\n",
      "2 c 3\n"
     ]
    }
   ],
   "source": [
    "items = {\"a\": 1, \"b\": 2, \"c\": 3}\n",
    "\n",
    "for index, (key, value)  in enumerate(items.items()):\n",
    "    print(index,key, value)"
   ]
  },
  {
   "cell_type": "code",
   "execution_count": null,
   "metadata": {},
   "outputs": [],
   "source": []
  },
  {
   "cell_type": "markdown",
   "metadata": {},
   "source": [
    "# 20 interview questions"
   ]
  },
  {
   "cell_type": "markdown",
   "metadata": {},
   "source": [
    "### 1. What are Python lists, and how do they differ from arrays in other programming languages?\n",
    "\n",
    "**Answer:**\n",
    "\n",
    "- **Python Lists:** Python lists are dynamic, ordered collections that can hold items of different data types, such as integers, strings, or even other lists. Lists are mutable, meaning their elements can be modified.\n",
    "- **Difference from Arrays:** In languages like C++ or Java, arrays have a fixed size and typically hold elements of a single data type. Python lists, however, can grow or shrink in size and can store mixed data types.\n",
    "\n",
    "### 2. How does Python handle memory allocation for lists?\n",
    "\n",
    "**Answer:**\n",
    "\n",
    "- Python lists are implemented as dynamic arrays. When you append an element to a list, Python may allocate more space than is needed to accommodate future growth, reducing the number of memory allocations needed as the list grows. If the preallocated space runs out, Python will allocate a larger block of memory, copy the existing elements to the new block, and then free the old block. This dynamic allocation allows for efficient list operations.\n",
    "\n",
    "### 3. Explain the difference between shallow copy and deep copy in Python lists.\n",
    "\n",
    "**Answer:**\n",
    "\n",
    "- **Shallow Copy:** A shallow copy of a list creates a new list object but doesn’t create copies of the nested objects within the list. Modifications to nested objects in the copied list will affect the original list.\n",
    "    \n",
    "    ```python\n",
    "    \n",
    "    import copy\n",
    "    original = [[1, 2, 3], [4, 5, 6]]\n",
    "    shallow_copy = copy.copy(original)\n",
    "    shallow_copy[0][0] = 99\n",
    "    print(original)  # Output: [[99, 2, 3], [4, 5, 6]]\n",
    "    \n",
    "    ```\n",
    "    \n",
    "- **Deep Copy:** A deep copy creates a new list and recursively copies all objects found within the original list, including nested lists. Modifications to the deep copied list do not affect the original list.\n",
    "    \n",
    "    ```python\n",
    "    \n",
    "    deep_copy = copy.deepcopy(original)\n",
    "    deep_copy[0][0] = 88\n",
    "    print(original)  # Output: [[99, 2, 3], [4, 5, 6]]\n",
    "    print(deep_copy)  # Output: [[88, 2, 3], [4, 5, 6]]\n",
    "    \n",
    "    ```\n",
    "    \n",
    "\n",
    "### 4. What is the difference between the `sort()` and `sorted()` functions in Python?\n",
    "\n",
    "**Answer:**\n",
    "\n",
    "- **`sort()`:** This method sorts the list in place and returns `None`. It modifies the original list.\n",
    "    \n",
    "    ```python\n",
    "    \n",
    "    numbers = [3, 1, 4, 1, 5]\n",
    "    numbers.sort()\n",
    "    print(numbers)  # Output: [1, 1, 3, 4, 5]\n",
    "    \n",
    "    ```\n",
    "    \n",
    "- **`sorted()`:** This function returns a new list that is a sorted version of the original list, leaving the original list unchanged.\n",
    "    \n",
    "    ```python\n",
    "    \n",
    "    numbers = [3, 1, 4, 1, 5]\n",
    "    sorted_numbers = sorted(numbers)\n",
    "    print(numbers)  # Output: [3, 1, 4, 1, 5]\n",
    "    print(sorted_numbers)  # Output: [1, 1, 3, 4, 5]\n",
    "    \n",
    "    ```\n",
    "    \n",
    "\n",
    "### 5. How do you handle multi-dimensional lists in Python?\n",
    "\n",
    "**Answer:**\n",
    "\n",
    "- Multi-dimensional lists, or nested lists, are lists containing other lists as their elements. You can access elements by using multiple indices.\n",
    "    \n",
    "    ```python\n",
    "    \n",
    "    matrix = [\n",
    "        [1, 2, 3],\n",
    "        [4, 5, 6],\n",
    "        [7, 8, 9]\n",
    "    ]\n",
    "    # Accessing element 5\n",
    "    print(matrix[1][1])  # Output: 5\n",
    "    \n",
    "    ```\n",
    "    \n",
    "- You can iterate through multi-dimensional lists using nested loops.\n",
    "    \n",
    "    ```python\n",
    "    \n",
    "    for row in matrix:\n",
    "        for element in row:\n",
    "            print(element, end=' ')\n",
    "    # Output: 1 2 3 4 5 6 7 8 9\n",
    "    \n",
    "    ```\n",
    "    \n",
    "\n",
    "\n",
    "\n",
    "\n",
    "### 6. What are list comprehensions in Python, and how do they differ from traditional for loops?\n",
    "\n",
    "**Answer:**\n",
    "\n",
    "- **List Comprehensions:** List comprehensions provide a concise way to create lists. The syntax is `[expression for item in iterable if condition]`. List comprehensions are generally more compact and faster than traditional for loops.\n",
    "    \n",
    "    ```python\n",
    "    \n",
    "    squares = [x**2 for x in range(10)]\n",
    "    print(squares)  # Output: [0, 1, 4, 9, 16, 25, 36, 49, 64, 81]\n",
    "    \n",
    "    ```\n",
    "    \n",
    "- **Traditional For Loop:**\n",
    "    \n",
    "    ```python\n",
    "    \n",
    "    squares = []\n",
    "    for x in range(10):\n",
    "        squares.append(x**2)\n",
    "    print(squares)  # Output: [0, 1, 4, 9, 16, 25, 36, 49, 64, 81]\n",
    "    \n",
    "    ```\n",
    "    \n",
    "\n",
    "### 7. Explain the concept of list slicing in Python with examples.\n",
    "\n",
    "**Answer:**\n",
    "\n",
    "- **List Slicing:** List slicing allows you to extract a portion of a list by specifying a range of indices. The syntax is `list[start:stop:step]`.\n",
    "    \n",
    "    ```python\n",
    "    \n",
    "    numbers = [0, 1, 2, 3, 4, 5]\n",
    "    print(numbers[1:4])  # Output: [1, 2, 3] (elements from index 1 to 3)\n",
    "    print(numbers[:3])   # Output: [0, 1, 2] (elements from start to index 2)\n",
    "    print(numbers[::2])  # Output: [0, 2, 4] (every second element)\n",
    "    \n",
    "    ```\n",
    "    \n",
    "\n",
    "### 8. How do Python lists handle heterogeneity, and what are the implications?\n",
    "\n",
    "**Answer:**\n",
    "\n",
    "- **Heterogeneity in Lists:** Python lists can store elements of different data types, including integers, strings, objects, and even other lists. This flexibility allows lists to be used in various scenarios but can also lead to unexpected behavior if not carefully managed.\n",
    "    \n",
    "    ```python\n",
    "    \n",
    "    mixed_list = [1, \"apple\", 3.14, [2, 4, 6]]\n",
    "    print(mixed_list)  # Output: [1, 'apple', 3.14, [2, 4, 6]]\n",
    "    \n",
    "    ```\n",
    "    \n",
    "- **Implications:** While this flexibility is powerful, it may lead to issues when performing operations that expect elements to be of the same type.\n",
    "\n",
    "### 9. What is the difference between `append()` and `extend()` methods in Python lists?\n",
    "\n",
    "**Answer:**\n",
    "\n",
    "- **`append()`:** This method adds a single element to the end of the list.\n",
    "    \n",
    "    ```python\n",
    "    \n",
    "    lst = [1, 2, 3]\n",
    "    lst.append([4, 5])\n",
    "    print(lst)  # Output: [1, 2, 3, [4, 5]]\n",
    "    \n",
    "    ```\n",
    "    \n",
    "- **`extend()`:** This method adds all the elements of an iterable (like another list) to the end of the list.\n",
    "    \n",
    "    ```python\n",
    "    \n",
    "    lst = [1, 2, 3]\n",
    "    lst.extend([4, 5])\n",
    "    print(lst)  # Output: [1, 2, 3, 4, 5]\n",
    "    \n",
    "    ```\n",
    "    \n",
    "\n",
    "### 10. How does Python’s `in` operator work with lists?\n",
    "\n",
    "**Answer:**\n",
    "\n",
    "- The `in` operator is used to check if an element exists within a list. It returns `True` if the element is found and `False` otherwise. The operation is O(n) as it may require checking every element in the list.\n",
    "\n",
    "\n"
   ]
  },
  {
   "cell_type": "markdown",
   "metadata": {},
   "source": [
    "### . What are the key differences between Python lists and tuples?\n",
    "\n",
    "**Answer:**\n",
    "\n",
    "- **Mutability:** Lists are mutable, meaning you can modify their elements after creation, whereas tuples are immutable.\n",
    "- **Performance:** Tuples are generally faster than lists because they are immutable and thus have a smaller memory overhead.\n",
    "- **Use Case:** Lists are used when you need a dynamic collection of elements that can change, while tuples are preferred for fixed collections that should not be modified.\n",
    "\n",
    "### 12. How do Python lists handle dynamic resizing?\n",
    "\n",
    "**Answer:**\n",
    "\n",
    "- Python lists automatically manage dynamic resizing by allocating more space than needed when the list grows. When the list exceeds the preallocated space, Python reallocates memory to a larger block, copies the existing elements, and frees the old memory. This process is efficient and allows lists to grow dynamically.\n",
    "\n",
    "### 13. What are the implications of using lists as default arguments in functions?\n",
    "\n",
    "**Answer:**\n",
    "\n",
    "- Using lists (or other mutable types) as default arguments in functions can lead to unexpected behavior. The default argument is evaluated only once, meaning that if the list is modified, the change persists across future function calls. To avoid this, use `None` as a default and initialize the list inside the function.\n",
    "\n",
    "### 14. Can you explain the concept of list aliasing in Python?\n",
    "\n",
    "**Answer:**\n",
    "\n",
    "- **List Aliasing:** Aliasing occurs when two variables reference the same list object in memory. Modifying the list through one variable will affect the other since both refer to the same object.\n",
    "    \n",
    "    ```python\n",
    "    pythonCopy code\n",
    "    a = [1, 2, 3]\n",
    "    b = a\n",
    "    b.append(4)\n",
    "    print(a)  # Output: [1, 2, 3, 4]\n",
    "    \n",
    "    ```\n",
    "    \n",
    "\n",
    "### 15. How does Python handle negative indexing in lists?\n",
    "\n",
    "**Answer:**\n",
    "\n",
    "- **Negative Indexing:** Python allows the use of negative indices to access elements from the end of the list. For example, `1` refers to the last element, `2` to the second last, and so on. This feature is useful for quickly accessing elements relative to the end of a list.\n",
    "\n",
    "### 16. What are some potential pitfalls when using Python lists in a multithreaded environment?\n",
    "\n",
    "**Answer:**\n",
    "\n",
    "- **Race Conditions:** Python lists are not thread-safe, meaning that if multiple threads try to modify a list simultaneously, it may lead to race conditions and inconsistent states.\n",
    "- **GIL Impact:** While Python's Global Interpreter Lock (GIL) may prevent some issues, it can also become a bottleneck, especially in CPU-bound applications. Careful use of thread synchronization mechanisms is required.\n",
    "\n",
    "### 17. How do list methods like `pop()`, `remove()`, and `del` differ in their functionality?\n",
    "\n",
    "**Answer:**\n",
    "\n",
    "- **`pop()`:** Removes and returns the element at a specified index (or the last element if no index is provided).\n",
    "- **`remove()`:** Removes the first occurrence of a specified value from the list.\n",
    "- **`del`:** Deletes an element at a specified index or an entire slice from the list.\n",
    "\n",
    "### 18. What are the consequences of using large lists in Python in terms of memory and performance?\n",
    "\n",
    "**Answer:**\n",
    "\n",
    "- **Memory Usage:** Large lists can consume significant amounts of memory, especially if they hold large objects or a large number of elements.\n",
    "- **Performance Impact:** Operations like inserting or deleting elements, especially in the middle of a large list, can be slow due to the need to shift elements. Additionally, large lists can lead to increased memory fragmentation, affecting performance.\n",
    "\n",
    "### 19. Can you explain how list concatenation works in Python and its potential downsides?\n",
    "\n",
    "**Answer:**\n",
    "\n",
    "- **Concatenation:** List concatenation using the `+` operator creates a new list containing all elements from the operands. This operation has a time complexity of O(n), where n is the total number of elements, which can be inefficient for very large lists.\n",
    "- **Downside:** Since concatenation creates a new list, it can be memory-intensive and slow for large lists. Additionally, repeatedly concatenating lists in a loop can lead to quadratic time complexity.\n",
    "\n",
    "### 20. How does Python’s list implementation handle different data types within the same list?\n",
    "\n",
    "**Answer:**\n",
    "\n",
    "- Python lists are heterogeneous, meaning they can store elements of different data types. The list implementation manages this by storing references to objects, regardless of their types. While this provides flexibility, it can lead to issues when performing operations that expect uniform data types (e.g., numerical operations)"
   ]
  },
  {
   "cell_type": "code",
   "execution_count": null,
   "metadata": {},
   "outputs": [],
   "source": []
  },
  {
   "cell_type": "code",
   "execution_count": null,
   "metadata": {},
   "outputs": [],
   "source": []
  },
  {
   "cell_type": "code",
   "execution_count": null,
   "metadata": {},
   "outputs": [],
   "source": []
  },
  {
   "cell_type": "code",
   "execution_count": null,
   "metadata": {},
   "outputs": [],
   "source": []
  },
  {
   "cell_type": "code",
   "execution_count": null,
   "metadata": {},
   "outputs": [],
   "source": []
  },
  {
   "cell_type": "code",
   "execution_count": null,
   "metadata": {},
   "outputs": [],
   "source": []
  },
  {
   "cell_type": "markdown",
   "metadata": {},
   "source": [
    "### 3. **Reverse a List**\n",
    "\n",
    "**Problem:** Write a Python function that reverses a list without using the `reversed()` function."
   ]
  },
  {
   "cell_type": "code",
   "execution_count": 94,
   "metadata": {},
   "outputs": [],
   "source": [
    "l=[1,2,3,4,5]"
   ]
  },
  {
   "cell_type": "code",
   "execution_count": 95,
   "metadata": {},
   "outputs": [
    {
     "data": {
      "text/plain": [
       "[5, 4, 3, 2, 1]"
      ]
     },
     "execution_count": 95,
     "metadata": {},
     "output_type": "execute_result"
    }
   ],
   "source": [
    "l[::-1]"
   ]
  },
  {
   "cell_type": "code",
   "execution_count": 96,
   "metadata": {},
   "outputs": [
    {
     "data": {
      "text/plain": [
       "[5, 4, 3, 2, 1]"
      ]
     },
     "execution_count": 96,
     "metadata": {},
     "output_type": "execute_result"
    }
   ],
   "source": [
    "def reverse(l):\n",
    "    return l[::-1] \n",
    "\n",
    "reverse(l)"
   ]
  },
  {
   "cell_type": "code",
   "execution_count": null,
   "metadata": {},
   "outputs": [],
   "source": []
  },
  {
   "cell_type": "code",
   "execution_count": null,
   "metadata": {},
   "outputs": [],
   "source": []
  },
  {
   "cell_type": "markdown",
   "metadata": {},
   "source": []
  },
  {
   "cell_type": "markdown",
   "metadata": {},
   "source": [
    "### 4. **Check for Duplicates**\n",
    "\n",
    "**Problem:** Write a Python function that checks whether a list contains any duplicates."
   ]
  },
  {
   "cell_type": "code",
   "execution_count": 97,
   "metadata": {},
   "outputs": [
    {
     "data": {
      "text/plain": [
       "[1, 2, 3, 4, 5]"
      ]
     },
     "execution_count": 97,
     "metadata": {},
     "output_type": "execute_result"
    }
   ],
   "source": [
    "l"
   ]
  },
  {
   "cell_type": "code",
   "execution_count": 101,
   "metadata": {},
   "outputs": [
    {
     "data": {
      "text/plain": [
       "False"
      ]
     },
     "execution_count": 101,
     "metadata": {},
     "output_type": "execute_result"
    }
   ],
   "source": [
    "l=[1,2,3,4,5,1,2,3,4,5,6,4,343,4343]\n",
    "\n",
    "def duplication(l):\n",
    "    return len(set(l)) == len(l)\n",
    "\n",
    "duplication(l)"
   ]
  },
  {
   "cell_type": "code",
   "execution_count": null,
   "metadata": {},
   "outputs": [],
   "source": []
  },
  {
   "cell_type": "code",
   "execution_count": null,
   "metadata": {},
   "outputs": [],
   "source": []
  },
  {
   "cell_type": "markdown",
   "metadata": {},
   "source": []
  },
  {
   "cell_type": "markdown",
   "metadata": {},
   "source": [
    "### 7. **Rotate a List**\n",
    "\n",
    "**Problem:** Write a Python function that rotates a list to the right by `k` steps."
   ]
  },
  {
   "cell_type": "code",
   "execution_count": 1,
   "metadata": {},
   "outputs": [],
   "source": [
    "l1=[1,2,3,4,5]"
   ]
  },
  {
   "cell_type": "code",
   "execution_count": 7,
   "metadata": {},
   "outputs": [
    {
     "data": {
      "text/plain": [
       "[3, 4, 5, 1, 2]"
      ]
     },
     "execution_count": 7,
     "metadata": {},
     "output_type": "execute_result"
    }
   ],
   "source": [
    "def rotate_list(l1,k):\n",
    "\n",
    "    return l1[-k:] + l1[:-k]\n",
    "rotate_list(l1,3)"
   ]
  },
  {
   "cell_type": "code",
   "execution_count": null,
   "metadata": {},
   "outputs": [],
   "source": []
  },
  {
   "cell_type": "markdown",
   "metadata": {},
   "source": []
  },
  {
   "cell_type": "markdown",
   "metadata": {},
   "source": [
    "### 9. **Split a List into Chunks**\n",
    "\n",
    "**Problem:** Write a Python function that splits a list into chunks of size `n`."
   ]
  },
  {
   "cell_type": "code",
   "execution_count": 14,
   "metadata": {},
   "outputs": [
    {
     "data": {
      "text/plain": [
       "[[1, 2], [3, 4], [5]]"
      ]
     },
     "execution_count": 14,
     "metadata": {},
     "output_type": "execute_result"
    }
   ],
   "source": [
    "l1 \n",
    "\n",
    "def chuck_list(l1,n):\n",
    "    chucks =[]\n",
    "    for i in range(0 ,len(l1),2):\n",
    "        chunk =l1[i:i+2]\n",
    "        chucks.append(chunk)\n",
    "    return chucks\n",
    "\n",
    "chuck_list(l1,2)"
   ]
  },
  {
   "cell_type": "code",
   "execution_count": null,
   "metadata": {},
   "outputs": [],
   "source": []
  },
  {
   "cell_type": "code",
   "execution_count": null,
   "metadata": {},
   "outputs": [],
   "source": []
  },
  {
   "cell_type": "markdown",
   "metadata": {},
   "source": [
    "### 16. **Remove Duplicates from a List**\n",
    "\n",
    "**Question:** Given a list, remove the duplicates without using any additional data structures and return the list in the original order."
   ]
  },
  {
   "cell_type": "code",
   "execution_count": 21,
   "metadata": {},
   "outputs": [
    {
     "data": {
      "text/plain": [
       "[2, 3, 4, 5, 5, 3, 22, 1]"
      ]
     },
     "execution_count": 21,
     "metadata": {},
     "output_type": "execute_result"
    }
   ],
   "source": [
    "def remov1 (l1):\n",
    "    i=0\n",
    "    while i <len(l1 ):\n",
    "        if l1.count(l1[i])>1: \n",
    "            l1.remove(l1[i])\n",
    "\n",
    "        else:\n",
    "            i+=1 \n",
    "        return l1\n",
    "    \n",
    "remov1(l1)"
   ]
  },
  {
   "cell_type": "code",
   "execution_count": null,
   "metadata": {},
   "outputs": [],
   "source": []
  },
  {
   "cell_type": "code",
   "execution_count": 2,
   "metadata": {},
   "outputs": [],
   "source": [
    "l1 =[1,2,3,4,6,6,1]"
   ]
  },
  {
   "cell_type": "code",
   "execution_count": 5,
   "metadata": {},
   "outputs": [
    {
     "data": {
      "text/plain": [
       "[2, 3, 4, 6, 6, 1]"
      ]
     },
     "execution_count": 5,
     "metadata": {},
     "output_type": "execute_result"
    }
   ],
   "source": [
    "def remov1 (l1):\n",
    "    i=0\n",
    "    while i <len(l1 ):\n",
    "        if l1.count(l1[i])>1: \n",
    "            l1.remove(l1[i])\n",
    "\n",
    "        else:\n",
    "            i+=1 \n",
    "        return l1\n",
    "    \n",
    "remov1(l1)"
   ]
  },
  {
   "cell_type": "markdown",
   "metadata": {},
   "source": []
  }
 ],
 "metadata": {
  "kernelspec": {
   "display_name": "base",
   "language": "python",
   "name": "python3"
  },
  "language_info": {
   "codemirror_mode": {
    "name": "ipython",
    "version": 3
   },
   "file_extension": ".py",
   "mimetype": "text/x-python",
   "name": "python",
   "nbconvert_exporter": "python",
   "pygments_lexer": "ipython3",
   "version": "3.11.6"
  }
 },
 "nbformat": 4,
 "nbformat_minor": 2
}
