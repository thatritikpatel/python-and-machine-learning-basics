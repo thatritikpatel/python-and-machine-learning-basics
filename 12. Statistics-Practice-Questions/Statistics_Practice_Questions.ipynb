{
  "nbformat": 4,
  "nbformat_minor": 0,
  "metadata": {
    "colab": {
      "provenance": []
    },
    "kernelspec": {
      "name": "python3",
      "display_name": "Python 3"
    },
    "language_info": {
      "name": "python"
    }
  },
  "cells": [
    {
      "cell_type": "markdown",
      "source": [
        "1. Generate a list of 100 integers containing values between 90 to 130 and store it in the variable `int_list. After generating the list, find the following:"
      ],
      "metadata": {
        "id": "NvNuXPmqNNQb"
      }
    },
    {
      "cell_type": "markdown",
      "source": [
        "\n",
        "(i) Write a Python function to calculate the mean of a given list of numbers.\n",
        "Create a function to find the median of a list of numbers."
      ],
      "metadata": {
        "id": "jGOXCrxQNh1u"
      }
    },
    {
      "cell_type": "code",
      "execution_count": null,
      "metadata": {
        "colab": {
          "base_uri": "https://localhost:8080/"
        },
        "id": "6nvJqDwjMwWf",
        "outputId": "f2f79de3-41b4-4688-a6de-89e887499737"
      },
      "outputs": [
        {
          "output_type": "stream",
          "name": "stdout",
          "text": [
            "Mean: 109.82\n",
            "Median: 108.0\n"
          ]
        }
      ],
      "source": [
        "import numpy as np\n",
        "\n",
        "int_list = np.random.randint(90, 131, 100)\n",
        "\n",
        "def mean(arr):\n",
        "    return np.mean(arr)\n",
        "\n",
        "def median(arr):\n",
        "    return np.median(arr)\n",
        "\n",
        "mean_value = mean(int_list)\n",
        "print(\"Mean:\", mean_value)\n",
        "\n",
        "median_value = median(int_list)\n",
        "print(\"Median:\", median_value)\n"
      ]
    },
    {
      "cell_type": "markdown",
      "source": [
        "(ii) Develop a program to compute the mode of a list of integers.\n"
      ],
      "metadata": {
        "id": "JMOSOzOmRl97"
      }
    },
    {
      "cell_type": "code",
      "source": [
        "import statistics\n",
        "\n",
        "def mode(int_list):\n",
        "  mode_result = statistics.mode(int_list)\n",
        "  return mode_result\n",
        "mode_value = mode(int_list)\n",
        "print(\"Median:\", mode_value)"
      ],
      "metadata": {
        "colab": {
          "base_uri": "https://localhost:8080/"
        },
        "id": "GE1-zzulPC5Z",
        "outputId": "1d5e6027-4c0c-44b2-a376-5cba60b6c52b"
      },
      "execution_count": null,
      "outputs": [
        {
          "output_type": "stream",
          "name": "stdout",
          "text": [
            "Median: 97\n"
          ]
        }
      ]
    },
    {
      "cell_type": "markdown",
      "source": [
        "(iii) Implement a function to calculate the weighted mean of a list of values and their corresponding weights.\n"
      ],
      "metadata": {
        "id": "D4K4RYhrSJcX"
      }
    },
    {
      "cell_type": "code",
      "source": [
        "def weighted_mean(values, weights):\n",
        "    weighted_mean_value = np.average(values, weights=weights)\n",
        "    return weighted_mean_value\n",
        "\n",
        "\n",
        "values = [3, 5, 7]\n",
        "weights = [2, 3, 1]\n",
        "weighted_mean_value = weighted_mean(values, weights)\n",
        "print(\"Weighted mean:\", weighted_mean_value)\n"
      ],
      "metadata": {
        "colab": {
          "base_uri": "https://localhost:8080/"
        },
        "id": "006giB2cRpkx",
        "outputId": "de5543ff-a814-49b3-a7b6-75542fd6f062"
      },
      "execution_count": null,
      "outputs": [
        {
          "output_type": "stream",
          "name": "stdout",
          "text": [
            "Weighted mean: 4.666666666666667\n"
          ]
        }
      ]
    },
    {
      "cell_type": "markdown",
      "source": [
        "(iv) Write a Python function to find the geometric mean of a list of positive numbers.\n"
      ],
      "metadata": {
        "id": "JAL_T57fS1Kh"
      }
    },
    {
      "cell_type": "code",
      "source": [
        "\n",
        "def calculate_geometric_mean(data):\n",
        "  if not all(x > 0 for x in data):\n",
        "    return None\n",
        "  return statistics.geometric_mean(data)\n",
        "\n",
        "\n",
        "geometric_mean_value = calculate_geometric_mean(int_list)\n",
        "\n",
        "if geometric_mean_value is not None:\n",
        "  print(\"Geometric Mean:\", geometric_mean_value)\n",
        "else:\n",
        "  print(\"Error: Input list must contain only positive numbers.\")\n"
      ],
      "metadata": {
        "colab": {
          "base_uri": "https://localhost:8080/"
        },
        "id": "ADez1qKv1Ghm",
        "outputId": "22c80325-4283-46e4-b702-0846d35e2e0f"
      },
      "execution_count": null,
      "outputs": [
        {
          "output_type": "stream",
          "name": "stdout",
          "text": [
            "Geometric Mean: 109.13715727647136\n"
          ]
        }
      ]
    },
    {
      "cell_type": "markdown",
      "source": [
        "(v) Create a program to calculate the harmonic mean of a list of values.\n"
      ],
      "metadata": {
        "id": "3RBIs_1s1ql8"
      }
    },
    {
      "cell_type": "code",
      "source": [
        "def calculate_harmonic_mean(data):\n",
        "  if not all(x > 0 for x in data):\n",
        "    return None\n",
        "  return len(data) / sum(1 / x for x in data)\n",
        "\n",
        "\n",
        "harmonic_mean_value = calculate_harmonic_mean(int_list)\n",
        "\n",
        "if harmonic_mean_value is not None:\n",
        "  print(\"Harmonic Mean:\", harmonic_mean_value)\n",
        "else:\n",
        "  print(\"Error: Input list must contain only positive numbers.\")\n"
      ],
      "metadata": {
        "colab": {
          "base_uri": "https://localhost:8080/"
        },
        "id": "z_sc4JGS1ut3",
        "outputId": "03ea609e-ffb1-425b-a58d-f737725b5233"
      },
      "execution_count": null,
      "outputs": [
        {
          "output_type": "stream",
          "name": "stdout",
          "text": [
            "Harmonic Mean: 107.90576205855866\n"
          ]
        }
      ]
    },
    {
      "cell_type": "markdown",
      "source": [
        "(vi) Build a function to determine the midrange of a list of numbers (average of the minimum and maximum).\n"
      ],
      "metadata": {
        "id": "WkLOAjvA2CV8"
      }
    },
    {
      "cell_type": "code",
      "source": [
        "def calculate_midrange(data):\n",
        "  return (min(data) + max(data)) / 2\n",
        "\n",
        "midrange_value = calculate_midrange(int_list)\n",
        "\n",
        "print(\"Midrange:\", midrange_value)\n"
      ],
      "metadata": {
        "colab": {
          "base_uri": "https://localhost:8080/"
        },
        "id": "25oBRImO2hBL",
        "outputId": "27be003b-88b3-40ef-f37c-7bf4c8be7e72"
      },
      "execution_count": null,
      "outputs": [
        {
          "output_type": "stream",
          "name": "stdout",
          "text": [
            "Midrange: 110.0\n"
          ]
        }
      ]
    },
    {
      "cell_type": "markdown",
      "source": [
        "(vii) Implement a Python program to find the trimmed mean of a list, excluding a certain percentage of outliers."
      ],
      "metadata": {
        "id": "ASJMH-gz2rF5"
      }
    },
    {
      "cell_type": "code",
      "source": [
        "from scipy.stats import tmean\n",
        "\n",
        "def calculate_trimmed_mean(numbers, trim_percentage=10):\n",
        "\n",
        "    n = len(numbers)\n",
        "    k = int(n * trim_percentage / 100)\n",
        "    sorted_numbers = sorted(numbers)\n",
        "\n",
        "    trimmed_values = sorted_numbers[k : n - k]\n",
        "\n",
        "    trimmed_mean_value = tmean(trimmed_values, limits=(sorted_numbers[k], sorted_numbers[n - k - 1]))\n",
        "\n",
        "    return trimmed_mean_value\n",
        "\n",
        "\n",
        "trim_percentage = 10\n",
        "\n",
        "trimmed_mean_result = calculate_trimmed_mean(int_list, trim_percentage)\n",
        "print(f\"The {trim_percentage}% trimmed mean using tmean is: {trimmed_mean_result:.2f}\")\n"
      ],
      "metadata": {
        "colab": {
          "base_uri": "https://localhost:8080/"
        },
        "id": "heQFtF-G223m",
        "outputId": "dad81362-3624-40ae-9fee-eb10cf51cb3c"
      },
      "execution_count": null,
      "outputs": [
        {
          "output_type": "stream",
          "name": "stdout",
          "text": [
            "The 10% trimmed mean using tmean is: 109.70\n"
          ]
        }
      ]
    },
    {
      "cell_type": "markdown",
      "source": [
        "2. Generate a list of 500 integers containing values between 200 to 300 and store it in the variable `int_list2`. After generating the list, find the following:\n",
        "(i) Compare the given list of visualization for the given data:\n",
        "\n",
        "a. Frequency & Gaussian distribution\n",
        "b. Frequency smoothened KDE plot\n",
        "c. Gaussian distribution & smoothened KDE plot"
      ],
      "metadata": {
        "id": "8gzMWYWW5_pf"
      }
    },
    {
      "cell_type": "code",
      "source": [
        "import numpy as np\n",
        "import matplotlib.pyplot as plt\n",
        "import seaborn as sns\n",
        "\n",
        "# Generate the list of 500 integers between 200 and 300\n",
        "np.random.seed(100)  # For reproducibility\n",
        "int_list2 = np.random.randint(200, 301, size=500)\n",
        "\n",
        "# (i) Compare the given list of visualization for the given data\n",
        "\n",
        "# a. Frequency & Gaussian distribution\n",
        "plt.figure(figsize=(12, 6))\n",
        "plt.subplot(1, 2, 1)\n",
        "sns.histplot(int_list2, bins=20, kde=False)\n",
        "plt.title('Frequency Distribution')\n",
        "\n",
        "mean = np.mean(int_list2)\n",
        "std_dev = np.std(int_list2)\n",
        "x = np.linspace(200, 300, 1000)\n",
        "gaussian = (1/(std_dev * np.sqrt(2 * np.pi))) * np.exp(- (x - mean)**2 / (2 * std_dev**2))\n",
        "plt.subplot(1, 2, 2)\n",
        "plt.plot(x, gaussian, color='red')\n",
        "plt.title('Gaussian Distribution')\n",
        "plt.xlabel('Value')\n",
        "plt.ylabel('Probability Density')\n",
        "plt.show()\n",
        "\n",
        "# b. Frequency smoothened KDE plot\n",
        "plt.figure(figsize=(12, 6))\n",
        "sns.histplot(int_list2, bins=20, kde=True)\n",
        "plt.title('Frequency Distribution with KDE')\n",
        "plt.show()\n",
        "\n",
        "# c. Gaussian distribution & smoothened KDE plot\n",
        "plt.figure(figsize=(12, 6))\n",
        "sns.kdeplot(int_list2, label='KDE', color='blue')\n",
        "plt.plot(x, gaussian, color='red', label='Gaussian')\n",
        "plt.title('Gaussian Distribution & Smoothened KDE Plot')\n",
        "plt.xlabel('Value')\n",
        "plt.ylabel('Density')\n",
        "plt.legend()\n",
        "plt.show()\n"
      ],
      "metadata": {
        "colab": {
          "base_uri": "https://localhost:8080/",
          "height": 1000
        },
        "id": "0N4zDej_6JBE",
        "outputId": "1716c41b-1978-4dc4-c545-3a2a2e5a27fd"
      },
      "execution_count": null,
      "outputs": [
        {
          "output_type": "display_data",
          "data": {
            "text/plain": [
              "<Figure size 1200x600 with 2 Axes>"
            ],
            "image/png": "[encoded data removed]"
          },
          "metadata": {}
        },
        {
          "output_type": "display_data",
          "data": {
            "text/plain": [
              "<Figure size 1200x600 with 1 Axes>"
            ],
            "image/png": "[encoded data removed]"
          },
          "metadata": {}
        },
        {
          "output_type": "display_data",
          "data": {
            "text/plain": [
              "<Figure size 1200x600 with 1 Axes>"
            ],
            "image/png": "[encoded data removed]"
          },
          "metadata": {}
        }
      ]
    },
    {
      "cell_type": "markdown",
      "source": [
        "(ii) Write a Python function to calculate the range of a given list of numbers.\n"
      ],
      "metadata": {
        "id": "o2SwY1L9__Yw"
      }
    },
    {
      "cell_type": "code",
      "source": [
        "def calculate_range(data):\n",
        "  if not data.any():\n",
        "    return None\n",
        "  return max(data) - min(data)\n",
        "\n",
        "# Sample list of numbers\n",
        "data =np.random.randint(10, 20, size=500)\n",
        "# Calculate the range\n",
        "range_value = calculate_range(data)\n",
        "\n",
        "if range_value is not None:\n",
        "  print(\"Range:\", range_value)\n",
        "else:\n",
        "  print(\"Error: Empty list.\")\n"
      ],
      "metadata": {
        "colab": {
          "base_uri": "https://localhost:8080/"
        },
        "id": "nprcfjeq6fpJ",
        "outputId": "5a15f647-d7d5-46f3-aa47-3b26424f0775"
      },
      "execution_count": null,
      "outputs": [
        {
          "output_type": "stream",
          "name": "stdout",
          "text": [
            "Range: 9\n"
          ]
        }
      ]
    },
    {
      "cell_type": "markdown",
      "source": [
        "(iii) Create a program to find the variance and standard deviation of a list of numbers.\n"
      ],
      "metadata": {
        "id": "fzzawTDyA62b"
      }
    },
    {
      "cell_type": "code",
      "source": [
        "import numpy as np\n",
        "\n",
        "def calculate_variance_std(data):\n",
        "  if not data.any():\n",
        "    return None, None\n",
        "  data_array = np.array(data)\n",
        "  # Calculate variance using NumPy's var function\n",
        "  variance = np.var(data_array)\n",
        "  # Calculate standard deviation (square root of variance)\n",
        "  standard_deviation = np.sqrt(variance)\n",
        "  return variance, standard_deviation\n",
        "\n",
        "data =np.random.randint(10, 20, size=500)\n",
        "\n",
        "# Calculate variance and standard deviation\n",
        "variance, std_deviation = calculate_variance_std(data)\n",
        "\n",
        "if variance is not None:\n",
        "  print(\"Variance:\", variance)\n",
        "  print(\"Standard Deviation:\", std_deviation)\n",
        "else:\n",
        "  print(\"Error: Empty list.\")\n"
      ],
      "metadata": {
        "colab": {
          "base_uri": "https://localhost:8080/"
        },
        "id": "_yZ6IomOA-F_",
        "outputId": "79ab5ef3-c181-4cc6-c1e8-270c15417ffb"
      },
      "execution_count": null,
      "outputs": [
        {
          "output_type": "stream",
          "name": "stdout",
          "text": [
            "Variance: 8.462796\n",
            "Standard Deviation: 2.9090885170444714\n"
          ]
        }
      ]
    },
    {
      "cell_type": "markdown",
      "source": [
        "(iv) Implement a function to compute the interquartile range (IQR) of a list of values.\n",
        "\n",
        "\n",
        "\n"
      ],
      "metadata": {
        "id": "UOiChPPYCk-u"
      }
    },
    {
      "cell_type": "code",
      "source": [
        "def calculate_iqr(data):\n",
        "  if not data:\n",
        "    return None\n",
        "  sorted_data = sorted(data)\n",
        "  num_elements = len(sorted_data)\n",
        "  if num_elements < 4:\n",
        "    return None  # IQR requires at least 4 elements\n",
        "\n",
        "  # Calculate quartiles using percentiles\n",
        "  q1 = np.percentile(sorted_data, 25)\n",
        "  q3 = np.percentile(sorted_data, 75)\n",
        "\n",
        "  # IQR is the difference between Q3 and Q1\n",
        "  return q3 - q1\n",
        "\n",
        "# Sample list of numbers\n",
        "data = [5, 10, 15, 2, 20]\n",
        "\n",
        "# Calculate the IQR\n",
        "iqr_value = calculate_iqr(data)\n",
        "\n",
        "if iqr_value is not None:\n",
        "  print(\"Interquartile Range (IQR):\", iqr_value)\n",
        "else:\n",
        "  print(\"Error: Empty list or requires at least 4 elements.\")\n"
      ],
      "metadata": {
        "id": "3iUbxHd9Cq8O"
      },
      "execution_count": null,
      "outputs": []
    },
    {
      "cell_type": "markdown",
      "source": [
        "(v) Build a program to calculate the coefficient of variation for a dataset."
      ],
      "metadata": {
        "id": "pz2A7kUXCpQB"
      }
    },
    {
      "cell_type": "code",
      "source": [
        "def coefficient_of_variation(data):\n",
        "    mean = np.mean(data)\n",
        "    std_dev = np.std(data)\n",
        "\n",
        "    if mean == 0:\n",
        "        raise ValueError(\"Mean of the dataset is zero, coefficient of variation is undefined.\")\n",
        "\n",
        "    cv = (std_dev / mean) * 100\n",
        "    return cv\n",
        "\n",
        "\n",
        "data = np.random.randint(200, 301, size=500)  # Generate a sample dataset\n",
        "cv = coefficient_of_variation(data)\n",
        "print(f\"Coefficient of Variation: {cv:.2f}%\")\n"
      ],
      "metadata": {
        "colab": {
          "base_uri": "https://localhost:8080/"
        },
        "id": "uDV2tHVADUNw",
        "outputId": "fbaeaad2-2c18-4e3b-a91f-6098fc6dc1a8"
      },
      "execution_count": null,
      "outputs": [
        {
          "output_type": "stream",
          "name": "stdout",
          "text": [
            "Coefficient of Variation: 11.53%\n"
          ]
        }
      ]
    },
    {
      "cell_type": "markdown",
      "source": [
        "(vi) Write a Python function to find the mean absolute deviation (MAD) of a list of numbers.\n"
      ],
      "metadata": {
        "id": "8u6MBYq0GCDh"
      }
    },
    {
      "cell_type": "code",
      "source": [
        "import numpy as np\n",
        "\n",
        "def mean_absolute_deviation(data):\n",
        "    mean = np.mean(data)\n",
        "\n",
        "    deviations = np.abs(data - mean)\n",
        "    mad = np.mean(deviations)\n",
        "    return mad\n",
        "\n",
        "data = [1, 2, 3, 4, 5, 6, 7, 8, 9, 10,15]  # Sample dataset\n",
        "mad = mean_absolute_deviation(data)\n",
        "print(f\"Mean Absolute Deviation: {mad}\")\n"
      ],
      "metadata": {
        "colab": {
          "base_uri": "https://localhost:8080/"
        },
        "id": "nUAaHyUiGOBg",
        "outputId": "3d27691a-6d0e-4f87-9a7a-2da0a23a4d21"
      },
      "execution_count": null,
      "outputs": [
        {
          "output_type": "stream",
          "name": "stdout",
          "text": [
            "Mean Absolute Deviation: 3.12396694214876\n"
          ]
        }
      ]
    },
    {
      "cell_type": "markdown",
      "source": [
        "(vii) Create a program to calculate the quartile deviation of a list of values.\n"
      ],
      "metadata": {
        "id": "Tad3NJNmRFmv"
      }
    },
    {
      "cell_type": "code",
      "source": [
        "def quartile_deviation(data):\n",
        "    Q1 = np.percentile(data, 25)\n",
        "    Q3 = np.percentile(data, 75)\n",
        "    quartile_dev = (Q3 - Q1) / 2\n",
        "    return quartile_dev\n",
        "\n",
        "data = [1, 2, 3, 4, 5, 6, 7, 8, 9, 10, 11, 12, 13, 14, 15]  # Sample dataset\n",
        "qd = quartile_deviation(data)\n",
        "print(f\"Quartile Deviation: {qd:.2f}\")\n"
      ],
      "metadata": {
        "colab": {
          "base_uri": "https://localhost:8080/"
        },
        "id": "abCCwJBmRTGo",
        "outputId": "caf2ffaa-135e-4c19-83c3-4fcb6ceb1b9c"
      },
      "execution_count": null,
      "outputs": [
        {
          "output_type": "stream",
          "name": "stdout",
          "text": [
            "Quartile Deviation: 3.50\n"
          ]
        }
      ]
    },
    {
      "cell_type": "markdown",
      "source": [
        "(viii) Implement a function to find the range-based coefficient of dispersion for a dataset."
      ],
      "metadata": {
        "id": "eEfv2toURbu6"
      }
    },
    {
      "cell_type": "code",
      "source": [
        "def range_based_coefficient_of_dispersion(data):\n",
        "    min_val = np.min(data)\n",
        "    max_val = np.max(data)\n",
        "    range_val = max_val - min_val\n",
        "    cod = range_val / (max_val + min_val)\n",
        "    return cod\n",
        "\n",
        "data = [1, 2, 3, 4, 5, 6, 7, 8, 9, 10]\n",
        "cod = range_based_coefficient_of_dispersion(data)\n",
        "print(f\"Range-based Coefficient of Dispersion: {cod:.4f}\")\n"
      ],
      "metadata": {
        "colab": {
          "base_uri": "https://localhost:8080/"
        },
        "id": "1kUizPF6TPZN",
        "outputId": "e63094cd-12f8-4ad8-e889-78277f8e51de"
      },
      "execution_count": null,
      "outputs": [
        {
          "output_type": "stream",
          "name": "stdout",
          "text": [
            "Range-based Coefficient of Dispersion: 0.8182\n"
          ]
        }
      ]
    },
    {
      "cell_type": "markdown",
      "source": [
        "3. Write a Python class representing a discrete random variable with methods to calculate its expected value and variance.\n"
      ],
      "metadata": {
        "id": "-TpA_aJ1TZ_-"
      }
    },
    {
      "cell_type": "code",
      "source": [
        "class DiscreteRandomVariable:\n",
        "    def __init__(self, values, probabilities):\n",
        "\n",
        "        if len(values) != len(probabilities):\n",
        "            raise ValueError(\"Values and probabilities must have the same length.\")\n",
        "        if not np.isclose(sum(probabilities), 1):\n",
        "            raise ValueError(\"Probabilities must sum to 1.\")\n",
        "\n",
        "        self.values = values\n",
        "        self.probabilities = probabilities\n",
        "\n",
        "    def expected_value(self):\n",
        "        return sum(value * prob for value, prob in zip(self.values, self.probabilities))\n",
        "\n",
        "    def variance(self):\n",
        "        mean = self.expected_value()\n",
        "        return sum(prob * (value - mean) ** 2 for value, prob in zip(self.values, self.probabilities))\n",
        "\n",
        "values = [1, 2, 3, 4, 5]\n",
        "probabilities = [0.1, 0.2, 0.4, 0.2, 0.1]\n",
        "\n",
        "drv = DiscreteRandomVariable(values, probabilities)\n",
        "expected_value = drv.expected_value()\n",
        "variance = drv.variance()\n",
        "\n",
        "print(f\"Expected Value: {expected_value:.2f}\")\n",
        "print(f\"Variance: {variance:.2f}\")\n"
      ],
      "metadata": {
        "colab": {
          "base_uri": "https://localhost:8080/"
        },
        "id": "7en8-sKSUYXz",
        "outputId": "4f2e92f6-8480-47ba-b770-266cbec9d3ed"
      },
      "execution_count": null,
      "outputs": [
        {
          "output_type": "stream",
          "name": "stdout",
          "text": [
            "Expected Value: 3.00\n",
            "Variance: 1.20\n"
          ]
        }
      ]
    },
    {
      "cell_type": "markdown",
      "source": [
        "4. Implement a program to simulate the rolling of a fair six-sided die and calculate the expected value and variance of the outcomes.\n"
      ],
      "metadata": {
        "id": "7iqbY3uY3Zi0"
      }
    },
    {
      "cell_type": "code",
      "source": [
        "def simulate_die_rolls(num_rolls):\n",
        "\n",
        "    outcomes = np.random.randint(1, 7, size=num_rolls)\n",
        "    return outcomes\n",
        "\n",
        "def calculate_die_statistics(outcomes):\n",
        "    values, counts = np.unique(outcomes, return_counts=True)\n",
        "    probabilities = counts / len(outcomes)\n",
        "\n",
        "    drv = DiscreteRandomVariable(values, probabilities)\n",
        "    expected_value = drv.expected_value()\n",
        "    variance = drv.variance()\n",
        "\n",
        "    return expected_value, variance\n",
        "\n",
        "num_rolls = 10000\n",
        "outcomes = simulate_die_rolls(num_rolls)\n",
        "expected_value, variance = calculate_die_statistics(outcomes)\n",
        "\n",
        "print(f\"Expected Value: {expected_value:.2f}\")\n",
        "print(f\"Variance: {variance:.2f}\")"
      ],
      "metadata": {
        "colab": {
          "base_uri": "https://localhost:8080/"
        },
        "id": "kxnKCC4E3Y3q",
        "outputId": "399a9dbc-acc8-407c-b3a0-5bb892f7c800"
      },
      "execution_count": null,
      "outputs": [
        {
          "output_type": "stream",
          "name": "stdout",
          "text": [
            "Expected Value: 3.48\n",
            "Variance: 2.94\n"
          ]
        }
      ]
    },
    {
      "cell_type": "markdown",
      "source": [
        "5. Create a Python function to generate random samples from a given probability distribution (e.g., binomial, Poisson) and calculate their mean and variance.\n"
      ],
      "metadata": {
        "id": "iVL73V-t7IAi"
      }
    },
    {
      "cell_type": "code",
      "source": [
        "def generate_samples_and_statistics(distribution, params, sample_size=1000):\n",
        "    if distribution == 'binomial':\n",
        "        if 'n' not in params or 'p' not in params:\n",
        "            raise ValueError(\"For binomial distribution, 'n' and 'p' parameters are required.\")\n",
        "        n = params['n']\n",
        "        p = params['p']\n",
        "        samples = np.random.binomial(n, p, sample_size)\n",
        "    elif distribution == 'poisson':\n",
        "        if 'lam' not in params:\n",
        "            raise ValueError(\"For Poisson distribution, 'lam' parameter is required.\")\n",
        "        lam = params['lam']\n",
        "        samples = np.random.poisson(lam, sample_size)\n",
        "    else:\n",
        "        raise ValueError(\"Unsupported distribution type. Use 'binomial' or 'poisson'.\")\n",
        "\n",
        "    mean = np.mean(samples)\n",
        "    variance = np.var(samples)\n",
        "\n",
        "    return mean, variance\n",
        "\n",
        "binomial_params = {'n': 10, 'p': 0.5}\n",
        "mean_binomial, variance_binomial = generate_samples_and_statistics('binomial', binomial_params, sample_size=1000)\n",
        "print(f\"Binomial Distribution -> Mean: {mean_binomial:.2f}, Variance: {variance_binomial:.2f}\")\n",
        "\n",
        "poisson_params = {'lam': 5}\n",
        "mean_poisson, variance_poisson = generate_samples_and_statistics('poisson', poisson_params, sample_size=1000)\n",
        "print(f\"Poisson Distribution -> Mean: {mean_poisson:.2f}, Variance: {variance_poisson:.2f}\")\n"
      ],
      "metadata": {
        "colab": {
          "base_uri": "https://localhost:8080/"
        },
        "id": "VL2BXOJh7cTb",
        "outputId": "db86d281-5ee9-4b3a-c2fa-a7900f65820d"
      },
      "execution_count": null,
      "outputs": [
        {
          "output_type": "stream",
          "name": "stdout",
          "text": [
            "Binomial Distribution -> Mean: 5.00, Variance: 2.49\n",
            "Poisson Distribution -> Mean: 5.14, Variance: 5.13\n"
          ]
        }
      ]
    },
    {
      "cell_type": "markdown",
      "source": [
        "6. Write a Python script to generate random numbers from a Gaussian (normal) distribution and compute the mean, variance, and standard deviation of the samples.\n"
      ],
      "metadata": {
        "id": "j3oR9f_9EOdN"
      }
    },
    {
      "cell_type": "code",
      "source": [
        "import numpy as np\n",
        "\n",
        "def generate_gaussian_samples(mean, std_dev, sample_size=1000):\n",
        "    samples = np.random.normal(loc=mean, scale=std_dev, size=sample_size)\n",
        "\n",
        "    sample_mean = np.mean(samples)\n",
        "    sample_variance = np.var(samples)\n",
        "    sample_std_dev = np.std(samples)\n",
        "\n",
        "    return sample_mean, sample_variance, sample_std_dev\n",
        "\n",
        "mean = 0\n",
        "std_dev = 1\n",
        "sample_size = 1000\n",
        "\n",
        "sample_mean, sample_variance, sample_std_dev = generate_gaussian_samples(mean, std_dev, sample_size)\n",
        "\n",
        "print(f\"Generated Gaussian Samples -> Mean: {sample_mean:.2f}, Variance: {sample_variance:.2f}, Standard Deviation: {sample_std_dev:.2f}\")\n"
      ],
      "metadata": {
        "colab": {
          "base_uri": "https://localhost:8080/"
        },
        "id": "x8jGUJojEWxP",
        "outputId": "a024f72d-46a4-4234-beb8-fdb8d7d68a07"
      },
      "execution_count": null,
      "outputs": [
        {
          "output_type": "stream",
          "name": "stdout",
          "text": [
            "Generated Gaussian Samples -> Mean: -0.00, Variance: 0.99, Standard Deviation: 0.99\n"
          ]
        }
      ]
    },
    {
      "cell_type": "markdown",
      "source": [
        "7. Use seaborn library to load tips dataset. Find the following from the dataset for the columns `total_bill` and 'tip\":\n"
      ],
      "metadata": {
        "id": "sbbG8pLKEdgF"
      }
    },
    {
      "cell_type": "markdown",
      "source": [
        "\n",
        "(i) Write a Python function that calculates their skewness."
      ],
      "metadata": {
        "id": "nEq2CTq2Ei5L"
      }
    },
    {
      "cell_type": "code",
      "source": [
        "import seaborn as sns\n",
        "from scipy import stats\n",
        "\n",
        "\n",
        "df = sns.load_dataset(\"tips\")\n",
        "#data.head()\n",
        "total_bill_skewness,tip_skewness = stats.skew(df[[\"total_bill\",\"tip\"]])\n",
        "\n",
        "print(f\"Skewness of 'total_bill': {total_bill_skewness:.2f}\")\n",
        "print(f\"Skewness of 'tip': {tip_skewness:.2f}\")"
      ],
      "metadata": {
        "colab": {
          "base_uri": "https://localhost:8080/"
        },
        "id": "LKtZkkEFEtNT",
        "outputId": "b5a0d9b3-05e3-493b-ed2b-64d06c4d1a01"
      },
      "execution_count": null,
      "outputs": [
        {
          "output_type": "stream",
          "name": "stdout",
          "text": [
            "Skewness of 'total_bill': 1.13\n",
            "Skewness of 'tip': 1.46\n"
          ]
        }
      ]
    },
    {
      "cell_type": "markdown",
      "source": [
        "(ii) Create a program that determines whether the columns exhibit positive skewness, negative skewness, or is approximately symmetric.\n"
      ],
      "metadata": {
        "id": "VNGpdJSAGGgR"
      }
    },
    {
      "cell_type": "code",
      "source": [
        "def calculate_skewness(data):\n",
        "    return stats.skew(data)\n",
        "\n",
        "def categorize_skewness(skewness_value):\n",
        "    if skewness_value > 0:\n",
        "        return \"Positive Skewness\"\n",
        "    elif skewness_value < 0:\n",
        "        return \"Negative Skewness\"\n",
        "    else:\n",
        "        return \"Approximately Symmetric\"\n",
        "\n",
        "total_bill_skewness = calculate_skewness(df['total_bill'])\n",
        "tip_skewness = calculate_skewness(df['tip'])\n",
        "\n",
        "total_bill_skewness_category = categorize_skewness(total_bill_skewness)\n",
        "tip_skewness_category = categorize_skewness(tip_skewness)\n",
        "\n",
        "print(f\"Skewness of 'total_bill': {total_bill_skewness:.2f} ({total_bill_skewness_category})\")\n",
        "print(f\"Skewness of 'tip': {tip_skewness:.2f} ({tip_skewness_category})\")\n"
      ],
      "metadata": {
        "colab": {
          "base_uri": "https://localhost:8080/"
        },
        "id": "5ficCmf5FqP0",
        "outputId": "e3387d67-6ad3-4b7b-e8e5-48c9383aa691"
      },
      "execution_count": null,
      "outputs": [
        {
          "output_type": "stream",
          "name": "stdout",
          "text": [
            "Skewness of 'total_bill': 1.13 (Positive Skewness)\n",
            "Skewness of 'tip': 1.46 (Positive Skewness)\n"
          ]
        }
      ]
    },
    {
      "cell_type": "markdown",
      "source": [
        "(iii) Write a function that calculates the covariance between two columns.\n"
      ],
      "metadata": {
        "id": "p6AweFZmKeeU"
      }
    },
    {
      "cell_type": "code",
      "source": [
        "def calculate_covariance(column1, column2):\n",
        "    if len(column1) != len(column2):\n",
        "        raise ValueError(\"The two columns must have the same length.\")\n",
        "\n",
        "    mean1 = np.mean(column1)\n",
        "    mean2 = np.mean(column2)\n",
        "\n",
        "    covariance = np.mean((column1 - mean1) * (column2 - mean2))\n",
        "\n",
        "    return covariance\n",
        "\n",
        "total_bill = df['total_bill']\n",
        "tip = df['tip']\n",
        "\n",
        "covariance = calculate_covariance(total_bill, tip)\n",
        "print(f\"Covariance between 'total_bill' and 'tip': {covariance:.2f}\")\n"
      ],
      "metadata": {
        "colab": {
          "base_uri": "https://localhost:8080/"
        },
        "id": "-1_xH8FMLbLg",
        "outputId": "627b6e65-22b9-4c1e-959b-920cc5d0483f"
      },
      "execution_count": null,
      "outputs": [
        {
          "output_type": "stream",
          "name": "stdout",
          "text": [
            "Covariance between 'total_bill' and 'tip': 8.29\n"
          ]
        }
      ]
    },
    {
      "cell_type": "markdown",
      "source": [
        "(iv) Implement a Python program that calculates the Pearson correlation coefficient between two columns.\n"
      ],
      "metadata": {
        "id": "q6QsIr6SLvuv"
      }
    },
    {
      "cell_type": "code",
      "source": [
        "def calculate_pearson_correlation(column1, column2):\n",
        "    if len(column1) != len(column2):\n",
        "        raise ValueError(\"The two columns must have the same length.\")\n",
        "\n",
        "    mean1 = np.mean(column1)\n",
        "    mean2 = np.mean(column2)\n",
        "\n",
        "    covariance = np.mean((column1 - mean1) * (column2 - mean2))\n",
        "    std_dev1 = np.std(column1)\n",
        "    std_dev2 = np.std(column2)\n",
        "\n",
        "    pearson_correlation = covariance / (std_dev1 * std_dev2)\n",
        "\n",
        "    return pearson_correlation\n",
        "\n",
        "# Example usage\n",
        "total_bill = df['total_bill']\n",
        "tip = df['tip']\n",
        "\n",
        "pearson_correlation = calculate_pearson_correlation(total_bill, tip)\n",
        "print(pearson_correlation)"
      ],
      "metadata": {
        "colab": {
          "base_uri": "https://localhost:8080/"
        },
        "id": "dRW5d0G7LzLt",
        "outputId": "993a161f-064d-4035-a8e3-aca51fd80214"
      },
      "execution_count": null,
      "outputs": [
        {
          "output_type": "stream",
          "name": "stdout",
          "text": [
            "0.6757341092113645\n"
          ]
        }
      ]
    },
    {
      "cell_type": "markdown",
      "source": [
        "(v) Write a script to visualize the correlation between two specific columns in a Pandas DataFrame using scatter plots.\n"
      ],
      "metadata": {
        "id": "hqvg7_cYNXUN"
      }
    },
    {
      "cell_type": "code",
      "source": [
        "import matplotlib.pyplot as plt\n",
        "\n",
        "\n",
        "plt.figure(figsize=(10, 6))\n",
        "sns.scatterplot(x=df[\"total_bill\"], y=df[\"tip\"])\n",
        "\n",
        "plt.title(f'Scatter plot between total_bill and tip')\n",
        "plt.xlabel(\"total_bill\")\n",
        "plt.ylabel(\"tip\")\n",
        "plt.grid(True)\n",
        "plt.show()\n",
        "\n"
      ],
      "metadata": {
        "colab": {
          "base_uri": "https://localhost:8080/",
          "height": 564
        },
        "id": "a4DvQJElNg4Q",
        "outputId": "73a45607-304b-423d-dfaf-cfa27f94c141"
      },
      "execution_count": null,
      "outputs": [
        {
          "output_type": "display_data",
          "data": {
            "text/plain": [
              "<Figure size 1000x600 with 1 Axes>"
            ],
            "image/png": "[encoded data removed]"
          },
          "metadata": {}
        }
      ]
    },
    {
      "cell_type": "markdown",
      "source": [
        "8. Write a Python function to calculate the probability density function (PDF) of a continuous random variable for a given normal distribution.\n"
      ],
      "metadata": {
        "id": "9KLoFwqPO0MD"
      }
    },
    {
      "cell_type": "code",
      "source": [
        "def normal_pdf(x, mu, sigma):\n",
        "    pdf = (1 / (np.sqrt(2 * np.pi * sigma**2))) * np.exp(-(x - mu)**2 / (2 * sigma**2))\n",
        "    return pdf\n",
        "\n",
        "x = 2.5  # Value at which PDF is evaluated\n",
        "mu = 0   # Mean of the normal distribution\n",
        "sigma = 1  # Standard deviation of the normal distribution\n",
        "\n",
        "pdf_value = normal_pdf(x, mu, sigma)\n",
        "print(f\"PDF at x={x} for N({mu},{sigma}): {pdf_value:.4f}\")\n"
      ],
      "metadata": {
        "colab": {
          "base_uri": "https://localhost:8080/"
        },
        "id": "7DpZsjkEOE-S",
        "outputId": "c1ac0352-761e-4b7c-a827-95ed8f5e08aa"
      },
      "execution_count": null,
      "outputs": [
        {
          "output_type": "stream",
          "name": "stdout",
          "text": [
            "PDF at x=2.5 for N(0,1): 0.0175\n"
          ]
        }
      ]
    },
    {
      "cell_type": "markdown",
      "source": [
        "9. Create a program to calculate the cumulative distribution function (CDF) of exponential distribution.\n"
      ],
      "metadata": {
        "id": "GJ8h-xuRSO0m"
      }
    },
    {
      "cell_type": "code",
      "source": [
        "def exponential_cdf(x, lambd):\n",
        "    cdf = 1 - np.exp(-lambd * x)\n",
        "    return cdf\n",
        "\n",
        "x = 2.5  # Value at which CDF is evaluated\n",
        "lambd = 0.5  # Rate parameter of the exponential distribution\n",
        "\n",
        "cdf_value = exponential_cdf(x, lambd)\n",
        "print(f\"CDF at x={x} for exponential distribution with lambda={lambd}: {cdf_value:.4f}\")\n"
      ],
      "metadata": {
        "colab": {
          "base_uri": "https://localhost:8080/"
        },
        "id": "5PFi4q9KSRYd",
        "outputId": "acbc4fbe-9c2c-4247-887b-2c42650f9999"
      },
      "execution_count": null,
      "outputs": [
        {
          "output_type": "stream",
          "name": "stdout",
          "text": [
            "CDF at x=2.5 for exponential distribution with lambda=0.5: 0.7135\n"
          ]
        }
      ]
    },
    {
      "cell_type": "markdown",
      "source": [
        "10. Write a Python function to calculate the probability mass function (PMF) of Poisson distribution."
      ],
      "metadata": {
        "id": "kAsNzzuBTmgp"
      }
    },
    {
      "cell_type": "code",
      "source": [
        "import math\n",
        "\n",
        "def poisson_pmf(k, rate):\n",
        "    return (rate ** k) * math.exp(-rate) / math.factorial(k)\n",
        "\n",
        "lambda_value = 3.5  # Average rate of events\n",
        "k_value = 2  # Number of events we want to calculate the probability for\n",
        "\n",
        "pmf_result = poisson_pmf(k_value, lambda_value)\n",
        "print(f\"P(X = {k_value}) = {pmf_result:.6f}\")\n"
      ],
      "metadata": {
        "colab": {
          "base_uri": "https://localhost:8080/"
        },
        "id": "vG7m4U4-Tlyr",
        "outputId": "3d6325f7-bf37-404d-f183-b4755d4588a8"
      },
      "execution_count": null,
      "outputs": [
        {
          "output_type": "stream",
          "name": "stdout",
          "text": [
            "P(X = 2) = 0.184959\n"
          ]
        }
      ]
    },
    {
      "cell_type": "markdown",
      "source": [
        "11. A company wants to test if a new website layout leads to a higher conversion rate (percentage of visitors who make a purchase). They collect data from the old and new layouts to compare.\n",
        "\n",
        "\n"
      ],
      "metadata": {
        "id": "X-HgLMDFUaiV"
      }
    },
    {
      "cell_type": "code",
      "source": [
        "from statsmodels.stats.proportion import proportions_ztest\n",
        "\n",
        "# Data\n",
        "old_layout = np.array([1] * 50 + [0] * 950)\n",
        "\n",
        "new_layout = np.array([1] * 70 + [0] * 930)\n",
        "\n",
        "# Number of conversions for each layout\n",
        "successes_old = np.sum(old_layout)\n",
        "successes_new = np.sum(new_layout)\n",
        "\n",
        "# Total number of trials for each layout\n",
        "trials_old = len(old_layout)\n",
        "trials_new = len(new_layout)\n",
        "\n",
        "# Applying z-test for proportions\n",
        "z_score, p_value = proportions_ztest([successes_new, successes_old], [trials_new, trials_old], alternative='larger')\n",
        "\n",
        "# Print the z-score and p-value\n",
        "print(f\"Z-score: {z_score:.2f}\")\n",
        "print(f\"P-value: {p_value:.4f}\")\n",
        "\n",
        "# Compare p-value to the significance level (e.g., 0.05)\n",
        "alpha = 0.05\n",
        "if p_value < alpha:\n",
        "    print(\"Reject the null hypothesis: The new layout leads to a higher conversion rate.\")\n",
        "else:\n",
        "    print(\"Fail to reject the null hypothesis: There is no evidence that the new layout leads to a higher conversion rate.\")"
      ],
      "metadata": {
        "colab": {
          "base_uri": "https://localhost:8080/"
        },
        "id": "ARWqBtCTYxl0",
        "outputId": "b196d020-757c-442b-b5ad-af04f95e9080"
      },
      "execution_count": null,
      "outputs": [
        {
          "output_type": "stream",
          "name": "stdout",
          "text": [
            "Z-score: 1.88\n",
            "P-value: 0.0298\n",
            "Reject the null hypothesis: The new layout leads to a higher conversion rate.\n"
          ]
        }
      ]
    },
    {
      "cell_type": "markdown",
      "source": [
        "12. A tutoring service claims that its program improves students' exam scores. A sample of students who participated in the program was taken, and their scores before and after the program were recorded."
      ],
      "metadata": {
        "id": "AY2aYirHU4i7"
      }
    },
    {
      "cell_type": "code",
      "source": [
        "import numpy as np\n",
        "from scipy.stats import norm\n",
        "\n",
        "# Given data\n",
        "before_program = np.array([75, 80, 85, 70, 90, 78, 92, 88, 82, 87])\n",
        "after_program = np.array([80, 85, 90, 80, 92, 80, 95, 90, 85, 88])\n",
        "\n",
        "# Calculate the differences\n",
        "differences = after_program - before_program\n",
        "\n",
        "# Calculate the mean and standard deviation of the differences\n",
        "mean_diff = np.mean(differences)\n",
        "std_diff = np.std(differences)\n",
        "\n",
        "# Sample size\n",
        "n = len(differences)\n",
        "\n",
        "# Calculate the standard error of the mean difference\n",
        "std_err_diff = std_diff / np.sqrt(n)\n",
        "\n",
        "# Calculate the z-score\n",
        "z_score = mean_diff / std_err_diff\n",
        "\n",
        "# Calculate the p-value\n",
        "p_value = 2 * (1 - norm.cdf(abs(z_score)))\n",
        "\n",
        "# Display the results\n",
        "print(f\"Mean difference: {mean_diff}\")\n",
        "print(f\"Standard deviation of differences: {std_diff}\")\n",
        "print(f\"Standard error of mean difference: {std_err_diff}\")\n",
        "print(f\"z-score: {z_score}\")\n",
        "print(f\"p-value: {p_value}\")\n",
        "\n",
        "# Interpretation of the results\n",
        "alpha = 0.05\n",
        "if p_value < alpha:\n",
        "    print(\"Reject the null hypothesis: There is a significant difference in scores before and after the program.\")\n",
        "else:\n",
        "    print(\"Fail to reject the null hypothesis: There is no significant difference in scores before and after the program.\")\n"
      ],
      "metadata": {
        "colab": {
          "base_uri": "https://localhost:8080/"
        },
        "id": "3zo0HlSnn9GN",
        "outputId": "86c336f3-b1cb-4dba-b3f1-c57c0729de05"
      },
      "execution_count": null,
      "outputs": [
        {
          "output_type": "stream",
          "name": "stdout",
          "text": [
            "Mean difference: 3.8\n",
            "Standard deviation of differences: 2.4819347291981715\n",
            "Standard error of mean difference: 0.7848566748139434\n",
            "z-score: 4.841648318657442\n",
            "p-value: 1.287665097438051e-06\n",
            "Reject the null hypothesis: There is a significant difference in scores before and after the program.\n"
          ]
        }
      ]
    },
    {
      "cell_type": "markdown",
      "source": [
        "13. A pharmaceutical company wants to determine if a new drug is effective in reducing blood pressure. They conduct a study and record blood pressure measurements before and after administering the drug.\n"
      ],
      "metadata": {
        "id": "9cmEAA9TgatW"
      }
    },
    {
      "cell_type": "code",
      "source": [
        "before_drug = np.array([145, 150, 140, 135, 155, 160, 152, 148, 130, 138])\n",
        "after_drug = np.array([130, 140, 132, 128, 145, 148, 138, 136, 125, 130])\n",
        "\n",
        "# Calculate the differences\n",
        "differences = before_drug - after_drug\n",
        "\n",
        "# Calculate the mean and standard deviation of the differences\n",
        "mean_diff = np.mean(differences)\n",
        "std_diff = np.std(differences)\n",
        "\n",
        "# Sample size\n",
        "n = len(differences)\n",
        "\n",
        "# Calculate the standard error of the mean difference\n",
        "std_err_diff = std_diff / np.sqrt(n)\n",
        "\n",
        "# Calculate the z-score\n",
        "z_score = mean_diff / std_err_diff\n",
        "\n",
        "# Calculate the p-value\n",
        "p_value = 2 * (1 - norm.cdf(abs(z_score)))\n",
        "\n",
        "# Display the results\n",
        "print(f\"Mean difference: {mean_diff}\")\n",
        "print(f\"Standard deviation of differences: {std_diff}\")\n",
        "print(f\"Standard error of mean difference: {std_err_diff}\")\n",
        "print(f\"z-score: {z_score}\")\n",
        "print(f\"p-value: {p_value}\")\n",
        "\n",
        "# Interpretation of the results\n",
        "alpha = 0.05\n",
        "if p_value < alpha:\n",
        "    print(\"Reject the null hypothesis: There is a significant difference in blood pressure before and after taking the drug.\")\n",
        "else:\n",
        "    print(\"Fail to reject the null hypothesis: There is no significant difference in blood pressure before and after taking the drug.\")\n"
      ],
      "metadata": {
        "colab": {
          "base_uri": "https://localhost:8080/"
        },
        "id": "wyUTrg_0iSRs",
        "outputId": "9fbba211-263c-47b7-985a-a018889cb547"
      },
      "execution_count": null,
      "outputs": [
        {
          "output_type": "stream",
          "name": "stdout",
          "text": [
            "Mean difference: 10.1\n",
            "Standard deviation of differences: 3.014962686336267\n",
            "Standard error of mean difference: 0.9534149149242421\n",
            "z-score: 10.593499054713803\n",
            "p-value: 0.0\n",
            "Reject the null hypothesis: There is a significant difference in blood pressure before and after taking the drug.\n"
          ]
        }
      ]
    },
    {
      "cell_type": "markdown",
      "source": [
        "14. A customer service department claims that their average response time is less than 5 minutes. A sample\n",
        "of recent customer interactions was taken, and the response times were recorded."
      ],
      "metadata": {
        "id": "HCTMccrFhT3d"
      }
    },
    {
      "cell_type": "code",
      "source": [
        "from scipy.stats import norm\n",
        "\n",
        "# Given data\n",
        "response_times = np.array([4.3, 3.8, 5.1, 4.9, 4.7, 4.2, 5.2, 4.5, 4.6, 4.4])\n",
        "\n",
        "# Population mean (hypothesized value)\n",
        "population_mean = 5\n",
        "\n",
        "# Calculate the sample mean and standard deviation\n",
        "sample_mean = np.mean(response_times)\n",
        "sample_std = np.std(response_times)\n",
        "\n",
        "# Sample size\n",
        "n = len(response_times)\n",
        "\n",
        "# Calculate the standard error of the mean\n",
        "std_err = sample_std / np.sqrt(n)\n",
        "\n",
        "# Calculate the z-score\n",
        "z_score = (sample_mean - population_mean) / std_err\n",
        "\n",
        "# Calculate the p-value for a one-tailed test\n",
        "p_value = norm.cdf(z_score)\n",
        "\n",
        "# Display the results\n",
        "print(f\"Sample mean: {sample_mean}\")\n",
        "print(f\"Sample standard deviation: {sample_std}\")\n",
        "print(f\"Standard error: {std_err}\")\n",
        "print(f\"z-score: {z_score}\")\n",
        "print(f\"p-value: {p_value}\")\n",
        "\n",
        "# Interpretation of the results\n",
        "alpha = 0.05\n",
        "if p_value < alpha:\n",
        "    print(\"Reject the null hypothesis: The average response time is less than 5 minutes.\")\n",
        "else:\n",
        "    print(\"Fail to reject the null hypothesis: The average response time is not significantly less than 5 minutes.\")\n"
      ],
      "metadata": {
        "colab": {
          "base_uri": "https://localhost:8080/"
        },
        "id": "2kJHWWvoq4U-",
        "outputId": "744198e2-3b53-462e-e633-436dd7d33530"
      },
      "execution_count": null,
      "outputs": [
        {
          "output_type": "stream",
          "name": "stdout",
          "text": [
            "Sample mean: 4.57\n",
            "Sample standard deviation: 0.4050925820105819\n",
            "Standard error: 0.12810152223919902\n",
            "z-score: -3.356712648559143\n",
            "p-value: 0.00039437520387081387\n",
            "Reject the null hypothesis: The average response time is less than 5 minutes.\n"
          ]
        }
      ]
    },
    {
      "cell_type": "markdown",
      "source": [
        "15. A company is testing two different website layouts to see which one leads to higher click-through rates. Write a Python function to perform an A/B test analysis, including calculating the t-statistic, degrees of freedom, and p-value."
      ],
      "metadata": {
        "id": "bhvccIbOu824"
      }
    },
    {
      "cell_type": "code",
      "source": [
        "from scipy import stats\n",
        "\n",
        "def ab_test(layout_a_clicks, layout_b_clicks):\n",
        "    # Calculate means\n",
        "    mean_a = sum(layout_a_clicks) / len(layout_a_clicks)\n",
        "    mean_b = sum(layout_b_clicks) / len(layout_b_clicks)\n",
        "\n",
        "    # Perform independent t-test\n",
        "    t_statistic, p_value = stats.ttest_ind(layout_a_clicks, layout_b_clicks)\n",
        "\n",
        "    # Degrees of freedom\n",
        "    degrees_of_freedom = len(layout_a_clicks) + len(layout_b_clicks) - 2\n",
        "\n",
        "    # Determine which layout leads to higher click-through rates\n",
        "    if mean_a > mean_b:\n",
        "        higher_clicks_layout = \"Layout A\"\n",
        "    else:\n",
        "        higher_clicks_layout = \"Layout B\"\n",
        "\n",
        "    return t_statistic, degrees_of_freedom, p_value, mean_a, mean_b, higher_clicks_layout\n",
        "\n",
        "# Data\n",
        "layout_a_clicks = [28, 32, 33, 29, 31, 34, 30, 35, 36, 37]\n",
        "layout_b_clicks = [40, 41, 38, 42, 39, 44, 43, 41, 45, 47]\n",
        "\n",
        "# Perform A/B test analysis\n",
        "t_statistic, degrees_of_freedom, p_value, mean_a, mean_b, higher_clicks_layout = ab_test(layout_a_clicks, layout_b_clicks)\n",
        "\n",
        "print(\"T-statistic:\", t_statistic)\n",
        "print(\"Degrees of Freedom:\", degrees_of_freedom)\n",
        "print(\"P-value:\", p_value)\n",
        "print(\"Mean of layout A:\", mean_a)\n",
        "print(\"Mean of layout B:\", mean_b)\n",
        "print(\"Layout with higher click-through rates:\", higher_clicks_layout)\n"
      ],
      "metadata": {
        "colab": {
          "base_uri": "https://localhost:8080/"
        },
        "id": "7aCzrokBvNVI",
        "outputId": "f2645a1b-3a3c-406d-9336-acc3e3b627fe"
      },
      "execution_count": null,
      "outputs": [
        {
          "output_type": "stream",
          "name": "stdout",
          "text": [
            "T-statistic: -7.298102156175071\n",
            "Degrees of Freedom: 18\n",
            "P-value: 8.833437608301987e-07\n",
            "Mean of layout A: 32.5\n",
            "Mean of layout B: 42.0\n",
            "Layout with higher click-through rates: Layout B\n"
          ]
        }
      ]
    },
    {
      "cell_type": "markdown",
      "source": [
        "16. A pharmaceutical company wants to determine if a new drug is more effective than an existing drug in reducing cholesterol levels. Create a program to analyze the clinical trial data and calculate the t- statistic and p-value for the treatment effect."
      ],
      "metadata": {
        "id": "HT0G6VuRyFQE"
      }
    },
    {
      "cell_type": "code",
      "source": [
        "from scipy import stats\n",
        "\n",
        "def compare_drugs(existing_levels, new_levels):\n",
        "    # Perform independent t-test\n",
        "    t_statistic, p_value = stats.ttest_ind(existing_levels, new_levels)\n",
        "\n",
        "    # Determine which drug is more effective\n",
        "    if p_value < 0.05:  # Assuming alpha level of 0.05\n",
        "        if t_statistic < 0:\n",
        "            more_effective_drug = \"Existing Drug\"\n",
        "        else:\n",
        "            more_effective_drug = \"New Drug\"\n",
        "    else:\n",
        "        more_effective_drug = \"None (No Significant Difference)\"\n",
        "\n",
        "    return t_statistic, p_value, more_effective_drug\n",
        "\n",
        "# Data\n",
        "existing_drug_levels = [180, 182, 175, 185, 178, 176, 172, 184, 179, 183]\n",
        "new_drug_levels = [170, 172, 165, 168, 175, 173, 170, 178, 172, 176]\n",
        "\n",
        "# Perform t-test for treatment effect\n",
        "t_statistic, p_value, more_effective_drug = compare_drugs(existing_drug_levels, new_drug_levels)\n",
        "\n",
        "print(\"T-statistic:\", t_statistic)\n",
        "print(\"P-value:\", p_value)\n",
        "print(\"More effective drug:\", more_effective_drug)\n"
      ],
      "metadata": {
        "colab": {
          "base_uri": "https://localhost:8080/"
        },
        "id": "l-n95UYFyPxz",
        "outputId": "a3e71a60-b995-4cd4-d081-14428c8df4a1"
      },
      "execution_count": null,
      "outputs": [
        {
          "output_type": "stream",
          "name": "stdout",
          "text": [
            "T-statistic: 4.14048098620866\n",
            "P-value: 0.0006143398442372505\n",
            "More effective drug: New Drug\n"
          ]
        }
      ]
    },
    {
      "cell_type": "markdown",
      "source": [
        "\n",
        "17. A school district introduces an educational intervention program to improve math scores. Write a Python function to analyze pre- and post-intervention test scores, calculating the t-statistic and p-value to determine if the intervention had a significant impact."
      ],
      "metadata": {
        "id": "c_tS17HfyYcp"
      }
    },
    {
      "cell_type": "code",
      "source": [
        "from scipy import stats\n",
        "\n",
        "def intervention_effect(pre_scores, post_scores, alpha=0.05):\n",
        "    # Perform paired t-test\n",
        "    t_statistic, p_value = stats.ttest_rel(pre_scores, post_scores)\n",
        "\n",
        "    # Determine if intervention had a significant effect\n",
        "    if p_value < alpha:\n",
        "        effect = \"significant\"\n",
        "    else:\n",
        "        effect = \"not significant\"\n",
        "\n",
        "    return t_statistic, p_value, effect\n",
        "\n",
        "# Data\n",
        "pre_intervention_scores = [80, 85, 90, 75, 88, 82, 92, 78, 85, 87]\n",
        "post_intervention_scores = [90, 92, 88, 92, 95, 91, 96, 93, 89, 93]\n",
        "\n",
        "# Perform t-test for intervention effect\n",
        "t_statistic, p_value, effect = intervention_effect(pre_intervention_scores, post_intervention_scores)\n",
        "\n",
        "print(\"T-statistic:\", t_statistic)\n",
        "print(\"P-value:\", p_value)\n",
        "print(\"Intervention effect:\", effect)\n"
      ],
      "metadata": {
        "colab": {
          "base_uri": "https://localhost:8080/"
        },
        "id": "2Kspnvk-zeR5",
        "outputId": "9d664e63-902c-4ef3-ca8b-e2e53774c31b"
      },
      "execution_count": null,
      "outputs": [
        {
          "output_type": "stream",
          "name": "stdout",
          "text": [
            "T-statistic: -4.42840883965761\n",
            "P-value: 0.0016509548165795493\n",
            "Intervention effect: significant\n"
          ]
        }
      ]
    },
    {
      "cell_type": "markdown",
      "source": [
        "\n",
        "18. An HR department wants to investigate if there's a gender-based salary gap within the company. Develop\n",
        "a program to analyze salary data, calculate the t-statistic, and determine if there's a statistically significant difference between the average salaries of male and female employees."
      ],
      "metadata": {
        "id": "vQEDHktBzuif"
      }
    },
    {
      "cell_type": "code",
      "source": [
        "import numpy as np\n",
        "from scipy import stats\n",
        "\n",
        "def gender_salary_gap_test(male_salaries, female_salaries):\n",
        "    # Perform two-sample t-test\n",
        "    t_statistic, p_value = stats.ttest_ind(male_salaries, female_salaries)\n",
        "\n",
        "    # Determine if there's a statistically significant difference\n",
        "    if p_value < 0.05:\n",
        "        salary_gap_significance = \"Statistically significant\"\n",
        "    else:\n",
        "        salary_gap_significance = \"Not statistically significant\"\n",
        "\n",
        "    return t_statistic, p_value, salary_gap_significance\n",
        "\n",
        "# Generate synthetic salary data for male and female employees\n",
        "np.random.seed(0)  # For reproducibility\n",
        "male_salaries = np.random.normal(loc=50000, scale=10000, size=20)\n",
        "female_salaries = np.random.normal(loc=55000, scale=9000, size=20)\n",
        "\n",
        "# Perform t-test to analyze gender-based salary gap\n",
        "t_statistic, p_value, salary_gap_significance = gender_salary_gap_test(male_salaries, female_salaries)\n",
        "\n",
        "print(\"T-statistic:\", t_statistic)\n",
        "print(\"P-value:\", p_value)\n",
        "print(\"Gender-based salary gap significance:\", salary_gap_significance)\n"
      ],
      "metadata": {
        "colab": {
          "base_uri": "https://localhost:8080/"
        },
        "id": "OGqljQ-c3jfU",
        "outputId": "5582c1ec-fe19-4359-a3ce-220741f2b26e"
      },
      "execution_count": null,
      "outputs": [
        {
          "output_type": "stream",
          "name": "stdout",
          "text": [
            "T-statistic: 0.06114208969631383\n",
            "P-value: 0.9515665020676465\n",
            "Gender-based salary gap significance: Not statistically significant\n"
          ]
        }
      ]
    },
    {
      "cell_type": "markdown",
      "source": [
        "19. A manufacturer produces two different versions of a product and wants to compare their quality scores. Create a Python function to analyze quality assessment data, calculate the t-statistic, and decide whether there's a significant difference in quality between the two versions."
      ],
      "metadata": {
        "id": "Xk3hAptK9wAk"
      }
    },
    {
      "cell_type": "code",
      "source": [
        "from scipy import stats\n",
        "\n",
        "def compare_product_quality(version1_scores, version2_scores):\n",
        "    # Perform two-sample t-test\n",
        "    t_statistic, p_value = stats.ttest_ind(version1_scores, version2_scores)\n",
        "\n",
        "    # Determine if there's a statistically significant difference\n",
        "    if p_value < 0.05:\n",
        "        quality_difference_significance = \"Statistically significant\"\n",
        "    else:\n",
        "        quality_difference_significance = \"Not statistically significant\"\n",
        "\n",
        "    return t_statistic, p_value, quality_difference_significance\n",
        "\n",
        "# Data\n",
        "version1_scores = [85, 88, 82, 89, 87, 84, 90, 88, 85, 86, 91, 83, 87, 84, 89, 86, 84, 88, 85, 86, 89, 90, 87, 88, 85]\n",
        "version2_scores = [80, 78, 83, 81, 79, 82, 76, 80, 78, 81, 77, 82, 80, 79, 82, 79, 80, 81, 79, 82, 79, 78, 80, 81, 82]\n",
        "\n",
        "# Perform t-test to analyze quality scores\n",
        "t_statistic, p_value, quality_difference_significance = compare_product_quality(version1_scores, version2_scores)\n",
        "\n",
        "print(\"T-statistic:\", t_statistic)\n",
        "print(\"P-value:\", p_value)\n",
        "print(\"Quality difference significance:\", quality_difference_significance)\n"
      ],
      "metadata": {
        "colab": {
          "base_uri": "https://localhost:8080/"
        },
        "id": "xsCCVi2691TH",
        "outputId": "5eee2cf5-8764-468e-84c3-bb1d4ef45a31"
      },
      "execution_count": 1,
      "outputs": [
        {
          "output_type": "stream",
          "name": "stdout",
          "text": [
            "T-statistic: 11.325830417646698\n",
            "P-value: 3.6824250702873965e-15\n",
            "Quality difference significance: Statistically significant\n"
          ]
        }
      ]
    },
    {
      "cell_type": "markdown",
      "source": [
        "20. A restaurant chain collects customer satisfaction scores for two different branches. Write a program to analyze the scores, calculate the t-statistic, and determine if there's a statistically significant difference in customer satisfaction between the branches."
      ],
      "metadata": {
        "id": "3CmplmZCGWkh"
      }
    },
    {
      "cell_type": "code",
      "source": [
        "from scipy import stats\n",
        "\n",
        "def compare_satisfaction_scores(branch_a_scores, branch_b_scores):\n",
        "    # Perform two-sample t-test\n",
        "    t_statistic, p_value = stats.ttest_ind(branch_a_scores, branch_b_scores)\n",
        "\n",
        "    # Determine if there's a statistically significant difference\n",
        "    if p_value < 0.05:\n",
        "        satisfaction_difference_significance = \"Statistically significant\"\n",
        "    else:\n",
        "        satisfaction_difference_significance = \"Not statistically significant\"\n",
        "\n",
        "    return t_statistic, p_value, satisfaction_difference_significance\n",
        "\n",
        "# Data\n",
        "branch_a_scores = [4, 5, 3, 4, 5, 4, 5, 3, 4, 4, 5, 4, 4, 3, 4, 5, 5, 4, 3, 4, 5, 4, 3, 5, 4, 4, 5, 3, 4, 5, 4]\n",
        "branch_b_scores = [3, 4, 2, 3, 4, 3, 4, 2, 3, 3, 4, 3, 3, 2, 3, 4, 4, 3, 2, 3, 4, 3, 2, 4, 3, 3, 4, 2, 3, 4, 3]\n",
        "\n",
        "# Perform t-test to analyze customer satisfaction scores\n",
        "t_statistic, p_value, satisfaction_difference_significance = compare_satisfaction_scores(branch_a_scores, branch_b_scores)\n",
        "\n",
        "print(\"T-statistic:\", t_statistic)\n",
        "print(\"P-value:\", p_value)\n",
        "print(\"Customer satisfaction difference significance:\", satisfaction_difference_significance)\n"
      ],
      "metadata": {
        "colab": {
          "base_uri": "https://localhost:8080/"
        },
        "id": "pxxh7erfGboC",
        "outputId": "45d35584-2252-4386-8549-c6d1498f60be"
      },
      "execution_count": 4,
      "outputs": [
        {
          "output_type": "stream",
          "name": "stdout",
          "text": [
            "T-statistic: 5.480077554195743\n",
            "P-value: 8.895290509945655e-07\n",
            "Customer satisfaction difference significance: Statistically significant\n"
          ]
        }
      ]
    },
    {
      "cell_type": "markdown",
      "source": [
        "\n",
        "21. A political analyst wants to determine if there is a significant association between age groups and voter preferences (Candidate A or Candidate B). They collect data from a sample of 500 voters and classify them into different age groups and candidate preferences. Perform a Chi-Square test to determine if there is a significant association between age groups and voter preferences."
      ],
      "metadata": {
        "id": "UwcsxevsHVr_"
      }
    },
    {
      "cell_type": "code",
      "source": [
        "import numpy as np\n",
        "import pandas as pd\n",
        "from scipy.stats import chi2_contingency\n",
        "\n",
        "# Generate synthetic data\n",
        "np.random.seed(0)\n",
        "age_groups = np.random.choice(['18-30', '31-50', '51+'], size=500)\n",
        "voter_preferences = np.random.choice(['Candidate A', 'Candidate B'], size=500)\n",
        "\n",
        "# Create a DataFrame from the data\n",
        "data = pd.DataFrame({'Age Group': age_groups, 'Voter Preference': voter_preferences})\n",
        "\n",
        "# Create a contingency table\n",
        "contingency_table = pd.crosstab(data['Age Group'], data['Voter Preference'])\n",
        "\n",
        "# Perform the Chi-Square test\n",
        "chi2_statistic, p_value, dof, expected = chi2_contingency(contingency_table)\n",
        "\n",
        "# Determine if there's a statistically significant association\n",
        "if p_value < 0.05:\n",
        "    association_significance = \"Statistically significant\"\n",
        "else:\n",
        "    association_significance = \"Not statistically significant\"\n",
        "\n",
        "print(\"Chi-Square Statistic:\", chi2_statistic)\n",
        "print(\"P-value:\", p_value)\n",
        "print(\"Degrees of Freedom:\", dof)\n",
        "print(\"Association Significance:\", association_significance)\n",
        "print(\"\\nContingency Table:\\n\", contingency_table)\n"
      ],
      "metadata": {
        "colab": {
          "base_uri": "https://localhost:8080/"
        },
        "id": "OQAV_SyUHaVZ",
        "outputId": "8d14bf00-8635-46e5-bfb3-6f87190519df"
      },
      "execution_count": 5,
      "outputs": [
        {
          "output_type": "stream",
          "name": "stdout",
          "text": [
            "Chi-Square Statistic: 0.8779923945254768\n",
            "P-value: 0.6446832311860852\n",
            "Degrees of Freedom: 2\n",
            "Association Significance: Not statistically significant\n",
            "\n",
            "Contingency Table:\n",
            " Voter Preference  Candidate A  Candidate B\n",
            "Age Group                                 \n",
            "18-30                      95           87\n",
            "31-50                      87           82\n",
            "51+                        84           65\n"
          ]
        }
      ]
    },
    {
      "cell_type": "markdown",
      "source": [
        "22. A company conducted a customer satisfaction survey to determine if there is a significant relationship between product satisfaction levels (Satisfied, Neutral, Dissatisfied) and the region where customers are located (East, West, North, South). The survey data is summarized in a contingency table. Conduct a Chi- Square test to determine if there is a significant relationship between product satisfaction levels and customer regions."
      ],
      "metadata": {
        "id": "I0rPF_GiHvaa"
      }
    },
    {
      "cell_type": "code",
      "source": [
        "# Sample data: Product satisfaction levels (rows) vs. Customer regions (columns)\n",
        "data = np.array([[50, 30, 40, 20], [30, 40, 30, 50], [20, 30, 40, 30]])\n",
        "\n",
        "# Perform the Chi-Square test\n",
        "chi2_statistic, p_value, dof, expected = chi2_contingency(data)\n",
        "\n",
        "# Determine if there's a statistically significant relationship\n",
        "if p_value < 0.05:\n",
        "    relationship_significance = \"Statistically significant\"\n",
        "else:\n",
        "    relationship_significance = \"Not statistically significant\"\n",
        "\n",
        "print(\"Chi-Square Statistic:\", chi2_statistic)\n",
        "print(\"P-value:\", p_value)\n",
        "print(\"Degrees of Freedom:\", dof)\n",
        "print(\"Expected Frequencies:\\n\", expected)\n",
        "print(\"Relationship Significance:\", relationship_significance)\n"
      ],
      "metadata": {
        "colab": {
          "base_uri": "https://localhost:8080/"
        },
        "id": "qGYr5sMFI7Gf",
        "outputId": "aa284124-974f-46a1-ee3e-d34090d35ea3"
      },
      "execution_count": 7,
      "outputs": [
        {
          "output_type": "stream",
          "name": "stdout",
          "text": [
            "Chi-Square Statistic: 27.777056277056275\n",
            "P-value: 0.00010349448486004387\n",
            "Degrees of Freedom: 6\n",
            "Expected Frequencies:\n",
            " [[34.14634146 34.14634146 37.56097561 34.14634146]\n",
            " [36.58536585 36.58536585 40.24390244 36.58536585]\n",
            " [29.26829268 29.26829268 32.19512195 29.26829268]]\n",
            "Relationship Significance: Statistically significant\n"
          ]
        }
      ]
    },
    {
      "cell_type": "markdown",
      "source": [
        "23. A company implemented an employee training program to improve job performance (Effective, Neutral, Ineffective). After the training, they collected data from a sample of employees and classified them based on their job performance before and after the training. Perform a Chi-Square test to determine if there is a significant difference between job performance levels before and after the training."
      ],
      "metadata": {
        "id": "UQhIZlzKJM10"
      }
    },
    {
      "cell_type": "code",
      "source": [
        "data = np.array([[50, 30, 20], [30, 40, 30], [20, 30, 40]])\n",
        "\n",
        "# Perform the Chi-Square test\n",
        "chi2_statistic, p_value, dof, expected = chi2_contingency(data)\n",
        "\n",
        "# Determine if there's a statistically significant difference\n",
        "if p_value < 0.05:\n",
        "    performance_difference_significance = \"Statistically significant\"\n",
        "else:\n",
        "    performance_difference_significance = \"Not statistically significant\"\n",
        "\n",
        "print(\"Chi-Square Statistic:\", chi2_statistic)\n",
        "print(\"P-value:\", p_value)\n",
        "print(\"Degrees of Freedom:\", dof)\n",
        "print(\"Expected Frequencies:\\n\", expected)\n",
        "print(\"Performance Difference Significance:\", performance_difference_significance)"
      ],
      "metadata": {
        "colab": {
          "base_uri": "https://localhost:8080/"
        },
        "id": "Vp8wljSzJWUh",
        "outputId": "d882872f-6aa6-4b8f-d39c-d1a0a0696095"
      },
      "execution_count": 8,
      "outputs": [
        {
          "output_type": "stream",
          "name": "stdout",
          "text": [
            "Chi-Square Statistic: 22.161728395061726\n",
            "P-value: 0.00018609719479882557\n",
            "Degrees of Freedom: 4\n",
            "Expected Frequencies:\n",
            " [[34.48275862 34.48275862 31.03448276]\n",
            " [34.48275862 34.48275862 31.03448276]\n",
            " [31.03448276 31.03448276 27.93103448]]\n",
            "Performance Difference Significance: Statistically significant\n"
          ]
        }
      ]
    },
    {
      "cell_type": "markdown",
      "source": [
        "24. A company produces three different versions of a product: Standard, Premium, and Deluxe. The company wants to determine if there is a significant difference in customer satisfaction scores among the three product versions. They conducted a survey and collected customer satisfaction scores for each version from a random sample of customers. Perform an ANOVA test to determine if there is a significant difference in customer satisfaction scores.\n"
      ],
      "metadata": {
        "id": "k61U1HC1JtLA"
      }
    },
    {
      "cell_type": "code",
      "source": [
        "from scipy.stats import f_oneway\n",
        "\n",
        "# Sample data: Customer satisfaction scores for each product version\n",
        "standard_scores = [80, 85, 90, 78, 88, 82, 92, 78, 85, 87]\n",
        "premium_scores = [90, 92, 88, 92, 95, 91, 96, 93, 89, 93]\n",
        "deluxe_scores = [95, 98, 92, 97, 96, 94, 98, 97, 92, 99]\n",
        "\n",
        "# Perform the one-way ANOVA test\n",
        "f_statistic, p_value = f_oneway(standard_scores, premium_scores, deluxe_scores)\n",
        "\n",
        "# Determine if there's a statistically significant difference\n",
        "if p_value < 0.05:\n",
        "    satisfaction_difference_significance = \"Statistically significant\"\n",
        "else:\n",
        "    satisfaction_difference_significance = \"Not statistically significant\"\n",
        "\n",
        "print(\"F-statistic:\", f_statistic)\n",
        "print(\"P-value:\", p_value)\n",
        "print(\"Customer satisfaction difference significance:\", satisfaction_difference_significance)\n"
      ],
      "metadata": {
        "colab": {
          "base_uri": "https://localhost:8080/"
        },
        "id": "qkR0B1pzJyvb",
        "outputId": "755d80fa-88aa-4a52-e794-171adb330b0f"
      },
      "execution_count": 9,
      "outputs": [
        {
          "output_type": "stream",
          "name": "stdout",
          "text": [
            "F-statistic: 27.03556231003039\n",
            "P-value: 3.5786328857349003e-07\n",
            "Customer satisfaction difference significance: Statistically significant\n"
          ]
        }
      ]
    }
  ]
}