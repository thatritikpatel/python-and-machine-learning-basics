{
  "nbformat": 4,
  "nbformat_minor": 0,
  "metadata": {
    "colab": {
      "provenance": []
    },
    "kernelspec": {
      "name": "python3",
      "display_name": "Python 3"
    },
    "language_info": {
      "name": "python"
    }
  },
  "cells": [
    {
      "cell_type": "code",
      "source": [
        "import numpy as np"
      ],
      "metadata": {
        "id": "TUA33L3AwV2g"
      },
      "execution_count": 2,
      "outputs": []
    },
    {
      "cell_type": "markdown",
      "source": [
        "1. Create a NumPy array 'arr' of integers from 0 to 5 and print its data type.\n"
      ],
      "metadata": {
        "id": "jV8xHF3KwS23"
      }
    },
    {
      "cell_type": "code",
      "source": [
        "arr = np.array([0, 1, 2, 3, 4, 5])\n",
        "# for i in arr:\n",
        "#   print(i)\n",
        "print(arr.dtype)\n"
      ],
      "metadata": {
        "colab": {
          "base_uri": "https://localhost:8080/"
        },
        "id": "bqHXQ6YYwcLT",
        "outputId": "c81108de-4b3b-42d1-8d95-aa81ff1588ec"
      },
      "execution_count": null,
      "outputs": [
        {
          "output_type": "stream",
          "name": "stdout",
          "text": [
            "int64\n"
          ]
        }
      ]
    },
    {
      "cell_type": "markdown",
      "source": [
        "2. Given a NumPy array 'arr', check if its data type is float64.\n"
      ],
      "metadata": {
        "id": "rLU-j8x1wwIc"
      }
    },
    {
      "cell_type": "code",
      "source": [
        "arr = np.array([1.5, 2.6, 3.7])\n",
        "#arr = np.array([1.5, 2.6, 3.7,\"str\"])\n",
        "\n",
        "if arr.dtype == np.float64:\n",
        "    print(\"The data type of the array is float64.\")\n",
        "else:\n",
        "    print(\"The data type of the array is not float64.\")\n"
      ],
      "metadata": {
        "colab": {
          "base_uri": "https://localhost:8080/"
        },
        "id": "6XYxizkEwos7",
        "outputId": "d06ed297-ea41-4d9f-850b-7ab42bf89117"
      },
      "execution_count": null,
      "outputs": [
        {
          "output_type": "stream",
          "name": "stdout",
          "text": [
            "The data type of the array is float64.\n"
          ]
        }
      ]
    },
    {
      "cell_type": "markdown",
      "source": [
        "3. Create a NumPy array 'arr' with a data type of complex128 containing three complex numbers.\n"
      ],
      "metadata": {
        "id": "1L2Q6XbbxKD-"
      }
    },
    {
      "cell_type": "code",
      "source": [
        "arr = np.array([1 + 2j, 3 + 4j, 5 + 6j])\n",
        "\n",
        "print(arr.dtype)\n"
      ],
      "metadata": {
        "colab": {
          "base_uri": "https://localhost:8080/"
        },
        "id": "sDRpScZzxMz-",
        "outputId": "fd853d2e-3f33-4c02-f10d-08eab458204b"
      },
      "execution_count": null,
      "outputs": [
        {
          "output_type": "stream",
          "name": "stdout",
          "text": [
            "complex128\n"
          ]
        }
      ]
    },
    {
      "cell_type": "markdown",
      "source": [
        "4. Convert an existing NumPy array 'arr' of integers to float32 data type.\n"
      ],
      "metadata": {
        "id": "VBBk7ov8zYGM"
      }
    },
    {
      "cell_type": "code",
      "source": [
        "arr = np.array([1, 2, 3, 4, 5])\n",
        "arr_float32 = arr.astype(np.float32)\n",
        "\n",
        "print(arr_float32.dtype)"
      ],
      "metadata": {
        "colab": {
          "base_uri": "https://localhost:8080/"
        },
        "id": "h4fP9dylzbLP",
        "outputId": "3a30b6b3-1e1c-4a37-8eba-fe4db9edec63"
      },
      "execution_count": null,
      "outputs": [
        {
          "output_type": "stream",
          "name": "stdout",
          "text": [
            "float32\n"
          ]
        }
      ]
    },
    {
      "cell_type": "markdown",
      "source": [
        "5. Given a NumPy array 'arr' with float64 data type, convert it to float32 to reduce decimal precision.\n"
      ],
      "metadata": {
        "id": "McsIcpUvznsq"
      }
    },
    {
      "cell_type": "code",
      "source": [
        "arr = np.array([1.5, 2.6, 3.7], dtype=np.float64)\n",
        "\n",
        "arr_float32 = arr.astype(np.float32)\n",
        "\n",
        "print(arr_float32.dtype)"
      ],
      "metadata": {
        "colab": {
          "base_uri": "https://localhost:8080/"
        },
        "id": "z4skptRXzrNj",
        "outputId": "317b442f-d284-484b-9833-7f89acdeefea"
      },
      "execution_count": null,
      "outputs": [
        {
          "output_type": "stream",
          "name": "stdout",
          "text": [
            "float32\n"
          ]
        }
      ]
    },
    {
      "cell_type": "markdown",
      "source": [
        "6. Write a function array_attributes that takes a NumPy array as input and returns its shape, size, and data type.\n"
      ],
      "metadata": {
        "id": "xbLkJjFazx5_"
      }
    },
    {
      "cell_type": "code",
      "source": [
        "def array_attributes(arr):\n",
        "    shape = arr.shape\n",
        "    size = arr.size\n",
        "    dtype = arr.dtype\n",
        "    return shape, size, dtype\n",
        "\n",
        "\n",
        "arr = np.array([[1, 2, 3], [4, 5, 6]])\n",
        "shape, size, dtype = array_attributes(arr)\n",
        "print(\"Shape:\", shape)\n",
        "print(\"Size:\", size)\n",
        "print(\"Data Type:\", dtype)\n"
      ],
      "metadata": {
        "colab": {
          "base_uri": "https://localhost:8080/"
        },
        "id": "VSCVR20nz0ab",
        "outputId": "b3b0c0eb-0bd8-459e-e0ec-0eddbd86827c"
      },
      "execution_count": null,
      "outputs": [
        {
          "output_type": "stream",
          "name": "stdout",
          "text": [
            "Shape: (2, 3)\n",
            "Size: 6\n",
            "Data Type: int64\n"
          ]
        }
      ]
    },
    {
      "cell_type": "markdown",
      "source": [
        "7. Create a function array_dimension that takes a NumPy array as input and returns its dimensionality.\n"
      ],
      "metadata": {
        "id": "JcLFol0k0FQK"
      }
    },
    {
      "cell_type": "code",
      "source": [
        "def array_dimension(arr):\n",
        "      return arr.ndim\n",
        "\n",
        "\n",
        "arr1 = np.array([1, 2, 3])\n",
        "arr2 = np.array([[1, 2], [3, 4]])\n",
        "arr3 = np.array([[[1, 2], [3, 4]], [[5, 6], [7, 8]]])\n",
        "\n",
        "print(\"Dimensionality of arr1:\", array_dimension(arr1))\n",
        "print(\"Dimensionality of arr2:\", array_dimension(arr2))\n",
        "print(\"Dimensionality of arr3:\", array_dimension(arr3))\n"
      ],
      "metadata": {
        "colab": {
          "base_uri": "https://localhost:8080/"
        },
        "id": "qP41vGVs0G70",
        "outputId": "3abfa1f1-fc37-4076-d1c7-5eecea6b165e"
      },
      "execution_count": null,
      "outputs": [
        {
          "output_type": "stream",
          "name": "stdout",
          "text": [
            "Dimensionality of arr1: 1\n",
            "Dimensionality of arr2: 2\n",
            "Dimensionality of arr3: 3\n"
          ]
        }
      ]
    },
    {
      "cell_type": "markdown",
      "source": [
        "8. Design a function item_size_info that takes a NumPy array as input and returns the item size and the total size in bytes.\n"
      ],
      "metadata": {
        "id": "Dx5qOdDA0tSO"
      }
    },
    {
      "cell_type": "code",
      "source": [
        "def item_size_info(arr):\n",
        "\n",
        "    item_size = arr.itemsize\n",
        "    total_size = arr.size * item_size\n",
        "    return item_size, total_size\n",
        "\n",
        "\n",
        "arr = np.array([[1, 2, 3], [4, 5, 6]])\n",
        "item_size, total_size = item_size_info(arr)\n",
        "print(\"Item size:\", item_size, \"bytes\")\n",
        "print(\"Total size:\", total_size, \"bytes\")\n"
      ],
      "metadata": {
        "colab": {
          "base_uri": "https://localhost:8080/"
        },
        "id": "buX-2B-f1C6J",
        "outputId": "365d5d0b-6e05-4382-ab3c-71e3bb64bd34"
      },
      "execution_count": null,
      "outputs": [
        {
          "output_type": "stream",
          "name": "stdout",
          "text": [
            "Item size: 8 bytes\n",
            "Total size: 48 bytes\n"
          ]
        }
      ]
    },
    {
      "cell_type": "markdown",
      "source": [
        "9. Create a function array_strides that takes a NumPy array as input and returns the strides of the array.\n"
      ],
      "metadata": {
        "id": "x26Yx2jd1PjR"
      }
    },
    {
      "cell_type": "code",
      "source": [
        "def array_strides(arr):\n",
        "\n",
        "    return arr.strides\n",
        "\n",
        "arr = np.array([[1, 2, 3], [4, 5, 6]])\n",
        "strides = array_strides(arr)\n",
        "print(\"Strides:\", strides)\n"
      ],
      "metadata": {
        "colab": {
          "base_uri": "https://localhost:8080/"
        },
        "id": "FZn4l8rZ1R0K",
        "outputId": "1ae765a8-5d8c-406f-98dd-54bfa489841b"
      },
      "execution_count": null,
      "outputs": [
        {
          "output_type": "stream",
          "name": "stdout",
          "text": [
            "Strides: (24, 8)\n"
          ]
        }
      ]
    },
    {
      "cell_type": "markdown",
      "source": [
        "10. Design a function shape_stride_relationship that takes a NumPy array as input and returns the shape and strides of the array.\n"
      ],
      "metadata": {
        "id": "h62fY3mnUY8k"
      }
    },
    {
      "cell_type": "code",
      "source": [
        "\n",
        "def shape_stride_relationship(arr):\n",
        "    shape = arr.shape\n",
        "    strides = arr.strides\n",
        "    return shape, strides\n",
        "\n",
        "arr = np.array([[1, 2, 3], [4, 5, 6]])\n",
        "shape, strides = shape_stride_relationship(arr)\n",
        "print(\"Shape:\", shape)\n",
        "print(\"Strides:\", strides)\n"
      ],
      "metadata": {
        "colab": {
          "base_uri": "https://localhost:8080/"
        },
        "id": "zp3RevY-UaDr",
        "outputId": "6694f220-dda4-4db8-f5cb-264997cad626"
      },
      "execution_count": null,
      "outputs": [
        {
          "output_type": "stream",
          "name": "stdout",
          "text": [
            "Shape: (2, 3)\n",
            "Strides: (24, 8)\n"
          ]
        }
      ]
    },
    {
      "cell_type": "markdown",
      "source": [
        "11. Create a function `create_zeros_array` that takes an integer `n` as input and returns a NumPy array of zeros with `n` elements.\n"
      ],
      "metadata": {
        "id": "vawcCM5CUs35"
      }
    },
    {
      "cell_type": "code",
      "source": [
        "\n",
        "def create_zeros_array(n):\n",
        "    return np.zeros(n)\n",
        "\n",
        "n = 5\n",
        "zeros_array = create_zeros_array(n)\n",
        "print(zeros_array)\n"
      ],
      "metadata": {
        "colab": {
          "base_uri": "https://localhost:8080/"
        },
        "id": "BKdFXhwIUuzj",
        "outputId": "a1a13004-be52-45dd-840a-94c9b84d5056"
      },
      "execution_count": null,
      "outputs": [
        {
          "output_type": "stream",
          "name": "stdout",
          "text": [
            "[0. 0. 0. 0. 0.]\n"
          ]
        }
      ]
    },
    {
      "cell_type": "markdown",
      "source": [
        "12. Write a function `create_ones_matrix` that takes integers `rows` and `cols` as inputs and generates a 2D NumPy array filled with ones of size `rows x cols`.\n"
      ],
      "metadata": {
        "id": "c49N4gxzU8EJ"
      }
    },
    {
      "cell_type": "code",
      "source": [
        "\n",
        "def create_ones_matrix(rows, cols):\n",
        "    return np.ones((rows, cols))\n",
        "\n",
        "rows = 3\n",
        "cols = 4\n",
        "ones_matrix = create_ones_matrix(rows, cols)\n",
        "print(ones_matrix)\n"
      ],
      "metadata": {
        "colab": {
          "base_uri": "https://localhost:8080/"
        },
        "id": "1_Q5rTAhVLD4",
        "outputId": "51ed12fd-8c37-47e5-9728-75d77bffca6e"
      },
      "execution_count": null,
      "outputs": [
        {
          "output_type": "stream",
          "name": "stdout",
          "text": [
            "[[1. 1. 1. 1.]\n",
            " [1. 1. 1. 1.]\n",
            " [1. 1. 1. 1.]]\n"
          ]
        }
      ]
    },
    {
      "cell_type": "markdown",
      "source": [
        "13. Write a function `generate_range_array` that takes three integers start, stop, and step as arguments and creates a NumPy array with a range starting from `start`, ending at stop (exclusive), and with the specified `step'.\n"
      ],
      "metadata": {
        "id": "cTaVe_wLU-I9"
      }
    },
    {
      "cell_type": "code",
      "source": [
        "import numpy as np\n",
        "\n",
        "def generate_range_array(start, stop, step):\n",
        "    return np.arange(start, stop, step)\n",
        "\n",
        "start = 1\n",
        "stop = 10\n",
        "step = 2\n",
        "range_array = generate_range_array(start, stop, step)\n",
        "print(range_array)\n"
      ],
      "metadata": {
        "colab": {
          "base_uri": "https://localhost:8080/"
        },
        "id": "pnyRssT5VRm5",
        "outputId": "d6b57ba8-4bb2-4276-8211-b335f0bbae4d"
      },
      "execution_count": null,
      "outputs": [
        {
          "output_type": "stream",
          "name": "stdout",
          "text": [
            "[1 3 5 7 9]\n"
          ]
        }
      ]
    },
    {
      "cell_type": "markdown",
      "source": [
        "14. Design a function `generate_linear_space` that takes two floats start`, `stop`, and an integer `num`as arguments and generates a NumPy array with num equally spaced values between 'start` and `stop` (inclusive).\n"
      ],
      "metadata": {
        "id": "aY_4uLInVIyN"
      }
    },
    {
      "cell_type": "code",
      "source": [
        "import numpy as np\n",
        "\n",
        "def generate_linear_space(start, stop, num):\n",
        "    return np.linspace(start, stop, num)\n",
        "\n",
        "start = 0.5\n",
        "stop = 2.5\n",
        "num = 5\n",
        "linear_space_array = generate_linear_space(start, stop, num)\n",
        "print(linear_space_array)\n"
      ],
      "metadata": {
        "colab": {
          "base_uri": "https://localhost:8080/"
        },
        "id": "Ikw9vvE_hiIR",
        "outputId": "ea91859a-2062-4ad3-ca32-dcfc6d08ff18"
      },
      "execution_count": null,
      "outputs": [
        {
          "output_type": "stream",
          "name": "stdout",
          "text": [
            "[0.5 1.  1.5 2.  2.5]\n"
          ]
        }
      ]
    },
    {
      "cell_type": "markdown",
      "source": [
        "15. Create a function `create_identity_matrix` that takes an integer `n` as input and generates a square identity matrix of size `n x n` using `numpy.eye`.\n"
      ],
      "metadata": {
        "id": "4nDEAKBEh7pz"
      }
    },
    {
      "cell_type": "code",
      "source": [
        "import numpy as np\n",
        "\n",
        "def create_identity_matrix(n):\n",
        "    return np.eye(n)\n",
        "\n",
        "n = 3\n",
        "identity_matrix = create_identity_matrix(n)\n",
        "print(identity_matrix)\n"
      ],
      "metadata": {
        "colab": {
          "base_uri": "https://localhost:8080/"
        },
        "id": "tSmD7K_Ph-Ab",
        "outputId": "6c7317aa-90a7-41d2-e4b3-d2f561aa391c"
      },
      "execution_count": null,
      "outputs": [
        {
          "output_type": "stream",
          "name": "stdout",
          "text": [
            "[[1. 0. 0.]\n",
            " [0. 1. 0.]\n",
            " [0. 0. 1.]]\n"
          ]
        }
      ]
    },
    {
      "cell_type": "markdown",
      "source": [
        "16. Write a function that takes a Python list and converts it into a NumPy array.\n"
      ],
      "metadata": {
        "id": "gLL-26gjiJw6"
      }
    },
    {
      "cell_type": "code",
      "source": [
        "import numpy as np\n",
        "\n",
        "def list_to_numpy_array(lst):\n",
        "    return np.array(lst)\n",
        "\n",
        "my_list = [1, 2, 3, 4, 5]\n",
        "numpy_array = list_to_numpy_array(my_list)\n",
        "print(numpy_array)\n"
      ],
      "metadata": {
        "colab": {
          "base_uri": "https://localhost:8080/"
        },
        "id": "e6eJSU2EiMp_",
        "outputId": "3ae5f249-ff32-4ea7-d9cc-0e4fb0d8faaf"
      },
      "execution_count": null,
      "outputs": [
        {
          "output_type": "stream",
          "name": "stdout",
          "text": [
            "[1 2 3 4 5]\n"
          ]
        }
      ]
    },
    {
      "cell_type": "markdown",
      "source": [
        "17. Create a NumPy array and demonstrate the use of `numpy.view` to create a new array object with the same data."
      ],
      "metadata": {
        "id": "qBE8Jxl7iTta"
      }
    },
    {
      "cell_type": "code",
      "source": [
        "original_array = np.array([[1, 2, 3], [4, 5, 6]])\n",
        "view_array = original_array.view()\n",
        "view_array[0, 0] = 100\n",
        "\n",
        "print(\"Original array:\")\n",
        "print(original_array)\n",
        "print(\"\\nView array:\")\n",
        "print(view_array)\n"
      ],
      "metadata": {
        "colab": {
          "base_uri": "https://localhost:8080/"
        },
        "id": "hGqqjHLiiYEA",
        "outputId": "2adb0fcd-8be1-45b4-9e59-6cabba5197b0"
      },
      "execution_count": null,
      "outputs": [
        {
          "output_type": "stream",
          "name": "stdout",
          "text": [
            "Original array:\n",
            "[[100   2   3]\n",
            " [  4   5   6]]\n",
            "\n",
            "View array:\n",
            "[[100   2   3]\n",
            " [  4   5   6]]\n"
          ]
        }
      ]
    },
    {
      "cell_type": "markdown",
      "source": [
        "18. Write a function that takes two NumPy arrays and concatenates them along a specified axis.\n"
      ],
      "metadata": {
        "id": "7-ybkEFKij8Y"
      }
    },
    {
      "cell_type": "code",
      "source": [
        "def concatenate_arrays(arr1, arr2, axis=0):\n",
        "    return np.concatenate((arr1, arr2), axis=axis)\n",
        "\n",
        "array1 = np.array([[1, 2, 3], [4, 5, 6]])\n",
        "array2 = np.array([[7, 8, 9], [10, 11, 12]])\n",
        "concatenated_array_rows = concatenate_arrays(array1, array2, axis=0)\n",
        "print(\"Concatenated array along rows (axis=0):\")\n",
        "print(concatenated_array_rows)\n",
        "concatenated_array_columns = concatenate_arrays(array1, array2, axis=1)\n",
        "print(\"\\nConcatenated array along columns (axis=1):\")\n",
        "print(concatenated_array_columns)\n"
      ],
      "metadata": {
        "colab": {
          "base_uri": "https://localhost:8080/"
        },
        "id": "0cA-u7E1kpCy",
        "outputId": "eeda9565-1d8c-4d21-d018-a27e3a1c76fa"
      },
      "execution_count": null,
      "outputs": [
        {
          "output_type": "stream",
          "name": "stdout",
          "text": [
            "Concatenated array along rows (axis=0):\n",
            "[[ 1  2  3]\n",
            " [ 4  5  6]\n",
            " [ 7  8  9]\n",
            " [10 11 12]]\n",
            "\n",
            "Concatenated array along columns (axis=1):\n",
            "[[ 1  2  3  7  8  9]\n",
            " [ 4  5  6 10 11 12]]\n"
          ]
        }
      ]
    },
    {
      "cell_type": "markdown",
      "source": [
        "19. Create two NumPy arrays with different shapes and concatenate them horizontally using `numpy. concatenate`.\n"
      ],
      "metadata": {
        "id": "kzoU0BqBkoTh"
      }
    },
    {
      "cell_type": "code",
      "source": [
        "array1 = np.array([[1, 2, 3], [4, 5, 6]])\n",
        "array2 = np.array([[7], [8]])\n",
        "\n",
        "concatenated_array = np.concatenate((array1, array2), axis=1)\n",
        "\n",
        "print(\"Array 1:\")\n",
        "print(array1)\n",
        "print(\"\\nArray 2:\")\n",
        "print(array2)\n",
        "print(\"\\nConcatenated array:\")\n",
        "print(concatenated_array)\n"
      ],
      "metadata": {
        "colab": {
          "base_uri": "https://localhost:8080/"
        },
        "id": "5vOjORSOkyka",
        "outputId": "387bafa5-f709-454f-de8d-0ff4c121a83b"
      },
      "execution_count": null,
      "outputs": [
        {
          "output_type": "stream",
          "name": "stdout",
          "text": [
            "Array 1:\n",
            "[[1 2 3]\n",
            " [4 5 6]]\n",
            "\n",
            "Array 2:\n",
            "[[7]\n",
            " [8]]\n",
            "\n",
            "Concatenated array:\n",
            "[[1 2 3 7]\n",
            " [4 5 6 8]]\n"
          ]
        }
      ]
    },
    {
      "cell_type": "markdown",
      "source": [
        "20. Write a function that vertically stacks multiple NumPy arrays given as a list.\n"
      ],
      "metadata": {
        "id": "x4wPrU4KndCx"
      }
    },
    {
      "cell_type": "code",
      "source": [
        "def vertical_stack_arrays(arrays):\n",
        "    return np.vstack(arrays)\n",
        "\n",
        "array1 = np.array([[1, 2, 3], [4, 5, 6]])\n",
        "array2 = np.array([[7, 8, 9]])\n",
        "stacked_array = vertical_stack_arrays([array1, array2])\n",
        "print(\"Stacked array:\")\n",
        "print(stacked_array)\n"
      ],
      "metadata": {
        "colab": {
          "base_uri": "https://localhost:8080/"
        },
        "id": "Qvr45oscnfAR",
        "outputId": "516e9e25-abee-463d-9fef-f8c3dbc7fe98"
      },
      "execution_count": null,
      "outputs": [
        {
          "output_type": "stream",
          "name": "stdout",
          "text": [
            "Stacked array:\n",
            "[[1 2 3]\n",
            " [4 5 6]\n",
            " [7 8 9]]\n"
          ]
        }
      ]
    },
    {
      "cell_type": "markdown",
      "source": [
        "21. Write a Python function using NumPy to create an array of integers within a specified range (inclusive) with a given step size.\n"
      ],
      "metadata": {
        "id": "9rY6FL4mntN9"
      }
    },
    {
      "cell_type": "code",
      "source": [
        "def create_integer_array(start, stop, step=1):\n",
        "    return np.arange(start, stop + 1, step, dtype=int)\n",
        "\n",
        "start = 1\n",
        "stop = 10\n",
        "step = 2\n",
        "integer_array = create_integer_array(start, stop, step)\n",
        "print(\"Integer array:\")\n",
        "print(integer_array)\n"
      ],
      "metadata": {
        "colab": {
          "base_uri": "https://localhost:8080/"
        },
        "id": "QEtLYEcPvWoD",
        "outputId": "d4e88093-0261-4837-9fe2-d5406bd744d1"
      },
      "execution_count": null,
      "outputs": [
        {
          "output_type": "stream",
          "name": "stdout",
          "text": [
            "Integer array:\n",
            "[1 3 5 7 9]\n"
          ]
        }
      ]
    },
    {
      "cell_type": "markdown",
      "source": [
        "22. Write a Python function using NumPy to generate an array of 10 equally spaced values between 0 and 1 (inclusive).\n"
      ],
      "metadata": {
        "id": "uwrWO3j4viYk"
      }
    },
    {
      "cell_type": "code",
      "source": [
        "def generate_equally_spaced_array():\n",
        "    return np.linspace(0, 1, 10)\n",
        "\n",
        "equally_spaced_array = generate_equally_spaced_array()\n",
        "print(\"Equally spaced array:\")\n",
        "print(equally_spaced_array)\n"
      ],
      "metadata": {
        "colab": {
          "base_uri": "https://localhost:8080/"
        },
        "id": "614JqcIDvhoa",
        "outputId": "4446b58a-1110-418c-9a43-6975aef8d770"
      },
      "execution_count": null,
      "outputs": [
        {
          "output_type": "stream",
          "name": "stdout",
          "text": [
            "Equally spaced array:\n",
            "[0.         0.11111111 0.22222222 0.33333333 0.44444444 0.55555556\n",
            " 0.66666667 0.77777778 0.88888889 1.        ]\n"
          ]
        }
      ]
    },
    {
      "cell_type": "markdown",
      "source": [
        "23. Write a Python function using NumPy to create an array of 5 logarithmically spaced values between 1 and 1000 (inclusive).\n"
      ],
      "metadata": {
        "id": "WnPmk_8QvyDd"
      }
    },
    {
      "cell_type": "code",
      "source": [
        "import numpy as np\n",
        "\n",
        "def generate_logarithmically_spaced_array():\n",
        "    return np.logspace(start=np.log10(1), stop=np.log10(1000), num=5)\n",
        "\n",
        "logarithmically_spaced_array = generate_logarithmically_spaced_array()\n",
        "print(\"Logarithmically spaced array:\")\n",
        "print(logarithmically_spaced_array)\n"
      ],
      "metadata": {
        "colab": {
          "base_uri": "https://localhost:8080/"
        },
        "id": "NH92Z_qxv0k8",
        "outputId": "272c7dc6-6f7b-4629-ec74-fd7b0ac384d4"
      },
      "execution_count": null,
      "outputs": [
        {
          "output_type": "stream",
          "name": "stdout",
          "text": [
            "Logarithmically spaced array:\n",
            "[   1.            5.62341325   31.6227766   177.827941   1000.        ]\n"
          ]
        }
      ]
    },
    {
      "cell_type": "markdown",
      "source": [
        "24. Create a Pandas DataFrame using a NumPy array that contains 5 rows and 3 columns, where the values are random integers between 1 and 100.\n"
      ],
      "metadata": {
        "id": "5HAgf0CbwDLz"
      }
    },
    {
      "cell_type": "code",
      "source": [
        "import numpy as np\n",
        "import pandas as pd\n",
        "\n",
        "random_array = np.random.randint(low=1, high=101, size=(5, 3))\n",
        "\n",
        "df = pd.DataFrame(random_array, columns=['Column1', 'Column2', 'Column3'])\n",
        "\n",
        "print(\"Pandas DataFrame:\")\n",
        "print(df)\n"
      ],
      "metadata": {
        "colab": {
          "base_uri": "https://localhost:8080/"
        },
        "id": "u3L-VH6TwFam",
        "outputId": "9b8365eb-7567-4951-a547-85c810127ca0"
      },
      "execution_count": null,
      "outputs": [
        {
          "output_type": "stream",
          "name": "stdout",
          "text": [
            "Pandas DataFrame:\n",
            "   Column1  Column2  Column3\n",
            "0       45       44       58\n",
            "1       71       15       48\n",
            "2       50       85       21\n",
            "3        1       56       59\n",
            "4       80       43       36\n"
          ]
        }
      ]
    },
    {
      "cell_type": "markdown",
      "source": [
        "25. Write a function that takes a Pandas DataFrame and replaces all negative values in a specific column with zeros. Use NumPy operations within the Pandas DataFrame.\n"
      ],
      "metadata": {
        "id": "fUG-sAelwVmX"
      }
    },
    {
      "cell_type": "code",
      "source": [
        "def replace_negative_values_with_zeros(df, column_name):\n",
        "    df[column_name] = df[column_name].apply(lambda x: max(0, x))\n",
        "    return df\n",
        "\n",
        "data = {'A': [1, -2, 3, -4, 5],\n",
        "        'B': [10, -20, 30, -40, 50]}\n",
        "df = pd.DataFrame(data)\n",
        "\n",
        "print(\"Original DataFrame:\")\n",
        "print(df)\n",
        "\n",
        "column_name = 'A'\n",
        "df_updated = replace_negative_values_with_zeros(df, column_name)\n",
        "\n",
        "print(\"\\nDataFrame with negative values replaced by zeros in column '{}'\".format(column_name))\n",
        "print(df_updated)\n"
      ],
      "metadata": {
        "colab": {
          "base_uri": "https://localhost:8080/"
        },
        "id": "1Ya14A3mwX3a",
        "outputId": "24c7ac03-4a63-47ca-ff0b-78cf6ae53153"
      },
      "execution_count": null,
      "outputs": [
        {
          "output_type": "stream",
          "name": "stdout",
          "text": [
            "Original DataFrame:\n",
            "   A   B\n",
            "0  1  10\n",
            "1 -2 -20\n",
            "2  3  30\n",
            "3 -4 -40\n",
            "4  5  50\n",
            "\n",
            "DataFrame with negative values replaced by zeros in column 'A'\n",
            "   A   B\n",
            "0  1  10\n",
            "1  0 -20\n",
            "2  3  30\n",
            "3  0 -40\n",
            "4  5  50\n"
          ]
        }
      ]
    },
    {
      "cell_type": "markdown",
      "source": [
        "26. Access the 3rd element from the given NumPy array.\n"
      ],
      "metadata": {
        "id": "w5FHVfSYxBQf"
      }
    },
    {
      "cell_type": "code",
      "source": [
        "arr = np.array([10, 20, 30, 40, 50])\n",
        "third_element = arr[2]\n",
        "\n",
        "print(\"The 3rd element from the given NumPy array is:\", third_element)\n"
      ],
      "metadata": {
        "colab": {
          "base_uri": "https://localhost:8080/"
        },
        "id": "awPytha4xF0b",
        "outputId": "d72ccf40-ba10-439a-dd4a-c9e886e07f97"
      },
      "execution_count": null,
      "outputs": [
        {
          "output_type": "stream",
          "name": "stdout",
          "text": [
            "The 3rd element from the given NumPy array is: 30\n"
          ]
        }
      ]
    },
    {
      "cell_type": "markdown",
      "source": [
        "27. Retrieve the element at index (1, 2) from the 2D NumPy array.\n"
      ],
      "metadata": {
        "id": "bytEGuPzxT7f"
      }
    },
    {
      "cell_type": "code",
      "source": [
        "\n",
        "arr_2d = np.array([[1, 2, 3],\n",
        "                   [4, 5, 6],\n",
        "                   [7, 8, 9]])\n",
        "\n",
        "element_at_index_1_2 = arr_2d[1, 2]\n",
        "\n",
        "print(\"The element at index (1, 2) from the given 2D NumPy array is:\", element_at_index_1_2)\n"
      ],
      "metadata": {
        "colab": {
          "base_uri": "https://localhost:8080/"
        },
        "id": "WiiSSqJ5xm87",
        "outputId": "71a9b229-a8d2-43f3-ac02-9b8ec3fc8b21"
      },
      "execution_count": null,
      "outputs": [
        {
          "output_type": "stream",
          "name": "stdout",
          "text": [
            "The element at index (1, 2) from the given 2D NumPy array is: 6\n"
          ]
        }
      ]
    },
    {
      "cell_type": "markdown",
      "source": [
        "28. Using boolean indexing, extract elements greater than 5 from the given NumPy array.\n"
      ],
      "metadata": {
        "id": "wXvTjU3KxWyK"
      }
    },
    {
      "cell_type": "code",
      "source": [
        "\n",
        "arr = np.array([3, 8, 2, 10, 5, 7])\n",
        "greater_than_5 = arr[arr > 5]\n",
        "\n",
        "print(\"Elements greater than 5 from the given NumPy array:\")\n",
        "print(greater_than_5)\n"
      ],
      "metadata": {
        "colab": {
          "base_uri": "https://localhost:8080/"
        },
        "id": "E8O5Z43fx1_a",
        "outputId": "ece89ebc-71a0-4118-83d0-8b6e3acb6ddb"
      },
      "execution_count": null,
      "outputs": [
        {
          "output_type": "stream",
          "name": "stdout",
          "text": [
            "Elements greater than 5 from the given NumPy array:\n",
            "[ 8 10  7]\n"
          ]
        }
      ]
    },
    {
      "cell_type": "markdown",
      "source": [
        "29. Perform basic slicing to extract elements from index 2 to 5 (inclusive) from the given NumPy array.\n"
      ],
      "metadata": {
        "id": "Uq1RgAhox7E9"
      }
    },
    {
      "cell_type": "code",
      "source": [
        "arr = np.array([1, 2, 3, 4, 5, 6, 7, 8, 9])\n",
        "\n",
        "sliced_arr = arr[2:6]\n",
        "\n",
        "print(\"Elements from index 2 to 5 (inclusive) from the given NumPy array:\")\n",
        "print(sliced_arr)\n"
      ],
      "metadata": {
        "colab": {
          "base_uri": "https://localhost:8080/"
        },
        "id": "Ldc0TCZLx_no",
        "outputId": "6b7ef69d-1523-4387-e67a-c18857e450c2"
      },
      "execution_count": null,
      "outputs": [
        {
          "output_type": "stream",
          "name": "stdout",
          "text": [
            "Elements from index 2 to 5 (inclusive) from the given NumPy array:\n",
            "[3 4 5 6]\n"
          ]
        }
      ]
    },
    {
      "cell_type": "markdown",
      "source": [
        "30. Slice the 2D NumPy array to extract the sub-array`[[2, 3], [5, 6]]` from the given array."
      ],
      "metadata": {
        "id": "IUyEFBoHyNin"
      }
    },
    {
      "cell_type": "code",
      "source": [
        "arr_2d = np.array([[1, 2, 3],\n",
        "                   [4, 5, 6],\n",
        "                   [7, 8, 9]])\n",
        "\n",
        "\n",
        "sub_array = arr_2d[0:2, 1:3]\n",
        "\n",
        "print(\"Sub-array [[2, 3], [5, 6]] from the given 2D NumPy array:\")\n",
        "print(sub_array)\n"
      ],
      "metadata": {
        "colab": {
          "base_uri": "https://localhost:8080/"
        },
        "id": "-FW5vdzeyVXY",
        "outputId": "bc871dc4-bfb2-4eb7-b27c-0e0046af97db"
      },
      "execution_count": null,
      "outputs": [
        {
          "output_type": "stream",
          "name": "stdout",
          "text": [
            "Sub-array [[2, 3], [5, 6]] from the given 2D NumPy array:\n",
            "[[2 3]\n",
            " [5 6]]\n"
          ]
        }
      ]
    },
    {
      "cell_type": "markdown",
      "source": [
        "31.Write a NumPy function to extract elements in specific order from a given 2D array based on indices provided in another array.\n"
      ],
      "metadata": {
        "id": "nJ4vzUKByt7R"
      }
    },
    {
      "cell_type": "code",
      "source": [
        "def extract_elements_by_indices(arr_2d, indices):\n",
        "    return arr_2d.flatten()[indices]\n",
        "\n",
        "arr_2d = np.array([[1, 2, 3],\n",
        "                   [4, 5, 6],\n",
        "                   [7, 8, 9]])\n",
        "\n",
        "indices = np.array([4, 0, 5, 2, 1])\n",
        "\n",
        "extracted_elements = extract_elements_by_indices(arr_2d, indices)\n",
        "print(\"Extracted elements based on the provided indices:\")\n",
        "print(extracted_elements)\n"
      ],
      "metadata": {
        "colab": {
          "base_uri": "https://localhost:8080/"
        },
        "id": "6qoj_CQMzE09",
        "outputId": "3920d4bd-8687-4106-fa7a-4b12dfb46cc9"
      },
      "execution_count": null,
      "outputs": [
        {
          "output_type": "stream",
          "name": "stdout",
          "text": [
            "Extracted elements based on the provided indices:\n",
            "[5 1 6 3 2]\n"
          ]
        }
      ]
    },
    {
      "cell_type": "markdown",
      "source": [
        "32. Create a NumPy function that filters elements greater than a threshold from a given ID array using boolean indexing.\n"
      ],
      "metadata": {
        "id": "b5yTSUp50FHW"
      }
    },
    {
      "cell_type": "code",
      "source": [
        "def filter_elements_by_threshold(id_array, threshold):\n",
        "    return id_array[id_array > threshold]\n",
        "\n",
        "\n",
        "id_array = np.array([10, 20, 30, 40, 50])\n",
        "threshold = 25\n",
        "\n",
        "filtered_elements = filter_elements_by_threshold(id_array, threshold)\n",
        "print(\"Filtered elements greater than\", threshold, \"from the given ID array:\")\n",
        "print(filtered_elements)\n"
      ],
      "metadata": {
        "colab": {
          "base_uri": "https://localhost:8080/"
        },
        "id": "cs72Q2_H0Hmw",
        "outputId": "0daf9482-79ac-4348-d3ec-cb85e54a9d71"
      },
      "execution_count": null,
      "outputs": [
        {
          "output_type": "stream",
          "name": "stdout",
          "text": [
            "Filtered elements greater than 25 from the given ID array:\n",
            "[30 40 50]\n"
          ]
        }
      ]
    },
    {
      "cell_type": "markdown",
      "source": [
        "33. Develop a NumPy function that extracts specific elements from a 3D array using indices provided in three separate arrays for each dimension.\n"
      ],
      "metadata": {
        "id": "mc7EaKYY0deC"
      }
    },
    {
      "cell_type": "code",
      "source": [
        "def extract_elements_from_3d_array(arr_3d, indices_dim1, indices_dim2, indices_dim3):\n",
        "    return arr_3d[indices_dim1, indices_dim2, indices_dim3]\n",
        "\n",
        "arr_3d = np.array([[[1, 2, 3],\n",
        "                    [4, 5, 6],\n",
        "                    [7, 8, 9]],\n",
        "\n",
        "                   [[10, 11, 12],\n",
        "                    [13, 14, 15],\n",
        "                    [16, 17, 18]],\n",
        "\n",
        "                   [[19, 20, 21],\n",
        "                    [22, 23, 24],\n",
        "                    [25, 26, 27]]])\n",
        "\n",
        "indices_dim1 = np.array([0, 1, 2])\n",
        "indices_dim2 = np.array([1, 0, 2])\n",
        "indices_dim3 = np.array([2, 1, 0])\n",
        "\n",
        "extracted_elements = extract_elements_from_3d_array(arr_3d, indices_dim1, indices_dim2, indices_dim3)\n",
        "print(\"Extracted elements from the 3D array based on the provided indices:\")\n",
        "print(extracted_elements)\n"
      ],
      "metadata": {
        "colab": {
          "base_uri": "https://localhost:8080/"
        },
        "id": "1HyrBj_a0lkI",
        "outputId": "81bf392b-d0f3-4e14-fa99-1f5c3816d9c5"
      },
      "execution_count": null,
      "outputs": [
        {
          "output_type": "stream",
          "name": "stdout",
          "text": [
            "Extracted elements from the 3D array based on the provided indices:\n",
            "[ 6 11 25]\n"
          ]
        }
      ]
    },
    {
      "cell_type": "markdown",
      "source": [
        "34. Write a NumPy function that returns elements from an array where both two conditions are satisfied using boolean indexing.\n"
      ],
      "metadata": {
        "id": "8KxDqowW2IFf"
      }
    },
    {
      "cell_type": "code",
      "source": [
        "\n",
        "def filter_elements_with_conditions(arr, condition1, condition2):\n",
        "\n",
        "    return arr[(condition1) & (condition2)]\n",
        "\n",
        "arr = np.array([1, 2, 3, 4, 5])\n",
        "condition1 = arr > 2\n",
        "condition2 = arr % 2 == 0\n",
        "\n",
        "\n",
        "filtered_elements = filter_elements_with_conditions(arr, condition1, condition2)\n",
        "print(\"Elements from the array where both conditions are satisfied:\")\n",
        "print(filtered_elements)\n"
      ],
      "metadata": {
        "colab": {
          "base_uri": "https://localhost:8080/"
        },
        "id": "ts1tkDWl2L2a",
        "outputId": "7633fc93-4b0f-41ed-c762-6eee33e3d369"
      },
      "execution_count": null,
      "outputs": [
        {
          "output_type": "stream",
          "name": "stdout",
          "text": [
            "Elements from the array where both conditions are satisfied:\n",
            "[4]\n"
          ]
        }
      ]
    },
    {
      "cell_type": "markdown",
      "source": [
        "35. Create a NumPy function that extracts elements from a 2D array using row and column indices provided in separate arrays.\n"
      ],
      "metadata": {
        "id": "mOLrWEIa2914"
      }
    },
    {
      "cell_type": "code",
      "source": [
        "import numpy as np\n",
        "\n",
        "def extract_elements_from_2d_array(arr_2d, row_indices, col_indices):\n",
        "    return arr_2d[row_indices, col_indices]\n",
        "\n",
        "\n",
        "arr_2d = np.array([[1, 2, 3],\n",
        "                   [4, 5, 6],\n",
        "                   [7, 8, 9]])\n",
        "\n",
        "row_indices = np.array([0, 1, 2])\n",
        "col_indices = np.array([1, 0, 2])\n",
        "\n",
        "extracted_elements = extract_elements_from_2d_array(arr_2d, row_indices, col_indices)\n",
        "print(\"Extracted elements from the 2D array based on the provided row and column indices:\")\n",
        "print(extracted_elements)\n"
      ],
      "metadata": {
        "colab": {
          "base_uri": "https://localhost:8080/"
        },
        "id": "zzO0hgIx2_7k",
        "outputId": "8b3c5391-9651-46bb-92e5-17c08960d749"
      },
      "execution_count": null,
      "outputs": [
        {
          "output_type": "stream",
          "name": "stdout",
          "text": [
            "Extracted elements from the 2D array based on the provided row and column indices:\n",
            "[2 4 9]\n"
          ]
        }
      ]
    },
    {
      "cell_type": "markdown",
      "source": [
        "36. Given an array arr of shape (3, 3), add a scalar value of 5 to each element using NumPy broadcasting.\n"
      ],
      "metadata": {
        "id": "He4PZlZD6FGx"
      }
    },
    {
      "cell_type": "code",
      "source": [
        "arr = np.array([[1, 2, 3],\n",
        "                [4, 5, 6],\n",
        "                [7, 8, 9]])\n",
        "\n",
        "result = arr + 5\n",
        "\n",
        "print(\"Original array:\")\n",
        "print(arr)\n",
        "\n",
        "print(\"\\nArray after adding a scalar value of 5 to each element:\")\n",
        "print(result)\n"
      ],
      "metadata": {
        "colab": {
          "base_uri": "https://localhost:8080/"
        },
        "id": "dZ9XMO4R6QMW",
        "outputId": "877a65c7-1705-4906-bad7-ff6a2dbd8334"
      },
      "execution_count": null,
      "outputs": [
        {
          "output_type": "stream",
          "name": "stdout",
          "text": [
            "Original array:\n",
            "[[1 2 3]\n",
            " [4 5 6]\n",
            " [7 8 9]]\n",
            "\n",
            "Array after adding a scalar value of 5 to each element:\n",
            "[[ 6  7  8]\n",
            " [ 9 10 11]\n",
            " [12 13 14]]\n"
          ]
        }
      ]
    },
    {
      "cell_type": "markdown",
      "source": [
        "37. Consider two arrays arrl of shape (1, 3) and arr2 of shape (3, 4). Multiply each row of arr2 by the corresponding element in arrl using NumPy broadcasting.\n"
      ],
      "metadata": {
        "id": "V0xrDSWH6f7V"
      }
    },
    {
      "cell_type": "code",
      "source": [
        "\n",
        "arr1 = np.array([[1, 2, 3]])\n",
        "arr2 = np.array([[1, 2, 3, 4],\n",
        "                 [5, 6, 7, 8],\n",
        "                 [9, 10, 11, 12]])\n",
        "\n",
        "arr1_reshaped = arr1.reshape(3, 1)\n",
        "\n",
        "result = arr1_reshaped * arr2\n",
        "\n",
        "print(\"Array arr1:\")\n",
        "print(arr1)\n",
        "\n",
        "print(\"\\nArray arr2:\")\n",
        "print(arr2)\n",
        "\n",
        "print(\"\\nResult after multiplying each row of arr2 by the corresponding element in arr1:\")\n",
        "print(result)\n"
      ],
      "metadata": {
        "colab": {
          "base_uri": "https://localhost:8080/"
        },
        "id": "Tdwav7EL6im6",
        "outputId": "d4a4c2ef-749c-436c-d639-d839392cb03f"
      },
      "execution_count": null,
      "outputs": [
        {
          "output_type": "stream",
          "name": "stdout",
          "text": [
            "Array arr1:\n",
            "[[1 2 3]]\n",
            "\n",
            "Array arr2:\n",
            "[[ 1  2  3  4]\n",
            " [ 5  6  7  8]\n",
            " [ 9 10 11 12]]\n",
            "\n",
            "Result after multiplying each row of arr2 by the corresponding element in arr1:\n",
            "[[ 1  2  3  4]\n",
            " [10 12 14 16]\n",
            " [27 30 33 36]]\n"
          ]
        }
      ]
    },
    {
      "cell_type": "markdown",
      "source": [
        "38. Given a ID array arrl of shape (1, 4) and a 2D array arr2 of shape (4,3), add arrl to each row of arr2 using NumPy broadcasting.\n"
      ],
      "metadata": {
        "id": "nSIwJ5jv605o"
      }
    },
    {
      "cell_type": "code",
      "source": [
        "\n",
        "arr1 = np.array([[1, 2, 3, 4]])\n",
        "arr2 = np.array([[1, 2, 3],\n",
        "                 [4, 5, 6],\n",
        "                 [7, 8, 9],\n",
        "                 [10, 11, 12]])\n",
        "\n",
        "arr1_reshaped = arr1.reshape(4, 1)\n",
        "result = arr1_reshaped + arr2\n",
        "\n",
        "print(\"Array arr1:\")\n",
        "print(arr1)\n",
        "\n",
        "print(\"\\nArray arr2:\")\n",
        "print(arr2)\n",
        "\n",
        "print(\"\\nResult after adding arr1 to each row of arr2:\")\n",
        "print(result)\n"
      ],
      "metadata": {
        "colab": {
          "base_uri": "https://localhost:8080/"
        },
        "id": "4THONZPl67jI",
        "outputId": "bdfff6d6-dc23-43e3-dccb-4e14cd6222f6"
      },
      "execution_count": null,
      "outputs": [
        {
          "output_type": "stream",
          "name": "stdout",
          "text": [
            "Array arr1:\n",
            "[[1 2 3 4]]\n",
            "\n",
            "Array arr2:\n",
            "[[ 1  2  3]\n",
            " [ 4  5  6]\n",
            " [ 7  8  9]\n",
            " [10 11 12]]\n",
            "\n",
            "Result after adding arr1 to each row of arr2:\n",
            "[[ 2  3  4]\n",
            " [ 6  7  8]\n",
            " [10 11 12]\n",
            " [14 15 16]]\n"
          ]
        }
      ]
    },
    {
      "cell_type": "markdown",
      "source": [
        "39. Consider two arrays arrl of shape (3, 1) and arr2 of shape (1, 3). Add these arrays using NumPy broadcasting.\n"
      ],
      "metadata": {
        "id": "Vp0f8woH7CRB"
      }
    },
    {
      "cell_type": "code",
      "source": [
        "\n",
        "arr1 = np.array([[1],\n",
        "                  [2],\n",
        "                  [3]])\n",
        "\n",
        "arr2 = np.array([[4, 5, 6]])\n",
        "result = arr1 + arr2\n",
        "\n",
        "print(\"Array arr1:\")\n",
        "print(arr1)\n",
        "\n",
        "print(\"\\nArray arr2:\")\n",
        "print(arr2)\n",
        "\n",
        "print(\"\\nResult after adding arr1 and arr2 using broadcasting:\")\n",
        "print(result)\n"
      ],
      "metadata": {
        "colab": {
          "base_uri": "https://localhost:8080/"
        },
        "id": "NZ0pDf3n7EGx",
        "outputId": "b7edd032-36a1-4cc7-9208-355e93d0bd7b"
      },
      "execution_count": null,
      "outputs": [
        {
          "output_type": "stream",
          "name": "stdout",
          "text": [
            "Array arr1:\n",
            "[[1]\n",
            " [2]\n",
            " [3]]\n",
            "\n",
            "Array arr2:\n",
            "[[4 5 6]]\n",
            "\n",
            "Result after adding arr1 and arr2 using broadcasting:\n",
            "[[5 6 7]\n",
            " [6 7 8]\n",
            " [7 8 9]]\n"
          ]
        }
      ]
    },
    {
      "cell_type": "markdown",
      "source": [
        "40. Given arrays arrl of shape (2, 3) and arr2 of shape (2, 2), perform multiplication using NumPy broadcasting. Handle the shape incompatibility.\n"
      ],
      "metadata": {
        "id": "3RMXdA_E7Nf2"
      }
    },
    {
      "cell_type": "code",
      "source": [
        "arr1 = np.array([[1, 2, 3],\n",
        "                  [4, 5, 6]])\n",
        "\n",
        "arr2 = np.array([[7, 8],\n",
        "                 [9, 10]])\n",
        "\n",
        "arr2_reshaped = np.expand_dims(arr2, axis=2)\n",
        "\n",
        "\n",
        "result = arr1 * arr2_reshaped\n",
        "\n",
        "print(\"Array arr1:\")\n",
        "print(arr1)\n",
        "\n",
        "print(\"\\nArray arr2:\")\n",
        "print(arr2)\n",
        "\n",
        "print(\"\\nResult after multiplication using broadcasting:\")\n",
        "print(result)\n"
      ],
      "metadata": {
        "colab": {
          "base_uri": "https://localhost:8080/"
        },
        "id": "M7fr__N57PP8",
        "outputId": "2063246b-acf2-4003-ae4b-0e5667653b6d"
      },
      "execution_count": null,
      "outputs": [
        {
          "output_type": "stream",
          "name": "stdout",
          "text": [
            "Array arr1:\n",
            "[[1 2 3]\n",
            " [4 5 6]]\n",
            "\n",
            "Array arr2:\n",
            "[[ 7  8]\n",
            " [ 9 10]]\n",
            "\n",
            "Result after multiplication using broadcasting:\n",
            "[[[ 7 14 21]\n",
            "  [32 40 48]]\n",
            "\n",
            " [[ 9 18 27]\n",
            "  [40 50 60]]]\n"
          ]
        }
      ]
    },
    {
      "cell_type": "markdown",
      "source": [
        "41. Calculate column-wise mean for the given array: arr = np.array([[1, 2, 3], [4, 5, 6]])\n"
      ],
      "metadata": {
        "id": "BkYudci7706p"
      }
    },
    {
      "cell_type": "code",
      "source": [
        "arr = np.array([[1, 2, 3],\n",
        "                [4, 5, 6]])\n",
        "\n",
        "column_means = np.mean(arr, axis=0)\n",
        "\n",
        "print(\"Given array:\")\n",
        "print(arr)\n",
        "\n",
        "print(\"\\nColumn-wise mean:\")\n",
        "print(column_means)\n"
      ],
      "metadata": {
        "colab": {
          "base_uri": "https://localhost:8080/"
        },
        "id": "gvImLf5h74of",
        "outputId": "d76ead39-95f4-42f1-b2df-58f251f7427a"
      },
      "execution_count": null,
      "outputs": [
        {
          "output_type": "stream",
          "name": "stdout",
          "text": [
            "Given array:\n",
            "[[1 2 3]\n",
            " [4 5 6]]\n",
            "\n",
            "Column-wise mean:\n",
            "[2.5 3.5 4.5]\n"
          ]
        }
      ]
    },
    {
      "cell_type": "markdown",
      "source": [
        "42. Find maximum value in each row of the given array:\n"
      ],
      "metadata": {
        "id": "SVuzVFCz8MLf"
      }
    },
    {
      "cell_type": "code",
      "source": [
        "arr = np.array([[1, 2, 3],\n",
        "                [4, 5, 6]])\n",
        "\n",
        "\n",
        "max_values_per_row = np.max(arr, axis=1)\n",
        "\n",
        "print(\"Given array:\")\n",
        "print(arr)\n",
        "\n",
        "print(\"\\nMaximum value in each row:\")\n",
        "print(max_values_per_row)\n"
      ],
      "metadata": {
        "colab": {
          "base_uri": "https://localhost:8080/"
        },
        "id": "Z-fX2uIt8T9M",
        "outputId": "75e6f55d-aba3-47e9-963a-80fa9e2af5cf"
      },
      "execution_count": null,
      "outputs": [
        {
          "output_type": "stream",
          "name": "stdout",
          "text": [
            "Given array:\n",
            "[[1 2 3]\n",
            " [4 5 6]]\n",
            "\n",
            "Maximum value in each row:\n",
            "[3 6]\n"
          ]
        }
      ]
    },
    {
      "cell_type": "markdown",
      "source": [
        "43. For the given array, find indices of maximum value in each column.\n"
      ],
      "metadata": {
        "id": "Pd0pSc4p7V-x"
      }
    },
    {
      "cell_type": "code",
      "source": [
        "\n",
        "arr = np.array([[1, 2, 3],\n",
        "                [4, 5, 6]])\n",
        "\n",
        "\n",
        "max_indices_per_column = np.argmax(arr, axis=0)\n",
        "\n",
        "print(\"Given array:\")\n",
        "print(arr)\n",
        "\n",
        "print(\"\\nIndices of maximum value in each column:\")\n",
        "print(max_indices_per_column)\n"
      ],
      "metadata": {
        "colab": {
          "base_uri": "https://localhost:8080/"
        },
        "id": "1Dopnk078j-s",
        "outputId": "d4efa8e7-7434-4a52-ea06-ee52020476df"
      },
      "execution_count": null,
      "outputs": [
        {
          "output_type": "stream",
          "name": "stdout",
          "text": [
            "Given array:\n",
            "[[1 2 3]\n",
            " [4 5 6]]\n",
            "\n",
            "Indices of maximum value in each column:\n",
            "[1 1 1]\n"
          ]
        }
      ]
    },
    {
      "cell_type": "markdown",
      "source": [
        "44. For the given array, apply custom function to calculate moving sum along rows.\n"
      ],
      "metadata": {
        "id": "lTCdfXiM9ITX"
      }
    },
    {
      "cell_type": "code",
      "source": [
        "arr = np.array([[1, 2, 3],\n",
        "                [4, 5, 6]])\n",
        "\n",
        "\n",
        "def moving_sum(row):\n",
        "    return np.convolve(row, np.ones(2), mode='valid')\n",
        "\n",
        "\n",
        "moving_sum_result = np.apply_along_axis(moving_sum, axis=1, arr=arr)\n",
        "\n",
        "print(\"Given array:\")\n",
        "print(arr)\n",
        "\n",
        "print(\"\\nMoving sum along rows:\")\n",
        "print(moving_sum_result)\n"
      ],
      "metadata": {
        "colab": {
          "base_uri": "https://localhost:8080/"
        },
        "id": "E1nKqjeN9L11",
        "outputId": "e78d2712-b8fa-4bcd-ea43-23d2fb8f03d7"
      },
      "execution_count": null,
      "outputs": [
        {
          "output_type": "stream",
          "name": "stdout",
          "text": [
            "Given array:\n",
            "[[1 2 3]\n",
            " [4 5 6]]\n",
            "\n",
            "Moving sum along rows:\n",
            "[[ 3.  5.]\n",
            " [ 9. 11.]]\n"
          ]
        }
      ]
    },
    {
      "cell_type": "markdown",
      "source": [
        "45. In the given array, check if all elements in each column are even.\n"
      ],
      "metadata": {
        "id": "vh_Fd7BYGWum"
      }
    },
    {
      "cell_type": "code",
      "source": [
        "\n",
        "arr = np.array([[2, 4, 6],\n",
        "                [2, 5, 7]])\n",
        "\n",
        "all_even_columns = np.all(arr % 2 == 0, axis=0)\n",
        "\n",
        "print(\"Given array:\")\n",
        "print(arr)\n",
        "\n",
        "print(\"\\nAre all elements in each column even?\")\n",
        "print(all_even_columns)\n"
      ],
      "metadata": {
        "colab": {
          "base_uri": "https://localhost:8080/"
        },
        "id": "l_sWB1JcGZjZ",
        "outputId": "0713746e-16b6-41b6-8be8-950e806a9dde"
      },
      "execution_count": null,
      "outputs": [
        {
          "output_type": "stream",
          "name": "stdout",
          "text": [
            "Given array:\n",
            "[[2 4 6]\n",
            " [2 5 7]]\n",
            "\n",
            "Are all elements in each column even?\n",
            "[ True False False]\n"
          ]
        }
      ]
    },
    {
      "cell_type": "markdown",
      "source": [
        "46. Given a NumPy array arr, reshape it into a matrix of dimensions `m` rows and `n` columns. Return the reshaped matrix.\n"
      ],
      "metadata": {
        "id": "gXenyzfCGWys"
      }
    },
    {
      "cell_type": "code",
      "source": [
        "\n",
        "def reshape_matrix(arr, m, n):\n",
        "    reshaped_matrix = np.reshape(arr, (m, n))\n",
        "    return reshaped_matrix\n",
        "\n",
        "arr = np.array([1, 2, 3, 4, 5, 6])\n",
        "m = 2\n",
        "n = 3\n",
        "result = reshape_matrix(arr, m, n)\n",
        "print(\"Original array:\")\n",
        "print(arr)\n",
        "print(\"\\nReshaped matrix:\")\n",
        "print(result)\n"
      ],
      "metadata": {
        "colab": {
          "base_uri": "https://localhost:8080/"
        },
        "id": "V1YmTQBvHg_G",
        "outputId": "f7427109-6ef6-4956-bbe0-a5bfd2386404"
      },
      "execution_count": null,
      "outputs": [
        {
          "output_type": "stream",
          "name": "stdout",
          "text": [
            "Original array:\n",
            "[1 2 3 4 5 6]\n",
            "\n",
            "Reshaped matrix:\n",
            "[[1 2 3]\n",
            " [4 5 6]]\n"
          ]
        }
      ]
    },
    {
      "cell_type": "markdown",
      "source": [
        "47. Create a function that takes a matrix as input and returns the flattened array.\n"
      ],
      "metadata": {
        "id": "KgFzobfwHq41"
      }
    },
    {
      "cell_type": "code",
      "source": [
        "def flatten_matrix(input_matrix):\n",
        "    flattened_array = input_matrix.flatten()\n",
        "    return flattened_array\n",
        "\n",
        "input_matrix = np.array([[1, 2, 3], [4, 5, 6]])\n",
        "result = flatten_matrix(input_matrix)\n",
        "print(\"Input matrix:\")\n",
        "print(input_matrix)\n",
        "print(\"\\nFlattened array:\")\n",
        "print(result)\n"
      ],
      "metadata": {
        "colab": {
          "base_uri": "https://localhost:8080/"
        },
        "id": "K4cfD5VLHxZ_",
        "outputId": "6afe38e8-0f1c-42e0-92c3-a25b63b07d02"
      },
      "execution_count": null,
      "outputs": [
        {
          "output_type": "stream",
          "name": "stdout",
          "text": [
            "Input matrix:\n",
            "[[1 2 3]\n",
            " [4 5 6]]\n",
            "\n",
            "Flattened array:\n",
            "[1 2 3 4 5 6]\n"
          ]
        }
      ]
    },
    {
      "cell_type": "markdown",
      "source": [
        "48. Write a function that concatenates two given arrays along a specified axis.\n"
      ],
      "metadata": {
        "id": "GjITLD-RH8Os"
      }
    },
    {
      "cell_type": "code",
      "source": [
        "\n",
        "def concatenate_arrays(array1, array2, axis):\n",
        "    concatenated_array = np.concatenate((array1, array2), axis=axis)\n",
        "    return concatenated_array\n",
        "\n",
        "array1 = np.array([[1, 2], [3, 4]])\n",
        "array2 = np.array([[5, 6], [7, 8]])\n",
        "axis = 1\n",
        "\n",
        "result = concatenate_arrays(array1, array2, axis)\n",
        "print(\"Array 1:\")\n",
        "print(array1)\n",
        "print(\"\\nArray 2:\")\n",
        "print(array2)\n",
        "print(\"\\nConcatenated array along axis\", axis, \":\")\n",
        "print(result)\n"
      ],
      "metadata": {
        "colab": {
          "base_uri": "https://localhost:8080/"
        },
        "id": "X7JqhD0iH_aI",
        "outputId": "d95af47e-e627-4868-dda4-febe2ecdcbbf"
      },
      "execution_count": null,
      "outputs": [
        {
          "output_type": "stream",
          "name": "stdout",
          "text": [
            "Array 1:\n",
            "[[1 2]\n",
            " [3 4]]\n",
            "\n",
            "Array 2:\n",
            "[[5 6]\n",
            " [7 8]]\n",
            "\n",
            "Concatenated array along axis 1 :\n",
            "[[1 2 5 6]\n",
            " [3 4 7 8]]\n"
          ]
        }
      ]
    },
    {
      "cell_type": "markdown",
      "source": [
        "49. Create a function that splits an array into multiple sub-arrays along a specified axis.\n"
      ],
      "metadata": {
        "id": "Iu6HNzowINUl"
      }
    },
    {
      "cell_type": "code",
      "source": [
        "\n",
        "def split_array(original_array, axis, indices_or_sections):\n",
        "    sub_arrays = np.split(original_array, indices_or_sections, axis=axis)\n",
        "    return sub_arrays\n",
        "\n",
        "original_array = np.array([[1, 2, 3], [4, 5, 6], [7, 8, 9]])\n",
        "axis = 0\n",
        "indices_or_sections = [1, 2]\n",
        "\n",
        "result = split_array(original_array, axis, indices_or_sections)\n",
        "print(\"Original array:\")\n",
        "print(original_array)\n",
        "print(\"\\nSub-arrays after splitting along axis\", axis, \":\")\n",
        "for sub_array in result:\n",
        "    print(sub_array)\n"
      ],
      "metadata": {
        "colab": {
          "base_uri": "https://localhost:8080/"
        },
        "id": "qYxUjI4XIQRn",
        "outputId": "3d5f31db-9f0a-4129-fce9-3e70d27ed6e7"
      },
      "execution_count": null,
      "outputs": [
        {
          "output_type": "stream",
          "name": "stdout",
          "text": [
            "Original array:\n",
            "[[1 2 3]\n",
            " [4 5 6]\n",
            " [7 8 9]]\n",
            "\n",
            "Sub-arrays after splitting along axis 0 :\n",
            "[[1 2 3]]\n",
            "[[4 5 6]]\n",
            "[[7 8 9]]\n"
          ]
        }
      ]
    },
    {
      "cell_type": "markdown",
      "source": [
        "50. Write a function that inserts and then deletes elements from a given array at specified indices."
      ],
      "metadata": {
        "id": "NqpddydoIsBx"
      }
    },
    {
      "cell_type": "code",
      "source": [
        "import numpy as np\n",
        "\n",
        "def insert_and_delete_elements(original_array, indices_to_insert, values_to_insert, indices_to_delete):\n",
        "    for index, value in zip(indices_to_insert, values_to_insert):\n",
        "        original_array = np.insert(original_array, index, value)\n",
        "\n",
        "    original_array = np.delete(original_array, indices_to_delete)\n",
        "\n",
        "    return original_array\n",
        "\n",
        "original_array = np.array([1, 2, 3, 4, 5])\n",
        "indices_to_insert = [2, 4]\n",
        "values_to_insert = [10, 11]\n",
        "indices_to_delete = [1, 3]\n",
        "\n",
        "result = insert_and_delete_elements(original_array, indices_to_insert, values_to_insert, indices_to_delete)\n",
        "print(\"Original array:\")\n",
        "print(original_array)\n",
        "print(\"\\nArray after insertion and deletion:\")\n",
        "print(result)\n"
      ],
      "metadata": {
        "colab": {
          "base_uri": "https://localhost:8080/"
        },
        "id": "f_IrHqtEJJez",
        "outputId": "fe612c81-973d-4f07-f00f-e483a589404d"
      },
      "execution_count": null,
      "outputs": [
        {
          "output_type": "stream",
          "name": "stdout",
          "text": [
            "Original array:\n",
            "[1 2 3 4 5]\n",
            "\n",
            "Array after insertion and deletion:\n",
            "[ 1 10 11  4  5]\n"
          ]
        }
      ]
    },
    {
      "cell_type": "markdown",
      "source": [
        "51. Create a NumPy array `arrl` with random integers and another array `arr2` with integers from 1 to 10. Perform element-wise addition between `arrl` and `arr2`."
      ],
      "metadata": {
        "id": "gPTlAV9EI-tt"
      }
    },
    {
      "cell_type": "code",
      "source": [
        "import numpy as np\n",
        "\n",
        "\n",
        "arr1 = np.random.randint(1, 100, size=(1, 10))\n",
        "print(\"Random array (arr1):\")\n",
        "print(arr1)\n",
        "\n",
        "\n",
        "arr2 = np.arange(1, 11)\n",
        "print(\"\\nArray with integers from 1 to 10 (arr2):\")\n",
        "print(arr2)\n",
        "\n",
        "\n",
        "result = arr1 + arr2\n",
        "print(\"\\nElement-wise addition between arr1 and arr2:\")\n",
        "print(result)\n"
      ],
      "metadata": {
        "colab": {
          "base_uri": "https://localhost:8080/"
        },
        "id": "TJxxD16BJk30",
        "outputId": "bbce38c6-74c6-45c8-a28f-12b050928408"
      },
      "execution_count": null,
      "outputs": [
        {
          "output_type": "stream",
          "name": "stdout",
          "text": [
            "Random array (arr1):\n",
            "[[ 5 41 61  7 85 98  2 68 99 25]]\n",
            "\n",
            "Array with integers from 1 to 10 (arr2):\n",
            "[ 1  2  3  4  5  6  7  8  9 10]\n",
            "\n",
            "Element-wise addition between arr1 and arr2:\n",
            "[[  6  43  64  11  90 104   9  76 108  35]]\n"
          ]
        }
      ]
    },
    {
      "cell_type": "markdown",
      "source": [
        "52. Generate a NumPy array `arrl with sequential integers from 10 to 1 and another array `arr2` with integers from 1 to 10. Subtract `arr2` from `arrl` element-wise.\n"
      ],
      "metadata": {
        "id": "rBrbi_LmLctb"
      }
    },
    {
      "cell_type": "code",
      "source": [
        "arr1 = np.arange(10, 0, -1)\n",
        "print(\"Array arr1 (sequential integers from 10 to 1):\")\n",
        "print(arr1)\n",
        "\n",
        "arr2 = np.arange(1, 11)\n",
        "print(\"\\nArray arr2 (integers from 1 to 10):\")\n",
        "print(arr2)\n",
        "\n",
        "result = arr1 - arr2\n",
        "print(\"\\nResult of subtracting arr2 from arr1 element-wise:\")\n",
        "print(result)\n"
      ],
      "metadata": {
        "colab": {
          "base_uri": "https://localhost:8080/"
        },
        "id": "gWH9arY7tez-",
        "outputId": "6d3dc073-0520-4fed-cc77-c5769a8914e2"
      },
      "execution_count": 3,
      "outputs": [
        {
          "output_type": "stream",
          "name": "stdout",
          "text": [
            "Array arr1 (sequential integers from 10 to 1):\n",
            "[10  9  8  7  6  5  4  3  2  1]\n",
            "\n",
            "Array arr2 (integers from 1 to 10):\n",
            "[ 1  2  3  4  5  6  7  8  9 10]\n",
            "\n",
            "Result of subtracting arr2 from arr1 element-wise:\n",
            "[ 9  7  5  3  1 -1 -3 -5 -7 -9]\n"
          ]
        }
      ]
    },
    {
      "cell_type": "markdown",
      "source": [
        "53. Create a NumPy array`arrl` with random integers and another array `arr2` with integers from 1 to 5. Perform element-wise multiplication between `arrl` and `arr2`.\n"
      ],
      "metadata": {
        "id": "HemWX9WTtu_Z"
      }
    },
    {
      "cell_type": "code",
      "source": [
        "arr1 = np.random.randint(1, 100, size=(5, 5))\n",
        "print(\"Random array (arr1):\")\n",
        "print(arr1)\n",
        "\n",
        "arr2 = np.arange(1, 6)\n",
        "print(\"\\nArray with integers from 1 to 5 (arr2):\")\n",
        "print(arr2)\n",
        "\n",
        "result = arr1 * arr2\n",
        "print(\"\\nElement-wise multiplication between arr1 and arr2:\")\n",
        "print(result)\n"
      ],
      "metadata": {
        "colab": {
          "base_uri": "https://localhost:8080/"
        },
        "id": "EeyPfnCst_gV",
        "outputId": "9a511213-63e0-45c7-9de3-8cc85146ce8b"
      },
      "execution_count": 6,
      "outputs": [
        {
          "output_type": "stream",
          "name": "stdout",
          "text": [
            "Random array (arr1):\n",
            "[[62 47 95  2 51]\n",
            " [81 32 58 54 28]\n",
            " [57 46 78 77 75]\n",
            " [61 77 97 29 17]\n",
            " [59 53 58 54 17]]\n",
            "\n",
            "Array with integers from 1 to 5 (arr2):\n",
            "[1 2 3 4 5]\n",
            "\n",
            "Element-wise multiplication between arr1 and arr2:\n",
            "[[ 62  94 285   8 255]\n",
            " [ 81  64 174 216 140]\n",
            " [ 57  92 234 308 375]\n",
            " [ 61 154 291 116  85]\n",
            " [ 59 106 174 216  85]]\n"
          ]
        }
      ]
    },
    {
      "cell_type": "markdown",
      "source": [
        "54. Generate a NumPy array`arrl` with even integers from 2 to 10 and another array `arr2` with integers from 1 to 5. Perform element-wise division of `arrl` by `arr2`.\n"
      ],
      "metadata": {
        "id": "dFKxv_SIuN0Z"
      }
    },
    {
      "cell_type": "code",
      "source": [
        "arr1 = np.arange(2, 12, 2)\n",
        "print(\"Array arr1 (even integers from 2 to 10):\")\n",
        "print(arr1)\n",
        "\n",
        "arr2 = np.arange(1, 6)\n",
        "print(\"\\nArray arr2 (integers from 1 to 5):\")\n",
        "print(arr2)\n",
        "\n",
        "result = arr1 / arr2\n",
        "print(\"\\nElement-wise division between arr1 and arr2:\")\n",
        "print(result)\n"
      ],
      "metadata": {
        "colab": {
          "base_uri": "https://localhost:8080/"
        },
        "id": "sheR-x5yuPnb",
        "outputId": "518223eb-4237-4073-8a02-2432486bae29"
      },
      "execution_count": 7,
      "outputs": [
        {
          "output_type": "stream",
          "name": "stdout",
          "text": [
            "Array arr1 (even integers from 2 to 10):\n",
            "[ 2  4  6  8 10]\n",
            "\n",
            "Array arr2 (integers from 1 to 5):\n",
            "[1 2 3 4 5]\n",
            "\n",
            "Element-wise division between arr1 and arr2:\n",
            "[2. 2. 2. 2. 2.]\n"
          ]
        }
      ]
    },
    {
      "cell_type": "markdown",
      "source": [
        "55. Create a NumPy array `arrl` with integers from 1 to 5 and another array `arr2` with the same numbers reversed. Calculate the exponentiation of `arrl` raised to the power of `arr2` element-wise.\n"
      ],
      "metadata": {
        "id": "qsqw_g_4ucwT"
      }
    },
    {
      "cell_type": "code",
      "source": [
        "arr1 = np.arange(1, 6)\n",
        "print(\"Array arr1 (integers from 1 to 5):\")\n",
        "print(arr1)\n",
        "\n",
        "arr2 = arr1[::-1]\n",
        "print(\"\\nArray arr2 (reverse order of arr1):\")\n",
        "print(arr2)\n",
        "\n",
        "result = np.power(arr1, arr2)\n",
        "print(\"\\nElement-wise exponentiation of arr1 raised to the power of arr2:\")\n",
        "print(result)\n"
      ],
      "metadata": {
        "colab": {
          "base_uri": "https://localhost:8080/"
        },
        "id": "tcRGKL2NuehA",
        "outputId": "921dfa5f-fd14-4464-b806-b75ec03253eb"
      },
      "execution_count": 8,
      "outputs": [
        {
          "output_type": "stream",
          "name": "stdout",
          "text": [
            "Array arr1 (integers from 1 to 5):\n",
            "[1 2 3 4 5]\n",
            "\n",
            "Array arr2 (reverse order of arr1):\n",
            "[5 4 3 2 1]\n",
            "\n",
            "Element-wise exponentiation of arr1 raised to the power of arr2:\n",
            "[ 1 16 27 16  5]\n"
          ]
        }
      ]
    },
    {
      "cell_type": "markdown",
      "source": [
        "56. Write a function that counts the occurrences of a specific substring within a NumPy array of strings.\n"
      ],
      "metadata": {
        "id": "i4qdWst3uv05"
      }
    },
    {
      "cell_type": "code",
      "source": [
        "\n",
        "def count_substring_occurrences(arr, substring):\n",
        "    count = 0\n",
        "\n",
        "    for string in arr:\n",
        "        count += string.count(substring)\n",
        "\n",
        "    return count\n",
        "arr = np.array(['hello', 'world', 'hello', 'numpy', 'hello'])\n",
        "\n",
        "substring = 'hello'\n",
        "\n",
        "occurrences = count_substring_occurrences(arr, substring)\n",
        "print(\"Occurrences of '{}' in the array: {}\".format(substring, occurrences))\n"
      ],
      "metadata": {
        "colab": {
          "base_uri": "https://localhost:8080/"
        },
        "id": "N2Tof8BkuyCJ",
        "outputId": "6e0c2a2e-56fb-4c21-aaff-5e3c0cd73778"
      },
      "execution_count": 10,
      "outputs": [
        {
          "output_type": "stream",
          "name": "stdout",
          "text": [
            "Occurrences of 'hello' in the array: 3\n"
          ]
        }
      ]
    },
    {
      "cell_type": "markdown",
      "source": [
        "57. Write a function that extracts uppercase characters from a NumPy array of strings."
      ],
      "metadata": {
        "id": "Fq-x6eZ0vB22"
      }
    },
    {
      "cell_type": "code",
      "source": [
        "def extract_uppercase_characters(arr):\n",
        "    uppercase_chars = []\n",
        "\n",
        "    for string in arr:\n",
        "        uppercase_chars.extend([char for char in string if char.isupper()])\n",
        "\n",
        "    return uppercase_chars\n",
        "\n",
        "arr = np.array(['Hello', 'World', 'OpenAI', 'GPT'])\n",
        "\n",
        "uppercase_chars = extract_uppercase_characters(arr)\n",
        "print(\"Uppercase characters in the array:\", uppercase_chars)\n"
      ],
      "metadata": {
        "colab": {
          "base_uri": "https://localhost:8080/"
        },
        "id": "gSOQDB8dvAkU",
        "outputId": "a78ebca5-18a5-4615-96e7-08103300bfec"
      },
      "execution_count": 11,
      "outputs": [
        {
          "output_type": "stream",
          "name": "stdout",
          "text": [
            "Uppercase characters in the array: ['H', 'W', 'O', 'A', 'I', 'G', 'P', 'T']\n"
          ]
        }
      ]
    },
    {
      "cell_type": "markdown",
      "source": [
        "58. Write a function that replaces occurrences of a substring in a NumPy array of strings with a new string.\n"
      ],
      "metadata": {
        "id": "_ZWI2vAvvnUH"
      }
    },
    {
      "cell_type": "code",
      "source": [
        "def replace_substring(arr, old_substring, new_substring):\n",
        "    modified_strings = []\n",
        "\n",
        "    for string in arr:\n",
        "        modified_string = string.replace(old_substring, new_substring)\n",
        "        modified_strings.append(modified_string)\n",
        "\n",
        "    modified_arr = np.array(modified_strings)\n",
        "\n",
        "    return modified_arr\n",
        "\n",
        "arr = np.array(['apple', 'banana', 'grape', 'pineapple'])\n",
        "old_substring = 'apple'\n",
        "new_substring = 'orange'\n",
        "\n",
        "modified_arr = replace_substring(arr, old_substring, new_substring)\n",
        "print(\"Modified array:\")\n",
        "print(modified_arr)\n"
      ],
      "metadata": {
        "colab": {
          "base_uri": "https://localhost:8080/"
        },
        "id": "5-DI6UHEv7pf",
        "outputId": "df0e8b78-c0f4-4c3f-b268-92593ea9f260"
      },
      "execution_count": 13,
      "outputs": [
        {
          "output_type": "stream",
          "name": "stdout",
          "text": [
            "Modified array:\n",
            "['orangea' 'banana' 'grape' 'pineorange']\n"
          ]
        }
      ]
    },
    {
      "cell_type": "markdown",
      "source": [
        "59. Write a function that concatenates strings in a NumPy array element-wise.\n"
      ],
      "metadata": {
        "id": "AEnkn1RFwSWg"
      }
    },
    {
      "cell_type": "code",
      "source": [
        "def concatenate_strings(arr1, arr2):\n",
        "    if arr1.shape != arr2.shape:\n",
        "        raise ValueError(\"Arrays must have the same shape for element-wise concatenation.\")\n",
        "\n",
        "    concatenated_strings = np.array([string1 + string2 for string1, string2 in zip(arr1, arr2)])\n",
        "\n",
        "    return concatenated_strings\n",
        "\n",
        "arr1 = np.array(['Hello', 'World'])\n",
        "arr2 = np.array([' OpenAI', ' GPT'])\n",
        "\n",
        "concatenated_arr = concatenate_strings(arr1, arr2)\n",
        "print(\"Concatenated array:\")\n",
        "print(concatenated_arr)\n"
      ],
      "metadata": {
        "colab": {
          "base_uri": "https://localhost:8080/"
        },
        "id": "2b-LlkQYwXMk",
        "outputId": "25e7920c-2dfc-4dc0-f662-baf1010ce348"
      },
      "execution_count": 14,
      "outputs": [
        {
          "output_type": "stream",
          "name": "stdout",
          "text": [
            "Concatenated array:\n",
            "['Hello OpenAI' 'World GPT']\n"
          ]
        }
      ]
    },
    {
      "cell_type": "markdown",
      "source": [
        "60. Write a function that finds the length of the longest string in a NumPy array."
      ],
      "metadata": {
        "id": "EUNRZQMwwfvR"
      }
    },
    {
      "cell_type": "code",
      "source": [
        "\n",
        "def longest_string_length(arr):\n",
        "    max_length = 0\n",
        "\n",
        "    for string in arr:\n",
        "        string_length = len(string)\n",
        "\n",
        "        if string_length > max_length:\n",
        "            max_length = string_length\n",
        "\n",
        "    return max_length\n",
        "\n",
        "arr = np.array(['apple', 'banana', 'grape', 'pineapple'])\n",
        "\n",
        "max_length = longest_string_length(arr)\n",
        "print(\"Length of the longest string:\", max_length)\n"
      ],
      "metadata": {
        "colab": {
          "base_uri": "https://localhost:8080/"
        },
        "id": "EBjD7q3twvm8",
        "outputId": "c392a6ae-65fc-43d0-a942-07a836f29c98"
      },
      "execution_count": 15,
      "outputs": [
        {
          "output_type": "stream",
          "name": "stdout",
          "text": [
            "Length of the longest string: 9\n"
          ]
        }
      ]
    },
    {
      "cell_type": "markdown",
      "source": [
        "61. Create a dataset of 100 random integers between 1 and 1000. Compute the mean, median, variance, and standard deviation of the dataset using NumPy's functions.\n"
      ],
      "metadata": {
        "id": "TkwXPeqAw6Se"
      }
    },
    {
      "cell_type": "code",
      "source": [
        "dataset = np.random.randint(1, 1001, size=100)\n",
        "\n",
        "mean = np.mean(dataset)\n",
        "median = np.median(dataset)\n",
        "variance = np.var(dataset)\n",
        "std_deviation = np.std(dataset)\n",
        "\n",
        "\n",
        "print(\"Mean:\", mean)\n",
        "print(\"Median:\", median)\n",
        "print(\"Variance:\", variance)\n",
        "print(\"Standard Deviation:\", std_deviation)\n"
      ],
      "metadata": {
        "colab": {
          "base_uri": "https://localhost:8080/"
        },
        "id": "c5Fp03SWw8pg",
        "outputId": "7e8f8e1b-7a94-423a-d6f1-5b672bf59864"
      },
      "execution_count": 17,
      "outputs": [
        {
          "output_type": "stream",
          "name": "stdout",
          "text": [
            "Mean: 517.69\n",
            "Median: 553.5\n",
            "Variance: 76154.83389999998\n",
            "Standard Deviation: 275.9616529519998\n"
          ]
        }
      ]
    },
    {
      "cell_type": "markdown",
      "source": [
        "62. Generate an array of 50 random numbers between 1 and 100. Find the 25th and 75th percentiles of the dataset.\n"
      ],
      "metadata": {
        "id": "yw2iBk2Qxi1U"
      }
    },
    {
      "cell_type": "code",
      "source": [
        "random_numbers = np.random.randint(1, 101, size=50)\n",
        "\n",
        "percentile_25 = np.percentile(random_numbers, 25)\n",
        "percentile_75 = np.percentile(random_numbers, 75)\n",
        "\n",
        "print(\"25th percentile:\", percentile_25)\n",
        "print(\"75th percentile:\", percentile_75)\n"
      ],
      "metadata": {
        "colab": {
          "base_uri": "https://localhost:8080/"
        },
        "id": "iOJK-ZPrxmvK",
        "outputId": "7cc7eafa-4450-4bc3-c38f-d5b648807675"
      },
      "execution_count": 18,
      "outputs": [
        {
          "output_type": "stream",
          "name": "stdout",
          "text": [
            "25th percentile: 26.0\n",
            "75th percentile: 70.0\n"
          ]
        }
      ]
    },
    {
      "cell_type": "markdown",
      "source": [
        "63. Create two arrays representing two sets of variables. Compute the correlation coefficient between these arrays using NumPy's 'corrcoef function.\n"
      ],
      "metadata": {
        "id": "khTzsDsfx0s1"
      }
    },
    {
      "cell_type": "code",
      "source": [
        "array1 = np.array([1, 2, 3, 4, 5])\n",
        "array2 = np.array([5, 4, 3, 2, 1])\n",
        "correlation_coefficient = np.corrcoef(array1, array2)[0, 1]\n",
        "\n",
        "\n",
        "print(\"Correlation coefficient between array1 and array2:\", correlation_coefficient)\n"
      ],
      "metadata": {
        "colab": {
          "base_uri": "https://localhost:8080/"
        },
        "id": "9TkNp8PryCHc",
        "outputId": "38f47f41-3cf2-4081-c36c-339cbf2184e0"
      },
      "execution_count": 23,
      "outputs": [
        {
          "output_type": "stream",
          "name": "stdout",
          "text": [
            "Correlation coefficient between array1 and array2: -0.9999999999999999\n"
          ]
        }
      ]
    },
    {
      "cell_type": "markdown",
      "source": [
        "64. Create two matrices and perform matrix multiplication using NumPy's 'dot' function.\n"
      ],
      "metadata": {
        "id": "OjQ0bIvzysbS"
      }
    },
    {
      "cell_type": "code",
      "source": [
        "matrix1 = np.array([[1, 2, 3],\n",
        "                    [4, 5, 6],\n",
        "                    [7, 8, 9]])\n",
        "\n",
        "matrix2 = np.array([[9, 8, 7],\n",
        "                    [6, 5, 4],\n",
        "                    [3, 2, 1]])\n",
        "\n",
        "result_matrix = np.dot(matrix1, matrix2)\n",
        "\n",
        "print(\"Result of matrix multiplication:\")\n",
        "print(result_matrix)\n"
      ],
      "metadata": {
        "colab": {
          "base_uri": "https://localhost:8080/"
        },
        "id": "lQcTAASpyutp",
        "outputId": "ad6761c6-7af1-47d2-9634-997a24069f65"
      },
      "execution_count": 24,
      "outputs": [
        {
          "output_type": "stream",
          "name": "stdout",
          "text": [
            "Result of matrix multiplication:\n",
            "[[ 30  24  18]\n",
            " [ 84  69  54]\n",
            " [138 114  90]]\n"
          ]
        }
      ]
    },
    {
      "cell_type": "markdown",
      "source": [
        "65. Create an array of 50 integers between 10 and 1000. Calculate the 10th, 50th (median), and 90th percentiles along with the first and third quartiles.\n"
      ],
      "metadata": {
        "id": "qiJVz1Iny7Mx"
      }
    },
    {
      "cell_type": "code",
      "source": [
        "random_numbers = np.random.randint(10, 1001, size=50)\n",
        "\n",
        "\n",
        "percentiles = np.percentile(random_numbers, [10, 25, 50, 75, 90])\n",
        "\n",
        "\n",
        "print(\"10th percentile:\", percentiles[0])\n",
        "print(\"25th percentile (first quartile):\", percentiles[1])\n",
        "print(\"50th percentile (median):\", percentiles[2])\n",
        "print(\"75th percentile (third quartile):\", percentiles[3])\n",
        "print(\"90th percentile:\", percentiles[4])\n"
      ],
      "metadata": {
        "colab": {
          "base_uri": "https://localhost:8080/"
        },
        "id": "OcXTgjH4zBLT",
        "outputId": "8f148fa0-8e9b-4171-e51b-02bc487a4371"
      },
      "execution_count": 25,
      "outputs": [
        {
          "output_type": "stream",
          "name": "stdout",
          "text": [
            "10th percentile: 68.70000000000002\n",
            "25th percentile (first quartile): 209.5\n",
            "50th percentile (median): 471.0\n",
            "75th percentile (third quartile): 677.75\n",
            "90th percentile: 774.6000000000001\n"
          ]
        }
      ]
    },
    {
      "cell_type": "markdown",
      "source": [
        "66. Create a NumPy array of integers and find the index of a specific element.\n"
      ],
      "metadata": {
        "id": "SwEBnjSGzLvb"
      }
    },
    {
      "cell_type": "code",
      "source": [
        "arr = np.array([1, 2, 3, 4, 5])\n",
        "element_to_find = 3\n",
        "index = np.where(arr == element_to_find)[0]\n",
        "print(\"Index of element\", element_to_find, \":\", index)\n"
      ],
      "metadata": {
        "colab": {
          "base_uri": "https://localhost:8080/"
        },
        "id": "aSazZ-HUzWTH",
        "outputId": "4e24a64b-186b-4a63-d003-936bfc8f222b"
      },
      "execution_count": 26,
      "outputs": [
        {
          "output_type": "stream",
          "name": "stdout",
          "text": [
            "Index of element 3 : [2]\n"
          ]
        }
      ]
    },
    {
      "cell_type": "markdown",
      "source": [
        "67. Generate a random NumPy array and sort it in ascending order.\n"
      ],
      "metadata": {
        "id": "QiyqKWSAzkMC"
      }
    },
    {
      "cell_type": "code",
      "source": [
        "random_array = np.random.randint(1,100,10)\n",
        "\n",
        "sorted_array = np.sort(random_array)\n",
        "\n",
        "print(\"Original array:\")\n",
        "print(random_array)\n",
        "print(\"\\nSorted array:\")\n",
        "print(sorted_array)\n"
      ],
      "metadata": {
        "colab": {
          "base_uri": "https://localhost:8080/"
        },
        "id": "8dXofMTP0Dg2",
        "outputId": "12b326f6-522e-476d-b6a2-b82e9e41ed87"
      },
      "execution_count": 29,
      "outputs": [
        {
          "output_type": "stream",
          "name": "stdout",
          "text": [
            "Original array:\n",
            "[69 58 67 12 29  7 20 90 82 87]\n",
            "\n",
            "Sorted array:\n",
            "[ 7 12 20 29 58 67 69 82 87 90]\n"
          ]
        }
      ]
    },
    {
      "cell_type": "markdown",
      "source": [
        "68. Filter elements >20 in the given NumPy array.\n"
      ],
      "metadata": {
        "id": "g_DTnwUZ0Vgy"
      }
    },
    {
      "cell_type": "code",
      "source": [
        "arr = np.array([12, 25, 6, 42, 8, 30])\n",
        "\n",
        "filtered_array = arr[arr > 20]\n",
        "\n",
        "print(\"Filtered array:\")\n",
        "print(filtered_array)\n"
      ],
      "metadata": {
        "colab": {
          "base_uri": "https://localhost:8080/"
        },
        "id": "GuaoiTfN0Yvy",
        "outputId": "1b51d22f-f172-4575-f73c-59dbe0c3003c"
      },
      "execution_count": 30,
      "outputs": [
        {
          "output_type": "stream",
          "name": "stdout",
          "text": [
            "Filtered array:\n",
            "[25 42 30]\n"
          ]
        }
      ]
    },
    {
      "cell_type": "markdown",
      "source": [
        "69. Filter elements which are divisible by 3 from a given NumPy array.\n"
      ],
      "metadata": {
        "id": "8LEfXgts0kfe"
      }
    },
    {
      "cell_type": "code",
      "source": [
        "arr = np.array([1, 5, 8, 12, 15])\n",
        "\n",
        "filtered_array = arr[arr % 3 == 0]\n",
        "\n",
        "print(\"Filtered array:\")\n",
        "print(filtered_array)\n"
      ],
      "metadata": {
        "colab": {
          "base_uri": "https://localhost:8080/"
        },
        "id": "BZtI1Mkf0nwJ",
        "outputId": "df72c0e7-933d-4cf0-e66f-df3d7fe5557c"
      },
      "execution_count": 31,
      "outputs": [
        {
          "output_type": "stream",
          "name": "stdout",
          "text": [
            "Filtered array:\n",
            "[12 15]\n"
          ]
        }
      ]
    },
    {
      "cell_type": "markdown",
      "source": [
        "70. Filter elements which are ≥ 20 and <= 40 from a given NumPy array.\n"
      ],
      "metadata": {
        "id": "KRKswnrr0uv1"
      }
    },
    {
      "cell_type": "code",
      "source": [
        "\n",
        "arr = np.array([10, 20, 30, 40, 50])\n",
        "\n",
        "filtered_array = arr[(arr >= 20) & (arr <= 40)]\n",
        "\n",
        "print(\"Filtered array:\")\n",
        "print(filtered_array)\n"
      ],
      "metadata": {
        "colab": {
          "base_uri": "https://localhost:8080/"
        },
        "id": "Hftb5O5C0xKf",
        "outputId": "d0ba79f4-b20e-4484-98e7-8a816930becd"
      },
      "execution_count": 32,
      "outputs": [
        {
          "output_type": "stream",
          "name": "stdout",
          "text": [
            "Filtered array:\n",
            "[20 30 40]\n"
          ]
        }
      ]
    },
    {
      "cell_type": "markdown",
      "source": [
        "71. For the given NumPy array, check its byte order using the `dtype` attribute byteorder."
      ],
      "metadata": {
        "id": "EF16EvJD02cy"
      }
    },
    {
      "cell_type": "code",
      "source": [
        "arr = np.array([1, 2, 3,5])\n",
        "\n",
        "byte_order = arr.dtype.byteorder\n",
        "\n",
        "\n",
        "print(\"Byte order:\", byte_order)\n"
      ],
      "metadata": {
        "colab": {
          "base_uri": "https://localhost:8080/"
        },
        "id": "OEOeBR_a03v4",
        "outputId": "a2a53759-8b09-4454-8d84-d0a7259e7009"
      },
      "execution_count": 35,
      "outputs": [
        {
          "output_type": "stream",
          "name": "stdout",
          "text": [
            "Byte order: =\n"
          ]
        }
      ]
    },
    {
      "cell_type": "markdown",
      "source": [
        "72. For the given NumPy array, perform byte swapping in place using `byteswap()`\n"
      ],
      "metadata": {
        "id": "erxS9utx1jwq"
      }
    },
    {
      "cell_type": "code",
      "source": [
        "import numpy as np\n",
        "\n",
        "arr = np.array([1, 2, 3], dtype=np.int32)\n",
        "\n",
        "print(arr)\n",
        "arr.byteswap(True)\n",
        "\n",
        "print(\"Modified array after byte swapping:\")\n",
        "print(arr)\n"
      ],
      "metadata": {
        "colab": {
          "base_uri": "https://localhost:8080/"
        },
        "id": "yP_DpxIo22RR",
        "outputId": "cd889729-189d-4f89-a4f8-9c69edb5517f"
      },
      "execution_count": 37,
      "outputs": [
        {
          "output_type": "stream",
          "name": "stdout",
          "text": [
            "[1 2 3]\n",
            "Modified array after byte swapping:\n",
            "[16777216 33554432 50331648]\n"
          ]
        }
      ]
    },
    {
      "cell_type": "markdown",
      "source": [
        "73. For the given NumPy array, swap its byte order without modifying the original array using `newbyteorder()`."
      ],
      "metadata": {
        "id": "w81voueY-W7D"
      }
    },
    {
      "cell_type": "code",
      "source": [
        "import numpy as np\n",
        "arr = np.array([1, 2, 3], dtype=np.int32)\n",
        "\n",
        "swapped_arr = arr.newbyteorder()\n",
        "\n",
        "print(\"Original array:\")\n",
        "print(arr)\n",
        "print(\"\\nSwapped array:\")\n",
        "print(swapped_arr)\n"
      ],
      "metadata": {
        "colab": {
          "base_uri": "https://localhost:8080/"
        },
        "id": "0i-B1V5d-azn",
        "outputId": "673ca413-0f6f-4f36-fc78-a6434d33ae84"
      },
      "execution_count": 38,
      "outputs": [
        {
          "output_type": "stream",
          "name": "stdout",
          "text": [
            "Original array:\n",
            "[1 2 3]\n",
            "\n",
            "Swapped array:\n",
            "[16777216 33554432 50331648]\n"
          ]
        }
      ]
    },
    {
      "cell_type": "markdown",
      "source": [
        "74. For the given NumPy array and swap its byte order conditionally based on system endianness using `newbyteorder()."
      ],
      "metadata": {
        "id": "anGDq3Zs-jgy"
      }
    },
    {
      "cell_type": "code",
      "source": [
        "import numpy as np\n",
        "import sys\n",
        "\n",
        "arr = np.array([1, 2, 3], dtype=np.int32)\n",
        "\n",
        "swapped_arr = arr.newbyteorder(sys.byteorder)\n",
        "print(\"Original array:\")\n",
        "print(arr)\n",
        "print(\"\\nSwapped array:\")\n",
        "print(swapped_arr)\n"
      ],
      "metadata": {
        "colab": {
          "base_uri": "https://localhost:8080/"
        },
        "id": "XQBs9SWH-ssT",
        "outputId": "2e99e50e-c64e-4fe3-a282-112b6e18e89f"
      },
      "execution_count": 39,
      "outputs": [
        {
          "output_type": "stream",
          "name": "stdout",
          "text": [
            "Original array:\n",
            "[1 2 3]\n",
            "\n",
            "Swapped array:\n",
            "[1 2 3]\n"
          ]
        }
      ]
    },
    {
      "cell_type": "markdown",
      "source": [
        "75. For the given NumPy array, check if byte swapping is necessary for the current system using `dtype` attribute `byteorder."
      ],
      "metadata": {
        "id": "sMe6YGuD-3zF"
      }
    },
    {
      "cell_type": "code",
      "source": [
        "arr = np.array([1, 2, 3], dtype=np.int32)\n",
        "\n",
        "byte_order = arr.dtype.byteorder\n",
        "\n",
        "swapping_necessary = (byte_order != '=')\n",
        "\n",
        "if swapping_necessary:\n",
        "    print(\"Byte swapping is necessary for the current system.\")\n",
        "else:\n",
        "    print(\"Byte swapping is not necessary for the current system.\")\n"
      ],
      "metadata": {
        "colab": {
          "base_uri": "https://localhost:8080/"
        },
        "id": "VCqV2gil--OZ",
        "outputId": "3a93f514-ea1e-4f68-a194-ff14b4c71447"
      },
      "execution_count": 40,
      "outputs": [
        {
          "output_type": "stream",
          "name": "stdout",
          "text": [
            "Byte swapping is not necessary for the current system.\n"
          ]
        }
      ]
    },
    {
      "cell_type": "markdown",
      "source": [
        "76. Create a NumPy array `arrl with values from 1 to 10. Create a copy of `arrl` named `copy_arr` and modify an element in `copy_arr. Check if modifying `copy_arr` affects`arrl`.\n"
      ],
      "metadata": {
        "id": "RV3iZx7a_KLU"
      }
    },
    {
      "cell_type": "code",
      "source": [
        "arr1 = np.arange(1, 11)\n",
        "\n",
        "copy_arr = arr1.copy()\n",
        "\n",
        "copy_arr[0] = 100\n",
        "\n",
        "# Check if modifying copy_arr affects arr1\n",
        "print(\"Original array (arr1):\", arr1)\n",
        "print(\"Copied array (copy_arr):\", copy_arr)\n"
      ],
      "metadata": {
        "colab": {
          "base_uri": "https://localhost:8080/"
        },
        "id": "I3eREI3q_a05",
        "outputId": "90a2f7ca-17aa-4e16-f92b-b759800f8307"
      },
      "execution_count": 41,
      "outputs": [
        {
          "output_type": "stream",
          "name": "stdout",
          "text": [
            "Original array (arr1): [ 1  2  3  4  5  6  7  8  9 10]\n",
            "Copied array (copy_arr): [100   2   3   4   5   6   7   8   9  10]\n"
          ]
        }
      ]
    },
    {
      "cell_type": "markdown",
      "source": [
        "77. Create a 2D NumPy array `matrix` of shape (3, 3) with random integers. Extract a slice `view_slice' from the matrix. Modify an element in `view_slice` and observe if it changes the original `matrix`.\n"
      ],
      "metadata": {
        "id": "JTxHhEsB_lXB"
      }
    },
    {
      "cell_type": "code",
      "source": [
        "\n",
        "matrix = np.random.randint(1, 10, size=(3, 3))\n",
        "print(\"Original matrix:\")\n",
        "print(matrix)\n",
        "\n",
        "view_slice = matrix[:2, :2]\n",
        "\n",
        "view_slice[0, 0] = 100\n",
        "\n",
        "print(\"Original matrix:\")\n",
        "print(matrix)\n",
        "print(\"\\nModified view_slice:\")\n",
        "print(view_slice)\n"
      ],
      "metadata": {
        "colab": {
          "base_uri": "https://localhost:8080/"
        },
        "id": "3vCegQvs_ngU",
        "outputId": "bc5ae2b6-cd0c-4a7c-e28f-89580b6a3101"
      },
      "execution_count": 43,
      "outputs": [
        {
          "output_type": "stream",
          "name": "stdout",
          "text": [
            "Original matrix:\n",
            "[[4 4 4]\n",
            " [7 3 5]\n",
            " [8 6 3]]\n",
            "Original matrix:\n",
            "[[100   4   4]\n",
            " [  7   3   5]\n",
            " [  8   6   3]]\n",
            "\n",
            "Modified view_slice:\n",
            "[[100   4]\n",
            " [  7   3]]\n"
          ]
        }
      ]
    },
    {
      "cell_type": "markdown",
      "source": [
        "78. Create a NumPy array `array_a` of shape (4, 3) with sequential integers from 1 to 12. Extract a slice `view_b`from `array_a`and broadcast the addition of 5 to view_b. Check if it alters the original`array_a`.\n"
      ],
      "metadata": {
        "id": "RuZzHi47AXLM"
      }
    },
    {
      "cell_type": "code",
      "source": [
        "array_a = np.arange(1, 13).reshape(4, 3)\n",
        "\n",
        "view_b = array_a[:2, :2]\n",
        "\n",
        "view_b += 5\n",
        "\n",
        "print(\"Original array_a:\")\n",
        "print(array_a)\n",
        "print(\"\\nModified view_b:\")\n",
        "print(view_b)\n"
      ],
      "metadata": {
        "colab": {
          "base_uri": "https://localhost:8080/"
        },
        "id": "juoJ5Zp9AgQX",
        "outputId": "9f41f7aa-f1eb-47d0-cf63-b4647b09f473"
      },
      "execution_count": 44,
      "outputs": [
        {
          "output_type": "stream",
          "name": "stdout",
          "text": [
            "Original array_a:\n",
            "[[ 6  7  3]\n",
            " [ 9 10  6]\n",
            " [ 7  8  9]\n",
            " [10 11 12]]\n",
            "\n",
            "Modified view_b:\n",
            "[[ 6  7]\n",
            " [ 9 10]]\n"
          ]
        }
      ]
    },
    {
      "cell_type": "markdown",
      "source": [
        "79. Create a NumPy array `orig_array` of shape (2, 4) with values from 1 to 8. Create a reshaped view `reshaped_view of shape (4, 2) from orig_array. Modify an element in `reshaped_view and check if it reflects changes in the original orig_array`.\n"
      ],
      "metadata": {
        "id": "unvg2lhXAqUY"
      }
    },
    {
      "cell_type": "code",
      "source": [
        "orig_array = np.arange(1, 9).reshape(2, 4)\n",
        "reshaped_view = orig_array.reshape(4, 2)\n",
        "\n",
        "reshaped_view[0, 0] = 100\n",
        "\n",
        "print(\"Original orig_array:\")\n",
        "print(orig_array)\n",
        "print(\"\\nModified reshaped_view:\")\n",
        "print(reshaped_view)\n"
      ],
      "metadata": {
        "colab": {
          "base_uri": "https://localhost:8080/"
        },
        "id": "71EyDKc3Ato4",
        "outputId": "1437a33b-5129-4b1e-e935-87758538700f"
      },
      "execution_count": 45,
      "outputs": [
        {
          "output_type": "stream",
          "name": "stdout",
          "text": [
            "Original orig_array:\n",
            "[[100   2   3   4]\n",
            " [  5   6   7   8]]\n",
            "\n",
            "Modified reshaped_view:\n",
            "[[100   2]\n",
            " [  3   4]\n",
            " [  5   6]\n",
            " [  7   8]]\n"
          ]
        }
      ]
    },
    {
      "cell_type": "markdown",
      "source": [
        "80. Create a NumPy array `data` of shape (3, 4) with random integers. Extract a copy `data_copy` of elements greater than 5. Modify an element in `data_copy and verify if it affects the original `data`.\n"
      ],
      "metadata": {
        "id": "KIXueNANBKRr"
      }
    },
    {
      "cell_type": "code",
      "source": [
        "data = np.random.randint(1, 10, size=(3, 4))\n",
        "\n",
        "data_copy = data[data > 5].copy()\n",
        "\n",
        "data_copy[0] = 100\n",
        "\n",
        "print(\"Original data:\")\n",
        "print(data)\n",
        "print(\"\\nModified data_copy:\")\n",
        "print(data_copy)\n"
      ],
      "metadata": {
        "colab": {
          "base_uri": "https://localhost:8080/"
        },
        "id": "iZNlim0UBJjS",
        "outputId": "878818b3-1ea8-4c2d-9409-8e449a1cc6ec"
      },
      "execution_count": 47,
      "outputs": [
        {
          "output_type": "stream",
          "name": "stdout",
          "text": [
            "Original data:\n",
            "[[4 5 3 9]\n",
            " [9 6 4 7]\n",
            " [4 1 5 6]]\n",
            "\n",
            "Modified data_copy:\n",
            "[100   9   6   7   6]\n"
          ]
        }
      ]
    },
    {
      "cell_type": "markdown",
      "source": [
        "81. Create two matrices A and B of identical shape containing integers and perform addition and subtraction operations between them.\n"
      ],
      "metadata": {
        "id": "8Dop3KdTBg39"
      }
    },
    {
      "cell_type": "code",
      "source": [
        "\n",
        "A = np.array([[1, 2, 3],\n",
        "              [4, 5, 6],\n",
        "              [7, 8, 9]])\n",
        "\n",
        "B = np.array([[9, 8, 7],\n",
        "              [6, 5, 4],\n",
        "              [3, 2, 1]])\n",
        "\n",
        "addition_result = A + B\n",
        "subtraction_result = A - B\n",
        "\n",
        "print(\"Matrix A:\")\n",
        "print(A)\n",
        "print(\"\\nMatrix B:\")\n",
        "print(B)\n",
        "print(\"\\nAddition Result:\")\n",
        "print(addition_result)\n",
        "print(\"\\nSubtraction Result:\")\n",
        "print(subtraction_result)\n"
      ],
      "metadata": {
        "colab": {
          "base_uri": "https://localhost:8080/"
        },
        "id": "HKVLEgSKBk32",
        "outputId": "8898c683-e31e-423f-e33b-e11de16c832f"
      },
      "execution_count": 48,
      "outputs": [
        {
          "output_type": "stream",
          "name": "stdout",
          "text": [
            "Matrix A:\n",
            "[[1 2 3]\n",
            " [4 5 6]\n",
            " [7 8 9]]\n",
            "\n",
            "Matrix B:\n",
            "[[9 8 7]\n",
            " [6 5 4]\n",
            " [3 2 1]]\n",
            "\n",
            "Addition Result:\n",
            "[[10 10 10]\n",
            " [10 10 10]\n",
            " [10 10 10]]\n",
            "\n",
            "Subtraction Result:\n",
            "[[-8 -6 -4]\n",
            " [-2  0  2]\n",
            " [ 4  6  8]]\n"
          ]
        }
      ]
    },
    {
      "cell_type": "markdown",
      "source": [
        "82. Generate two matrices `C` (3x2) and `D` (2x4) and perform matrix multiplication.\n"
      ],
      "metadata": {
        "id": "vepv8wORBvkC"
      }
    },
    {
      "cell_type": "code",
      "source": [
        "\n",
        "C = np.array([[1, 2],\n",
        "              [3, 4],\n",
        "              [5, 6]])\n",
        "\n",
        "D = np.array([[7, 8, 9, 10],\n",
        "              [11, 12, 13, 14]])\n",
        "\n",
        "multiplication_result = np.dot(C, D)\n",
        "\n",
        "print(\"Matrix C:\")\n",
        "print(C)\n",
        "print(\"\\nMatrix D:\")\n",
        "print(D)\n",
        "print(\"\\nMatrix Multiplication Result:\")\n",
        "print(multiplication_result)\n"
      ],
      "metadata": {
        "colab": {
          "base_uri": "https://localhost:8080/"
        },
        "id": "kMFHw50nBxOq",
        "outputId": "302c598b-f323-4295-8544-4116623c145e"
      },
      "execution_count": 49,
      "outputs": [
        {
          "output_type": "stream",
          "name": "stdout",
          "text": [
            "Matrix C:\n",
            "[[1 2]\n",
            " [3 4]\n",
            " [5 6]]\n",
            "\n",
            "Matrix D:\n",
            "[[ 7  8  9 10]\n",
            " [11 12 13 14]]\n",
            "\n",
            "Matrix Multiplication Result:\n",
            "[[ 29  32  35  38]\n",
            " [ 65  72  79  86]\n",
            " [101 112 123 134]]\n"
          ]
        }
      ]
    },
    {
      "cell_type": "markdown",
      "source": [
        "83. Create a matrix `E` and find its transpose.\n"
      ],
      "metadata": {
        "id": "idII7wXXB664"
      }
    },
    {
      "cell_type": "code",
      "source": [
        "E = np.array([[1, 2, 3],\n",
        "              [4, 5, 6]])\n",
        "\n",
        "transpose_E = np.transpose(E)\n",
        "print(\"Matrix E:\")\n",
        "print(E)\n",
        "print(\"\\nTranspose of E:\")\n",
        "print(transpose_E)\n"
      ],
      "metadata": {
        "colab": {
          "base_uri": "https://localhost:8080/"
        },
        "id": "HLXKGqXtB87F",
        "outputId": "5bb6a90f-e85c-4adc-b5a8-10897f3263a1"
      },
      "execution_count": 50,
      "outputs": [
        {
          "output_type": "stream",
          "name": "stdout",
          "text": [
            "Matrix E:\n",
            "[[1 2 3]\n",
            " [4 5 6]]\n",
            "\n",
            "Transpose of E:\n",
            "[[1 4]\n",
            " [2 5]\n",
            " [3 6]]\n"
          ]
        }
      ]
    },
    {
      "cell_type": "markdown",
      "source": [
        "84. Generate a square matrix `F` and compute its determinant.\n"
      ],
      "metadata": {
        "id": "Vhv-VH9nCPPG"
      }
    },
    {
      "cell_type": "code",
      "source": [
        "\n",
        "F = np.array([[1, 2, 3],\n",
        "              [4, 577, 6],\n",
        "              [7, 8, 9]])\n",
        "\n",
        "determinant_F = np.linalg.det(F)\n",
        "\n",
        "print(\"Determinant of matrix F:\", determinant_F)\n"
      ],
      "metadata": {
        "colab": {
          "base_uri": "https://localhost:8080/"
        },
        "id": "8q1h3__vCSUb",
        "outputId": "439b3760-720e-4cfb-ec4f-14b4d891004b"
      },
      "execution_count": 52,
      "outputs": [
        {
          "output_type": "stream",
          "name": "stdout",
          "text": [
            "Determinant of matrix F: -6864.000000000008\n"
          ]
        }
      ]
    },
    {
      "cell_type": "markdown",
      "source": [
        "85. Create a square matrix `G` and find its inverse."
      ],
      "metadata": {
        "id": "VOgQcblCCk8X"
      }
    },
    {
      "cell_type": "code",
      "source": [
        "\n",
        "G = np.array([[1, 2],\n",
        "              [3, 4]])\n",
        "\n",
        "inverse_G = np.linalg.inv(G)\n",
        "\n",
        "print(\"Matrix G:\")\n",
        "print(G)\n",
        "print(\"\\nInverse of G:\")\n",
        "print(inverse_G)\n"
      ],
      "metadata": {
        "colab": {
          "base_uri": "https://localhost:8080/"
        },
        "id": "2Q2cy9pMCmzS",
        "outputId": "8d981b1a-e225-46db-90e9-d3a9b907b9a4"
      },
      "execution_count": 53,
      "outputs": [
        {
          "output_type": "stream",
          "name": "stdout",
          "text": [
            "Matrix G:\n",
            "[[1 2]\n",
            " [3 4]]\n",
            "\n",
            "Inverse of G:\n",
            "[[-2.   1. ]\n",
            " [ 1.5 -0.5]]\n"
          ]
        }
      ]
    }
  ]
}