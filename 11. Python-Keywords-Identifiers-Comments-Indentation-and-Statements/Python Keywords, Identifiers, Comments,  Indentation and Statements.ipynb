{
 "cells": [
  {
   "cell_type": "raw",
   "id": "d258ad61-31b1-4f15-913c-e765c5bb5ca8",
   "metadata": {},
   "source": [
    "1. Keywords in Python are reserved words that have a special meaning and cannot be used as identifiers (variable names, function names, etc.). These keywords play a crucial role in defining the syntax and structure of the Python language. They are part of the language's core and have specific functionalities associated with them.\n",
    "Example:-\n",
    "if: Used for conditional branching in a program. It executes a block of code based on a specified condition.\n",
    "else: Paired with if, it executes a block of code when the condition in the if statement is not true.\n",
    "class: Used to define a class in object-oriented programming. Classes are blueprints for creating objects.\n",
    "return: Used in a function to specify the value that the function should return when it is called.\n",
    "and: Logical operator used to combine two conditions. It returns True if both conditions are true.\n",
    "or: Logical operator used to combine two conditions. It returns True if at least one of the conditions is true."
   ]
  },
  {
   "cell_type": "raw",
   "id": "a70bf135-fecd-4c34-adee-2f20ae293c8d",
   "metadata": {},
   "source": [
    "2. \n",
    "Must start with a letter (a-z, A-Z) or an underscore (_).\n",
    "Case-sensitive.\n",
    "Cannot be a reserved word.\n",
    "Example:- abc, var1"
   ]
  },
  {
   "cell_type": "raw",
   "id": "36b76f24-8ec5-461e-b806-b30854dfbe28",
   "metadata": {},
   "source": [
    "3. comments are used to annotate code and provide explanations. They are ignored by the Python interpreter and are solely for human readability. Comments help make code more understandable and maintainable.\n",
    "\n",
    "\"\"\"\n",
    "This is a\n",
    "multi-line comment\n",
    "\"\"\"\n",
    "pring('hello')"
   ]
  },
  {
   "cell_type": "raw",
   "id": "f081173f-3e65-4caf-8433-5260f30b57f1",
   "metadata": {},
   "source": [
    "4.Proper indentation in Python defines the scope and hierarchy of code, impacting its readability and functionality."
   ]
  },
  {
   "cell_type": "raw",
   "id": "56c2f3ce-8b3f-448c-92b9-eeacf64d1b05",
   "metadata": {},
   "source": [
    "5. If indentation is incorrect in Python, it can lead to syntax errors and affect the program's functionality. Python relies on consistent indentation to define the scope and structure of code blocks. Incorrect indentation may result in misinterpretation by the interpreter, leading to issues i.e. IndentationError, Logical Errors, Scope Issues\n"
   ]
  },
  {
   "cell_type": "raw",
   "id": "bd85c834-2513-4c9a-8e4c-f05efe5b6dd1",
   "metadata": {},
   "source": [
    "6.  an expression is a combination of values and operators that produces a result, while a statement is a complete line of code that performs an action and can include one or more expressions. Example: result = 2 + 3 * (5 - 1) – here, 2 + 3 * (5 - 1) is an expression, and the entire line is a statement."
   ]
  },
  {
   "cell_type": "code",
   "execution_count": null,
   "id": "87626ba0-53c5-43ec-aa42-f61ffe899960",
   "metadata": {},
   "outputs": [],
   "source": []
  }
 ],
 "metadata": {
  "kernelspec": {
   "display_name": "Python 3 (ipykernel)",
   "language": "python",
   "name": "python3"
  },
  "language_info": {
   "codemirror_mode": {
    "name": "ipython",
    "version": 3
   },
   "file_extension": ".py",
   "mimetype": "text/x-python",
   "name": "python",
   "nbconvert_exporter": "python",
   "pygments_lexer": "ipython3",
   "version": "3.10.8"
  }
 },
 "nbformat": 4,
 "nbformat_minor": 5
}
