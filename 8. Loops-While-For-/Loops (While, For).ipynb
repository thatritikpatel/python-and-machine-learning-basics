{
 "cells": [
  {
   "cell_type": "markdown",
   "id": "966278d4-27c6-479b-b5ed-f7696045b907",
   "metadata": {},
   "source": [
    "Print numbers from 1 to 5 using a while loop:\n",
    "\n"
   ]
  },
  {
   "cell_type": "code",
   "execution_count": 1,
   "id": "43c4d879-9822-423a-9844-e48d4bc3f99a",
   "metadata": {},
   "outputs": [
    {
     "name": "stdout",
     "output_type": "stream",
     "text": [
      "1\n",
      "2\n",
      "3\n",
      "4\n",
      "5\n"
     ]
    }
   ],
   "source": [
    "num = 1\n",
    "while num <= 5:\n",
    "    print(num)\n",
    "    num += 1\n"
   ]
  },
  {
   "cell_type": "markdown",
   "id": "b56f2018-377a-42f6-8678-0ab44115467a",
   "metadata": {},
   "source": [
    "Calculate the sum of numbers from 1 to 10 using a while loop:\n",
    "\n"
   ]
  },
  {
   "cell_type": "code",
   "execution_count": 2,
   "id": "9a0402c9-6fd0-44a8-adaf-2e12863e0115",
   "metadata": {},
   "outputs": [
    {
     "name": "stdout",
     "output_type": "stream",
     "text": [
      "Sum: 55\n"
     ]
    }
   ],
   "source": [
    "total = 0\n",
    "num = 1\n",
    "while num <= 10:\n",
    "    total += num\n",
    "    num += 1\n",
    "print(\"Sum:\", total)\n"
   ]
  },
  {
   "cell_type": "markdown",
   "id": "3dd46b84-b712-484a-8613-71fdf229c3a4",
   "metadata": {},
   "source": [
    "Calculate the factorial of a number using a for loop:\n",
    "\n"
   ]
  },
  {
   "cell_type": "code",
   "execution_count": 4,
   "id": "3eb359c4-3695-4f7c-8a52-75722251fe12",
   "metadata": {},
   "outputs": [
    {
     "name": "stdout",
     "output_type": "stream",
     "text": [
      "Factorial: 120\n"
     ]
    }
   ],
   "source": [
    "number = 5\n",
    "factorial = 1\n",
    "for i in range(1, number + 1):\n",
    "    factorial *= i\n",
    "print(\"Factorial:\", factorial)\n"
   ]
  },
  {
   "cell_type": "markdown",
   "id": "800b639f-f9f3-4f7e-8632-a23783b317a7",
   "metadata": {},
   "source": [
    "Count the number of vowels in a string using a for loop:\n",
    "\n"
   ]
  },
  {
   "cell_type": "code",
   "execution_count": 5,
   "id": "88d5b4fb-d03d-4698-9322-619672f8312d",
   "metadata": {},
   "outputs": [
    {
     "name": "stdout",
     "output_type": "stream",
     "text": [
      "Number of vowels: 3\n"
     ]
    }
   ],
   "source": [
    "string = \"Hello, World!\"\n",
    "vowels = \"aeiouAEIOU\"\n",
    "count = 0\n",
    "for char in string:\n",
    "    if char in vowels:\n",
    "        count += 1\n",
    "print(\"Number of vowels:\", count)\n"
   ]
  },
  {
   "cell_type": "markdown",
   "id": "8a7e1eae-8d14-4681-8336-595ea838c71c",
   "metadata": {},
   "source": [
    "Print a pattern using nested loops:\n",
    "\n"
   ]
  },
  {
   "cell_type": "code",
   "execution_count": 9,
   "id": "95e91580-6f9b-4ed2-afba-bfd2c79ec7a4",
   "metadata": {},
   "outputs": [
    {
     "name": "stdout",
     "output_type": "stream",
     "text": [
      "/t*\n",
      "/t*/t*\n",
      "/t*/t*/t*\n",
      "/t*/t*/t*/t*\n",
      "/t*/t*/t*/t*/t*\n"
     ]
    }
   ],
   "source": [
    "for i in range(1, 6):\n",
    "    for j in range(i):\n",
    "        print(\"/t\", end=\"*\")\n",
    "    print()\n"
   ]
  },
  {
   "cell_type": "code",
   "execution_count": null,
   "id": "a2bc1b8b-8264-4803-9e50-4c8a8b5da9ce",
   "metadata": {},
   "outputs": [],
   "source": []
  }
 ],
 "metadata": {
  "kernelspec": {
   "display_name": "Python 3 (ipykernel)",
   "language": "python",
   "name": "python3"
  },
  "language_info": {
   "codemirror_mode": {
    "name": "ipython",
    "version": 3
   },
   "file_extension": ".py",
   "mimetype": "text/x-python",
   "name": "python",
   "nbconvert_exporter": "python",
   "pygments_lexer": "ipython3",
   "version": "3.10.8"
  }
 },
 "nbformat": 4,
 "nbformat_minor": 5
}
