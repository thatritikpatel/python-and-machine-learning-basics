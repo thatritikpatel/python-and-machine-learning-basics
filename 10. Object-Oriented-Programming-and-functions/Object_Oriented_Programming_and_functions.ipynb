{
  "nbformat": 4,
  "nbformat_minor": 0,
  "metadata": {
    "colab": {
      "provenance": []
    },
    "kernelspec": {
      "name": "python3",
      "display_name": "Python 3"
    },
    "language_info": {
      "name": "python"
    }
  },
  "cells": [
    {
      "cell_type": "markdown",
      "source": [
        "1. Explain the importance of the function"
      ],
      "metadata": {
        "id": "K_2jW2GMNNFR"
      }
    },
    {
      "cell_type": "markdown",
      "source": [
        "Functions in Python are essential for organizing code into reusable modules, enhancing readability, and promoting code reuse. They provide abstraction, parameterization, and encapsulation, making code more flexible and maintainable. Functions enable testing and debugging, improve scoping and namespace management, and support functional programming paradigms. Overall, they are fundamental for writing clean, efficient, and scalable Python code."
      ],
      "metadata": {
        "id": "yKShZz1TNPnB"
      }
    },
    {
      "cell_type": "markdown",
      "source": [
        "2. write basic function to greet student"
      ],
      "metadata": {
        "id": "xg7qK8ZqNne2"
      }
    },
    {
      "cell_type": "code",
      "source": [
        "def greet_student(name):\n",
        "\n",
        "  print(f\"Hello, {name}!\")\n",
        "\n",
        "# Example usage\n",
        "greet_student(\"Ram\")"
      ],
      "metadata": {
        "colab": {
          "base_uri": "https://localhost:8080/"
        },
        "id": "1QYMLhFdOkiv",
        "outputId": "af093abc-7fe9-4151-976b-1b8b5baa05f3"
      },
      "execution_count": null,
      "outputs": [
        {
          "output_type": "stream",
          "name": "stdout",
          "text": [
            "Hello, Ram!\n"
          ]
        }
      ]
    },
    {
      "cell_type": "markdown",
      "source": [
        "3. what is the difference between print and return statements.\n",
        "\n"
      ],
      "metadata": {
        "id": "ywWAPDQiO9OI"
      }
    },
    {
      "cell_type": "markdown",
      "source": [
        "`print` is used to display output to the console, while `return` is used to exit a function and send a value back to the caller for further use."
      ],
      "metadata": {
        "id": "iG_kACUNPX8r"
      }
    },
    {
      "cell_type": "markdown",
      "source": [
        "4. What are *args and **kwargs?\n"
      ],
      "metadata": {
        "id": "DHIA-xkAPem_"
      }
    },
    {
      "cell_type": "markdown",
      "source": [
        "`*args` allows a Python function to accept a variable number of positional arguments, which are collected into a tuple. `**kwargs` allows the function to accept a variable number of keyword arguments, which are collected into a dictionary. They provide flexibility when defining functions that need to handle different types and numbers of arguments.\n",
        "\n",
        "def example_function(*args, **kwargs):\n",
        "    print(\"Positional arguments ( *args ):\")\n",
        "    for arg in args:\n",
        "        print(arg)\n",
        "    \n",
        "    print(\"\\nKeyword arguments ( **kwargs ):\")\n",
        "    for key, value in kwargs.items():\n",
        "        print(f\"{key} = {value}\")\n",
        "\n",
        "# Using *args and **kwargs\n",
        "example_function(1, 2, 3, name=\"Alice\", age=30, city=\"Wonderland\")\n"
      ],
      "metadata": {
        "id": "UKN9jAG6QLZG"
      }
    },
    {
      "cell_type": "markdown",
      "source": [
        "5. Explain the iterator function.\n"
      ],
      "metadata": {
        "id": "OK4B9JpXSvID"
      }
    },
    {
      "cell_type": "markdown",
      "source": [
        "Iterators   in Python allow you to traverse through collections of values.\n",
        "They follow the iterator protocol with `__iter__()` and `__next__()` methods.\n",
        "You can create custom iterators for your own data structures.\n",
        "Iterators are essential for efficient looping and lazy evaluation."
      ],
      "metadata": {
        "id": "S2pjBxA3bPXa"
      }
    },
    {
      "cell_type": "markdown",
      "source": [
        "6. Write a code that generates the squares of numbers from 1 to n using a generator.\n"
      ],
      "metadata": {
        "id": "OfDUj7cFck3B"
      }
    },
    {
      "cell_type": "code",
      "source": [
        "def generate_squares(n):\n",
        "    for i in range(1, n + 1):\n",
        "        yield i ** 2\n",
        "\n",
        "n = 5\n",
        "squares_gen = generate_squares(n)\n",
        "print(list(squares_gen))\n"
      ],
      "metadata": {
        "colab": {
          "base_uri": "https://localhost:8080/"
        },
        "id": "bdapBaFTdR0G",
        "outputId": "e4228cab-ba5d-444b-9e23-26d11e9d18d3"
      },
      "execution_count": null,
      "outputs": [
        {
          "output_type": "stream",
          "name": "stdout",
          "text": [
            "[1, 4, 9, 16, 25]\n"
          ]
        }
      ]
    },
    {
      "cell_type": "markdown",
      "source": [
        "7. Write a code that generates palindromic numbers up to n using a generator.\n"
      ],
      "metadata": {
        "id": "ztt2Zd2scyN0"
      }
    },
    {
      "cell_type": "code",
      "source": [
        "def is_palindrome(num):\n",
        "    return str(num) == str(num)[::-1]\n",
        "\n",
        "def generate_palindromes(n):\n",
        "    for num in range(1, n + 1):\n",
        "        if is_palindrome(num):\n",
        "            yield num\n",
        "\n",
        "\n",
        "n = 100\n",
        "palindrome_gen = generate_palindromes(n)\n",
        "for palindrome in palindrome_gen:\n",
        "    print(palindrome)\n"
      ],
      "metadata": {
        "id": "nEbFNkd0dqlf"
      },
      "execution_count": null,
      "outputs": []
    },
    {
      "cell_type": "markdown",
      "source": [
        "8. Write a code that generates even numbers from 2 to n using a generator.\n"
      ],
      "metadata": {
        "id": "lLZoCLOodsn0"
      }
    },
    {
      "cell_type": "code",
      "source": [
        "def generate_even_numbers(n):\n",
        "    for num in range(2, n + 1, 2):\n",
        "        yield num\n",
        "\n",
        "n = 20\n",
        "even_gen = generate_even_numbers(n)\n",
        "for even_num in even_gen:\n",
        "    print(even_num)\n"
      ],
      "metadata": {
        "id": "V9fo_KwEdxp3"
      },
      "execution_count": null,
      "outputs": []
    },
    {
      "cell_type": "markdown",
      "source": [
        "9. Write a code that generates powers of two up to n using a generator.\n"
      ],
      "metadata": {
        "id": "-8VXgbdwCZy3"
      }
    },
    {
      "cell_type": "code",
      "source": [
        "def generate_powers_of_two(n):\n",
        "    power = 1\n",
        "    while power <= n:\n",
        "        yield power\n",
        "        power *= 2\n",
        "\n",
        "n = 20\n",
        "powers_gen = generate_powers_of_two(n)\n",
        "for power in powers_gen:\n",
        "    print(power)\n"
      ],
      "metadata": {
        "colab": {
          "base_uri": "https://localhost:8080/"
        },
        "id": "nHSVngf9Ca0s",
        "outputId": "0038eb77-2919-4a3e-ffe3-98a62160675e"
      },
      "execution_count": null,
      "outputs": [
        {
          "output_type": "stream",
          "name": "stdout",
          "text": [
            "1\n",
            "2\n",
            "4\n",
            "8\n",
            "16\n"
          ]
        }
      ]
    },
    {
      "cell_type": "markdown",
      "source": [
        "10. Write a code that generates prime numbers up to n using a generator.\n"
      ],
      "metadata": {
        "id": "IdH6qOaADOY6"
      }
    },
    {
      "cell_type": "code",
      "source": [
        "def is_prime(num):\n",
        "    if num < 2:\n",
        "        return False\n",
        "    for i in range(2, int(num**0.5) + 1):\n",
        "        if num % i == 0:\n",
        "            return False\n",
        "    return True\n",
        "\n",
        "def generate_primes(n):\n",
        "    for num in range(2, n + 1):\n",
        "        if is_prime(num):\n",
        "            yield num\n",
        "\n",
        "n = 25\n",
        "prime_gen = generate_primes(n)\n",
        "for prime in prime_gen:\n",
        "    print(prime)\n"
      ],
      "metadata": {
        "colab": {
          "base_uri": "https://localhost:8080/"
        },
        "id": "1u1BWT8dDabh",
        "outputId": "01c08179-736e-48d3-b5ec-51635431b4b0"
      },
      "execution_count": null,
      "outputs": [
        {
          "output_type": "stream",
          "name": "stdout",
          "text": [
            "2\n",
            "3\n",
            "5\n",
            "7\n",
            "11\n",
            "13\n",
            "17\n",
            "19\n",
            "23\n"
          ]
        }
      ]
    },
    {
      "cell_type": "markdown",
      "source": [
        "11. Write a code that uses a lambda function to calculate the sum of two numbers.\n"
      ],
      "metadata": {
        "id": "a6FsClKZETa_"
      }
    },
    {
      "cell_type": "code",
      "source": [
        "add_numbers = lambda x, y: x + y\n",
        "\n",
        "num1 = 5\n",
        "num2 = 3\n",
        "\n",
        "print(f\"The sum of {num1} and {num2} is {add_numbers(num1, num2)}.\")\n"
      ],
      "metadata": {
        "colab": {
          "base_uri": "https://localhost:8080/"
        },
        "id": "BypIPQUzEWU0",
        "outputId": "fe1c8e9c-a196-4689-d081-cfb508df8054"
      },
      "execution_count": null,
      "outputs": [
        {
          "output_type": "stream",
          "name": "stdout",
          "text": [
            "The sum of 5 and 3 is 8.\n"
          ]
        }
      ]
    },
    {
      "cell_type": "markdown",
      "source": [
        "12. Write a code that uses a lambda function to calculate the square of a given number.\n"
      ],
      "metadata": {
        "id": "Uk45Cr1REmhO"
      }
    },
    {
      "cell_type": "code",
      "source": [
        "square = lambda x: x**2\n",
        "\n",
        "number = 5\n",
        "result = square(number)\n",
        "\n",
        "print(f\"The square of {number} is {result}.\")\n"
      ],
      "metadata": {
        "colab": {
          "base_uri": "https://localhost:8080/"
        },
        "id": "AutjDBcpEx4m",
        "outputId": "349e192e-cd2f-4e9b-c7c4-ffbca8c5d24b"
      },
      "execution_count": null,
      "outputs": [
        {
          "output_type": "stream",
          "name": "stdout",
          "text": [
            "The square of 5 is 25.\n"
          ]
        }
      ]
    },
    {
      "cell_type": "markdown",
      "source": [
        "13. Write a code that uses a lambda function to check whether a given number is even or odd."
      ],
      "metadata": {
        "id": "F2nJnufhE4Eu"
      }
    },
    {
      "cell_type": "code",
      "source": [
        "\n",
        "is_even = lambda x: x % 2 == 0\n",
        "\n",
        "number = 7\n",
        "if is_even(number):\n",
        "    print(f\"{number} is even.\")\n",
        "else:\n",
        "    print(f\"{number} is odd.\")\n"
      ],
      "metadata": {
        "colab": {
          "base_uri": "https://localhost:8080/"
        },
        "id": "XULX7W2eFHo1",
        "outputId": "6cdda2e1-2c2c-455d-da09-5fda1199447a"
      },
      "execution_count": null,
      "outputs": [
        {
          "output_type": "stream",
          "name": "stdout",
          "text": [
            "7 is odd.\n"
          ]
        }
      ]
    },
    {
      "cell_type": "markdown",
      "source": [
        "15. Write a code that uses a lambda function to concatenate two strings.\n"
      ],
      "metadata": {
        "id": "A1ZvKiOAFKP3"
      }
    },
    {
      "cell_type": "code",
      "source": [
        "concat_strings = lambda str1, str2: str1 + str2\n",
        "\n",
        "string1 = \"Hello, \"\n",
        "string2 = \"world!\"\n",
        "result = concat_strings(string1, string2)\n",
        "\n",
        "print(f\"The concatenated string is: {result}\")\n"
      ],
      "metadata": {
        "colab": {
          "base_uri": "https://localhost:8080/"
        },
        "id": "IEuf1R77FNJm",
        "outputId": "3962be10-655c-4fcd-d2e3-fc63160bab47"
      },
      "execution_count": null,
      "outputs": [
        {
          "output_type": "stream",
          "name": "stdout",
          "text": [
            "The concatenated string is: Hello, world!\n"
          ]
        }
      ]
    },
    {
      "cell_type": "markdown",
      "source": [
        "16. Write a code that uses a lambda function to find the maximum of three given numbers.\n"
      ],
      "metadata": {
        "id": "6DWcg12fFZ-3"
      }
    },
    {
      "cell_type": "code",
      "source": [
        "\n",
        "find_max = lambda a, b, c: max(a, b, c)\n",
        "\n",
        "num1 = 10\n",
        "num2 = 25\n",
        "num3 = 18\n",
        "maximum = find_max(num1, num2, num3)\n",
        "\n",
        "print(f\"The maximum of {num1}, {num2}, and {num3} is {maximum}.\")\n"
      ],
      "metadata": {
        "colab": {
          "base_uri": "https://localhost:8080/"
        },
        "id": "Ry19tXiAFeqm",
        "outputId": "8875fea6-a63c-488e-f1c5-2e118eadd8c8"
      },
      "execution_count": null,
      "outputs": [
        {
          "output_type": "stream",
          "name": "stdout",
          "text": [
            "The maximum of 10, 25, and 18 is 25.\n"
          ]
        }
      ]
    },
    {
      "cell_type": "markdown",
      "source": [
        "17. Write a code that generates the squares of even numbers from a given list.\n"
      ],
      "metadata": {
        "id": "MPsM7Fmxd9k3"
      }
    },
    {
      "cell_type": "code",
      "source": [
        "def generate_even_squares(numbers):\n",
        "    for num in numbers:\n",
        "        if num % 2 == 0:\n",
        "            yield num**2\n",
        "\n",
        "my_list = [1, 2, 3, 4, 5, 6, 7, 8, 9, 10]\n",
        "even_squares_gen = generate_even_squares(my_list)\n",
        "\n",
        "print(\"Squares of even numbers:\")\n",
        "for square in even_squares_gen:\n",
        "    print(square)\n"
      ],
      "metadata": {
        "colab": {
          "base_uri": "https://localhost:8080/"
        },
        "id": "OKlax5OJFpec",
        "outputId": "d369db5c-2052-4bdd-f402-edeada875c83"
      },
      "execution_count": null,
      "outputs": [
        {
          "output_type": "stream",
          "name": "stdout",
          "text": [
            "Squares of even numbers:\n",
            "4\n",
            "16\n",
            "36\n",
            "64\n",
            "100\n"
          ]
        }
      ]
    },
    {
      "cell_type": "markdown",
      "source": [
        "18. Write a code that calculates the product of positive numbers from a given list.\n"
      ],
      "metadata": {
        "id": "9AIHr_k1Fyoh"
      }
    },
    {
      "cell_type": "markdown",
      "source": [],
      "metadata": {
        "id": "2i3YesAZFv6z"
      }
    },
    {
      "cell_type": "code",
      "source": [
        "def calculate_positive_product(numbers):\n",
        "    product = 1\n",
        "    for num in numbers:\n",
        "        if num > 0:\n",
        "            product *= num\n",
        "    return product\n",
        "\n",
        "my_list = [2, 3, -5, 4, 7, -1, 9]\n",
        "positive_product = calculate_positive_product(my_list)\n",
        "\n",
        "print(f\"The product of positive numbers in the list is: {positive_product}\")\n"
      ],
      "metadata": {
        "colab": {
          "base_uri": "https://localhost:8080/"
        },
        "id": "Zd2DQrRgFtew",
        "outputId": "855b15ed-2d73-4ba2-8d3e-1a866d4b9892"
      },
      "execution_count": null,
      "outputs": [
        {
          "output_type": "stream",
          "name": "stdout",
          "text": [
            "The product of positive numbers in the list is: 1512\n"
          ]
        }
      ]
    },
    {
      "cell_type": "markdown",
      "source": [
        "19. Write a code that doubles the values of odd numbers from a given list.\n"
      ],
      "metadata": {
        "id": "X2ppjv0ZO8VM"
      }
    },
    {
      "cell_type": "code",
      "source": [
        "def double_odd_numbers(numbers):\n",
        "    return [num * 2 for num in numbers if num % 2 != 0]\n",
        "\n",
        "my_list = [1, 2, 3, 4, 5, 6, 7, 8, 9]\n",
        "doubled_odd_numbers = double_odd_numbers(my_list)\n",
        "\n",
        "print(f\"The doubled odd numbers are: {doubled_odd_numbers}\")\n"
      ],
      "metadata": {
        "colab": {
          "base_uri": "https://localhost:8080/"
        },
        "id": "9RAjEiULF5fJ",
        "outputId": "7214a513-c9ec-438c-9131-de888defaf08"
      },
      "execution_count": null,
      "outputs": [
        {
          "output_type": "stream",
          "name": "stdout",
          "text": [
            "The doubled odd numbers are: [2, 6, 10, 14, 18]\n"
          ]
        }
      ]
    },
    {
      "cell_type": "markdown",
      "source": [
        "20. Write a code that calculates the sum of cubes of numbers from a given list.\n"
      ],
      "metadata": {
        "id": "_6TvIJoUWOE5"
      }
    },
    {
      "cell_type": "code",
      "source": [
        "def sum_of_cubes(numbers):\n",
        "    return sum(num**3 for num in numbers)\n",
        "\n",
        "# Example usage:\n",
        "my_list = [1, 2, 3, 4, 5]\n",
        "cubes_sum = sum_of_cubes(my_list)\n",
        "\n",
        "print(f\"The sum of cubes in the list is: {cubes_sum}\")\n"
      ],
      "metadata": {
        "id": "artL7p1nPAFE"
      },
      "execution_count": null,
      "outputs": []
    },
    {
      "cell_type": "markdown",
      "source": [
        "21. Write a code that filters out prime numbers from a given list."
      ],
      "metadata": {
        "id": "rD4LD4V6WS4b"
      }
    },
    {
      "cell_type": "code",
      "source": [
        "def is_prime(num):\n",
        "    if num < 2:\n",
        "        return False\n",
        "    for i in range(2, int(num**0.5) + 1):\n",
        "        if num % i == 0:\n",
        "            return False\n",
        "    return True\n",
        "\n",
        "def filter_primes(numbers):\n",
        "    return [num for num in numbers if is_prime(num)]\n",
        "\n",
        "\n",
        "my_list = [2, 3, 5, 7, 10, 11, 13, 17, 20]\n",
        "prime_numbers = filter_primes(my_list)\n",
        "\n",
        "print(f\"The prime numbers in the list are: {prime_numbers}\")\n"
      ],
      "metadata": {
        "colab": {
          "base_uri": "https://localhost:8080/"
        },
        "id": "Eemtt79yWaE9",
        "outputId": "df8fcb80-3595-4380-f61f-208f9c4e0b81"
      },
      "execution_count": null,
      "outputs": [
        {
          "output_type": "stream",
          "name": "stdout",
          "text": [
            "The prime numbers in the list are: [2, 3, 5, 7, 11, 13, 17]\n"
          ]
        }
      ]
    },
    {
      "cell_type": "markdown",
      "source": [
        "22. Write a code that uses a lambda function to calculate the sum of two numbers.\n"
      ],
      "metadata": {
        "id": "blyZlb9ZWhwb"
      }
    },
    {
      "cell_type": "code",
      "source": [
        "# Define a lambda function that adds two numbers\n",
        "add_numbers = lambda x, y: x + y\n",
        "\n",
        "# Example usage:\n",
        "num1 = 5\n",
        "num2 = 3\n",
        "result = add_numbers(num1, num2)\n",
        "\n",
        "print(f\"The sum of {num1} and {num2} is {result}.\")\n"
      ],
      "metadata": {
        "id": "3X0aEynaWc9Y"
      },
      "execution_count": null,
      "outputs": []
    },
    {
      "cell_type": "markdown",
      "source": [
        "23. Write a code that uses a lambda function to calculate the square of a given number.\n"
      ],
      "metadata": {
        "id": "BSc4SjOTXCK8"
      }
    },
    {
      "cell_type": "code",
      "source": [
        "square = lambda x: x ** 2\n",
        "\n",
        "number = 5\n",
        "result = square(number)\n",
        "print(f\"The square of {number} is {result}\")\n"
      ],
      "metadata": {
        "colab": {
          "base_uri": "https://localhost:8080/"
        },
        "id": "ZZedDPmpiboL",
        "outputId": "15066805-fc00-45e6-ff54-8bc79d7b9ef1"
      },
      "execution_count": null,
      "outputs": [
        {
          "output_type": "stream",
          "name": "stdout",
          "text": [
            "The square of 5 is 25\n"
          ]
        }
      ]
    },
    {
      "cell_type": "markdown",
      "source": [
        "24. Write a code that uses a lambda function to check whether a given number is even or odd.\n"
      ],
      "metadata": {
        "id": "BywhaDtbinLP"
      }
    },
    {
      "cell_type": "code",
      "source": [
        "is_even = lambda x: x % 2 == 0\n",
        "\n",
        "number = 7\n",
        "if is_even(number):\n",
        "    print(f\"{number} is even.\")\n",
        "else:\n",
        "    print(f\"{number} is odd.\")\n"
      ],
      "metadata": {
        "colab": {
          "base_uri": "https://localhost:8080/"
        },
        "id": "GiIZIAupihG8",
        "outputId": "ef0843fc-3214-4bf6-e69a-82f0d864b66a"
      },
      "execution_count": null,
      "outputs": [
        {
          "output_type": "stream",
          "name": "stdout",
          "text": [
            "7 is odd.\n"
          ]
        }
      ]
    },
    {
      "cell_type": "markdown",
      "source": [
        "25. Write a code that uses a lambda function to concatenate two strings.\n"
      ],
      "metadata": {
        "id": "VyqfpZQGirh-"
      }
    },
    {
      "cell_type": "code",
      "source": [
        "concatenate_strings = lambda str1, str2: str1 + str2\n",
        "\n",
        "string1 = \"MY, \"\n",
        "string2 = \"World!\"\n",
        "result = concatenate_strings(string1, string2)\n",
        "print(f\"The concatenated string is: {result}\")\n"
      ],
      "metadata": {
        "colab": {
          "base_uri": "https://localhost:8080/"
        },
        "id": "2oD_l27iiydh",
        "outputId": "cdb99505-e0f7-4aee-a030-2691b503da32"
      },
      "execution_count": null,
      "outputs": [
        {
          "output_type": "stream",
          "name": "stdout",
          "text": [
            "The concatenated string is: MY, World!\n"
          ]
        }
      ]
    },
    {
      "cell_type": "markdown",
      "source": [
        "26. Write a code that uses a lambda function to find the maximum of three given numbers.\n"
      ],
      "metadata": {
        "id": "2CHKbnQ1jBmp"
      }
    },
    {
      "cell_type": "code",
      "source": [
        "find_max = lambda a, b, c: max(a, b, c)\n",
        "\n",
        "num1, num2, num3 = 10, 25, 18\n",
        "maximum = find_max(num1, num2, num3)\n",
        "print(f\"The maximum of {num1}, {num2}, and {num3} is {maximum}\")\n"
      ],
      "metadata": {
        "colab": {
          "base_uri": "https://localhost:8080/"
        },
        "id": "FLsabIqyi13y",
        "outputId": "9847e22b-182e-4fdc-9d79-eec2425edd6d"
      },
      "execution_count": null,
      "outputs": [
        {
          "output_type": "stream",
          "name": "stdout",
          "text": [
            "The maximum of 10, 25, and 18 is 25\n"
          ]
        }
      ]
    },
    {
      "cell_type": "markdown",
      "source": [
        "27. What is encapsulation in OOP?"
      ],
      "metadata": {
        "id": "zVN-0rk7jIMb"
      }
    },
    {
      "cell_type": "markdown",
      "source": [
        "Encapsulation in Object-Oriented Programming (OOP) is the concept of bundling data (attributes) and methods (functions) that operate on the data into a single unit, known as a class. It allows the internal state of an object to be hidden from the outside world, and only exposes a controlled interface for interacting with the object. Encapsulation helps in achieving data abstraction, modularity, and information hiding, leading to more robust and maintainable code."
      ],
      "metadata": {
        "id": "igbxZ2APjKjd"
      }
    },
    {
      "cell_type": "markdown",
      "source": [
        "28. Explain the use of access modifiers in Python classes.\n"
      ],
      "metadata": {
        "id": "sC3-8EQij_JC"
      }
    },
    {
      "cell_type": "markdown",
      "source": [
        "Public (public):\n",
        "\n",
        "1. Public attributes and methods are accessible from outside the class.\n",
        "2. There are no restrictions on accessing public members.\n",
        "\n",
        "Private (private):\n",
        "\n",
        "1. Private attributes and methods are accessible only within the class itself.\n",
        "2. They are not directly accessible from outside the class.\n",
        "3. Private members are indicated by prefixing their names with a double underscore (__).\n",
        "\n",
        "Protected (protected):\n",
        "\n",
        "1. Protected attributes and methods are accessible within the class itself and its subclasses.\n",
        "2. They are not directly accessible from outside the class, but can be accessed in subclasses.\n",
        "3. Protected members are indicated by prefixing their names with a single underscore (_)."
      ],
      "metadata": {
        "id": "gehUoMMIkX5Y"
      }
    },
    {
      "cell_type": "markdown",
      "source": [
        "29. What is inheritance in OOP?"
      ],
      "metadata": {
        "id": "JviOCWfGk6XP"
      }
    },
    {
      "cell_type": "markdown",
      "source": [
        "In Python, inheritance in OOP allows a new class (subclass) to inherit properties and behaviors from an existing class (superclass). It promotes code reuse and modularity by allowing subclasses to reuse and extend the functionality of the superclass. Subclasses can override superclass methods and access superclass methods using the `super()` function."
      ],
      "metadata": {
        "id": "UlGkeXHllVSj"
      }
    },
    {
      "cell_type": "markdown",
      "source": [
        "30. Define polymorphism in OOP."
      ],
      "metadata": {
        "id": "4uA2LR72lWku"
      }
    },
    {
      "cell_type": "markdown",
      "source": [
        "Polymorphism in Python refers to the ability of different classes to provide a common interface for their methods with different implementations. It allows objects of different classes to be treated uniformly based on their common interface. This is typically achieved through method overriding, where subclasses provide their own implementation of methods defined in the superclass."
      ],
      "metadata": {
        "id": "Mji0NCoslZgo"
      }
    },
    {
      "cell_type": "markdown",
      "source": [
        "31. Explain method overriding in Python.\n"
      ],
      "metadata": {
        "id": "QLu8sV0ql0D6"
      }
    },
    {
      "cell_type": "markdown",
      "source": [
        "Method overriding in Python refers to the ability of a subclass to provide its own implementation of a method that is already defined in its superclass. When a method is called on an object of the subclass, the overridden method in the subclass is invoked instead of the method defined in the superclass. This allows subclasses to customize or extend the behavior of methods inherited from the superclass according to their specific requirements. Method overriding is achieved by defining a method with the same name and signature in the subclass as the one in the superclass.\n"
      ],
      "metadata": {
        "id": "vjMRdHB7l0T4"
      }
    },
    {
      "cell_type": "code",
      "source": [
        "class Vehicle:\n",
        "    def drive(self):\n",
        "        print(\"Driving a vehicle\")\n",
        "\n",
        "class Car(Vehicle):\n",
        "    def drive(self):\n",
        "        print(\"Driving a car\")\n",
        "\n",
        "vehicle = Vehicle()\n",
        "car = Car()\n",
        "\n",
        "vehicle.drive()\n",
        "car.drive()\n"
      ],
      "metadata": {
        "colab": {
          "base_uri": "https://localhost:8080/"
        },
        "id": "5H-tj-EvmddS",
        "outputId": "8b31311d-9041-4ed3-a807-2a80b1192d89"
      },
      "execution_count": null,
      "outputs": [
        {
          "output_type": "stream",
          "name": "stdout",
          "text": [
            "Driving a vehicle\n",
            "Driving a car\n"
          ]
        }
      ]
    },
    {
      "cell_type": "markdown",
      "source": [
        "32. Define a parent class Animal with a method make_sound that prints \"Generic animal sound\". Create a child class Dog inheriting from Animal with a method make_sound that prints \"Woof!\".\n"
      ],
      "metadata": {
        "id": "tiA2aNvql0ow"
      }
    },
    {
      "cell_type": "code",
      "source": [
        "class Animal:\n",
        "    def make_sound(self):\n",
        "        print(\"Generic animal sound\")\n",
        "\n",
        "class Dog(Animal):\n",
        "    def make_sound(self):\n",
        "        print(\"Woof!\")\n",
        "\n",
        "dog = Dog()\n",
        "dog.make_sound()\n"
      ],
      "metadata": {
        "colab": {
          "base_uri": "https://localhost:8080/"
        },
        "id": "hYGTQyvXmnju",
        "outputId": "2e91d500-6fbd-4002-9c17-9872249fb922"
      },
      "execution_count": null,
      "outputs": [
        {
          "output_type": "stream",
          "name": "stdout",
          "text": [
            "Woof!\n"
          ]
        }
      ]
    },
    {
      "cell_type": "markdown",
      "source": [
        "33. Define a method move in the Animal class that prints \"Animal moves\". Override the move method in the Dog class to print \"Dog runs.\""
      ],
      "metadata": {
        "id": "vShZLwNNm0se"
      }
    },
    {
      "cell_type": "code",
      "source": [
        "class Animal:\n",
        "    def move(self):\n",
        "        print(\"Animal moves\")\n",
        "\n",
        "    def make_sound(self):\n",
        "        print(\"Generic animal sound\")\n",
        "\n",
        "class Dog(Animal):\n",
        "    def move(self):\n",
        "        print(\"Dog runs.\")\n",
        "\n",
        "    def make_sound(self):\n",
        "        print(\"Woof!\")\n",
        "\n",
        "dog = Dog()\n",
        "dog.move()\n"
      ],
      "metadata": {
        "colab": {
          "base_uri": "https://localhost:8080/"
        },
        "id": "S-Z08XqNmyRV",
        "outputId": "6a3ba7ec-e31d-4f81-b05b-13588275d52b"
      },
      "execution_count": null,
      "outputs": [
        {
          "output_type": "stream",
          "name": "stdout",
          "text": [
            "Dog runs.\n"
          ]
        }
      ]
    },
    {
      "cell_type": "markdown",
      "source": [
        "34. Create a class Mammal with a method reproduce that prints \"Giving birth to live young.\" Create a class DogMammal inheriting from both Dog and Mammal.\n"
      ],
      "metadata": {
        "id": "6guDhSxBmymO"
      }
    },
    {
      "cell_type": "code",
      "source": [
        "class Mammal:\n",
        "    def reproduce(self):\n",
        "        print(\"Giving birth to live young.\")\n",
        "\n",
        "class Dog:\n",
        "    def make_sound(self):\n",
        "        print(\"Woof!\")\n",
        "\n",
        "class DogMammal(Dog, Mammal):\n",
        "    pass\n",
        "\n",
        "dog_mammal = DogMammal()\n",
        "dog_mammal.reproduce()\n"
      ],
      "metadata": {
        "colab": {
          "base_uri": "https://localhost:8080/"
        },
        "id": "LT6R4aBCjGhU",
        "outputId": "943bcd14-ed1d-40fc-cb80-4de3a115afe4"
      },
      "execution_count": null,
      "outputs": [
        {
          "output_type": "stream",
          "name": "stdout",
          "text": [
            "Giving birth to live young.\n"
          ]
        }
      ]
    },
    {
      "cell_type": "markdown",
      "source": [
        "35. Create a class German Shepherd inheriting from Dog and override the make_sound method to print \"Bark!\"\n"
      ],
      "metadata": {
        "id": "BCyOf5FPnaox"
      }
    },
    {
      "cell_type": "code",
      "source": [
        "class Dog:\n",
        "    def make_sound(self):\n",
        "        print(\"Woof!\")\n",
        "\n",
        "class GermanShepherd(Dog):\n",
        "    def make_sound(self):\n",
        "        print(\"Bark!\")\n",
        "\n",
        "\n",
        "german_shepherd = GermanShepherd()\n",
        "\n",
        "german_shepherd.make_sound()\n"
      ],
      "metadata": {
        "colab": {
          "base_uri": "https://localhost:8080/"
        },
        "id": "EtKuMgTGnWQ3",
        "outputId": "023d5e31-fb86-4691-b90c-60b6bc94c1b3"
      },
      "execution_count": null,
      "outputs": [
        {
          "output_type": "stream",
          "name": "stdout",
          "text": [
            "Bark!\n"
          ]
        }
      ]
    },
    {
      "cell_type": "markdown",
      "source": [
        "36. Define constructors in both the Animal and Dog classes with different initialization parameters.\n"
      ],
      "metadata": {
        "id": "YZppS20Qn996"
      }
    },
    {
      "cell_type": "code",
      "source": [
        "class Animal:\n",
        "    def __init__(self, species):\n",
        "        self.species = species\n",
        "\n",
        "    def move(self):\n",
        "        print(\"Animal moves\")\n",
        "\n",
        "    def make_sound(self):\n",
        "        print(\"Generic animal sound\")\n",
        "\n",
        "class Dog:\n",
        "    def __init__(self, breed):\n",
        "        self.breed = breed\n",
        "\n",
        "    def make_sound(self):\n",
        "        print(\"Woof!\")\n",
        "\n",
        "animal = Animal(\"Lion\")\n",
        "dog = Dog(\"German Shepherd\")\n",
        "\n",
        "print(animal.species)\n",
        "print(dog.breed)\n"
      ],
      "metadata": {
        "colab": {
          "base_uri": "https://localhost:8080/"
        },
        "id": "S18qw3rSoKi_",
        "outputId": "028141ad-e043-4b59-ba0e-871bc20b3ef0"
      },
      "execution_count": null,
      "outputs": [
        {
          "output_type": "stream",
          "name": "stdout",
          "text": [
            "Lion\n",
            "German Shepherd\n"
          ]
        }
      ]
    },
    {
      "cell_type": "markdown",
      "source": [
        "37. What is abstraction in Python? How is it implemented?"
      ],
      "metadata": {
        "id": "eIaOeV36oPoW"
      }
    },
    {
      "cell_type": "markdown",
      "source": [
        "\n",
        "Abstraction in Python is a concept that allows you to hide complex implementation details and only show the essential features of an object or a class. It focuses on what an object does rather than how it does it. Abstraction helps in managing complexity by simplifying the interface to use a class or an object"
      ],
      "metadata": {
        "id": "bVsRDf5Dolhl"
      }
    },
    {
      "cell_type": "code",
      "source": [
        "from abc import ABC, abstractmethod\n",
        "\n",
        "class Shape(ABC):\n",
        "    @abstractmethod\n",
        "    def area(self):\n",
        "        pass\n",
        "\n",
        "class Rectangle(Shape):\n",
        "    def __init__(self, width, height):\n",
        "        self.width = width\n",
        "        self.height = height\n",
        "\n",
        "    def area(self):\n",
        "        return self.width * self.height\n",
        "\n",
        "\n",
        "rectangle = Rectangle(5, 4)\n",
        "print(\"Area of Rectangle:\", rectangle.area())\n",
        "\n"
      ],
      "metadata": {
        "colab": {
          "base_uri": "https://localhost:8080/"
        },
        "id": "f7TxrcB1o6Yq",
        "outputId": "23f589ee-3edd-4b40-96ec-71d06cc32bfa"
      },
      "execution_count": null,
      "outputs": [
        {
          "output_type": "stream",
          "name": "stdout",
          "text": [
            "Area of Rectangle: 20\n"
          ]
        }
      ]
    },
    {
      "cell_type": "markdown",
      "source": [
        "38. Explain the importance of abstraction in object-oriented programming.\n"
      ],
      "metadata": {
        "id": "fULtOaw1pItU"
      }
    },
    {
      "cell_type": "markdown",
      "source": [
        "Abstraction in Object-Oriented Programming simplifies complexity by hiding unnecessary details, promotes encapsulation of implementation details, enhances modularity and reusability, facilitates design and development, and enables polymorphism. It improves code maintainability, reduces risks, and enhances productivity."
      ],
      "metadata": {
        "id": "BKYN1p5rpX1q"
      }
    },
    {
      "cell_type": "markdown",
      "source": [
        "39. How are abstract methods different from regular methods in Python?\n"
      ],
      "metadata": {
        "id": "VpMfwGeGpYbG"
      }
    },
    {
      "cell_type": "markdown",
      "source": [
        "Abstract methods in Python are defined in abstract classes using the `@abstractmethod` decorator and have no implementation. They must be implemented in concrete subclasses. Regular methods have their implementation defined within the class and can be called directly on instances of the class."
      ],
      "metadata": {
        "id": "sFI4JmRFpc6W"
      }
    },
    {
      "cell_type": "markdown",
      "source": [
        "40. How can you achieve abstraction using interfaces in Python?\n"
      ],
      "metadata": {
        "id": "CEWor8ZTt6oI"
      }
    },
    {
      "cell_type": "markdown",
      "source": [
        "In Python, abstraction using interfaces can be achieved by defining abstract base classes (ABCs) with abstract methods that represent the interface's contract. Concrete subclasses then provide implementations for these abstract methods. Users interact with objects based on the common interface defined by the ABC, without needing to know the specific implementations of the subclasses. This allows for code reuse, modularity, and polymorphic behavior."
      ],
      "metadata": {
        "id": "SMAsxv8juW6u"
      }
    },
    {
      "cell_type": "markdown",
      "source": [
        "41. Can you provide an example of how abstraction can be utilized to create a common interface for a group of related classes in Python?"
      ],
      "metadata": {
        "id": "eWAR-tdsuZH9"
      }
    },
    {
      "cell_type": "markdown",
      "source": [
        "Abstraction is utilized by defining an abstract base class with common methods representing the interface. Concrete subclasses then implement these methods according to their specific functionality. Users interact with objects based on the common interface, allowing for polymorphic behavior and code reuse"
      ],
      "metadata": {
        "id": "Kgzz6s_IvJoR"
      }
    },
    {
      "cell_type": "code",
      "source": [
        "from abc import ABC, abstractmethod\n",
        "\n",
        "class Vehicle(ABC):\n",
        "    @abstractmethod\n",
        "    def start(self):\n",
        "        pass\n",
        "\n",
        "    @abstractmethod\n",
        "    def stop(self):\n",
        "        pass\n",
        "\n",
        "class Car(Vehicle):\n",
        "    def start(self):\n",
        "        print(\"Car started\")\n",
        "\n",
        "    def stop(self):\n",
        "        print(\"Car stopped\")\n",
        "\n",
        "class Truck(Vehicle):\n",
        "    def start(self):\n",
        "        print(\"Truck started\")\n",
        "\n",
        "    def stop(self):\n",
        "        print(\"Truck stopped\")\n",
        "\n",
        "\n",
        "car = Car()\n",
        "truck = Truck()"
      ],
      "metadata": {
        "id": "SIErjONQvhBQ"
      },
      "execution_count": null,
      "outputs": []
    },
    {
      "cell_type": "markdown",
      "source": [
        "42. How does Python achieve polymorphism through method overriding?"
      ],
      "metadata": {
        "id": "SQ9lTjyFvuCx"
      }
    },
    {
      "cell_type": "markdown",
      "source": [
        "In Python, polymorphism through method overriding is achieved by allowing subclasses to provide their own implementation of methods defined in their superclass. When a method is called on an object, Python dynamically determines which implementation to invoke based on the type of the object at runtime. This enables objects of different classes to respond differently to the same method call, promoting code flexibility and maintainability."
      ],
      "metadata": {
        "id": "sYlM5nNu0e_1"
      }
    },
    {
      "cell_type": "markdown",
      "source": [
        "43. Define a base class with a method and a subclass that overrides the method.\n"
      ],
      "metadata": {
        "id": "216Qttfr0gQf"
      }
    },
    {
      "cell_type": "code",
      "source": [
        "class BaseClass:\n",
        "    def method(self):\n",
        "        print(\"This is the method of the base class\")\n",
        "\n",
        "class SubClass(BaseClass):\n",
        "    def method(self):\n",
        "        print(\"This is the method of the subclass\")\n",
        "\n",
        "\n",
        "base_obj = BaseClass()\n",
        "sub_obj = SubClass()\n",
        "\n",
        "base_obj.method()\n",
        "sub_obj.method()\n"
      ],
      "metadata": {
        "colab": {
          "base_uri": "https://localhost:8080/"
        },
        "id": "FMBZFQj7oOd3",
        "outputId": "9f62d954-54c3-48a1-a79c-8e4fb5fc89ec"
      },
      "execution_count": null,
      "outputs": [
        {
          "output_type": "stream",
          "name": "stdout",
          "text": [
            "This is the method of the base class\n",
            "This is the method of the subclass\n"
          ]
        }
      ]
    },
    {
      "cell_type": "markdown",
      "source": [
        "44. Define a base class and multiple subclasses with overridden methods."
      ],
      "metadata": {
        "id": "RF3MGEKF03xe"
      }
    },
    {
      "cell_type": "code",
      "source": [
        "class FlyingObject:\n",
        "    def fly(self):\n",
        "        print(\"Some generic flying object is flying\")\n",
        "\n",
        "class Plane(FlyingObject):\n",
        "    def fly(self):\n",
        "        print(\"Plane is flying at high speed\")\n",
        "\n",
        "class Bird(FlyingObject):\n",
        "    def fly(self):\n",
        "        print(\"Bird is flying gracefully\")\n",
        "\n",
        "class Kite(FlyingObject):\n",
        "    def fly(self):\n",
        "        print(\"Kite is flying in the sky\")\n",
        "\n",
        "plane = Plane()\n",
        "bird = Bird()\n",
        "kite = Kite()\n",
        "\n",
        "plane.fly()\n",
        "bird.fly()\n",
        "kite.fly()\n"
      ],
      "metadata": {
        "colab": {
          "base_uri": "https://localhost:8080/"
        },
        "id": "Qu_E-5YB02KW",
        "outputId": "7b6757da-ed44-46a9-8c39-820cb7e9a54d"
      },
      "execution_count": null,
      "outputs": [
        {
          "output_type": "stream",
          "name": "stdout",
          "text": [
            "Plane is flying at high speed\n",
            "Bird is flying gracefully\n",
            "Kite is flying in the sky\n"
          ]
        }
      ]
    },
    {
      "cell_type": "markdown",
      "source": [
        "45. How does polymorphism improve code readability and reusability?\n"
      ],
      "metadata": {
        "id": "N164Yqoo1MlB"
      }
    },
    {
      "cell_type": "markdown",
      "source": [
        "Polymorphism improves code readability and reusability by allowing objects of different classes to be treated uniformly based on their common interface. This means that developers can write code that operates on a general type, rather than specific implementations. This abstraction simplifies code, making it more readable and easier to understand. Additionally, polymorphism promotes code reusability by enabling the use of common interfaces across multiple classes. This means that functionality can be shared and extended without duplicating code, leading to more modular and maintainable software."
      ],
      "metadata": {
        "id": "diRSiF4nLwRu"
      }
    },
    {
      "cell_type": "markdown",
      "source": [
        "46. Describe how Python supports polymorphism with duck typing."
      ],
      "metadata": {
        "id": "KdzCC0VIMHzB"
      }
    },
    {
      "cell_type": "markdown",
      "source": [
        "polymorphism with duck typing is achieved by simply invoking methods or accessing attributes on objects without explicitly checking their types. If an object supports the required behavior (i.e., has the necessary methods or attributes), it can be used interchangeably with other objects that provide the same behavior, regardless of their actual types."
      ],
      "metadata": {
        "id": "yelOEZsVMIDH"
      }
    },
    {
      "cell_type": "markdown",
      "source": [
        "47. How do you achieve encapsulation in Python?"
      ],
      "metadata": {
        "id": "5MYVTu9oMIdW"
      }
    },
    {
      "cell_type": "markdown",
      "source": [
        "Encapsulation in Python is achieved through classes and access modifiers. Although Python doesn't have strict access modifiers, it follows conventions:\n",
        "- Public attributes and methods are accessible from outside the class.\n",
        "- Protected attributes and methods are indicated by a single underscore (`_`) and should be treated as non-public.\n",
        "- Private attributes and methods are indicated by a double underscore (`__`) and are not directly accessible from outside the class. They can be accessed or modified using getter and setter methods. Encapsulation improves data security and code maintainability by controlling access to class members."
      ],
      "metadata": {
        "id": "4UQSKTwIMIgi"
      }
    },
    {
      "cell_type": "markdown",
      "source": [
        "48. Can encapsulation be bypassed in Python? If so, how?\n"
      ],
      "metadata": {
        "id": "IzLwFynQYCnm"
      }
    },
    {
      "cell_type": "markdown",
      "source": [
        "Yes, encapsulation can be bypassed in Python by directly accessing or modifying protected and private attributes using their names or through Python's reflection capabilities like `getattr()` and `setattr()`. However, this goes against the principles of object-oriented programming and is discouraged as it can lead to code that's difficult to maintain and understand.\n",
        "Private methods are renamed with the class name prefixed (e.g., _Car__updateSoftware()).\n",
        "You can still access such methods using redcar._Car__updateSoftware()."
      ],
      "metadata": {
        "id": "tw8dyP7NYOMR"
      }
    },
    {
      "cell_type": "markdown",
      "source": [
        "49. Implement a class BankAccount with a private balance attribute. Include methods to deposit, withdraw, and check the balance.\n"
      ],
      "metadata": {
        "id": "ii7fkKhJZN0A"
      }
    },
    {
      "cell_type": "code",
      "source": [
        "class BankAccount:\n",
        "    def __init__(self, initial_balance=0):\n",
        "        self._balance = initial_balance\n",
        "\n",
        "    def deposit(self, amount):\n",
        "        \"\"\"Deposit the given amount into the account.\"\"\"\n",
        "        if amount > 0:\n",
        "            self._balance += amount\n",
        "            print(f\"Deposited ${amount}. New balance: ${self._balance}\")\n",
        "        else:\n",
        "            print(\"Invalid deposit amount. Please provide a positive value.\")\n",
        "\n",
        "    def withdraw(self, amount):\n",
        "        \"\"\"Withdraw the given amount from the account.\"\"\"\n",
        "        if 0 < amount <= self._balance:\n",
        "            self._balance -= amount\n",
        "            print(f\"Withdrew ${amount}. New balance: ${self._balance}\")\n",
        "        else:\n",
        "            print(\"Insufficient funds or invalid withdrawal amount.\")\n",
        "\n",
        "    def check_balance(self):\n",
        "        \"\"\"Get the current account balance.\"\"\"\n",
        "        print(f\"Current balance: ${self._balance}\")\n",
        "\n",
        "\n",
        "if __name__ == \"__main__\":\n",
        "    my_account = BankAccount(initial_balance=1000)\n",
        "    my_account.deposit(500)\n",
        "    my_account.withdraw(200)\n",
        "    my_account.check_balance()\n"
      ],
      "metadata": {
        "colab": {
          "base_uri": "https://localhost:8080/"
        },
        "id": "cT1BkyUj1LxF",
        "outputId": "117a5ea0-e428-4530-fbe7-d6c1b903bcf1"
      },
      "execution_count": null,
      "outputs": [
        {
          "output_type": "stream",
          "name": "stdout",
          "text": [
            "Deposited $500. New balance: $1500\n",
            "Withdrew $200. New balance: $1300\n",
            "Current balance: $1300\n"
          ]
        }
      ]
    },
    {
      "cell_type": "markdown",
      "source": [
        "50. Develop a Person class with private attributes name and email, and methods to set and get the email.\n"
      ],
      "metadata": {
        "id": "sgCEuH4CZiAd"
      }
    },
    {
      "cell_type": "code",
      "source": [
        "class Person:\n",
        "    def __init__(self, name, email):\n",
        "        self._name = name\n",
        "        self._email = email\n",
        "\n",
        "    def set_email(self, new_email):\n",
        "        \"\"\"Set the email address.\"\"\"\n",
        "        self._email = new_email\n",
        "\n",
        "    def get_email(self):\n",
        "        \"\"\"Get the current email address.\"\"\"\n",
        "        return self._email\n",
        "\n",
        "    def get_name(self):\n",
        "        \"\"\"Get the person's name.\"\"\"\n",
        "        return self._name\n",
        "\n",
        "\n",
        "if __name__ == \"__main__\":\n",
        "    person1 = Person(name=\"Alice\", email=\"ram@shyam.com\")\n",
        "    print(f\"{person1.get_name()}'s email: {person1.get_email()}\")\n",
        "\n",
        "    person1.set_email(\"alice.new@example.com\")\n",
        "    print(f\"Updated email: {person1.get_email()}\")\n"
      ],
      "metadata": {
        "colab": {
          "base_uri": "https://localhost:8080/"
        },
        "id": "01PefMKQZVUJ",
        "outputId": "fd5a5b06-e470-4ddc-fa93-6ec23ab3d814"
      },
      "execution_count": null,
      "outputs": [
        {
          "output_type": "stream",
          "name": "stdout",
          "text": [
            "Alice's email: ram@shyam.com\n",
            "Updated email: alice.new@example.com\n"
          ]
        }
      ]
    },
    {
      "cell_type": "markdown",
      "source": [
        "51. Why is encapsulation considered a pillar of object-oriented programming (OOP)?"
      ],
      "metadata": {
        "id": "9cifzGi3Z6ut"
      }
    },
    {
      "cell_type": "markdown",
      "source": [
        "Encapsulation is a fundamental concept in (OOP). It involves bundling data and methods within a class, promoting data hiding and controlled access. Getter and setter methods allow reading and modifying attributes. Encapsulation enhances code security, modularity, and maintainability."
      ],
      "metadata": {
        "id": "VlvOtdvAaQps"
      }
    },
    {
      "cell_type": "markdown",
      "source": [
        "52. Create a decorator in Python that adds functionality to a simple function by printing a message before and after the function execution."
      ],
      "metadata": {
        "id": "piLPPdhtanrL"
      }
    },
    {
      "cell_type": "code",
      "source": [
        "import time\n",
        "\n",
        "def measure_time(func):\n",
        "    def wrapper(*args, **kwargs):\n",
        "        start_time = time.time()\n",
        "        result = func(*args, **kwargs)\n",
        "        end_time = time.time()\n",
        "        elapsed_time = end_time - start_time\n",
        "        print(f\"{func.__name__} executed in {elapsed_time:.6f} seconds.\")\n",
        "        return result\n",
        "    return wrapper\n",
        "\n",
        "@measure_time\n",
        "def fibonacci(n):\n",
        "    if n <= 1:\n",
        "        return n\n",
        "    else:\n",
        "        return fibonacci(n - 1) + fibonacci(n - 2)\n",
        "fn_ = 2\n",
        "fib_result = fibonacci(fn_)\n",
        "print(f\"Fibonacci({fn_}) = {fib_result}\")\n"
      ],
      "metadata": {
        "colab": {
          "base_uri": "https://localhost:8080/"
        },
        "id": "_6A45lGVZqJw",
        "outputId": "77ce88c4-8928-4a56-d314-486eedd1deba"
      },
      "execution_count": null,
      "outputs": [
        {
          "output_type": "stream",
          "name": "stdout",
          "text": [
            "fibonacci executed in 0.000001 seconds.\n",
            "fibonacci executed in 0.000001 seconds.\n",
            "fibonacci executed in 0.002509 seconds.\n",
            "Fibonacci(2) = 1\n"
          ]
        }
      ]
    },
    {
      "cell_type": "markdown",
      "source": [
        "53. Modify the decorator to accept arguments and print the function name along with the message.\n"
      ],
      "metadata": {
        "id": "2PiKBO4Hc9XR"
      }
    },
    {
      "cell_type": "code",
      "source": [
        "def log_with_message(message):\n",
        "    def decorator(func):\n",
        "        def wrapper(*args, **kwargs):\n",
        "            print(f\"Function name: {func.__name__}\")\n",
        "            print(f\"Message: {message}\")\n",
        "            return func(*args, **kwargs)\n",
        "        return wrapper\n",
        "    return decorator\n",
        "\n",
        "\n",
        "@log_with_message(\"Executing function...\")\n",
        "def add(a, b):\n",
        "    return a + b\n",
        "\n",
        "result = add(3, 5)\n",
        "print(\"Result:\", result)\n"
      ],
      "metadata": {
        "colab": {
          "base_uri": "https://localhost:8080/"
        },
        "id": "pAM_7vtudUdo",
        "outputId": "b2e656d3-6a71-4eb7-b5a5-5a7c93fb011e"
      },
      "execution_count": null,
      "outputs": [
        {
          "output_type": "stream",
          "name": "stdout",
          "text": [
            "Function name: add\n",
            "Message: Executing function...\n",
            "Result: 8\n"
          ]
        }
      ]
    },
    {
      "cell_type": "markdown",
      "source": [
        "54. Create two decorators, and apply them to a single function. Ensure that they execute in the order they are applied.\n"
      ],
      "metadata": {
        "id": "XeXYXUlOrOxF"
      }
    },
    {
      "cell_type": "code",
      "source": [
        "def decorator1(func):\n",
        "    def wrapper(*args, **kwargs):\n",
        "        print(\"Decorator 1 - Before function execution\")\n",
        "        result = func(*args, **kwargs)\n",
        "        print(\"Decorator 1 - After function execution\")\n",
        "        return result\n",
        "    return wrapper\n",
        "\n",
        "def decorator2(func):\n",
        "    def wrapper(*args, **kwargs):\n",
        "        print(\"Decorator 2 - Before function execution\")\n",
        "        result = func(*args, **kwargs)\n",
        "        print(\"Decorator 2 - After function execution\")\n",
        "        return result\n",
        "    return wrapper\n",
        "\n",
        "@decorator1\n",
        "@decorator2\n",
        "def my_function():\n",
        "    print(\"Executing my function\")\n",
        "\n",
        "my_function()"
      ],
      "metadata": {
        "colab": {
          "base_uri": "https://localhost:8080/"
        },
        "id": "dFHMEdATyXzh",
        "outputId": "dc3a34b5-baa7-4a1f-d6f7-56f557c96783"
      },
      "execution_count": null,
      "outputs": [
        {
          "output_type": "stream",
          "name": "stdout",
          "text": [
            "Decorator 1 - Before function execution\n",
            "Decorator 2 - Before function execution\n",
            "Executing my function\n",
            "Decorator 2 - After function execution\n",
            "Decorator 1 - After function execution\n"
          ]
        }
      ]
    },
    {
      "cell_type": "markdown",
      "source": [
        "55. Modify the decorator to accept and pass function arguments to the wrapped function.\n"
      ],
      "metadata": {
        "id": "tiGMsHSTc-HZ"
      }
    },
    {
      "cell_type": "code",
      "source": [
        "def decorator(func):\n",
        "    def wrapper(*args, **kwargs):\n",
        "        print(\"Decorator - Before function execution\")\n",
        "        result = func(*args, **kwargs)\n",
        "        print(\"Decorator - After function execution\")\n",
        "        return result\n",
        "    return wrapper\n",
        "\n",
        "@decorator\n",
        "def my_function(x, y):\n",
        "    return x + y\n",
        "\n",
        "result = my_function(3, 5)\n",
        "print(\"Result:\", result)\n"
      ],
      "metadata": {
        "id": "aRzy5KKlbRUG",
        "colab": {
          "base_uri": "https://localhost:8080/"
        },
        "outputId": "e9ba5854-0005-488b-faf2-d5247acae2be"
      },
      "execution_count": null,
      "outputs": [
        {
          "output_type": "stream",
          "name": "stdout",
          "text": [
            "Decorator - Before function execution\n",
            "Decorator - After function execution\n",
            "Result: 8\n"
          ]
        }
      ]
    },
    {
      "cell_type": "markdown",
      "source": [
        "56. Create a decorator that preserves the metadata of the original function.\n",
        "\n",
        "\n"
      ],
      "metadata": {
        "id": "yVqFtNR3b8aa"
      }
    },
    {
      "cell_type": "code",
      "source": [
        "def preserve_metadata(original_func):\n",
        "    \"\"\"\n",
        "    Decorator that preserves metadata of the original function.\n",
        "    \"\"\"\n",
        "    def wrapper(*args, **kwargs):\n",
        "        result = original_func(*args, **kwargs)\n",
        "\n",
        "        wrapper.__name__ = original_func.__name__\n",
        "        wrapper.__doc__ = original_func.__doc__\n",
        "\n",
        "        return result\n",
        "\n",
        "    return wrapper\n",
        "\n",
        "@preserve_metadata\n",
        "def my_func():\n",
        "    \"\"\"\n",
        "    This is my custom function.\n",
        "    \"\"\"\n",
        "    print(\"Executing my function\")\n",
        "\n",
        "# Test the decorated function\n",
        "my_func()\n",
        "print(\"Function Name:\", my_func.__name__)\n",
        "print(\"Docstring:\", my_func.__doc__)\n"
      ],
      "metadata": {
        "id": "4pRZFGWxb3Pf",
        "colab": {
          "base_uri": "https://localhost:8080/"
        },
        "outputId": "57930c79-7871-4412-8a06-ad9d7ccaa257"
      },
      "execution_count": 1,
      "outputs": [
        {
          "output_type": "stream",
          "name": "stdout",
          "text": [
            "Executing my function\n",
            "Function Name: my_func\n",
            "Docstring: \n",
            "    This is my custom function.\n",
            "    \n"
          ]
        }
      ]
    },
    {
      "cell_type": "markdown",
      "source": [
        "57. Create a Python class Calculator` with a static method `add` that takes in two numbers and returns their\n",
        "sum."
      ],
      "metadata": {
        "id": "HAhu1pZ1rYxo"
      }
    },
    {
      "cell_type": "code",
      "source": [
        "class Calculator:\n",
        "    @staticmethod\n",
        "    def add(num1, num2):\n",
        "      return num1 + num2\n",
        "\n",
        "result = Calculator.add(3, 5)\n",
        "print(\"Result:\", result)\n"
      ],
      "metadata": {
        "colab": {
          "base_uri": "https://localhost:8080/"
        },
        "id": "1zBAN6dDrluF",
        "outputId": "42ac945e-4146-4081-a8ad-a037bebac14c"
      },
      "execution_count": 5,
      "outputs": [
        {
          "output_type": "stream",
          "name": "stdout",
          "text": [
            "Result: 8\n"
          ]
        }
      ]
    },
    {
      "cell_type": "markdown",
      "source": [
        "58. Create a Python class `Employee` with a class `method get_employee_count that returns the total number of employees created."
      ],
      "metadata": {
        "id": "Qm5irxi1rkWU"
      }
    },
    {
      "cell_type": "code",
      "source": [
        "class Employee:\n",
        "    employee_count = 0\n",
        "    def __init__(self, name):\n",
        "        self.name = name\n",
        "        Employee.employee_count += 1\n",
        "\n",
        "    @classmethod\n",
        "    def get_employee_count(cls):\n",
        "        return cls.employee_count\n",
        "\n",
        "emp1 = Employee(\"Kajal\")\n",
        "emp2 = Employee(\"Chor\")\n",
        "emp3 = Employee(\"Hai\")\n",
        "\n",
        "total_employees = Employee.get_employee_count()\n",
        "print(\"Total employees:\", total_employees)\n"
      ],
      "metadata": {
        "colab": {
          "base_uri": "https://localhost:8080/"
        },
        "id": "4wg-1U33r3vZ",
        "outputId": "5bd68107-d53e-483b-c226-ffbbf9a83c9d"
      },
      "execution_count": 7,
      "outputs": [
        {
          "output_type": "stream",
          "name": "stdout",
          "text": [
            "Total employees: 3\n"
          ]
        }
      ]
    },
    {
      "cell_type": "markdown",
      "source": [
        "59. Create a Python class `StringFormatter with a static method `reverse_string` that takes a string as input and returns its reverse."
      ],
      "metadata": {
        "id": "ISY-TLc3sPVj"
      }
    },
    {
      "cell_type": "code",
      "source": [
        "class StringFormatter:\n",
        "    @staticmethod\n",
        "    def reverse_string(input_string):\n",
        "        return input_string[::-1]\n",
        "\n",
        "reversed_str = StringFormatter.reverse_string(\"kajal\")\n",
        "print(\"Reversed string:\", reversed_str)\n"
      ],
      "metadata": {
        "colab": {
          "base_uri": "https://localhost:8080/"
        },
        "id": "vXxklnnIsSs5",
        "outputId": "f551a200-5d8d-4fca-ee5c-24ef46308324"
      },
      "execution_count": 10,
      "outputs": [
        {
          "output_type": "stream",
          "name": "stdout",
          "text": [
            "Reversed string: lajak\n"
          ]
        }
      ]
    },
    {
      "cell_type": "markdown",
      "source": [
        "60. Create a Python class `Circle` with a class method `calculate_area that calculates the area of a circle given its radius."
      ],
      "metadata": {
        "id": "sJMCScgqstuS"
      }
    },
    {
      "cell_type": "code",
      "source": [
        "import math\n",
        "\n",
        "class Circle:\n",
        "    @classmethod\n",
        "    def calculate_area(cls, radius):\n",
        "        return math.pi * radius**2\n",
        "\n",
        "radius = 10\n",
        "area = Circle.calculate_area(radius)\n",
        "print(\"Area of the circle with radius\", radius, \"is:\", area)\n"
      ],
      "metadata": {
        "colab": {
          "base_uri": "https://localhost:8080/"
        },
        "id": "9VAmZ-y8skAe",
        "outputId": "5b031919-a440-46f4-f2ba-d80e25c5251f"
      },
      "execution_count": 12,
      "outputs": [
        {
          "output_type": "stream",
          "name": "stdout",
          "text": [
            "Area of the circle with radius 10 is: 314.1592653589793\n"
          ]
        }
      ]
    },
    {
      "cell_type": "markdown",
      "source": [
        "61. Create a Python class TemperatureConverter with a static method `celsius_to_fahrenheit that converts Celsius to Fahrenheit.\n"
      ],
      "metadata": {
        "id": "wcb57fk4tDSV"
      }
    },
    {
      "cell_type": "code",
      "source": [
        "class TemperatureConverter:\n",
        "    @staticmethod\n",
        "    def celsius_to_fahrenheit(celsius):\n",
        "        return (celsius * 9/5) + 32\n",
        "\n",
        "celsius_temperature = 20\n",
        "fahrenheit_temperature = TemperatureConverter.celsius_to_fahrenheit(celsius_temperature)\n",
        "print(\"Temperature in Fahrenheit:\", fahrenheit_temperature)\n"
      ],
      "metadata": {
        "colab": {
          "base_uri": "https://localhost:8080/"
        },
        "id": "K4rEs3vxtBuP",
        "outputId": "9ecc7a18-37a3-438f-aac7-0a3728dbaa31"
      },
      "execution_count": 13,
      "outputs": [
        {
          "output_type": "stream",
          "name": "stdout",
          "text": [
            "Temperature in Fahrenheit: 68.0\n"
          ]
        }
      ]
    },
    {
      "cell_type": "markdown",
      "source": [
        "62. What is the purpose of the ___str___() method in Python classes? Provide an example.\n"
      ],
      "metadata": {
        "id": "CmagSX0GtOGN"
      }
    },
    {
      "cell_type": "markdown",
      "source": [
        "\n",
        "The __str__() method in Python classes is used to define a string representation of an object. When you call the str() function or use the print() function on an object, Python internally invokes the __str__() method of that object to obtain its string representation. This method allows you to customize how objects of your class are printed or converted to strings."
      ],
      "metadata": {
        "id": "zMNnuyJJtmDE"
      }
    },
    {
      "cell_type": "code",
      "source": [
        "class Person:\n",
        "    def __init__(self, name, age):\n",
        "        self.name = name\n",
        "        self.age = age\n",
        "\n",
        "    def __str__(self):\n",
        "        return f\"Person: name={self.name}, age={self.age}\"\n",
        "\n",
        "\n",
        "person = Person(\"John\", 30)\n",
        "\n",
        "print(person)\n",
        "person_str = str(person)\n",
        "print(person_str)\n"
      ],
      "metadata": {
        "colab": {
          "base_uri": "https://localhost:8080/"
        },
        "id": "zZGRTy4QtkB3",
        "outputId": "aa129ba7-d8aa-40ce-ddf7-7ebc07dd9a14"
      },
      "execution_count": 14,
      "outputs": [
        {
          "output_type": "stream",
          "name": "stdout",
          "text": [
            "Person: name=John, age=30\n",
            "Person: name=John, age=30\n"
          ]
        }
      ]
    },
    {
      "cell_type": "markdown",
      "source": [
        "63. How does the ____len___() method work in Python? Provide an example.\n"
      ],
      "metadata": {
        "id": "tFuOoDoIt20Z"
      }
    },
    {
      "cell_type": "markdown",
      "source": [
        "\n",
        "The __len__() method in Python is used to define the behavior of the built-in len() function when it is called on an object of a class. This method should return the length of the object, which typically represents the number of elements or items contained in the object."
      ],
      "metadata": {
        "id": "oyUYphJVt67c"
      }
    },
    {
      "cell_type": "code",
      "source": [
        "class MyList:\n",
        "    def __init__(self, items):\n",
        "        self.items = items\n",
        "\n",
        "    def __len__(self):\n",
        "        return len(self.items)\n",
        "my_list = MyList([1, 2, 3, 4, 5])\n",
        "length = len(my_list)\n",
        "print(\"Length of the list:\", length)"
      ],
      "metadata": {
        "colab": {
          "base_uri": "https://localhost:8080/"
        },
        "id": "WEPI3EuCtuxU",
        "outputId": "b14106ff-dd28-4e95-b86c-2f9569d76235"
      },
      "execution_count": 15,
      "outputs": [
        {
          "output_type": "stream",
          "name": "stdout",
          "text": [
            "Length of the list: 5\n"
          ]
        }
      ]
    },
    {
      "cell_type": "markdown",
      "source": [
        "64. Explain the usage of the ___add__() method in Python classes. Provide an example.\n"
      ],
      "metadata": {
        "id": "fH6fzP4WuLz-"
      }
    },
    {
      "cell_type": "markdown",
      "source": [
        "The __add__() method in Python classes is used to define the behavior of the addition operator (+) when it is used with objects of the class. This method allows you to customize how objects of your class are added together."
      ],
      "metadata": {
        "id": "o7I2GKYcuMlN"
      }
    },
    {
      "cell_type": "code",
      "source": [
        "class TeaBag:\n",
        "    def __init__(self, flavor):\n",
        "        self.flavor = flavor\n",
        "\n",
        "    def __add__(self, other):\n",
        "        if isinstance(other, TeaBag):\n",
        "            combined_flavor = self.flavor + \" \" + other.flavor\n",
        "            return TeaBag(combined_flavor)\n",
        "        else:\n",
        "            raise TypeError(\"Unsupported operand type(s) for +: '{}' and '{}'\".format(type(self), type(other)))\n",
        "\n",
        "\n",
        "tea_bag1 = TeaBag(\"Green\")\n",
        "tea_bag2 = TeaBag(\"Earl Grey\")\n",
        "\n",
        "combined_tea_bag = tea_bag1 + tea_bag2\n",
        "print(\"Combined tea flavor:\", combined_tea_bag.flavor)\n"
      ],
      "metadata": {
        "colab": {
          "base_uri": "https://localhost:8080/"
        },
        "id": "klvB67T-uEkl",
        "outputId": "5647270a-8cbd-4b50-b1de-3941de43a835"
      },
      "execution_count": 16,
      "outputs": [
        {
          "output_type": "stream",
          "name": "stdout",
          "text": [
            "Combined tea flavor: Green Earl Grey\n"
          ]
        }
      ]
    },
    {
      "cell_type": "markdown",
      "source": [
        "65. What is the purpose of the ___getitem__() method in Python? Provide an example.\n"
      ],
      "metadata": {
        "id": "LoI9sXCjuw7x"
      }
    },
    {
      "cell_type": "markdown",
      "source": [
        "\n",
        "The __getitem__() method in Python is used to define the behavior of accessing elements from an object using the index or key notation ([]). This method allows objects of your class to support indexing and slicing operations, making them behave like sequences or mappings."
      ],
      "metadata": {
        "id": "LEgYbDQtu1CC"
      }
    },
    {
      "cell_type": "code",
      "source": [
        "class MyList:\n",
        "    def __init__(self, data):\n",
        "        self.data = data\n",
        "\n",
        "    def __getitem__(self, index):\n",
        "        return self.data[index]\n",
        "\n",
        "my_list = MyList([1, 2, 3, 4, 5])\n",
        "print(\"Element at index 2:\", my_list[2])\n",
        "print(\"Elements from index 1 to 3:\", my_list[1:4])"
      ],
      "metadata": {
        "colab": {
          "base_uri": "https://localhost:8080/"
        },
        "id": "PWOybogfvOH6",
        "outputId": "95fe9144-8b39-400b-e96c-0b7e662d022e"
      },
      "execution_count": 17,
      "outputs": [
        {
          "output_type": "stream",
          "name": "stdout",
          "text": [
            "Element at index 2: 3\n",
            "Elements from index 1 to 3: [2, 3, 4]\n"
          ]
        }
      ]
    },
    {
      "cell_type": "markdown",
      "source": [
        "66. Explain the usage of the ____iter___() and ____next__() methods in Python. Provide an example using iterators.\n"
      ],
      "metadata": {
        "id": "Wmcujhi3vbUQ"
      }
    },
    {
      "cell_type": "markdown",
      "source": [
        "The __iter__() and __next__() methods in Python are used to implement iterators. Iterators are objects that represent a stream of data, allowing you to iterate over elements one at a time."
      ],
      "metadata": {
        "id": "_jA9JRf6vd55"
      }
    },
    {
      "cell_type": "code",
      "source": [
        "class MyIterator:\n",
        "    def __init__(self, data):\n",
        "        self.data = data\n",
        "        self.index = 0\n",
        "\n",
        "    def __iter__(self):\n",
        "        return self\n",
        "\n",
        "    def __next__(self):\n",
        "        if self.index < len(self.data):\n",
        "            value = self.data[self.index]\n",
        "            self.index += 1\n",
        "            return value\n",
        "        else:\n",
        "            raise StopIteration\n",
        "\n",
        "\n",
        "my_iterator = MyIterator([1, 2, 3, 4, 5])\n",
        "\n",
        "for element in my_iterator:\n",
        "    print(element)\n",
        "\n",
        "my_iterator = iter([1, 2, 3, 4, 5])\n",
        "\n",
        "print(next(my_iterator))\n",
        "print(next(my_iterator))\n",
        "print(next(my_iterator))\n",
        "print(next(my_iterator))\n",
        "print(next(my_iterator))\n"
      ],
      "metadata": {
        "colab": {
          "base_uri": "https://localhost:8080/"
        },
        "id": "2OhuigNsvroV",
        "outputId": "f1683a88-ab09-41a0-f07f-4816e2d9a187"
      },
      "execution_count": 21,
      "outputs": [
        {
          "output_type": "stream",
          "name": "stdout",
          "text": [
            "1\n",
            "2\n",
            "3\n",
            "4\n",
            "5\n",
            "1\n",
            "2\n",
            "3\n",
            "4\n",
            "5\n"
          ]
        }
      ]
    },
    {
      "cell_type": "markdown",
      "source": [
        "67. What is the purpose of a getter method in Python? Provide an example demonstrating the use of a getter method using property decorators."
      ],
      "metadata": {
        "id": "kX_YyVMbwC36"
      }
    },
    {
      "cell_type": "markdown",
      "source": [
        "a getter method is used to retrieve the value of a private or protected attribute of a class. It provides controlled access to the attribute by encapsulating it within a method."
      ],
      "metadata": {
        "id": "xyfUxl5JwGA8"
      }
    },
    {
      "cell_type": "code",
      "source": [
        "class Rectangle:\n",
        "    def __init__(self, width, height):\n",
        "        self._width = width\n",
        "        self._height = height\n",
        "\n",
        "    @property\n",
        "    def width(self):\n",
        "        return self._width\n",
        "\n",
        "    @property\n",
        "    def height(self):\n",
        "        return self._height\n",
        "\n",
        "    def area(self):\n",
        "        return self._width * self._height\n",
        "\n",
        "\n",
        "rectangle = Rectangle(5, 4)\n",
        "\n",
        "print(\"Width:\", rectangle.width)\n",
        "print(\"Height:\", rectangle.height)\n",
        "\n",
        "print(\"Area:\", rectangle.area())\n"
      ],
      "metadata": {
        "colab": {
          "base_uri": "https://localhost:8080/"
        },
        "id": "Fb2jZ8EOwOlX",
        "outputId": "c9215c9e-2889-404f-c3c7-01d4b6853b81"
      },
      "execution_count": 22,
      "outputs": [
        {
          "output_type": "stream",
          "name": "stdout",
          "text": [
            "Width: 5\n",
            "Height: 4\n",
            "Area: 20\n"
          ]
        }
      ]
    },
    {
      "cell_type": "markdown",
      "source": [
        "68. Explain the role of setter methods in Python. Demonstrate how to use a setter method to modify a class attribute using property decorators.\n"
      ],
      "metadata": {
        "id": "JyCDehhKwhNu"
      }
    },
    {
      "cell_type": "markdown",
      "source": [
        "\n",
        "In Python, setter methods are used to modify the value of a private or protected attribute of a class. They provide controlled access to change the value of an attribute, allowing you to perform validation or other operations before setting the new value."
      ],
      "metadata": {
        "id": "GACcbQ-cxp9B"
      }
    },
    {
      "cell_type": "code",
      "source": [
        "class Circle:\n",
        "    def __init__(self, radius):\n",
        "        self._radius = radius\n",
        "\n",
        "    @property\n",
        "    def radius(self):\n",
        "        return self._radius\n",
        "\n",
        "    @radius.setter\n",
        "    def radius(self, new_radius):\n",
        "        if new_radius < 0:\n",
        "            raise ValueError(\"Radius cannot be negative\")\n",
        "        self._radius = new_radius\n",
        "\n",
        "    def area(self):\n",
        "        return 3.14 * self._radius**2\n",
        "\n",
        "circle = Circle(5)\n",
        "print(\"Initial radius:\", circle.radius)\n",
        "\n",
        "circle.radius = 7\n",
        "print(\"Modified radius:\", circle.radius)\n",
        "print(\"Area:\", circle.area())\n"
      ],
      "metadata": {
        "colab": {
          "base_uri": "https://localhost:8080/"
        },
        "id": "QxRTxFZdvy_t",
        "outputId": "d7c26489-92f0-4194-ad9a-9873b9d7b761"
      },
      "execution_count": 23,
      "outputs": [
        {
          "output_type": "stream",
          "name": "stdout",
          "text": [
            "Initial radius: 5\n",
            "Modified radius: 7\n",
            "Area: 153.86\n"
          ]
        }
      ]
    },
    {
      "cell_type": "markdown",
      "source": [
        "69. What is the purpose of the @property decorator in Python? Provide an example illustrating its usage."
      ],
      "metadata": {
        "id": "hn1znwZJx7zS"
      }
    },
    {
      "cell_type": "markdown",
      "source": [
        "he @property decorator is used to define getter methods for accessing the value of a class attribute. It allows you to access the attribute as if it were a regular attribute, while providing a method to compute its value dynamically or perform validation before retrieval."
      ],
      "metadata": {
        "id": "gTXDkUw1yNcv"
      }
    },
    {
      "cell_type": "code",
      "source": [
        "class Circle:\n",
        "    def __init__(self, radius):\n",
        "        self._radius = radius\n",
        "\n",
        "    @property\n",
        "    def radius(self):\n",
        "        return self._radius\n",
        "\n",
        "    @radius.setter\n",
        "    def radius(self, new_radius):\n",
        "        if new_radius < 0:\n",
        "            raise ValueError(\"Radius cannot be negative\")\n",
        "        self._radius = new_radius\n",
        "\n",
        "    def area(self):\n",
        "        return 3.14 * self._radius**2\n",
        "\n",
        "circle = Circle(5)\n",
        "print(\"Initial radius:\", circle.radius)\n",
        "\n",
        "circle.radius = 7\n",
        "print(\"Modified radius:\", circle.radius)\n",
        "print(\"Area:\", circle.area())\n"
      ],
      "metadata": {
        "id": "lLqaI3xiyOJO"
      },
      "execution_count": null,
      "outputs": []
    },
    {
      "cell_type": "markdown",
      "source": [
        "70. Explain the use of the @deleter decorator in Python property decorators. Provide a code example demonstrating its application.\n"
      ],
      "metadata": {
        "id": "PiyufwkcyQKf"
      }
    },
    {
      "cell_type": "markdown",
      "source": [
        "he @deleter decorator is used to define a method that will be called when an attribute managed by a property is deleted using the del statement. It allows you to perform cleanup or other necessary actions when an attribute is deleted."
      ],
      "metadata": {
        "id": "A_0QiT94ykAw"
      }
    },
    {
      "cell_type": "code",
      "source": [
        "class Person:\n",
        "    def __init__(self, name):\n",
        "        self._name = name\n",
        "\n",
        "    @property\n",
        "    def name(self):\n",
        "        return self._name\n",
        "\n",
        "    @name.setter\n",
        "    def name(self, value):\n",
        "        self._name = value\n",
        "\n",
        "    @name.deleter\n",
        "    def name(self):\n",
        "        print(f\"Deleting the name '{self._name}'\")\n",
        "        del self._name\n",
        "\n",
        "\n",
        "person = Person(\"Alice\")\n",
        "\n",
        "print(\"Current name:\", person.name)\n",
        "person.name = \"Bob\"\n",
        "print(\"Modified name:\", person.name)\n",
        "del person.name\n",
        "print(\"Name after deletion:\", person.name)\n"
      ],
      "metadata": {
        "colab": {
          "base_uri": "https://localhost:8080/",
          "height": 349
        },
        "id": "-7ls6uoMyCgd",
        "outputId": "02b28d53-1872-44de-ae57-f0da98eca981"
      },
      "execution_count": 24,
      "outputs": [
        {
          "output_type": "stream",
          "name": "stdout",
          "text": [
            "Current name: Alice\n",
            "Modified name: Bob\n",
            "Deleting the name 'Bob'\n"
          ]
        },
        {
          "output_type": "error",
          "ename": "AttributeError",
          "evalue": "'Person' object has no attribute '_name'",
          "traceback": [
            "\u001b[0;31m---------------------------------------------------------------------------\u001b[0m",
            "\u001b[0;31mAttributeError\u001b[0m                            Traceback (most recent call last)",
            "\u001b[0;32m<ipython-input-24-a63c04ff031a>\u001b[0m in \u001b[0;36m<cell line: 25>\u001b[0;34m()\u001b[0m\n\u001b[1;32m     23\u001b[0m \u001b[0mprint\u001b[0m\u001b[0;34m(\u001b[0m\u001b[0;34m\"Modified name:\"\u001b[0m\u001b[0;34m,\u001b[0m \u001b[0mperson\u001b[0m\u001b[0;34m.\u001b[0m\u001b[0mname\u001b[0m\u001b[0;34m)\u001b[0m\u001b[0;34m\u001b[0m\u001b[0;34m\u001b[0m\u001b[0m\n\u001b[1;32m     24\u001b[0m \u001b[0;32mdel\u001b[0m \u001b[0mperson\u001b[0m\u001b[0;34m.\u001b[0m\u001b[0mname\u001b[0m\u001b[0;34m\u001b[0m\u001b[0;34m\u001b[0m\u001b[0m\n\u001b[0;32m---> 25\u001b[0;31m \u001b[0mprint\u001b[0m\u001b[0;34m(\u001b[0m\u001b[0;34m\"Name after deletion:\"\u001b[0m\u001b[0;34m,\u001b[0m \u001b[0mperson\u001b[0m\u001b[0;34m.\u001b[0m\u001b[0mname\u001b[0m\u001b[0;34m)\u001b[0m\u001b[0;34m\u001b[0m\u001b[0;34m\u001b[0m\u001b[0m\n\u001b[0m",
            "\u001b[0;32m<ipython-input-24-a63c04ff031a>\u001b[0m in \u001b[0;36mname\u001b[0;34m(self)\u001b[0m\n\u001b[1;32m      5\u001b[0m     \u001b[0;34m@\u001b[0m\u001b[0mproperty\u001b[0m\u001b[0;34m\u001b[0m\u001b[0;34m\u001b[0m\u001b[0m\n\u001b[1;32m      6\u001b[0m     \u001b[0;32mdef\u001b[0m \u001b[0mname\u001b[0m\u001b[0;34m(\u001b[0m\u001b[0mself\u001b[0m\u001b[0;34m)\u001b[0m\u001b[0;34m:\u001b[0m\u001b[0;34m\u001b[0m\u001b[0;34m\u001b[0m\u001b[0m\n\u001b[0;32m----> 7\u001b[0;31m         \u001b[0;32mreturn\u001b[0m \u001b[0mself\u001b[0m\u001b[0;34m.\u001b[0m\u001b[0m_name\u001b[0m\u001b[0;34m\u001b[0m\u001b[0;34m\u001b[0m\u001b[0m\n\u001b[0m\u001b[1;32m      8\u001b[0m \u001b[0;34m\u001b[0m\u001b[0m\n\u001b[1;32m      9\u001b[0m     \u001b[0;34m@\u001b[0m\u001b[0mname\u001b[0m\u001b[0;34m.\u001b[0m\u001b[0msetter\u001b[0m\u001b[0;34m\u001b[0m\u001b[0;34m\u001b[0m\u001b[0m\n",
            "\u001b[0;31mAttributeError\u001b[0m: 'Person' object has no attribute '_name'"
          ]
        }
      ]
    },
    {
      "cell_type": "markdown",
      "source": [
        "71. How does encapsulation relate to property decorators in Python? Provide an example showcasing encapsulation using property decorators."
      ],
      "metadata": {
        "id": "kf20mucnywk_"
      }
    },
    {
      "cell_type": "markdown",
      "source": [
        "Encapsulation in Python involves bundling data and methods within a class to control access to attributes. Property decorators like `@property`, `@setter`, and `@deleter` enable encapsulation by defining getter, setter, and deleter methods for class attributes. These decorators provide controlled access to attributes, allowing validation or computation before accessing or modifying them. This ensures data integrity and hides implementation details, promoting better code organization and maintenance."
      ],
      "metadata": {
        "id": "xORG0taHzAVj"
      }
    },
    {
      "cell_type": "code",
      "source": [
        "class Student:\n",
        "    def __init__(self, name, age):\n",
        "        self._name = name\n",
        "        self._age = age\n",
        "\n",
        "    @property\n",
        "    def name(self):\n",
        "        return self._name\n",
        "\n",
        "    @property\n",
        "    def age(self):\n",
        "        return self._age\n",
        "\n",
        "    @age.setter\n",
        "    def age(self, new_age):\n",
        "        if not isinstance(new_age, int) or new_age < 0:\n",
        "            raise ValueError(\"Age must be a non-negative integer\")\n",
        "        self._age = new_age\n",
        "\n",
        "\n",
        "student = Student(\"RAM\", 20)\n",
        "print(\"Name:\", student.name)\n",
        "print(\"Age:\", student.age)\n",
        "student.age = 21\n",
        "print(\"Modified Age:\", student.age)\n",
        "try:\n",
        "    student.age = -5\n",
        "except ValueError as e:\n",
        "    print(\"Error:\", e)\n"
      ],
      "metadata": {
        "colab": {
          "base_uri": "https://localhost:8080/"
        },
        "id": "rV6dTP-Dysa-",
        "outputId": "3dce4e24-aed4-4202-a484-cc992a53a199"
      },
      "execution_count": 25,
      "outputs": [
        {
          "output_type": "stream",
          "name": "stdout",
          "text": [
            "Name: RAM\n",
            "Age: 20\n",
            "Modified Age: 21\n",
            "Error: Age must be a non-negative integer\n"
          ]
        }
      ]
    }
  ]
}